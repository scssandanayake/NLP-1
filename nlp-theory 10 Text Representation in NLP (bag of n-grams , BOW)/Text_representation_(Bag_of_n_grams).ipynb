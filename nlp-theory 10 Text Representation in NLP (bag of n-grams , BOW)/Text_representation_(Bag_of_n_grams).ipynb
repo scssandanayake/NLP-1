{
  "nbformat": 4,
  "nbformat_minor": 0,
  "metadata": {
    "colab": {
      "provenance": []
    },
    "kernelspec": {
      "name": "python3",
      "display_name": "Python 3"
    },
    "language_info": {
      "name": "python"
    }
  },
  "cells": [
    {
      "cell_type": "markdown",
      "source": [
        "## **Codebasics - Bag of N grams tutorial**"
      ],
      "metadata": {
        "id": "bWnc4TgFGmb2"
      }
    },
    {
      "cell_type": "markdown",
      "source": [
        "### Let's first understand how to generate n-grams using CountVectorizer"
      ],
      "metadata": {
        "id": "w4qkmXKflwbv"
      }
    },
    {
      "cell_type": "code",
      "execution_count": null,
      "metadata": {
        "id": "ZojsJVJkt4XE"
      },
      "outputs": [],
      "source": [
        "from sklearn.feature_extraction.text import CountVectorizer"
      ]
    },
    {
      "cell_type": "markdown",
      "source": [
        "**1-gram (bag of words)**"
      ],
      "metadata": {
        "id": "R7OsoWVS20LU"
      }
    },
    {
      "cell_type": "code",
      "source": [
        "v = CountVectorizer()\n",
        "v.fit([\"Thor Hathodawala is looking for a job\"])\n",
        "v.vocabulary_\n",
        "\n",
        "#this outputs single tokens only (BOW)"
      ],
      "metadata": {
        "colab": {
          "base_uri": "https://localhost:8080/"
        },
        "id": "alg3dICovitb",
        "outputId": "5d7454e0-fc7b-4c93-e96d-9f9f859993ff"
      },
      "execution_count": null,
      "outputs": [
        {
          "output_type": "execute_result",
          "data": {
            "text/plain": [
              "{'thor': 5, 'hathodawala': 1, 'is': 2, 'looking': 4, 'for': 0, 'job': 3}"
            ]
          },
          "metadata": {},
          "execution_count": 3
        }
      ]
    },
    {
      "cell_type": "markdown",
      "source": [
        "**bi-gram**"
      ],
      "metadata": {
        "id": "hYJZr7AP24ds"
      }
    },
    {
      "cell_type": "code",
      "source": [
        "v = CountVectorizer(ngram_range=(1,2))\n",
        "v.fit([\"Thor Hathodawala is looking for a job\"])\n",
        "v.vocabulary_\n",
        "\n",
        "#this outputs single token & pair of tokens"
      ],
      "metadata": {
        "colab": {
          "base_uri": "https://localhost:8080/"
        },
        "id": "cUaZxiMv2Tlc",
        "outputId": "157dbf2b-7e97-4b69-ad97-f0f9b481c8ef"
      },
      "execution_count": null,
      "outputs": [
        {
          "output_type": "execute_result",
          "data": {
            "text/plain": [
              "{'thor': 9,\n",
              " 'hathodawala': 2,\n",
              " 'is': 4,\n",
              " 'looking': 7,\n",
              " 'for': 0,\n",
              " 'job': 6,\n",
              " 'thor hathodawala': 10,\n",
              " 'hathodawala is': 3,\n",
              " 'is looking': 5,\n",
              " 'looking for': 8,\n",
              " 'for job': 1}"
            ]
          },
          "metadata": {},
          "execution_count": 4
        }
      ]
    },
    {
      "cell_type": "markdown",
      "source": [
        "**tri-gram**"
      ],
      "metadata": {
        "id": "WC1qez_b27mc"
      }
    },
    {
      "cell_type": "code",
      "source": [
        "v = CountVectorizer(ngram_range=(1,3))\n",
        "v.fit([\"Thor Hathodawala is looking for a job\"])\n",
        "v.vocabulary_\n",
        "\n",
        "#this outputs single single token, pair of tokens & three tokens"
      ],
      "metadata": {
        "colab": {
          "base_uri": "https://localhost:8080/"
        },
        "id": "wRwEzgtp2Th0",
        "outputId": "edbc10ca-e932-4796-bed0-f3e7780ed72b"
      },
      "execution_count": null,
      "outputs": [
        {
          "output_type": "execute_result",
          "data": {
            "text/plain": [
              "{'thor': 12,\n",
              " 'hathodawala': 2,\n",
              " 'is': 5,\n",
              " 'looking': 9,\n",
              " 'for': 0,\n",
              " 'job': 8,\n",
              " 'thor hathodawala': 13,\n",
              " 'hathodawala is': 3,\n",
              " 'is looking': 6,\n",
              " 'looking for': 10,\n",
              " 'for job': 1,\n",
              " 'thor hathodawala is': 14,\n",
              " 'hathodawala is looking': 4,\n",
              " 'is looking for': 7,\n",
              " 'looking for job': 11}"
            ]
          },
          "metadata": {},
          "execution_count": 5
        }
      ]
    },
    {
      "cell_type": "markdown",
      "source": [
        "We will not take a simple collection of text documents, preprocess them to remove stop words, lemmatize etc and then generate bag of 1 grams and 2 grams from it"
      ],
      "metadata": {
        "id": "varnVlWd29qk"
      }
    },
    {
      "cell_type": "code",
      "source": [
        "corpus = [\n",
        "    \"Thor ate pizza\",\n",
        "    \"Loki is tall\",\n",
        "    \"Loki is eating pizza\"\n",
        "]"
      ],
      "metadata": {
        "id": "fngJ3gbL2Td2"
      },
      "execution_count": null,
      "outputs": []
    },
    {
      "cell_type": "code",
      "source": [
        "import spacy"
      ],
      "metadata": {
        "id": "oqR_LY9N2TYN"
      },
      "execution_count": null,
      "outputs": []
    },
    {
      "cell_type": "code",
      "source": [
        "# load english language model and create nlp object from it\n",
        "nlp = spacy.load(\"en_core_web_sm\")\n",
        "\n",
        "def preprocess(text):\n",
        "    # remove stop words and lemmatize the text\n",
        "    doc = nlp(text)\n",
        "\n",
        "    filtered_tokens = []\n",
        "\n",
        "    for token in doc:\n",
        "        if token.is_stop or token.is_punct:\n",
        "            continue\n",
        "        filtered_tokens.append(token.lemma_)\n",
        "\n",
        "    return \" \".join(filtered_tokens)"
      ],
      "metadata": {
        "id": "MQWZM8rT2TU0"
      },
      "execution_count": 9,
      "outputs": []
    },
    {
      "cell_type": "markdown",
      "source": [
        "### test the inuts"
      ],
      "metadata": {
        "id": "cntKH2p9B3Eo"
      }
    },
    {
      "cell_type": "code",
      "source": [
        "preprocess(\"thor ate pizza\")"
      ],
      "metadata": {
        "id": "v3BPKYIR2TRd",
        "colab": {
          "base_uri": "https://localhost:8080/",
          "height": 35
        },
        "outputId": "cd5df772-c962-4405-9221-4f9a105afd0e"
      },
      "execution_count": 10,
      "outputs": [
        {
          "output_type": "execute_result",
          "data": {
            "text/plain": [
              "'thor eat pizza'"
            ],
            "application/vnd.google.colaboratory.intrinsic+json": {
              "type": "string"
            }
          },
          "metadata": {},
          "execution_count": 10
        }
      ]
    },
    {
      "cell_type": "code",
      "source": [
        "preprocess(\"loki is tall\")"
      ],
      "metadata": {
        "colab": {
          "base_uri": "https://localhost:8080/",
          "height": 35
        },
        "id": "SjpBd7P1B57_",
        "outputId": "92f15612-2922-4e91-d1e2-1b96870812ca"
      },
      "execution_count": 11,
      "outputs": [
        {
          "output_type": "execute_result",
          "data": {
            "text/plain": [
              "'loki tall'"
            ],
            "application/vnd.google.colaboratory.intrinsic+json": {
              "type": "string"
            }
          },
          "metadata": {},
          "execution_count": 11
        }
      ]
    },
    {
      "cell_type": "code",
      "source": [
        "preprocess(\"Loki is eating pizza\")"
      ],
      "metadata": {
        "colab": {
          "base_uri": "https://localhost:8080/",
          "height": 35
        },
        "id": "TB-Ow_ScB55o",
        "outputId": "f7578a3f-f6cb-433a-c54c-0c0ab7dcf5c5"
      },
      "execution_count": 12,
      "outputs": [
        {
          "output_type": "execute_result",
          "data": {
            "text/plain": [
              "'Loki eat pizza'"
            ],
            "application/vnd.google.colaboratory.intrinsic+json": {
              "type": "string"
            }
          },
          "metadata": {},
          "execution_count": 12
        }
      ]
    },
    {
      "cell_type": "code",
      "source": [
        "corpus_processed = [preprocess(text) for text in corpus]\n",
        "\n",
        "corpus_processed"
      ],
      "metadata": {
        "colab": {
          "base_uri": "https://localhost:8080/"
        },
        "id": "ThoZJ4JPB53A",
        "outputId": "8f10a4f5-1bc0-42fc-84a2-c455b007b5c4"
      },
      "execution_count": 14,
      "outputs": [
        {
          "output_type": "execute_result",
          "data": {
            "text/plain": [
              "['thor eat pizza', 'Loki tall', 'Loki eat pizza']"
            ]
          },
          "metadata": {},
          "execution_count": 14
        }
      ]
    },
    {
      "cell_type": "markdown",
      "source": [
        "### **creating bag of n-grams vocabullary and transform into vector**"
      ],
      "metadata": {
        "id": "VImJoRsxCwn3"
      }
    },
    {
      "cell_type": "code",
      "source": [
        "v = CountVectorizer(ngram_range=(1,2))\n",
        "v.fit(corpus_processed) #this creates the vocabuallry\n",
        "v.vocabulary_"
      ],
      "metadata": {
        "colab": {
          "base_uri": "https://localhost:8080/"
        },
        "id": "oE7ogPgrB50I",
        "outputId": "516a714e-60f8-4dc6-df5f-f5615e9e3880"
      },
      "execution_count": 15,
      "outputs": [
        {
          "output_type": "execute_result",
          "data": {
            "text/plain": [
              "{'thor': 7,\n",
              " 'eat': 0,\n",
              " 'pizza': 5,\n",
              " 'thor eat': 8,\n",
              " 'eat pizza': 1,\n",
              " 'loki': 2,\n",
              " 'tall': 6,\n",
              " 'loki tall': 4,\n",
              " 'loki eat': 3}"
            ]
          },
          "metadata": {},
          "execution_count": 15
        }
      ]
    },
    {
      "cell_type": "markdown",
      "source": [
        "\n",
        "Now generate bag of n gram vector for few sample documents"
      ],
      "metadata": {
        "id": "PAHRElMwD3_J"
      }
    },
    {
      "cell_type": "code",
      "source": [
        "v.transform([\"Thor eat pizza\"]).toarray()"
      ],
      "metadata": {
        "colab": {
          "base_uri": "https://localhost:8080/"
        },
        "id": "Z6_iS-5cCbsg",
        "outputId": "8c46df52-a572-4727-d74a-b6f9db711790"
      },
      "execution_count": 16,
      "outputs": [
        {
          "output_type": "execute_result",
          "data": {
            "text/plain": [
              "array([[1, 1, 0, 0, 0, 1, 0, 1, 1]])"
            ]
          },
          "metadata": {},
          "execution_count": 16
        }
      ]
    },
    {
      "cell_type": "markdown",
      "source": [
        "\n",
        "Let's take a document that has out of vocabulary (OOV) term and see how bag of ngram generates vector out of it"
      ],
      "metadata": {
        "id": "_ECs86loEcTB"
      }
    },
    {
      "cell_type": "code",
      "source": [
        "v.transform([\"hulk eat pizza\"]).toarray()"
      ],
      "metadata": {
        "colab": {
          "base_uri": "https://localhost:8080/"
        },
        "id": "Bg-mRgYXCbqQ",
        "outputId": "0f7ee023-d85a-4a62-a8f5-d4a2b689705e"
      },
      "execution_count": 20,
      "outputs": [
        {
          "output_type": "execute_result",
          "data": {
            "text/plain": [
              "array([[1, 1, 0, 0, 0, 1, 0, 0, 0]])"
            ]
          },
          "metadata": {},
          "execution_count": 20
        }
      ]
    },
    {
      "cell_type": "markdown",
      "source": [
        "**vector output graph**"
      ],
      "metadata": {
        "id": "5wQd9PwJFzzx"
      }
    },
    {
      "cell_type": "markdown",
      "source": [
        "![thor_hulk.jpg](data:image/jpeg;base64,/9j/4AAQSkZJRgABAQEAYABgAAD/4RCaRXhpZgAATU0AKgAAAAgABAE7AAIAAAANAAAISodpAAQAAAABAAAIWJydAAEAAAAaAAAQeOocAAcAAAgMAAAAPgAAAAAc6gAAAAgAAAAAAAAAAAAAAAAAAAAAAAAAAAAAAAAAAAAAAAAAAAAAAAAAAAAAAAAAAAAAAAAAAAAAAAAAAAAAAAAAAAAAAAAAAAAAAAAAAAAAAAAAAAAAAAAAAAAAAAAAAAAAAAAAAAAAAAAAAAAAAAAAAAAAAAAAAAAAAAAAAAAAAAAAAAAAAAAAAAAAAAAAAAAAAAAAAAAAAAAAAAAAAAAAAAAAAAAAAAAAAAAAAAAAAAAAAAAAAAAAAAAAAAAAAAAAAAAAAAAAAAAAAAAAAAAAAAAAAAAAAAAAAAAAAAAAAAAAAAAAAAAAAAAAAAAAAAAAAAAAAAAAAAAAAAAAAAAAAAAAAAAAAAAAAAAAAAAAAAAAAAAAAAAAAAAAAAAAAAAAAAAAAAAAAAAAAAAAAAAAAAAAAAAAAAAAAAAAAAAAAAAAAAAAAAAAAAAAAAAAAAAAAAAAAAAAAAAAAAAAAAAAAAAAAAAAAAAAAAAAAAAAAAAAAAAAAAAAAAAAAAAAAAAAAAAAAAAAAAAAAAAAAAAAAAAAAAAAAAAAAAAAAAAAAAAAAAAAAAAAAAAAAAAAAAAAAAAAAAAAAAAAAAAAAAAAAAAAAAAAAAAAAAAAAAAAAAAAAAAAAAAAAAAAAAAAAAAAAAAAAAAAAAAAAAAAAAAAAAAAAAAAAAAAAAAAAAAAAAAAAAAAAAAAAAAAAAAAAAAAAAAAAAAAAAAAAAAAAAAAAAAAAAAAAAAAAAAAAAAAAAAAAAAAAAAAAAAAAAAAAAAAAAAAAAAAAAAAAAAAAAAAAAAAAAAAAAAAAAAAAAAAAAAAAAAAAAAAAAAAAAAAAAAAAAAAAAAAAAAAAAAAAAAAAAAAAAAAAAAAAAAAAAAAAAAAAAAAAAAAAAAAAAAAAAAAAAAAAAAAAAAAAAAAAAAAAAAAAAAAAAAAAAAAAAAAAAAAAAAAAAAAAAAAAAAAAAAAAAAAAAAAAAAAAAAAAAAAAAAAAAAAAAAAAAAAAAAAAAAAAAAAAAAAAAAAAAAAAAAAAAAAAAAAAAAAAAAAAAAAAAAAAAAAAAAAAAAAAAAAAAAAAAAAAAAAAAAAAAAAAAAAAAAAAAAAAAAAAAAAAAAAAAAAAAAAAAAAAAAAAAAAAAAAAAAAAAAAAAAAAAAAAAAAAAAAAAAAAAAAAAAAAAAAAAAAAAAAAAAAAAAAAAAAAAAAAAAAAAAAAAAAAAAAAAAAAAAAAAAAAAAAAAAAAAAAAAAAAAAAAAAAAAAAAAAAAAAAAAAAAAAAAAAAAAAAAAAAAAAAAAAAAAAAAAAAAAAAAAAAAAAAAAAAAAAAAAAAAAAAAAAAAAAAAAAAAAAAAAAAAAAAAAAAAAAAAAAAAAAAAAAAAAAAAAAAAAAAAAAAAAAAAAAAAAAAAAAAAAAAAAAAAAAAAAAAAAAAAAAAAAAAAAAAAAAAAAAAAAAAAAAAAAAAAAAAAAAAAAAAAAAAAAAAAAAAAAAAAAAAAAAAAAAAAAAAAAAAAAAAAAAAAAAAAAAAAAAAAAAAAAAAAAAAAAAAAAAAAAAAAAAAAAAAAAAAAAAAAAAAAAAAAAAAAAAAAAAAAAAAAAAAAAAAAAAAAAAAAAAAAAAAAAAAAAAAAAAAAAAAAAAAAAAAAAAAAAAAAAAAAAAAAAAAAAAAAAAAAAAAAAAAAAAAAAAAAAAAAAAAAAAAAAAAAAAAAAAAAAAAAAAAAAAAAAAAAAAAAAAAAAAAAAAAAAAAAAAAAAAAAAAAAAAAAAAAAAAAAAAAAAAAAAAAAAAAAAAAAAAAAAAAAAAAAAAAAAAAAAAAAAAAAAAAAAAAAAAAAAAAAAAAAAAAAAAAAAAAAAAAAAAAAAAAAAAAAAAAAAAAAAAAAAAAAAAAAAAAAAAAAAAAAAAAAAAAAAAAAAAAAAAAAAAAAAAAAAAAAAAAAAAAAAAAAAAAAAAAAAAAAAAAAAAAAAAAAAAAAAAAAAAAAAAAAAAAAAAAAAAAAAAAAAAAAAAAAAAAAAAAAAAAAAAAAAAAAAAAAAAAAAAAAAAAAAAAAAAAAAAAAAAAAAAAAAAAAAAAAAAAAAAAAAAAAAAAAAAAAAAAAAAAAAAAAAAAAAAAAAAAAAAAAAAAAAAAAAAAAAAAAAAAAAAAAAAAAAAAAAAAAAAAAAAAAAAAAAAAAAAAAAAAAAAAAAAAAAAAAAAAAAAAAAAAAAAAAAAAAAAAAAAAAAAAAAAAAAAAAAAAAAAAAAAAAAAAAAAAAAAAAAAAAAAAAAAAAAAAAAAAAAAAAAAAAAAAAAAAAAAAAAAAAAAAAAAAAAAAAAAAAAAAAAAAAAAAAAAAAAAAAAAAAAAAAAAAAAAAAAAAAAAAAAAAAAAAAAAAAAAAAAAAAAAAAAAAAAAAAAAAAAAAAAAAAAAAAAAAAAAAAAAAAAAAAAAAAAAAAAAAAAAAAAAAAAAAAAAAAAAAAAAAAAAAAAAAAAAAAAAAAAAAAAAAAAAAAAAAAAAAAAAAAAAAAAAAAAAAAAAAAAAAAAAAAAAAAAAAAAAAAAAAAAAAAAAAAAAAAAAAAAAAAAAAAAAAAAAAAAAAAAAAAAAAAAAAAAAAAAAAAAAAAAAAAAAAAAAAAAAAAAAAAAAAAAAAAAAAAAAAAAAAAAAAAAAAAAAAAAAAAAAAAAAAAAAAAAAAAAAAAAAAAAAAAAAAAAAAAAAAAAAAAAAAAAAAAAAAAAAAAAAAAAAAAAAAAAAAAAAAAAAAAAAAAAAAAAAAAERoYXZhbCBQYXRlbAAAAAHqHAAHAAAIDAAACGoAAAAAHOoAAAAIAAAAAAAAAAAAAAAAAAAAAAAAAAAAAAAAAAAAAAAAAAAAAAAAAAAAAAAAAAAAAAAAAAAAAAAAAAAAAAAAAAAAAAAAAAAAAAAAAAAAAAAAAAAAAAAAAAAAAAAAAAAAAAAAAAAAAAAAAAAAAAAAAAAAAAAAAAAAAAAAAAAAAAAAAAAAAAAAAAAAAAAAAAAAAAAAAAAAAAAAAAAAAAAAAAAAAAAAAAAAAAAAAAAAAAAAAAAAAAAAAAAAAAAAAAAAAAAAAAAAAAAAAAAAAAAAAAAAAAAAAAAAAAAAAAAAAAAAAAAAAAAAAAAAAAAAAAAAAAAAAAAAAAAAAAAAAAAAAAAAAAAAAAAAAAAAAAAAAAAAAAAAAAAAAAAAAAAAAAAAAAAAAAAAAAAAAAAAAAAAAAAAAAAAAAAAAAAAAAAAAAAAAAAAAAAAAAAAAAAAAAAAAAAAAAAAAAAAAAAAAAAAAAAAAAAAAAAAAAAAAAAAAAAAAAAAAAAAAAAAAAAAAAAAAAAAAAAAAAAAAAAAAAAAAAAAAAAAAAAAAAAAAAAAAAAAAAAAAAAAAAAAAAAAAAAAAAAAAAAAAAAAAAAAAAAAAAAAAAAAAAAAAAAAAAAAAAAAAAAAAAAAAAAAAAAAAAAAAAAAAAAAAAAAAAAAAAAAAAAAAAAAAAAAAAAAAAAAAAAAAAAAAAAAAAAAAAAAAAAAAAAAAAAAAAAAAAAAAAAAAAAAAAAAAAAAAAAAAAAAAAAAAAAAAAAAAAAAAAAAAAAAAAAAAAAAAAAAAAAAAAAAAAAAAAAAAAAAAAAAAAAAAAAAAAAAAAAAAAAAAAAAAAAAAAAAAAAAAAAAAAAAAAAAAAAAAAAAAAAAAAAAAAAAAAAAAAAAAAAAAAAAAAAAAAAAAAAAAAAAAAAAAAAAAAAAAAAAAAAAAAAAAAAAAAAAAAAAAAAAAAAAAAAAAAAAAAAAAAAAAAAAAAAAAAAAAAAAAAAAAAAAAAAAAAAAAAAAAAAAAAAAAAAAAAAAAAAAAAAAAAAAAAAAAAAAAAAAAAAAAAAAAAAAAAAAAAAAAAAAAAAAAAAAAAAAAAAAAAAAAAAAAAAAAAAAAAAAAAAAAAAAAAAAAAAAAAAAAAAAAAAAAAAAAAAAAAAAAAAAAAAAAAAAAAAAAAAAAAAAAAAAAAAAAAAAAAAAAAAAAAAAAAAAAAAAAAAAAAAAAAAAAAAAAAAAAAAAAAAAAAAAAAAAAAAAAAAAAAAAAAAAAAAAAAAAAAAAAAAAAAAAAAAAAAAAAAAAAAAAAAAAAAAAAAAAAAAAAAAAAAAAAAAAAAAAAAAAAAAAAAAAAAAAAAAAAAAAAAAAAAAAAAAAAAAAAAAAAAAAAAAAAAAAAAAAAAAAAAAAAAAAAAAAAAAAAAAAAAAAAAAAAAAAAAAAAAAAAAAAAAAAAAAAAAAAAAAAAAAAAAAAAAAAAAAAAAAAAAAAAAAAAAAAAAAAAAAAAAAAAAAAAAAAAAAAAAAAAAAAAAAAAAAAAAAAAAAAAAAAAAAAAAAAAAAAAAAAAAAAAAAAAAAAAAAAAAAAAAAAAAAAAAAAAAAAAAAAAAAAAAAAAAAAAAAAAAAAAAAAAAAAAAAAAAAAAAAAAAAAAAAAAAAAAAAAAAAAAAAAAAAAAAAAAAAAAAAAAAAAAAAAAAAAAAAAAAAAAAAAAAAAAAAAAAAAAAAAAAAAAAAAAAAAAAAAAAAAAAAAAAAAAAAAAAAAAAAAAAAAAAAAAAAAAAAAAAAAAAAAAAAAAAAAAAAAAAAAAAAAAAAAAAAAAAAAAAAAAAAAAAAAAAAAAAAAAAAAAAAAAAAAAAAAAAAAAAAAAAAAAAAAAAAAAAAAAAAAAAAAAAAAAAAAAAAAAAAAAAAAAAAAAAAAAAAAAAAAAAAAAAAAAAAAAAAAAAAAAAAAAAAAAAAAAAAAAAAAAAAAAAAAAAAAAAAAAAAAAAAAAAAAAAAAAAAAAAAAAAAAAAAAAAAAAAAAAAAAAAAAAAAAAAAAAAAAAAAAAAAAAAAAAAAAAAAAAAAAAAAAAAAAAAAAAAAAAAAAAAAAAAAAAAAAAAAAAAAAAAAAAAAAAAAAAAAAAAAAAAAAAAAAAAAAAAAAAAAAAAAAAAAAAAAAAAAAAAAAAAAAAAAAAAAAAAAAAAAAAAAAAAAAAAAAAAAAAAAAAAAAAAAAAAAAAAAAAAAAAAAAAAAAAAAAAAAAAAAAAAAAAAAAAAAAAAAAAAAAAAAAAAAAAAAAAAAAAAAAAAAAAAAAAAAAAAAAAAAAAAAAAAAAAAAAAAAAAAAAAAAAAAAAAAAAAAAAAAAAAAAAAAAAAAAAAAAAAAAAAAAAAAAAAAAAAAAAAAAAAAAAAAAAAAAAAAAAAAAAAAAAAAAAAAAAAAAAAAAAAAAAAAAAAAAAAAAAAAAAAAAAAAAAAAAAAAAAAAAAAAAAAAAAAAAAAAAAAAAAAAAAAAAAAAAAAAAAAAAAAAAAAAAAAAAAAAAAAAAAAAAAAAAAAAAAAAAAAAAAAAAAAAAAAAAAAAAAAAAAAAAAAAAAAAAAAAAAAAAAAAAAAAAAAAAAAAAAAAAAAAAAAAAAAAAAAAAAAAAAAAAAAAAAAAAAAAAAAAAAAAAAAAAAAAAAAAAAAAAAAAAAAAAAAAAAAAAAAAAAAAAAAAAAAAAAAAAAAAAAAAAAAAAAAAAAAAAAAAAAAAAAAAAAAAAAAAAAAAAAAAAAAAAAAAAAAAAAAAAAAAAAAEQAaABhAHYAYQBsACAAUABhAHQAZQBsAAAA/+ELH2h0dHA6Ly9ucy5hZG9iZS5jb20veGFwLzEuMC8APD94cGFja2V0IGJlZ2luPSfvu78nIGlkPSdXNU0wTXBDZWhpSHpyZVN6TlRjemtjOWQnPz4NCjx4OnhtcG1ldGEgeG1sbnM6eD0iYWRvYmU6bnM6bWV0YS8iPjxyZGY6UkRGIHhtbG5zOnJkZj0iaHR0cDovL3d3dy53My5vcmcvMTk5OS8wMi8yMi1yZGYtc3ludGF4LW5zIyI+PHJkZjpEZXNjcmlwdGlvbiByZGY6YWJvdXQ9InV1aWQ6ZmFmNWJkZDUtYmEzZC0xMWRhLWFkMzEtZDMzZDc1MTgyZjFiIiB4bWxuczpkYz0iaHR0cDovL3B1cmwub3JnL2RjL2VsZW1lbnRzLzEuMS8iLz48cmRmOkRlc2NyaXB0aW9uIHJkZjphYm91dD0idXVpZDpmYWY1YmRkNS1iYTNkLTExZGEtYWQzMS1kMzNkNzUxODJmMWIiIHhtbG5zOnhtcD0iaHR0cDovL25zLmFkb2JlLmNvbS94YXAvMS4wLyI+PHhtcDpDcmVhdGVEYXRlPjIwMjItMDgtMTJUMDk6Mzg6NTYuOTk4PC94bXA6Q3JlYXRlRGF0ZT48L3JkZjpEZXNjcmlwdGlvbj48cmRmOkRlc2NyaXB0aW9uIHJkZjphYm91dD0idXVpZDpmYWY1YmRkNS1iYTNkLTExZGEtYWQzMS1kMzNkNzUxODJmMWIiIHhtbG5zOmRjPSJodHRwOi8vcHVybC5vcmcvZGMvZWxlbWVudHMvMS4xLyI+PGRjOmNyZWF0b3I+PHJkZjpTZXEgeG1sbnM6cmRmPSJodHRwOi8vd3d3LnczLm9yZy8xOTk5LzAyLzIyLXJkZi1zeW50YXgtbnMjIj48cmRmOmxpPkRoYXZhbCBQYXRlbDwvcmRmOmxpPjwvcmRmOlNlcT4NCgkJCTwvZGM6Y3JlYXRvcj48L3JkZjpEZXNjcmlwdGlvbj48L3JkZjpSREY+PC94OnhtcG1ldGE+DQogICAgICAgICAgICAgICAgICAgICAgICAgICAgICAgICAgICAgICAgICAgICAgICAgICAgICAgICAgICAgICAgICAgICAgICAgICAgICAgICAgICAgICAgICAgICAgICAgICAgCiAgICAgICAgICAgICAgICAgICAgICAgICAgICAgICAgICAgICAgICAgICAgICAgICAgICAgICAgICAgICAgICAgICAgICAgICAgICAgICAgICAgICAgICAgICAgICAgICAgICAKICAgICAgICAgICAgICAgICAgICAgICAgICAgICAgICAgICAgICAgICAgICAgICAgICAgICAgICAgICAgICAgICAgICAgICAgICAgICAgICAgICAgICAgICAgICAgICAgICAgIAogICAgICAgICAgICAgICAgICAgICAgICAgICAgICAgICAgICAgICAgICAgICAgICAgICAgICAgICAgICAgICAgICAgICAgICAgICAgICAgICAgICAgICAgICAgICAgICAgICAgCiAgICAgICAgICAgICAgICAgICAgICAgICAgICAgICAgICAgICAgICAgICAgICAgICAgICAgICAgICAgICAgICAgICAgICAgICAgICAgICAgICAgICAgICAgICAgICAgICAgICAKICAgICAgICAgICAgICAgICAgICAgICAgICAgICAgICAgICAgICAgICAgICAgICAgICAgICAgICAgICAgICAgICAgICAgICAgICAgICAgICAgICAgICAgICAgICAgICAgICAgIAogICAgICAgICAgICAgICAgICAgICAgICAgICAgICAgICAgICAgICAgICAgICAgICAgICAgICAgICAgICAgICAgICAgICAgICAgICAgICAgICAgICAgICAgICAgICAgICAgICAgCiAgICAgICAgICAgICAgICAgICAgICAgICAgICAgICAgICAgICAgICAgICAgICAgICAgICAgICAgICAgICAgICAgICAgICAgICAgICAgICAgICAgICAgICAgICAgICAgICAgICAKICAgICAgICAgICAgICAgICAgICAgICAgICAgICAgICAgICAgICAgICAgICAgICAgICAgICAgICAgICAgICAgICAgICAgICAgICAgICAgICAgICAgICAgICAgICAgICAgICAgIAogICAgICAgICAgICAgICAgICAgICAgICAgICAgICAgICAgICAgICAgICAgICAgICAgICAgICAgICAgICAgICAgICAgICAgICAgICAgICAgICAgICAgICAgICAgICAgICAgICAgCiAgICAgICAgICAgICAgICAgICAgICAgICAgICAgICAgICAgICAgICAgICAgICAgICAgICAgICAgICAgICAgICAgICAgICAgICAgICAgICAgICAgICAgICAgICAgICAgICAgICAKICAgICAgICAgICAgICAgICAgICAgICAgICAgICAgICAgICAgICAgICAgICAgICAgICAgICAgICAgICAgICAgICAgICAgICAgICAgICAgICAgICAgICAgICAgICAgICAgICAgIAogICAgICAgICAgICAgICAgICAgICAgICAgICAgICAgICAgICAgICAgICAgICAgICAgICAgICAgICAgICAgICAgICAgICAgICAgICAgICAgICAgICAgICAgICAgICAgICAgICAgCiAgICAgICAgICAgICAgICAgICAgICAgICAgICAgICAgICAgICAgICAgICAgICAgICAgICAgICAgICAgICAgICAgICAgICAgICAgICAgICAgICAgICAgICAgICAgICAgICAgICAKICAgICAgICAgICAgICAgICAgICAgICAgICAgICAgICAgICAgICAgICAgICAgICAgICAgICAgICAgICAgICAgICAgICAgICAgICAgICAgICAgICAgICAgICAgICAgICAgICAgIAogICAgICAgICAgICAgICAgICAgICAgICAgICAgICAgICAgICAgICAgICAgICAgICAgICAgICAgICAgICAgICAgICAgICAgICAgICAgICAgICAgICAgICAgICAgICAgICAgICAgCiAgICAgICAgICAgICAgICAgICAgICAgICAgICAgICAgICAgICAgICAgICAgICAgICAgICAgICAgICAgICAgICAgICAgICAgICAgICAgICAgICAgICAgICAgICAgICAgICAgICAKICAgICAgICAgICAgICAgICAgICAgICAgICAgICAgICAgICAgICAgICAgICAgICAgICAgICAgICAgICAgICAgICAgICAgICAgICAgICAgICAgICAgICAgICAgICAgICAgICAgIAogICAgICAgICAgICAgICAgICAgICAgICAgICAgICAgICAgICAgICAgICAgICAgICAgICAgICAgICAgICAgICAgICAgICAgICAgICAgICAgICAgICAgICAgICAgICAgICAgICAgCiAgICAgICAgICAgICAgICAgICAgICAgICAgICAgICAgICAgICAgICAgICAgICAgICAgICAgICAgICAgICAgICAgICAgICAgICAgICAgICAgICAgICAgICAgICAgICAgICAgICAKICAgICAgICAgICAgICAgICAgICAgICAgICAgIDw/eHBhY2tldCBlbmQ9J3cnPz7/2wBDAAcFBQYFBAcGBQYIBwcIChELCgkJChUPEAwRGBUaGRgVGBcbHichGx0lHRcYIi4iJSgpKywrGiAvMy8qMicqKyr/2wBDAQcICAoJChQLCxQqHBgcKioqKioqKioqKioqKioqKioqKioqKioqKioqKioqKioqKioqKioqKioqKioqKioqKir/wAARCAFNBKsDASIAAhEBAxEB/8QAHwAAAQUBAQEBAQEAAAAAAAAAAAECAwQFBgcICQoL/8QAtRAAAgEDAwIEAwUFBAQAAAF9AQIDAAQRBRIhMUEGE1FhByJxFDKBkaEII0KxwRVS0fAkM2JyggkKFhcYGRolJicoKSo0NTY3ODk6Q0RFRkdISUpTVFVWV1hZWmNkZWZnaGlqc3R1dnd4eXqDhIWGh4iJipKTlJWWl5iZmqKjpKWmp6ipqrKztLW2t7i5usLDxMXGx8jJytLT1NXW19jZ2uHi4+Tl5ufo6erx8vP09fb3+Pn6/8QAHwEAAwEBAQEBAQEBAQAAAAAAAAECAwQFBgcICQoL/8QAtREAAgECBAQDBAcFBAQAAQJ3AAECAxEEBSExBhJBUQdhcRMiMoEIFEKRobHBCSMzUvAVYnLRChYkNOEl8RcYGRomJygpKjU2Nzg5OkNERUZHSElKU1RVVldYWVpjZGVmZ2hpanN0dXZ3eHl6goOEhYaHiImKkpOUlZaXmJmaoqOkpaanqKmqsrO0tba3uLm6wsPExcbHyMnK0tPU1dbX2Nna4uPk5ebn6Onq8vP09fb3+Pn6/9oADAMBAAIRAxEAPwD5tooooAKKKKACiiigAooooAKKKKACiiigAooooAKKKKACiiigAooooAKKKKACiiigAooooAKKKKACiiigAooooAKKKKACiiigAooooAKKKKACiiigAooooAKKKKACiiigAooooAKKKKACiiigAooooAKKKKACiiigAooooAKKKKACiiigAooooAKKKKACiiigAooooAKKKKACiiigAooooAKKKKACiiigAooooAKKKKACiiigAooooAKKKKACiiigAooooAKKKKACiiigAooooAKKKKACiiigAooooAKKKKACiiigAooooAKKKKACiiigAooooAKKKKACiiigAooooAKKKKACiiigAooooAKKKKACiiigAooooAKKKKACiiigAooooAKKKKACiiigAooooAKKKKACiiigAooooAKKKKACiiigAooooAKKKKACiiigAooooAKKKKACiiigAooooAKKKKACiiigAooooAKKKKACiiigAooooAKKKKACiuw0bStE0rwkviLxLaS6j9qnaCzso5TEG2/edmHIGeOP68R+KtH0k6DpviLw3DJbWV4zQzW0shcwyr2DHkgjP5e9AHJ0UUUAFFFFABRRRQAUUUUAFFFFABRWv4fg0GSWeTxLd3cMUagxxWkYZ5j3GTwPx9av/EDRrDQfFTWWlRtHbiCNwHcscsuSSTQBzNFFFABRRRQAUUUUAFFFFABRRRQAUUVs+Hn0CCS4uPEkVzcrGo8i1gbZ5rHrubsAPTmgDGortdQsfDuueC77WtB02bSLnTJYlnt2uGmSRZG2ghm5zmuKoAKKKKACiiigAooooAKKKKACinRbPOTzt3l7hv2dcd8e9egaFF4K8U6suh2vh+7sJZ1YQX32xpGBClsuh+UDjtmgDz2ilddkjLuVtpI3KeD7ikoAKKKKACiiigAooooAKKKKACiiigAooAJOBya9BuPCGlaZ8O9WkvI/M8QWSW00pEjYthNIAI8A4LbQScg/eoA8+ooooAKKKKACiiigAooooAKKKKACiit3wVp1rq/jPTbDUIvOtp5Ssibiu4bSeoIPagDCorrNY1fwr5V5Z2Pg/wCy3Clo47n+05X2EHG7aRg/SuToAKKKKACiiigAooooAKKK6PwnoNlqEd9qmuyyRaTpqK83lcPK7HCxrnuT/nnNAHOUV0Ou6l4ZvtOCaHoM2l3STj94120yyRYOchujZ29PfmueoAKKKKACiiigAooooAKK6HR9Z8N2WnLDq3hX+0rkMS1x/aMkORngbVGOK1vFdv4ei8G6Xe6foH9lX2oyNIim8km2wrxn5jj5iRjjoKAOIooooAKKKKACiiigAooooAKKKKACiiigAoruLSw8OeH/AAhpmra5pU2tT6o0hVUuWhjgVGxjK8lu+P5d83xxoun6RqNlLpAlitr+zjultpzmSDdn5T+X86AOZooooAKKKKACiiigAooooAKKKKACiiigAooooAKKKKACiiigAooooAKKKKACiiigAooooAKKKKACiiigAooooAKKKKACiiigAooooAKKKKACiiigAooooAKKKKACiiigAooooAKKKKAOx16MzfCrwpPGMpbzXcMp9HaTcB+QNF1G1r8GbFJsBrvWXnhz12LFsP4ZrL0Dxff+HrWe0hhtL2yuGDSWl7D5sZb1xkc1B4g8SX/iS6ilvzEiQp5cMECbI4l9FXtQBk0UUUAFFFFABRRRQAUUUUAFFFFABXafFb/keX/69Yf/AEAVgaFr39hSzP8A2Vpmo+aoG3ULfzQmO68jBrV8QePrrxJZzQ32i6NHLKFX7XDakTqFIIAcscdMfQmgDlaKKKACiiigAooooAKKKKACiiigAq/ouiX2v6itlpsXmSEbmZjhY1HVmPYCqFdH4c8aXfhrT7uyttP027hvGBmF5AZNwA+7wwBHsaAJvEGrWNhoy+GPD0nn2kcnm3l7jH2uUenog7evX3PLV0Wr+L/7W02Sz/4R7QbLeQfPsrLy5Fwc8NuOM9K52gAooooAKKKKACiiigAooooAK9G8IeKo9YvIfDc2iWVml+n2ZrvS0MEwG37zEE7unOeOtef2V3LYX9veW+3zbeVZU3DI3KcjI78iurk+JeqeXN9h03SNOuJlKyXdnZ7JiD/tZNAHLajafYNUurMOJPs8zxbx/FtYjP6VXoJLMSxJJOST3ooAKKKKACiiigAooooAKKKKACiiigDr/h3ZafLrE9/qN9p9vJYx+ZaxX84ijlmOdpJPZSMnAPauqsPDM8/hPxaLvxPoN1PqT2zyXSX26OIiUsfMbb8uc4HqeK8mrSstcubDQtT0qFImg1PyvOZgdy+W25dpzgcnnINAGfKnlzOm5X2sRuQ5Bx3B9KbRRQAUUUUAFFFFABRRRQAUUUUAFWtN1K60jUob/T5PKuYDujfaG2nGM4PHeqtXdG1afRNWh1C1SGSWHdhJk3owZSpBHfgmgDvtC8SX/jrTNZ0zxSIbuK3sJLqO8MKo0Dr0OVAGOf0NeaV1GqePtT1HSZNNt7TT9KtJjmaPTrfyvN9m5PFcvQAUUUUAFFFFABRRRQAV6H4T1VtJ+Fms3dnDHNd21/E48xd6xhgFVyvfHzYzxnB7V55Wt4e8S6h4avJJ9PMbLMmyaCZN8cq+jCgDrLzWLnxj8NNUv/EEcUt7pdxCLa9EYRn3thk+UAcDn8vSvPa39e8Zahr1jDYPBZ2FjC29bSwh8qPd/eIyef8AGsCgAooooAKKKKACiiigDQ0HSJde1+z0yDh7mUISP4V6sfwAJ/CtHxxqsWqeKZ/sQC2Vmq2dqo6COPgY9icn8ao6Hr114eubi4sI4TPNA8AkkUkxBurLgj5vc5rMoAKKKKACiiigAooooAKKKKACiiigAooooA9Hj1geAvCOkQCyj1STVEW/db3LQwjIwEX+9j+LscVkfEC2SabTPEEUlxt1m3MxhuJC7QspAIDH+HkYqvpXj7UtN0iLTJ7PTtUtYG3QJqNv5vk/7vIrL1/xFqHiXUBd6nIpZECRxxrtSNR2UdqAMuiiigAooooAKKKKACiiigAooooAKKKKACiiigAooooAKKKKACiiigAooooAKKKKACiiigAooooAKKKKACiiigAooooAKKKKACiiigAooooAKKKKACp3s5U06G9YDyZpZIUOedyBC3H0kWoKvTQ3C+HbOd5t1s91OkcP9x1SIs34hkH/AAGgCjRRRQAUUUUAFFFFABRRRQAUUUUAFFFFABRRRQAUUUUAFFFFABRRRQAUUUUAFFWr7StQ0vyP7Ssbmz+0RiaH7RC0fmoejLkcqfUcVVoAKKKKACiiigAooooAKKKtS6XqEGmwajPY3MdjcsywXTwsIpSpwwVyMMR3weKAKtFFFABRVvUdK1HR7hbfVrC6sZmQSLHdQtGxU9GAYA4PrSadpWoaxd/ZdIsbm/uNpbybWFpX2jqcKCcCgCrRRRQAUUUUAFFW7vStR0+3tbi/sLq1hvE8y2kmhZFnX+8hIww5HIqpQAUU6ON5ZFjiRndyFVVGSxPQAVNf6fe6VfSWWqWc9ldxECSC4iaORMjIyrAEcEH8aAK9FWrHStQ1Tz/7Nsbm8+zxmab7PC0nlIOrNgcKPU8VVoAKKKKACiiigAooooAKKKKACirVnpeoajFcy6fY3N1HaRGa4eCFnEKDq7kD5V9zxVWgAooqz/Zt9/ZX9p/Y7j+z/O+z/a/KbyvN27vL34xu284znHNAFaiirWo6VqGj3f2XV7G5sLjaG8m6haJ9p6HDAHBoAq0UUUAFFFW7TStR1C3uriwsLq6hs08y5khhZ1gX+85Awo4PJoAqUVZ/s2+/sr+0/sdx/Z/nfZ/tflN5Xm7d3l78Y3becZzjmq1ABRRRQAUUUUAFFT2NheanfR2em2k95dTHEcFvGZHc4zgKOTwKjmhltp5ILiN4pY2KPG6lWRgcEEHoQe1ADKKKKACiiigAooooAKKKKACiiigAoqexsLzU76Oz020nvLqY4jgt4zI7nGcBRyeBUsOj6ncz3cFvp13LLYxvLdRxwMzW6IcOzgD5Qp6k4A70AU6KKKACiiigAooq1daXqFjaWt1e2Nzb294pa2mlhZEnA6lGIwwGR0oAq0UUUAFFFFABRRRQAUUUUAFFFWtR0vUNHuza6tY3NjcBQxhuoWifB6HawBwaAKtFFFABRRRQAUUUUAFFFFABRRRQAUUUUAFFFFABRRRQAUUUUAFFFFABRRRQAUUUUAFFFFABRRRQAUUUUAFFFFABRRRQAUUUUAFFFFABRRRQAUUUUAFFFFABRRRQAUUUUAFXZbZV0G1uROWeS5mjMOeECrEQ2PfeR/wGqVW5Y7QaJbSRvm8a4mWVM9Iwsew49yZPyoAqUUUUAFFFFABRRRQB1Hgr4e6547muf7HW3gtbNd1zfXkvlQQDtubB9OwNW/F3wv1rwjotvrL3emaxpFxJ5a6hpFz9ohV/7pbAx37Y4r0Xw43hSP8AZehHiI639hl1thf/ANheUZPNA+QS+ZwE2hPx2VhTeM/hvpXwy8R+F/DEXiudtY8qRBqq25jhljYMGBjYEZwM8HO0e9AGJoPwc1vWvD9nrN1rGgaJaX5xZ/2tqAha45wNoAbqQeDg8dKfpHwt1Gx+LFt4X8UXOl6c8Lx3Dm+udkN3F5ijbE2PmZgSAOOhHBFdLrWh+Afh1BpWn+PLLWfE+uTafFcMsV35VtboxbEaHIbAwfbvxnAt/Fhwvxh+Hjy2babjStMZ7WWYyG2/0h8o0h5Yr0LHrjNAGN8cPh/Y+H/Feq6npOqeHbe082GOPRbS6AuoQY1BJhC8DILZz/ED3ryWvRPj2MfHHxFn/npD/wCiI687oAKKKKANLw/4e1PxTrlvpGhWrXV7cHCRqQOBySSeAAO5rt9V+BviPT9Mv7uy1PQtZl01d95ZaXfedcW4HUsm0dOeOvFbv7PDWEcnjOa5N2LqPRHMf9n7TdCLP7wwhuN/3Me+KXwX4x+EXgTxNFrejr45knjjeNoblbNopVZSCGCkEjoevUCgDhPBnw51jxta3t5ZXOnafp9jj7TfaldCGGMnkAnBPQE9Mcdat+JPhVrPhiTSJbzUNIudM1eZYbfV7S78y0VicfNJgYAGSTjGAeuDXRaB4a8JaX8Oj4x8aNq93o1/qjwadpFjKFGVDfvJST1wpHBz7nPGt45u9Ivv2adPuPDeg3Gh6W3ibFvDPdtcNKBbyBpAW+6N25do4+QnvQBb+IPwm0u38A+FJNN1zwjp1xb2Esl1cPfCP+1Hwh3RNtzL0OOn3h614LXrnxcYP8K/haykMP7LmGQe48oEV5HQB6NafBHxJc6bp+py3+jWWmXtjHffb727MMMCv91HZl++eeFyOOvSsfxt8NNe8CQ2d1qbWd7p98P9H1DT5vNgkP8Ad3YBzjnpyOmcHHZfGR7/AP4Vv8M0Pmf2f/YiEYztMuxM57Z24x9TTLUtD+yTejVd22fxAv8AZgl56Ku8p6DiXpxndQBjeK9O8V69rnhPT/GXiXTSdQ0eG6sLu8m8qG1t5AxUSvsGG+TBPzZOOTWhpvwF1HWbh4NI8b+Cb+ZIzK8drqzSsqDqxCxkgDI596rfGCN5pfAEUKNJI/g7TlREGSxPmYAHc1f8TSJ8J/AB8GWTofE2uxLLr0ykE2sJHyWoI7kElvqezDABz2j/AAwGs2L3K+OfBtkFmkiEd9qphdtjFd4Upna2MgnqCOBR4x+FOqeC7LSrm61jRNS/tdwtnHpty8rSqR98Eoo2cgZz3FO+GHg6z1y+u9f8TsbfwvoSi4v5SP8AXH+CBfUseMDt6EipH1DVfjJ8YrJWnXTnvZ1gtQpO2ygTJCrjGSqgntlvTPABqJ+z74neX7H/AGx4cGseT5v9jnUh9rxjpsC49s5x715hc201ndS211G0U8LtHJG4wUYHBBHqCK9+8MTfDrS/i9YaJoHhzXdY1+DVfJbU73UDHiRZMSTbVPzAAO2CBuAwepryH4jf8lT8V/8AYZvP/R70Ac3RRRQAV6n4q/5Nq8Cf9f8Aff8Aoxq8sr1rXfs5/Z5+Hn20kW39p3fmkddnmtn9M0AY2jfBnX9T8P22tanqWieHbK7x9lfW777ObgHoVG08HtnGevTFYXjTwHrngLUobXXYYylynmW11bv5kNwvGSjd8ZGQQDyOxBPZftHC+HxeuBc5FiLO3/s7+75OwZ2+3meZU/iNp/8AhlTwsupbvOOtymzEn3vs+2TOM87dxH6e1AFr416HqHiX4w6LpGjW7XN7daTapHGv/AsknsAOSewFZHhHwr4v8NfFufw/4N8S6VFrkNrKs91AzSQIANzxEtEcsMDopAPfIOPcPFKC5TWbXwTJDD49fQ7bY0uRLJZ4O5YGz8r5zz67c9iPFf2e45YfjEI7hHSVLK6V1cEMrBDkEHvmgDypmZ2LOSzMckk5JNJRRQAUUUUAer/Fv/knfwy/7Arf+yVSs/gZ4ik02zutZ1XQPDz3wBtrXWNQ8iaXPTChTyfTr7V1XiJbdh8D1vQptjFbiUN02edFnPtjNcZ8dPt//C59f/tPzd3mr5HmZx5WwbNvtj075oAyr/wdrXgj4gafpXiC18mf7TE8bo26OZC4w6N3B/P1wa7H4neFNV8a/tKa1ougwCW6mkiJZiQkSCCPLueyj1+gGSQKveL2m/4Vv8IV1rf/AGrvkKbuotvNTy8/8A8vH416N8SEkvdO8c2nw5wviYXETa7GoP2qe18lNvkkH7uCAQOT8w6kZAPEvCuneK9D1rxdpng/xJYKdP0m4uNSnt2ZoriGLG9Iy0eS2WwDhe+GxyfO69J+Df8AzPv/AGJmo/8AtOvNqAOs8GfDfXPHEF3d6e1nY6bZf8fGo6jP5NvEf7pbBOcHPA474yMr4y+G+teCrOyv7yex1HTL7It9R0y48+3duu3dgc4GenPOM4OPTrZvCUf7MfhZfFp14WEmoXBl/sPycmcSSbfN8zj7mMf/AKq5vWPGvw/tfhFqfg7wjB4kkkvLyO8ik1dLcrE4KhsGNuMqpHQ9aAM7Rvgnr2q6Pp2oXWs+HtHGqIr2NvqWo+XLcK33SqqrZzngdfan+D/hjdp8XoPD3im40nT5NOvbdrm11G5Ci+jMi/u4eD5jOp4XjOe1dJ4j0T4d/DvVofD/AIp0rXPF3iFLeHzXF0YYVJQBIo9p3YAwB17D2Gn8Tzt/ak8Gl08n95phZGbOz9/0J749aAOL+M3ga18NeKtSv9O1Xw+bWa+MUWk6fcg3Fou0n54goCAYx16keteZ12vxiBX4x+Jsgj/TmPP0FcVQAUUUUAep/B7/AJFb4j/9i3N/I1y3gr4c6/47a5fSI4ILKzGbm/vZfKgh4zgtzz7AHHfFdT8Hv+RW+I//AGLc38jVzVFkH7JeiHSg/lNrcp1Pyc43fPs8zHbHl9eM7fagDnPEPwg17Q/Dcmv2l/o+v6VC22e60W8+0LD7twOPcZx3q7/zaz/3Of8A7ZVqfABnW78YG+3f2EPD8/8AaGf9X22599vmY/4FXS/B248MW3wjsJPGYUWY8Zn7O8v+pjuPsQ8tpf8AY6+2cZ4zQB5TrvgDWfCHhvStd1i6tbGbUf3tpYeY4uwo5EhULhR0PLA89M5AtfFmDxVbeODD461SDVNUS1i/f24wnlkZVfuL0ye3fvTfizbeKbb4j6j/AMJu5k1CR90cqg+U8WTsMWf4McAduQec1v8A7RX/ACVuX/rwtv8A0CgCn8EPCFl4r+IVp/atzpP2S1kDS2F/NtkvAVf5Ykx85BUEjjAxUfxD+HraT40lh0fVtA1BtT1WWC103SrwPLbFpCEjkTAEeMhcZwCMdqg+CLKnxq8Nl2Cj7SwyTjkxsBVu08MzeL/2jr3Q4L2TT5J9cu3+0x53xCN5JCV9GwhwfXFAFtv2f/E5M9va6v4du9Vt4jLJpFvqO67AHbZtxnt1x71N8JlZPh78T1cFWXRlBBGCD89dj8M7v4bw/FnTdL8IeGdZutTgmlQate3hXYFRg0hRTggjIwQOo4B4rG8KcWnxrx/z7zf+jZaAOY/5tZ/7nP8A9sq82r0n/m1n/uc//bKvNqACiiigC7omlT69r+n6RZtGlxqF1HaxNKSEVnYKCxAJxk84Br0GD4C+JGu3tdQ1bw/pVwbmW3todQvzFJeFGKl4k2lmUkHBIBI5xXK/Dj/kqfhT/sNWf/o9K0vjC+pS/GLxJ/awfzxfOsQOf9SDiLHts20AWPDvhPxp4Y+MljoGnSxaP4ljlZbeebDRDMbfNnawZWXI6Hrg98VrLwZe+K/E2vjVvFXh3S7+0vGFzNq999mF1KzvvaP5fmGVJPAxuXjmvY70yL8efhXBqe461FocC6gXOW8zy5OGPru3/nXkVv4OvfHXxl1bRrF1hVtRuZbm5f7tvCsp3yH6dvUkDvQBY1/4O3/h/wAHTeJpPFPhi/06KQQq2n3zzGWQ/wDLNMR4Ld8Z4AJq5afA+51C8itLDx94FurmZgkUMOsl3dj0AUR5J+lZfxP8Y2euX9roPhhTb+F9CU29hED/AK4/xzt6ljzk9vQk1v8AhqJPhR8Px4yvUQ+JtdiaLQYWAJtYSPnuiD3IOF+o7McAHNxfCvW7r4hXfg/TrzTL2+sUMl1cQ3BFvAFxu3Oyg/KWAIAODx2OJ/Efwg1vw/4Yn8QW+qaJrunWsgiupdHvfP8As5JA+f5R3IHGcZqb4a+GdO16x8UeI/Fmo6imk6PBHJfQ2Lfvr0yOSqEnjBaPJz3wcjGa9F8MX/hDUPhV8RD4H8MXuk28elgT3N3dtL57Ycqu0kgEcnj1oA+d6KKKACtHQNI/t7XLbTf7QsNN88sPtWoz+TBHhSfmfBxnGBx1IrOooA9x+N3wz0vSbmDUNF1PwzpcFrpUO7TFuhHdXT7mzIke3585HzE87T6VymjfBPXtV0fTtQutZ8PaONURXsbfUtR8uW4VvulVVWznPA6+1a37RrB/HmjOhDK2gWxVgcgjdJyK0fEeifDv4d6tD4f8U6Vrni7xClvD5ri6MMKkoAkUe07sAYA69h7AAxPhp4b1Pwl+0Zoui65B5F7a3TB1DblIMTEMD3BBBFaHgz/kevi1/wBi9rP/AKNWu48SA/8ADX3hPdGYj9iiyhbcVPly8Z749a4fwZ/yPXxa/wCxe1n/ANGrQB47RRRQAVZ02z/tHVbSx+029p9pmSH7RdSbIotzAb3b+FRnJPYA1WooA93+Jvws0yw8B+GrvTNY8KWM1npDy3TC8CPqrqitugO3M2cHGccsPWm+IPBOp+MfhX8OfsM1nZWlnp1y91f6hcCG3twZE27nPc4OAAeh9KxvjIc/D/4YEcj+wgMj1Cx5pvxNvJ1+CvwysllYW72tzK8YPDOGUKT7gM2P940Acp45+GmueAY7G41SSzvbHUFLW19p8xlhcjtuIHOCD05HTODjQ0P4O6/q3hyHXtQ1DRfD2m3P/HtPrd79nE47FeDx6ZxnqOK29Vdpf2StE8wlvJ8SvHHn+FTFKxH5nNSftJLcL8RrJVDjSxpkA08D/V+Xznb26/09qAOI8a/D7XfAV3BFrcUMkF0u+2vLWTzIJxxna3HTPQgH8Oa6W++BfiDSleXWNa8O6baiJHjur2/MUczMpbyk3JlnAwSMY5HJ5xfvWmH7JtgNZ35PiJv7Kz/zy8tt3/Ad3m/jinftHXc83jrSLZ5GMNvotv5ce47VLFiSB6njn2HpQB5FRRRQAV0Pgfw7H4o8V22nzalpunx7hI76lceTHIAwygbByxzwO9c9V3RJEi8QafJK6oiXUbMzHAUBhkk0AepfHL4eWGg+K9X1TSNV8N2lmht1j0O2ugt3HmJFJ8gLxk5fOeQc966X4ufDPVvF3xKl1BNQ0nR7Fre2t4bnV7zyFuJfLHyR8EsRkdu9cL+0IrL8ddfLAgMLYgkdR9miH9K0P2kLye4+KUcEshaK2063SJc8KCCx4+poA4Xxh4J1rwP4mOh63Cn2sorxGBt6zK3AZTjJBII6ZyDXXQfAbxH5Np/a+seHdEvLxd0Gn6nqPlXEn0QKeenGe/Neg3v2O58V/A651lg/m6fCHklOS7hUMeT3+cj8TXjnxT/tD/hbHiX+1/N+0/2jL/revl7v3ePbZtx7YoAr3vgLXtM8fWvhDVLdbLU7q6itojKx8tvMYKjhgDlMnqAeh4yMVqeI/hTq/hPRr2/1zVNFtpbWZo47BrzF1dKsvleZFEVyyZy2Tg7QTivS/E7SHxT8D11Pd/bAWyN153+t2+dFs355znf175968q+K+oT6n8XPE81025o9SmgXnosbmNR+SigDkQCSABknoBXp1n8BPE88NmL7U9B0q/vk322l39/5d1KPZAp59s8d8VzPwzW0b4p+GV1HH2c6nBuz0zvG3PtuxmvSviLcfDD/AIWdrUvieTx8msx3jea1v9kVFK/cMefmCbQu0nnGCeaAPLLDwRr+oeOF8Ix2Jh1kytE1vO4TYVUsxLE4wFBbIzkdM5FdPrHwT17TNB1HVbPWNA1qPS1L30OlX/nS2yjqXUqMYwc854NdXcHw78YPinrHie3n1TR9D0zRTc6m6oiXU4RCjKNrMPmTgk5yARjmt34Yaj4Gv5vE0fgbwnqViY9BuRcajeXrPlSBhCmSuWIz6/Icd6AMLwX8L9M1P4Ha/e3Gr+FhqF4bV7e/ubwAaYvmKWSZtv7p2GVwM5zivHdc0r+w9budO+32Oo/Z2C/atPm82CTgHKPgZHOOnUGvSPBjCT9mv4ixIQ0i3Ni7IDkhfOTkj0+U8+x9K8ooAKKKKACiiigAooooAKKKKACiiigAooooAKKKKACiiigAooooAKKKKACiiigAooooAKKKKACiiigAooooAKKKKACiiigAooooAKKKKACrcslodEto40xeLcTNK2OsZWPYM+xEn51Uq7Lcq2g2tsICrx3M0hmxw4ZYgFz7bCf+BUAUqKKKACiiigAooooA6vwT8R9e8Bm7j0k21zZXqgXNjfQ+bBLjoSuQc/QjPfNWfE/xO1DxLoP9jR6JoGiWDSiaSHR9PEHmMOm45J/LFcXRQB6TbfHPxNDo9jZ3en6HqNzp0Qis9Tv7Dzrq3AGAVcnGRxyRzjnNcx4t8cav401DTb/WGjF3p1jFZRzQhg0ixliJHJJy5LEkjA9hXO0UAdx4x+Kuq+OtKjtdd0jQzdoEDapDZbbtwucAybjwc8gACuHoooAKKKKANXw14l1Xwjr1vrOg3RtryAna2AQwPBVgeCCO39a7W/8AjhrN5Fdm38N+FtPvbyNo5tQtNLC3DBhgneWPP4V5rRQB23hP4q634T8PT6CtjpWs6TNL5v2LV7X7RGj9yo3DHTOOmee5y3xR8VPEHi/w0dD1dLL7GL9b6IQQmPyCsXlLEgB2iMAk4xnJJzXF0UAdzpvxY1ex8DR+FLzStF1fT4A/2ZtTs/Oktt+cmM7gARuODgkfTiuGoooA988ZeP8AUvB3g/wHawWWmarp974bt2nsNVtfPgZlxtfbkYYZI6/yFeW+NviNrvj2S1XVzbW9pZLttrGyi8qCH1IXJ5+prn7zVNQ1GK2i1C+ubqO0iENuk8zOIUHREBPyr7DiqtAHaQfE/VIvE3h7XJdN0u4ufD2mxadZRzRSGMpEGCSMA4JcbicggZwccVt3fxwudQvJbu/8A+Bbq5mYvLNNoxd3Y9SWMmSfrXmFFAHpen/G3UNP8PtoieD/AAjPpzXL3RtrjTnkTzGYtnaZMcZwOOAAO1Zmq/FK9vptPuNK8OeG/Dt5p90t1Dd6Lp32eUsoI2sdx3Ic8qRg4rh6KAPUZ/j94mkv0v7XSfD9jfGaOW4vLSwKTXYRg2yR9xJUkAEAjI4zXnet6rPr2v6hq94kaXGoXUl1KsQIRWdixCgknGTxkmqVFABRRRQAVv6h4x1DUvA+k+Fp4bZbHSZpZoJEVhKxkYltxLYI54wBWBRQB6HpHxp1/T/DtromqaZofiKzswBajWrH7QYABgBTuHA7Zye1c74x8ca3461SO816dCIE8u3toE8uG3T+6idvryTgc8CueooA63XPiTr+ueMbDxPvh0/U9PhjhgkslZQAmcEhmbOckEdCOMVpf8Lg1hfiEfGcGkaNBqj27QTCKGURzbl2l2XzPvY7gj3BrgKKACiiigAooooA6DxF4z1HxNouhaZfw2scOh2ptbZoUYM6nHL5Ygn5R0Arq7X46+Ixptna61pPh/xDJYgC3u9YsPPnjx0IbcORxzjPHJNeaUUAb+veNdb8TeKk8Qa3dfaryN1aNSuI41U5VFUdFHoPc9STWjN8T/EL/EyTxzbPBZ6rI6s6W6sIXAVVKFSxJUhRkZ+mOMcfRQB2TfEvUR4i8Qaxa6TpNnN4g06bT7yKCKQR7Zcb5FBc4c7Qc5IznjmuNoooA6/wX8Tdd8D2V3YWEdjf6ZeHdPp+o2/nQO2AN23IOcADrg/gKTxb8RtQ8WaTb6W2kaJo+nwTeeLbSLEW6NJgjceSejN371yNFAHpr/HnxTNZ24uLDQ7jU7aHyYNZm08PeRDGMq5OAf8AgNcz4p+IGs+LPFVn4hvRb2uoWcUUcL2qsADGcq3zM3zZ5/pXMUUAdn44+JuoeP7eIaxo2h292kgd7+yszHcTYUqFdyxyvPTjoPSuMoooAKKKKAN/w14x1DwtYa3aafDbSR61YtY3BnViURupTDDDfXI9qu+CfiTr/gP7VFpLW9zY3gxcWF9F5sEpxjJXI5xxwRnvnArk6KAO58SfFnXfEHh86FbWWk6DpLtvms9Fs/s0cx/2+ST9M4PfPFYP/CV33/CA/wDCI+Vb/wBn/wBp/wBp+btbzfN8rysZzjbt5xjOe/asSigDrNX+I2ra/wCB7DwzrVtZXsenNm0v5Uc3UK/3A+/BXHGCp4A7gEUvGnjHUPHXiJtZ1aG2huGhSEraqyphBgcMxOfxrAooAt6Vql3omsWmp6bKYbuzmWaGQfwspyPqPau11n4x67q3iTT/ABBBpeh6Vq9jMZvt2n2WyW4JXaRKzM28bcjHua8/ooA9TH7QPiaHU0v9P0bw7p87SiW6e008xtekA4Erb9zDJzwRyPTiuW0/4harpsfihILezYeJ0ZLzejnywzMx8vDccseu7tXK0UAbf/CV33/CA/8ACI+Vb/2f/af9p+btbzfN8rysZzjbt5xjOe/asSiigAooooA6T4cf8lT8Kf8AYas//R6V6J4o+NOvaF8QNctH0nQdVl0zV7yOxvdSsfNuLVPOcBUcMMADge3FeN21zPZ3UV1ZzSQXELiSKWJyrxsDkMpHIIIyCKLm5nvLqW6vJpJ7iZzJLLK5Z5GJyWYnkkk5JNAHR2fxC122+IkfjW4liv8AV0lMubpSUY7SuCFIwADgAEYwK2PDPxf1Xwv/AG59m0PQb3+3Z3mvft1rJIHDZJjx5gGz5m4OepyTXAUUAegX/wAWBf2bWzfD/wADwBipL2+jmN+GBwGD5GcYOOxNampfHvUtZuFuNY8EeCb+ZEEayXWktKyoOigtISAMnj3ryuigDvtM+MGs6L4kvtV0fSNBsYNQgSC60q3sdtnKq5wTHuznk857mrF58bfEV1oupaPFpuiWOl39o1r9isrMwxQBiSzxhW+8eOW3dBx1z5zRQAUUUUAFFFFAHc6n8WNX1rwVb+HNY0rRb9bW2Ftb6jcWe+8hjGMBZC2AcADOMnvWo/x58UzWduLiw0O41O2h8mDWZtPD3kQxjKuTgH/gNeZUUAdxd/FnXr34iab4zmttP/tLTYVhijEcnlOFVgCw37ifmPRhWZpnjrU9K1bxFqFvBaNL4hsrmyulkRiqJOwZymGGCCOM5HqDXNUUAFFFFABRRRQB3EXxX1j/AIQFPCWoaXo2qWUMMkNrcX9mZbi0DgjMb7sKwzwcZGB6Vja74x1DxD4d0HRr2G2S30KGSG2aJWDuHIJ3ksQT8o6AVgUUAdDN401Gf4d2/gx4bUadb35v0lCN5xkKsuCd2NuGPbPvW/onxk1/SvDUGgajpui+ItOteLaHW7L7R5A7KvzDgds5x0HGBXn9FAHR+MvHmueOr+G41yaMRW6bLa0to/Lgt17hE7Z9Tk9OcAUzxn4z1HxzrUOp6tDawzQ2sdqq2qMqlUzgncxOefWufooAKKKKACiiigDufFnxY1fxroUdhr2k6HLcoiJ/aq2WLwhTnHmbuAe4AA5NYvjTxjqHjrxE2s6tDbQ3DQpCVtVZUwgwOGYnP41gUUAdL4i8dar4l0zw/ZXkdvbp4ftRa2klsrK5UbcMxLH5vlHIxXVx/HvxHJFaHV9F8Oa1e2a7YdR1HTfMuE9wwYAH3Ary+igDobjxzrt947tfF2qXIv8AVLW6iuUM4+TMbBlXauMLkdBjv9ay9b1WfXtf1DV7xI0uNQupLqVYgQis7FiFBJOMnjJNUqKAFVmRgyEqynIIOCDXpg+O2v3Ftarrmg+GddurVdsV9qmmCWdfQ7gwGeB27V5lRQB2Ok/FLxLo/ju78WWk1ub6+BS5heAeRLGcfIUGOBtXGCDx1653B8d/EcP2iLTtJ0DTbO4t5YZbKxsTDCxkABlIVslwM4JJHJ4rzKigDq/A/wAQ9W8BPqA0y3sL211KIRXdnqEBlhlAzjIBB43N3xyawtb1T+29audRNjZWH2ht32awh8qGPgDCJzgcVRooAKKKKACiiigAooooAKKKKACiiigAooooAKKKKACiiigAooooAKKKKACiiigAooooAKKKKACiiigAooooAKKKKACiiigAooooAKKKKACr001w3h2zgeDbbJdTvHN/fdkiDL+AVD/wKqNXpvtf/CO2fmbfsf2qfysfe8zZFvz7Y8vH40AUaKKKACiiigAooooAKKKKACiiigAooooAKKKKACiiigAooooAKKKKACiiigAooooAKKKKACiiigAooooAKKKKACiiigAooooAKKKKACiiigAooooAKKKKACiiigAooooAKKKKACiiigAooooAKKKKACiiigAooooAKKKKACiiigAooooAKKKKACiiigAooooAKKKKACiiigAooooAKKKKACiiigAooooAKKKKACiiigAooooAKKKKACiiigAooooAKKKKACiiigAooooAKKKKACiiigAooooAKKKKACiiigAooooAKKKKACiiigAooooAKKKKACiiigAooooAKKKKACiiigAooooAKKKKACiiigAooooAKKKKACpLdYGuEF3JJFCT87xRh2A9lJAP5io6KAL3k6T/AGhs+23v2PbnzvsaeZu9Nnm4x77vwohh0lryZbi9vY7Yf6qRLNGd/wDeUygL+DGqNFAF22i0to5jd3l5E6k+SIrRXDjtuJkXb+GabHHpp09nlu7pbwZ2wraq0Z9Mv5gI/wC+TVSigC3JHpo09Xiu7prw43QtaqsY9cP5hJ/75FOuYtLWOE2l5eSuxHnCW0VAg77SJG3fjiqVFAF6aHSVvIVt729ktj/rZHs0V0/3VEpDfiwq/NZ2C6dZyPql62lPcTrH/oS+YkipEWOzzcYIZBnd/D0rCq7LbKug2tyJyzyXM0ZhzwgVYiGx77yP+A0ALDDpLXky3F7ex2w/1UiWaM7/AO8plAX8GNJbRaW0cxu7y8idSfJEVorhx23EyLt/DNUqKALccemnT2eW7ulvBnbCtqrRn0y/mAj/AL5NEkemjT1eK7umvDjdC1qqxj1w/mEn/vkVUooAu3MWlrHCbS8vJXYjzhLaKgQd9pEjbvxxSzQ6St5Ctve3slsf9bI9miun+6olIb8WFUaKAL3k6T/aGz7be/Y9ufO+xp5m702ebjHvu/CiGHSWvJluL29jth/qpEs0Z3/3lMoC/gxqjRQBdtotLaOY3d5eROpPkiK0Vw47biZF2/hmmxx6adPZ5bu6W8GdsK2qtGfTL+YCP++TVSigC3JHpo09Xiu7prw43QtaqsY9cP5hJ/75FOuYtLWOE2l5eSuxHnCW0VAg77SJG3fjiqVFAF6aHSVvIVt729ktj/rZHs0V0/3VEpDfiwo8nSf7Q2fbb37Htz532NPM3emzzcY9934VRooAvQw6S15Mtxe3sdsP9VIlmjO/+8plAX8GNJbRaW0cxu7y8idSfJEVorhx23EyLt/DNUqKALccemnT2eW7ulvBnbCtqrRn0y/mAj/vk0SR6aNPV4ru6a8ON0LWqrGPXD+YSf8AvkVUooAu3MWlrHCbS8vJXYjzhLaKgQd9pEjbvxxSzQ6St5Ctve3slsf9bI9miun+6olIb8WFUaKAL3k6T/aGz7be/Y9ufO+xp5m702ebjHvu/CiGHSWvJluL29jth/qpEs0Z3/3lMoC/gxqjRQBdtotLaOY3d5eROpPkiK0Vw47biZF2/hmmxx6adPZ5bu6W8GdsK2qtGfTL+YCP++TVSigC3JHpo09Xiu7prw43QtaqsY9cP5hJ/wC+RTrmLS1jhNpeXkrsR5wltFQIO+0iRt344qlRQBemh0lbyFbe9vZLY/62R7NFdP8AdUSkN+LCjydJ/tDZ9tvfse3PnfY08zd6bPNxj33fhVGigC9DDpLXky3F7ex2w/1UiWaM7/7ymUBfwY0ltFpbRzG7vLyJ1J8kRWiuHHbcTIu38M1SooAtxx6adPZ5bu6W8GdsK2qtGfTL+YCP++TRJHpo09Xiu7prw43QtaqsY9cP5hJ/75FVKKALtzFpaxwm0vLyV2I84S2ioEHfaRI278cUs0OkreQrb3t7JbH/AFsj2aK6f7qiUhvxYVRooAveTpP9obPtt79j25877GnmbvTZ5uMe+78KIYdJa8mW4vb2O2H+qkSzRnf/AHlMoC/gxqjRQBdtotLaOY3d5eROpPkiK0Vw47biZF2/hmmxx6adPZ5bu6W8GdsK2qtGfTL+YCP++TVSigC3JHpo09Xiu7prw43QtaqsY9cP5hJ/75FOuYtLWOE2l5eSuxHnCW0VAg77SJG3fjiqVFAF6aHSVvIVt729ktj/AK2R7NFdP91RKQ34sKPJ0n+0Nn229+x7c+d9jTzN3ps83GPfd+FUaKAL0MOkteTLcXt7HbD/AFUiWaM7/wC8plAX8GNJbRaW0cxu7y8idSfJEVorhx23EyLt/DNUqKALccemnT2eW7ulvBnbCtqrRn0y/mAj/vk0SR6aNPV4ru6a8ON0LWqrGPXD+YSf++RVSigC7cxaWscJtLy8ldiPOEtoqBB32kSNu/HFLNDpK3kK297eyWx/1sj2aK6f7qiUhvxYVRooAveTpP8AaGz7be/Y9ufO+xp5m702ebjHvu/CiGHSWvJluL29jth/qpEs0Z3/AN5TKAv4Mao0UAXbaLS2jmN3eXkTqT5IitFcOO24mRdv4ZpscemnT2eW7ulvBnbCtqrRn0y/mAj/AL5NVKKALckemjT1eK7umvDjdC1qqxj1w/mEn/vkU65i0tY4TaXl5K7EecJbRUCDvtIkbd+OKpUUAXpodJW8hW3vb2S2P+tkezRXT/dUSkN+LCjydJ/tDZ9tvfse3PnfY08zd6bPNxj33fhVGigC9DDpLXky3F7ex2w/1UiWaM7/AO8plAX8GNJbRaW0cxu7y8idSfJEVorhx23EyLt/DNUqKALccemnT2eW7ulvBnbCtqrRn0y/mAj/AL5NEkemjT1eK7umvDjdC1qqxj1w/mEn/vkVUooAu3MWlrHCbS8vJXYjzhLaKgQd9pEjbvxxSzQ6St5Ctve3slsf9bI9miun+6olIb8WFUaKAL3k6T/aGz7be/Y9ufO+xp5m702ebjHvu/CiGHSWvJluL29jth/qpEs0Z3/3lMoC/gxqjRQBdtotLaOY3d5eROpPkiK0Vw47biZF2/hmmxx6adPZ5bu6W8GdsK2qtGfTL+YCP++TVSigC3JHpo09Xiu7prw43QtaqsY9cP5hJ/75FOuYtLWOE2l5eSuxHnCW0VAg77SJG3fjiqVFAF6aHSVvIVt729ktj/rZHs0V0/3VEpDfiwo8nSf7Q2fbb37Htz532NPM3emzzcY9934VRooAvQw6S15Mtxe3sdsP9VIlmjO/+8plAX8GNJbRaW0cxu7y8idSfJEVorhx23EyLt/DNUqKALccemnT2eW7ulvBnbCtqrRn0y/mAj/vk0SR6aNPV4ru6a8ON0LWqrGPXD+YSf8AvkVUooAu3MWlrHCbS8vJXYjzhLaKgQd9pEjbvxxSzQ6St5Ctve3slsf9bI9miun+6olIb8WFUaKAL3k6T/aGz7be/Y9ufO+xp5m702ebjHvu/CiGHSWvJluL29jth/qpEs0Z3/3lMoC/gxqjRQBdtotLaOY3d5eROpPkiK0Vw47biZF2/hmmxx6adPZ5bu6W8GdsK2qtGfTL+YCP++TVSigC3JHpo09Xiu7prw43QtaqsY9cP5hJ/wC+RTrmLS1jhNpeXkrsR5wltFQIO+0iRt344qlRQBemh0lbyFbe9vZLY/62R7NFdP8AdUSkN+LCjydJ/tDZ9tvfse3PnfY08zd6bPNxj33fhVGigC9DDpLXky3F7ex2w/1UiWaM7/7ymUBfwY0ltFpbRzG7vLyJ1J8kRWiuHHbcTIu38M1SooAtxx6adPZ5bu6W8GdsK2qtGfTL+YCP++TRJHpo09Xiu7prw43QtaqsY9cP5hJ/75FVKKALtzFpaxwm0vLyV2I84S2ioEHfaRI278cUs0OkreQrb3t7JbH/AFsj2aK6f7qiUhvxYVRooAveTpP9obPtt79j25877GnmbvTZ5uMe+78KIYdJa8mW4vb2O2H+qkSzRnf/AHlMoC/gxqjRQBdtotLaOY3d5eROpPkiK0Vw47biZF2/hmmxx6adPZ5bu6W8GdsK2qtGfTL+YCP++TVSigC3JHpo09Xiu7prw43QtaqsY9cP5hJ/75FOuYtLWOE2l5eSuxHnCW0VAg77SJG3fjiqVFAF6aHSVvIVt729ktj/AK2R7NFdP91RKQ34sKPJ0n+0Nn229+x7c+d9jTzN3ps83GPfd+FUaKAL0MOkteTLcXt7HbD/AFUiWaM7/wC8plAX8GNJbRaW0cxu7y8idSfJEVorhx23EyLt/DNUqKALccemnT2eW7ulvBnbCtqrRn0y/mAj/vk0SR6aNPV4ru6a8ON0LWqrGPXD+YSf++RVSigC7cxaWscJtLy8ldiPOEtoqBB32kSNu/HFLNDpK3kK297eyWx/1sj2aK6f7qiUhvxYVRooAveTpP8AaGz7be/Y9ufO+xp5m702ebjHvu/CiGHSWvJluL29jth/qpEs0Z3/AN5TKAv4Mao0UAXbaLS2jmN3eXkTqT5IitFcOO24mRdv4ZpscemnT2eW7ulvBnbCtqrRn0y/mAj/AL5NVKKALckemjT1eK7umvDjdC1qqxj1w/mEn/vkU65i0tY4TaXl5K7EecJbRUCDvtIkbd+OKpUUAXpodJW8hW3vb2S2P+tkezRXT/dUSkN+LCjydJ/tDZ9tvfse3PnfY08zd6bPNxj33fhVGigC9DDpLXky3F7ex2w/1UiWaM7/AO8plAX8GNJbRaW0cxu7y8idSfJEVorhx23EyLt/DNUqKALccemnT2eW7ulvBnbCtqrRn0y/mAj/AL5NRzpaLbwG2nnkmYHzkkhCKh7bWDEt36hagooAKKKKACiiigAooooAKKKKACiiigAooooAKKKKACiiigAooooAKKKKACiiigAooooAKKKKACiiigAooooAKKKKACrcsdoNEtpI3zeNcTLKmekYWPYce5Mn5VUq3LJaHRLaONMXi3EzStjrGVj2DPsRJ+dAFSiiigAooooAKKKKACiiigAooooAKKKKACiiigAooooAKKKKACiiigAooooAKKKKACiiigAooooAKKKKACiiigAooooAKKKKACiiigAooooAKKKKACiiigAooooAKKKKACiiigAooooAKKKKACiiigAooooAKKKKACiiigAooooAKKKKACiiigAooooAKKKKACiiigAooooAKKKKACiiigAooooAKKKKACiiigAooooAKKKKACiiigAooooAKKKKACiiigAooooAKKKKACiiigAooooAKKKKACiiigAooooAKKKKACiiigAooooAKKKKACiit3wf4uv/AATr39raVDbTT+U0W25VmXDYzwrA549aTvbQDCor6T8CfFjXfFHhTxdqd/aafHNolkLi3WCNwrtslbD5ckjMY6Ed6831f4x+IPGcFto+qWemxW8l3C5a3ikV8q4I5ZyP0qFKTdrEKTvseaUV7B8dtJ1LWPilFDpOn3V9KumxMY7aFpGA3yc4UGvJr2xu9OumttQtZrSdfvRTxlGH1B5qoy5lcpO6IKKu6bouqaw7JpGm3l+yfeW1gaUr9doNRX2n3umXJt9Ss57OcDJiuImjYD1wRmqGV6Kux6Lqsunx30WmXj2csgijuFt2MbuTgKGxgnPGOtJqOkalo8qRavp91YSSLvRLqBoiy+oDAZHvSugKdFFaVh4b1zVbY3Gl6NqF7Aucy29q8ijHXkAimBm0U6WKSCVopkaORDtZHGCp9CK04PCviG5s/tdtoOpy22N3nR2cjJj13AYouBlUVqeHtCvPEOuQafZWlzcFnXzvs8Rdoo9wVnIAOAMjk8V1nxK+Gdx4S16WPQrDVrvSYrdZXvZYS6oTndl1UKAOKnmSdhXV7Hn9FFXYtF1SfTxfw6beSWZkEQuUgYxlycBd2MZyRx1qhlKitO+8Na7pdqLnU9F1GztzjEtxaPGp/EgDvXR/DDX9S8O6xqFzpPhqTX3lsmhkijjZjEpI+Y7Vb5eMEcZ9RSb0uhX0OJorR03w7rWsxPLo+j39/HG213tbV5Qp9CVBwau/8IL4u/6FbWv/AAXS/wDxNF0F0YNFath4W8QaraC60vQtSvbdiQJrezkkQkdRlQRUs/gzxRa28lxdeG9XhhiQvJLJYSqqKBkkkrgADnNF0F0YtFW9P0nUdXmaLStPur6ReSltC0hH4KDSahpeoaTcCDVbG5spiMiO5haNseuGANO4yrRRRQAVdluVbQbW2EBV47maQzY4cMsQC59thP8AwKqVXpprhvDtnA8G22S6neOb++7JEGX8AqH/AIFQBRoop8MMtxPHDbxvLLIwRI0UszMTgAAdST2oAZRWhqfh/WdFSN9Y0i/09ZCQjXVs8QcjqBuAzWfRe4WaCiiigAooqe6sbuxaNb21mtjKgkjE0ZTehJAYZ6jIPPtQBBRRRQAUUUUAFFFFABRRRQAUUUUAFFFOjjeaVY4UaSRzhVUZLH0AoAbRUt1a3Flcvb3kEtvOn34pUKsvGeQeRUVABRRRQAUUUUAFFFFABRRRQAUUUUAFFXtN0PVtZLjR9Lvb8p98Wtu8u367QcVVuLaezuHt7uGSCaM4eOVCrKfcHkUXHZkdFFFAgooooAKKKKACiiigAooooAKKK07Tw1rt/Ym8sdF1G5tRyZ4bR3Qf8CAxSukOzexmUUUUxBRRRQAUUUUAFFFFABRRRQAUUUUAFFad14a12ysBfXui6hb2hwRcS2rpHz/tEYrMovcdmtwooooEFFFFABRRRQAUUUUAFFFFABRRSqCzBVBJJwAO9ACUVPd2V1YT+Tf201tLtDbJoyjYPQ4PY1BQAUUUUAFFFFABRRRQAUUVLbWtxe3KW9nBJcTyHCRRIWZj7AcmgCKir2paJqujMi6xpl5YNJ9wXVu8Rb6bgM1Ro3DYKKKKACiiigAooooAKKKnuLC8tIYZbu1ngjnBaJ5IyokHqpPXr2oAgooooAKKKKACiiigAooooAKKKKACiilVWdgqKWZjgADJJoASipruzubC5a3vreW2nUAtFMhRhkAjIPPIIP0NQ0AFFFFABRRRQAUUVo6b4d1vWYXl0fR7+/jjba72tq8oU+hKg4NF7Ds3sZ1FK6NG7JIpVlOGVhgg+lJQIKKKKACiiigAooooAKKKKAPWvhD/AMk6+JX/AGCh/wCirivMNJ/5DVl/18R/+hCu5+HHinR9B8F+N7DVrz7Pc6rp4hs08p281/LmGMqCBy69cda4PT5Ug1O1llO1I5kZjjOAGBNQk7slbs97+NXxE1Xwp4jt9N8MullczWyz3V2IlZ3G5giAsDgDDHp/F9ayfiZI3i34V+DNdvljGp3c627zKuM7g2eB2ygOPc1yPxl8TaR4r8cRahoF39rtVso4jJ5bp8wZyRhgD3FWfE/izR7/AOC3hnQrG+L6pYT754RE6+WMSc7iNp+8OhrKMbKLsSlZI674m+Lr34Zf2X4Q8EbNNhitVnmuFiVnlJJX+IEZO0knqc+3MenatJ8VPg34hbxOiTanoEbXFverEEYgIXAyBjJ2MCB2I471n3HjLwL8SNHsV+IMt5o+sWMflm+tYy6zL36Kx5POCOCTg8mqfiDx14X8P+Bbjwj8OluJ477/AI/dRuVKmQHggAgHJAx0AAPHJoUdErait0tqdP4R8Q/8Ir+ziusxW8c91bXcn2USjKpKzlA34Bia8a8ReK9a8WXUVx4gvjeSwoUjYxom1Sc4+UDvXY/8JZov/DPv/CNfbf8Aib/bPN+zeU/3fMzndjb09682q4R1bZUVq2dH8P8AQ7bxJ4/0nSb7P2a4m/egHG5VUsVz77cfjXvXinUIbXXBZab8TbDwvb2CrEmmR2CN5eAPvEuM/TAGMfU/OGiaxdaBrlnqunsFuLSUSpnocdj7EcH2Neu6xrfwn+ITRax4iur/AEHVmRRcrbxs3mEcckI4PHAPBxjPTFKonzJ9BSWpN8QrjRtc8YeE9V8JXFlr+upcxpdW9r8ouihVwWHO0cMCTnAPJwK6UXvi3Tdfhl8V/EXQ9LkeQMdIhgSX5T0TBw/Prz9TXm7+MvBnhbxp4evfBGl3L22lSTG7uJuJLsSIE4zz8o3YBwMnoOtamtax8Ll8RT+MrO+1HUtTaX7VHpLxskfn5yCzlfug84DH8elRyuyVhWLHj+ebwj8fbWbw7K1g2qR24uvKAxIHlwwx2zsUnHemfHbxZrtj4wuNDtNSli0y4so/NtgBtbdnPbPOKo/E/wAW+Etf1zR/FGg6hcXWpQPCJrJ4WjVI0LP94rjdkgcEirHxK1n4c+M45/EFvreoLrP2QRw2It2VSwzjcSmO/OG7U4rZtAulzx6ve/AfiN/Cf7Ot9rMEEc9xb3riBZBlVkZkUMfpnP4V4JXvHga50S1/Z2u38U2sl1pbagUnSI4cZdAGHI5BIP4VdXZFT2K3ws+Juu+KvGH/AAjniyWPVbHVIpV2yQIPLIQsfugfKQpGDnnHTmrHwl0qPQvid410u3YNDaQyxRnOflEny598Yz71S0rxL8MPhzFc6p4RuL/W9YliKQi5RlEOexJRQBwMkZNYnwo8b6ZovibX9T8VX/2eTUrd/wB55Lv5krPuPCA471DV07IlrexynhLxJ4s024XSfCN7cRS30wAggCkyOeB1Fe1+JvHOofDLwVFp2p6w2seLb5N5L4KWoPfAxwOcZ+8cnoMVxvwY8R+CPClje6j4hvxa63JI0ULPbyyhIdqnI2qQCW3A85wO3dmqab8Lta1S41HVPiHqdxd3D75JXsJMsf8Av1wAOAOwFOVnLVDer1RzXgbX/HNxdWvhrwdqU8QkclIlC7I88s7Eg4A6mvSvih4+fwt4VPgu21N9X1i4gMepXswB2I4IZcDgMQcAdl9zmqnw58UfDzwj4Uu4U15rLWLx5UkuzZyyOiB2ERXCFfubWx6nnpiuavtC+Fc/2m5Pj3Uri7k3SZkspSZHOTyTH3Pek7OWq/AN3sdB4Gj8ax/Dey+wanpnhHRY3d21G82+ZdFmJBAYYC9hnBOOCRWv48jh1r4EX97fa9aeJrvTLqPytRt4BFtJkjUqcEgna/UYzkcZGa5iz8W+CfGHw30rw740v7zR7nSAFimgiaRZABtB4Vv4euQORwa0rHxj8N7nwFqfgiW7vtK0tZE8i7aFpJbrDK5c4U7SWXGCAMY6dAmne9uotb3PDqKKK6TUKvTfa/8AhHbPzNv2P7VP5WPveZsi359seXj8ao1emhuF8O2c7zbrZ7qdI4f7jqkRZvxDIP8AgNAFGtjwh/yPGhf9hG3/APRi1j1seEP+R40L/sI2/wD6MWlLZjjujd+K+rajefEPWbO81C6uLW1vXEEEszMkX+6pOF/CuKrqvid/yVDxD/1+vXK1MPhRU/iYUUUVZBveFvGGoeD57i40iGzNzOgUT3EAkaHB6pngH8D0rrvjlcS3fiTw/cXDb5ZvD9tI7YxuYvISfzrzOvSPjV/yGvDX/YuWv/oUlZNLnTNYt+zaPN6KKK1MgooooAKKKKACiiigAooooAK7r4ceN9W0HU9P0bSltYY73U4vPuPs6tMysyKU3nOFwOwzyea4Wtjwh/yPGhf9hG3/APRi1MknHUqDalobPxa/5Kxr/wD18D/0Ba46ux+LX/JWNf8A+vgf+gLXHUofAh1PjYUUUVZAUUUUAFFFFABRRRQAUUUUAereO9d1LwJpnh/wr4ZvZtNSLT47y8ltX8t7ieTJJLDnAx0z0OOwqt8QZ28T/DTwt4uvQp1N3lsLyYKB52wnYxwOuFJ/Gk+L1pNqj+HvE9lE8un6jpUMYkUFgkq5DIT2PI+pB9KZ4zSTQfg/4T8PXytFqE002oywNw0SEkJuHUEhv0Nc8bWi+p0yveSex5tRRRXQcwUUUUAFFFFABRRRQAUUUUAa/hPSF17xhpOlS/6u7u44pMHHyFhu/TNdt4x+J3iDTfiFcxeHtQlsNN0e4Nra2MR2wFIztwyDhgSp69AeMVyHgXUodH8faJf3JCwQ3sRkYnG1SwBP4A5/Ctbx74S1W3+Kepadb2U88t/evLZhEJ85ZG3DaehxuwT2waylZz17GsW1D3e5a+MunWln49F5p8Qhh1Wziv8AYowAz5DEfUqT9Sa4GvQfjRdQv45g06CXzf7J06CxdgcjcoLEfhux9c159VU/gQqnxsKKKKszCiiigAooooAKKKKACu7+EFjZT+MrjUtTiWa30XT59SMbgFWMeMZz6Fs/UCuEr0L4NeTdeKNV0aaTy21nRrmxiycZdgp/krVFT4GaU/jRf8CfErxBqnxHtbbxDqUl9p+sTfZLmzmO6HEnygKnReSOnXvXBeJ9MXRfFmraZGrLHZ3ksKbs52q5Cnn2ANdJ8N/DGoz/ABU062urSa3Ol3a3N4XXaIBGd/zE9ASoHvmuf8W6muteM9Y1KJt8V1eyyRn/AGC52/pipikp6dhybcPe7mPRRRWpkFFFFABRRRQAUUUUAFFFFABXR+GPHOreD7W6j0NLSKe5IJu5LdZJo8AjCluAOfSucopNJqzGm07o9I+PX/JWLv8A694f/QK83r0j49f8lYu/+veH/wBArzeopfAi6v8AEYUUUVoZhRRRQAUUUUAFeleDbw+EvhLrfirTyser3V8ml2twVBMI2iRyuehIJ/Ielea16ToFk/iH4C6zptgjz32l6umomCPljG0QjyB3xhzx6VnU21NKe7sXfCOu6h448D+LPD/iO6m1SS0099TsXuGMksbx8kBjknOVGPcjvXlNek/DaCXRfCPjDxRch4Lf+yZNPtpWGFkllIAC56kFV/OvNqIWUnYc7uMbhRRRWhkFFFFABRRRQBs+F/FF54S1STUNNgtJbhoTErXUIkEeSDuUHo3y4z6E13Pxh1C61XQPA9/qEvnXVzpXmyybQNzHaScDgfhXltek/FH/AJE74f8A/YGH8krKSXOmaxb5JI82ooorUyCiiigAooooAKKKKACiiigArrvBHjjVfC8q2WjpaRNd3Kb7prcPMASBtVj0H4d65Grek/8AIasf+viP/wBCFKSTVmVFtO6Oy+Nv/JYtb/7d/wD0njrgq7342/8AJYtb/wC3f/0njrgqmn8C9Cqnxv1CiiirMwooooAK9B+C2q6hb/EzSdPt7+5isriVzNbJMyxykRNgsoOD0HX0rz6u2+Dn/JXNC/66Sf8Aop6ip8DNKfxo5TVv+Q1ff9fEn/oRqpVvVv8AkNX3/XxJ/wChGqlUtiHuFFFFMQUUUUAFFFFABRRRQAUUUUAFFFFABRRRQAUUUUAFFFFABRRRQAUUUUAFd5beONNh+Cl34PaC6OoTXYnWUIvlBd6NgndnOFPauDopNJiauFFFFMYUUUUAFFFFABRRRQAUUUUAFXZbZV0G1uROWeS5mjMOeECrEQ2PfeR/wGqVW5Y7QaJbSRvm8a4mWVM9Iwsew49yZPyoAqVpeHLuGw8VaVeXb+XBb3sMsr4J2qrgk4HJ4Has2ih6jWjO2+JreG7/AMRXOt+HPEX9qPqFy8ktt9hkh+zg9Pmf734AVxNFFKKsrDk+Z3CiiimSbfhrxjr3g+aeXw5ffY3uFCynyY5NwByPvqcde1btz8ZfHl5aTW1xru+GZGjkX7HAMqRgjITPQ1w9FS4Rbu0UpySsmFFFFUSFFFFABRRRQAUUUUAFFFFABXTeG/iJ4p8I6bJYeHtU+yW0kpmZPs8UmXIAJy6k9FH5VzNFJpNWY02ndHWa78T/ABf4l0iXS9b1f7TZylS8X2aFMlSCOVQHqB3rk6KKEktgcnLVhRRRTEFFFFABRRRQAUUUUAFFFFAHSeHviF4q8KWT2mg6xLa2zEsYiiSKCepAcHH4YrH1XVr/AFzUpdQ1e6ku7qU5eWQ5J9vYewqnRS5Unew+ZtWuFFFFMQUUUUAFFFFABRRRQAUUUUAFddZfFTxtp+kpptp4guEtY02ICiMyr6BypYfnxXI0UnFPcak1sx0kjyyNJK7O7kszMcliepJptFFMQUUUUAFFFFABRRRQAUUUUAFSW9xNa3MdxbSvDNEweORGwyMOQQR0NR0UAdZq3xQ8Za5pL6ZqeuzS2ki7XjWNELj0ZlUEj6nmuToopJJbDcm92FFFFMQUUUUAFFFFABRRRQAUUUUAFdD4a8eeJPB8M8PhzUfsaXDBpR5Ecm4gYH31OOvaueopNJqzGm07o7LU/i1421nS7jTtS1rzrS5Qxyx/ZIV3KeoyEBH4VxtFFCio7IHJy3YUUUUxBRRRQAUUUUAFaOh+INV8NakL/Qr2SzuQpXfHg5B7EHgj2IrOoo33Gm1qje8SeOPEfi4RL4h1SW8SE7kj2qiKemdqgDPvisGiikkkrIG23dhRRRTEFFFFABRRRQBr+G/FOs+EdSkv/D159kuZIjCz+UkmUJBIw4I6qPyrpH+NXxAkjZH1/KsMEfYrfkf9+64SipcIt3aKU5JWTCiiiqJCiiigAooooAKKKKACiiigAro/DXj/AMTeELSa28O6l9jhnfzJF8iOTc2MZy6k9K5yik0mrMabTujsNX+K/jTXdJuNM1XWfPs7ldssf2WFdwznqqAjp2NcfRRQoqOyByct2FFFFMQUUUUAFd98Kbnwzo3iS28QeIvEX9nTWMzeXZ/YZJfPUoVzvTIXlumD0rgaKmS5lYqMuV3LGoypPql1NEdySTOynGMgsSKr0UVRIUUUUAFFFFABRRRQAUUUUAFFFFABRRRQAUUUUAFFFFABRRRQAUUUUAFFFFABRRRQAUUUUAFFFFABRRRQAUUUUAFFFFABVuWS0OiW0caYvFuJmlbHWMrHsGfYiT86qVdluVbQbW2EBV47maQzY4cMsQC59thP/AqAKVFFFABRRRQAUUUUAFFFFABRRRQAUUUUAFFFFABRRRQAUUUUAFFFFABRRRQAUUUUAFFFFABRRRQAUUUUAFFFFABRRRQAUUUUAFFFFABRRRQAUUUUAFFFFABRRRQAUUUUAFFFFABRRRQAUUUUAFFFFABRRRQAUUUUAFFFFABRRRQAUUUUAFFFFABRRRQAUUUUAFFFFABRRRQAUUUUAFFFFABRRRQAUUUUAFFFFABRRRQAUUUUAFFFFABRRRQAUUUUAFFFFABRRRQAUUUUAFFFFABRRRQAUUUUAFFFFABRRRQAUUUUAFFFFABRRRQAUUUUAFSW8DXN1FBGQGlcIpboCTio6t6T/wAhqy/6+I//AEIUAa/jXwVqPgTWodM1ea1mmlt1uFa1dmUKWZcHcqnOUPb0qDwl4VvvGXiCPR9Llt4riRGcNcMyphRk8qCf0r2X41fDvxT4t8aWl/4e0v7XbR6ekLP9oijw4kkJGHYHow/OqPwl+Gfi7wx8QbbUtc0n7LaJDKrSfaYnwSuBwrk/pWPtFyXvqZ83u3PFtSsZdL1W7sLhkaW1meFyhJUsrFTjOOMiq1ekaX4C/wCE9+I3iy2/tL7B9juLifd5Hm7/AN8RjG5cfWuL8MaL/wAJH4o0/R/tH2b7bOsXnbN+zPfGRn860UkXcd4W8OXfi3xJa6JpskEVzdb9j3DEINqM5yQCeintWhpHgPU9a8dXPhS1ntEv7aWaJ5JHYRExEhsEKTjjjj8q7HwJ4d/4RL9o+y0P7V9r+yNKvneXs35tXb7uTjrjrV7wD/yc5rH/AF+6h/6G9RKb1t2Jcux5HqVjLpeq3dhcMjS2szwuUJKllYqcZxxkVWr0mz+Hd3408ceJ7qe8TStIs765a41CZNyKfMY7QMgE9zyMD8M8DqsFla6pPBpd699axttjuXh8oyD125OB6c/l0q1JPQpO5UoqW2tpr27itrSJpp5nCRxoMlmJwAK9NHwbstOWC38V+NtL0bVJlDrZMokKg9NzF1x+WOuCaHJLcG0jy2iuu1r4ba5ovja18NTCKSe+dRaXAYiKZScBs9sdx1Hvxnq4PgtpUtz/AGc3xB0j+2M7PsUahvn/ALud4Of+A59qTnFC5keTUV3XhvwSln8TjoXizU4dHlsHSUM6eYty4dNsa8j7wbIPt0rvPjh4a0S81y81i68U29pqMNknl6U0GXlxnGG3Drn0PSlzq9g5lex4TRRXo/g/4P3XjLwcut2WrQ27/ajC8E0WFRFxucvu7A9Nv41bkoq7G2luecV0Pg7wTqvji/ubTRTbrJbQGdzPIVBGQABgHkk/T1IrtpPghFf6bczeEPGGna/d2ozJawqqnPoGDt15xkAH1rC+GXhDUPE2sapb2Wt3OhT2loxleFG3SLkBozhlIHqDnp0qHNNNpi5lbQ4Wiuv8IeEvD/iDTZrjW/GNroM0c2xIJoPMLrgHdnevckfhXaWnwM0jUNFuNV07x5BcWVuGLzrYYjG0ZPzGXFNzitwckjxyiu58M+CPDOtaDDfat48s9HupCwezltt7JhiAc+YOoGeneug1b4K6fp/gm78TWnjKK8tIYGliP2HYs5HAUMZO54HB5oc4p2DmR5NRXfeGfhhDq3hy113X/FGm6BYXjOtsbghpJCrFW+Uso6qe5qHxt8MrjwppNvrOn6rba3o9wwRby2GArHOMgEjHHXPXinzxvYfMr2OHoooqhhV6aa4bw7ZwPBttkup3jm/vuyRBl/AKh/4FVGr032v/AIR2z8zb9j+1T+Vj73mbIt+fbHl4/GgCjRRWl4ctIb/xVpVndp5kFxewxSpkjcrOARkcjg9qHoNaszaK7b4mr4b0/wARXOieHPDv9lvp9y8ctz9ukm+0AdPlf7v4E1xNKLurjkuV2CiiimSFFb3ha08MXE9w/i/UryzgiQGKKyhDyTnPIBPC49/Wtr4q+HdG8N65pMPh2CaG1u9JhuyJpC7szu/J7A4C8Djip5lzcpfK+XmOHoooqiAooooAKKKKACiiigAooooAKKK7PwLpPgzUXt08U32pG+uL1LaCwsowAysVAdpG4AyxBA5wvvSk7K5UVzOxxlFdJ8QtIstB+IGraXpcRhtLaUJEhYtgbQep5PJrm6E7q4mrOwUUUUxBRRRQAUUUUAFFFFABRRRQAUV6V/Y/hHwN4b0ifxdo8+u6vq8AuxaLdtbpbQE/KSV5LHn8QRxjnL8f+GNJ0/T9H8ReFDMNF1mJikMzbmt5UOGQnv8A/WPNQppuxo6bSucTRRRVmYUUUUAFFFFABRRRQAUUUUAFFWLCym1LUraxtFDT3UyQxAnGWYgD9TXpupW/w08Ia6vhnVtEvNWmt9sd/qy3jx+XIQCSkSnDAZ6HnjvUylbQuMbq55VRXR+PfCh8G+L7nSkmNxbgLLbTHGZImGVJx36g/Sucpppq6JaadmFFFFMQUUUUAFFFFABRRRQAUUV0fgTwofGXiyDS3mNvbBWmupxjMcSjLEZ79B+NJtJXY0m3ZHOUV6vo9t8NPGOuN4Z0vRL3Sp5wyWOqtePIZJACRvjPCg47fpXl99ZzadqNzZXQAmtpWhkAOcMpIP6ipjK7sVKNlcgoooqyAooooAKKKKACiiigAooooAKKK6Twta+EHt7m58YahqEbRMBDZ2EILzDByd7fKOwpN2Q0ruxzdFdp8V/Dmm+FfHs+laLC0NrHBEwVnLkkrknJri6IvmV0OUXF2YUUUUyQooooAKKKKACiiu38D+GdIuND1XxV4tE76PpZWJbaBtr3UzdEz1AGQT9evBpSkoq5UYuTsjiKK9Kn0Xwn4z8FatqvhHSZtC1PRUE89m921xHND3YM3OQAT29Oc5HmtKMrhKPKFFFFUSFFFFABRRRQAUV13w+8K2fiK/v73XJpIdF0e2N3etF99wOiL7tg/lXS6ZpPgj4hW2paZ4Y0O50HWba3e4s2e9edLoJ1Vg33Sc9B9c8YqHNJmkabaPLKKKKszCiiigAooooAKKKKACiiigAooruvCHhzQ4PCN94w8YxT3OnwXC2dpYwyeW11MRk5bqFA549D6YMykoq5UYuTscLRXo2qaH4X8UeAb7xH4O02fR7zSJEF9pz3LTqY34Dqzc9c+nQ8dK85ojLmCUeUKKKKokKKKKACiiu++FNt4Z1nxJbeH/EXh3+0Zr6ZvLvPt0kXkKELY2JgNyvXI61MpcquVGPM7HA0VY1GJINUuoYhtSOZ1UZzgBiBVeqJCiiigAooooAKKKKACrek/wDIasv+viP/ANCFVKkt52trqKeMAtE4dQ3QkHNAHsvx/wBd1fS/H1lDpuq3tnE2mRuY7e4eNS3myjOARzgDn2rO+CfiHWtR+J1rb6hq9/dQmCYmOe5d1JCHHBOK4nxr411Hx3rUOp6vDawzRW626raoyqVDM2TuZjnLnv6VB4S8VX3g3xBHrGlxW8txGjIFuFZkwwweFIP61lye5bqRy+7Y9c+ExD/FzxxApHmyC52Lnk/v8f1H51wXwm0PULz4raZHHbSKdPuPNutykeSEzkN6HIx9awtO8Y6vpPjCXxJpsqW99NNJK4VcxtvJLKQTyvPTPpznmus1D47+L7+W2ZV0+0WGdJnS2gZRcFSCFclidpxyARScZK9uoWfQ6m1/5O9b/ro//pEapeAf+TnNY/6/dQ/9DeuFj+IerR/Ec+NVt7P+0ixbyij+TzF5fTdu+6f73X8qi0jx5qei+OrnxXawWj39zLNK8ciMYgZSS2AGBxzxz+dHI7fIXK/wPZb7UdO+J+n+KfBGmwf2XeabcvNZIr7FuWRjuLgHnL5Jz/eU9RXzxPBLa3MlvcRtFNE5SRGGCrA4II9c1r2HizUtM8ZnxNZGOO+Ny9wVAPlkuSWXGc7TkjGc470zxT4kn8WeIJtYvbS0tbmcDzVtFZUcgY3YZm5xj8vrVRi4u3QqKsbnwgntrf4s6FJesqxea6gt03tG6p/48Vr0f4j+M4vDPjC7h1n4daLeiRg0OoXMCsblccHcUOSAMEZ4xXgqsyMGQlWU5BBwQa9L0z4+eMdO0+O0lGn6h5YAWa7hZpOOmSrKCfcjNKcW5XFKOtzo5rnVvij4s8KWOtaNJ4Yt1+0PbzwyMkkkaqu5UBAx91QDjGCcdMU+01bwzpfxEh8KeF/h5BPc296IGvL5jJIpDYMoDAkAfeByOOwrzXWfiP4n1zxFaa3d6iY7yyYtamFAqwZ6gDuDjnOc963dV+OHi3VdOktQLCyklUJJd2kBWZ19CxYjH0AqeSQuVm58XP8Akvelf9un/oys39oEEfE/kdbGLHvy1YXi34n674yt7KPU4rKGSzkEiT2sTJIzAcEksfXPGOa0dZ+NfibXvDs+kahb6YyXEXkyXC27CUqevO7Az7CnGMlYaTVjzyvbfDcOo3H7L2qw6PHNLcSXbBkgUlmj3pvGBzjbnPtmvEq9w8Ka7qHhv9m261XR5/Iu7fUwUfaCMGSMEEHqCCRVVNl6hI574CafqcvxJivbVJFsreGVbyTb8pBUgIT67tpx/s11vwwuLW7+LXju40/H2aRZ2jKnIYGXqPY9fxriNd+OHi/XNJk08tZ2EcqlZZLKJkdweoyWOM+2K57wb441LwPd3dxpMFrM93B5EguUZgFznI2sOalxlK7YnFu5e+HHw9u/Het7W3W+lWxDXl102j+6p6bj+g5Pvu/FD4g2d7axeEPBoWDw9YgRs0XS5Zf5qDzn+I8+lZfhH4ua54M8Pto2m2OmT2zSNIxuoXZiWABBw4GOPStT/he+uf8AQveG/wDwCf8A+OU2pOV7Dad7lT4X/DpfEs0uueImFp4c0/LzyyNtExXkqD/dH8R/Ac9IPif8RW8Y6glhpS/ZtAsTttYFXaHxwHI7ccAdh9TVvSfjh4h0fQodIg0zRprWLOFmt5Gzli3OJAOp9KLz43a1e2M9rJoPh1EnjaNmSzcMAwxkHzOvNK0ua7Qa3uzfbSPC/gH4ceH9d17RpvEt9qcAeBZpmWC3Dr5mzHIH3j2JJ3HitrxPeDUf2a7q9TQrbQop543itLdNq7POUB+g5OM5x0xXnHhr4v8AiXwzoa6REtlqFlH/AKqO/hMnlDOcAhhwD0BzirNn8bfFtquorcGyv0v5fNZLuEsITgDCAMMABRwc9M9SSU4SuLlZ55RRRW5oFXpobhfDtnO8262e6nSOH+46pEWb8QyD/gNUauy2yroNrcics8lzNGYc8IFWIhse+8j/AIDQBSrY8If8jxoX/YRt/wD0YtY9bHhD/keNC/7CNv8A+jFpS2Y47o0vid/yVDxD/wBfr1ytdr8V9J1Gz+Ies3l5p91b2t1euYJ5YWVJf91iMN+FcVUw+FFT+JhRRRVkBXpHxq/5DXhr/sXLX/0KSuS8Nf8ACK+dP/wmP9seVtHkf2V5W7dnnd5nbp0ruPGPir4b+LBbzyxeKYrux09bK2CrbiMhNxQvyT1bnGOOgrKTfMtDWKXI9TyyiiitTIKKKKACiiigAooooAKKKKACtjwh/wAjxoX/AGEbf/0YtY9df4KvvBWlyQX/AInXX21K1vFmgGnCEwlV2su7fhs7g2cdsVMtio7jvi1/yVjX/wDr4H/oC1x1d94/13wL4mutQ1jSE8Qx6zdyK4W6EAtx0B4UlvujjnrXA0ofCh1PidgoooqyAooooAKKKKACiiigAooooA9G+NoP/CYaaw/1baPbGIjoV+bp+Oadrh2/s7+GVk+++qXDR5P8I3g/rUdv4z8KeIPC+maZ4+07VHutJj8i1vdLdN0kXZHDnHGMZ5/DmsPxt4uh8SzWFnpVkdP0bSoTBY2rNuYAnLOx7sxAz9PqThFPSNtjeUlrK+5y9FFFbmAUUUUAFFFFABRRRQAUUUUAdR8NGRfif4eMpUL9vjA3Hvnj9cVT8bpLH4/8QLOCJP7SuC2e/wC8bmsi0uprG9gu7VzHPBIskbj+FlOQfzFel33jT4e+INVi8Q+IvD+qnWcK1zbW0sf2S5dQBlsncAcDgD65rOV1K9jWNnHluVvjXkeJ9FRwRMmhWqzZOTvy+f6V5xWv4p8R3fizxLd6zqAVZblgRGn3Y1Awqj2AA/nWRTgmopMmbUpNoKKKKsgKKKKACiiigAooooAK9C+ECyPfeKo7b/j5fw1eLBzzvymMe9ee1ueDvFNz4O8UW2sWkazeXlJYGOFmjYYZT/nqBUTTcWkXBpSTZP8ADtJn+JXh0W2d/wDaUBODj5Q4Lf8Ajuab8QHhk+JHiJrZcRnUp++cnzDk/icn8a6y38Z+AvDeoT674P0PVBrTK32aO/eM21mzDBZApLNgE8H9K81mmkuJ3mmcvJIxZ2PViTkmlG7lzWHKyjy3GUUUVoZhRRRQAUUUUAFFFFABRRRQAUUV0Phr/hDPJn/4TH+3fN3DyP7K8nbtxzu8zv06Um7IaV3Y6f49f8lYu/8Ar3h/9ArzevTfiD4q8AeM7281iGLxJFq8kKpCrLAtvuUYG4ZLY9cGvMqinfkSZdW3O2gooorQzCiiigAooooAK9CgWR/2cLnyOieJQ0+D/B9nAH4biK89rsfBHjKx0Ox1LRPElhJqOg6oqmeGJsSROv3XTPGfy6D0wYmnbQuDV7M1PhGdkfjKW4Vmsl8N3QmUNjcTtwPqQGxXnVd5qnjDw7pfhO80DwDY6hCmpMv2++1NkM0iKciNQnygZJ59PrXB0RvdscrWSQUUUVZmFFFFABRRRQB6F4IWR/hJ8Q1tv9d5VixwedglYv8A+O5pPgcJf+FuaY8ZIjSOdpjnACeS459txWsXwJ4wHhLVbg3lp9v0vUIGtb60Jx5kZ7j/AGh2+pHGc1vHxl4R8M6ZqI+H+m6qupajE1u13qjxn7NE33ljCH6cnn3NYyT95W3N4te677Hn1w0TXMrW6FIi5KKTyq54H5VHRRWxgFFFFABRRRQAUUUUAFFFFABXo2rgn9nbQCn3F1iYSY7NtbGfwrzmu18HeMtL0/w9f+GfFthcX2iXsgnBtXCzW8owN6ZIB4A6+nuRUTT0a6GkGtU+pp/DQ7PAnxBeT/Vf2WinnA3EuF/WvN67jX/F+hQeEX8MeB7G9trC6mWa+utQZWnuCv3VwvyhQQDx3/HPD0RTu2+oTaskugUUUVZmFFFFABXbfBz/AJK5oX/XST/0U9cTXoPwW0rULj4maTqFvYXMtlbyuJrlIWaOImJsBmAwOo6+tRU+BmlP40cTq3/Iavv+viT/ANCNVKt6t/yGr7/r4k/9CNVKpbEPcKKKKYgooooAKKKKACiiigAooooAKKKKACiiigAooooAKKKKACiiigAooooAK2I/FetReFJPDSXmNIlk817byk5bIOd2N3UDvWPRRa4BRRRQAUUUUAFFFFABRRRQAUUUUAFW5Y7QaJbSRvm8a4mWVM9Iwsew49yZPyqpVuWS0OiW0caYvFuJmlbHWMrHsGfYiT86AKlPhmlt545reR4pY2DpIjFWVgcggjoQe9MooA0NT8QazrSRprGr3+oLGSUW6uXlCE9SNxOKz6KKNgu2FFFFABRRRQAUUUUAFFFFABRRRQAUUUUAFFFFABRRRQAUUUUAFFFFABRRRQAUUUUAFFFFABRRRQAUUUUAFFFFABRRRQAUUUUAFFFFABRRRQAUUUUAFFFFABRRRQAUUUUAFFFFABRRRQAUUUUAFFFFABRRRQAUUUUAFFFFABRRRQAUUUUAFFFFABRRRQAUUUUAFFFFABRRRQAUUUUAFFFFABRRRQAUUUUAFFFFABRRRQAUUUUAFFFFABRRRQAUUUUAFFFFABRRRQAUUUUAFFFFABRRRQAVo6b4i1vRoXi0fWL+wjkbc6Wt08QY+pCkZNZ1FG47tbCu7SOzyMWZjlmY5JPrSUUUCCiiigAooooAKKKKACiiigAooooAKKKKACiiigAooooAKKKKACiiigAooooAKKKKACiiigAooooAKKKKACiiigAooooAKuy3KtoNrbCAq8dzNIZscOGWIBc+2wn/AIFVKr001w3h2zgeDbbJdTvHN/fdkiDL+AVD/wACoAo0UUUAFFFFABRRRQAUUUUAFFFFABRRRQAUUUUAFFFFABRRRQAUUUUAFFFFABRRRQAUUUUAFFFFABRRRQAUUUUAFFFFABRRRQAUUUUAFFFFABRRRQAUUUUAFFFFABRRRQAUUUUAFFFFABRRRQAUUUUAFFFFABRRRQAUUUUAFFFFABRRRQAUUUUAFFFFABRRRQAUUUUAFFFFABRRRQAUUUUAFFFFABRRRQAUUUUAFFFFABRRRQAUUUUAFFFFABRRRQAUUUUAFFFFABRRRQAUUUUAFFFFABRRRQAUUUUAFFFFABRRRQAUUUUAFFFFABRRRQAUUUUAFFFFABRRRQAUUUUAFFFFABRRRQAUUUUAFFFFABRRRQAUUUUAFFFFABRRRQAUUUUAFFFFABV6b7X/AMI7Z+Zt+x/ap/Kx97zNkW/Ptjy8fjVGr00Nwvh2znebdbPdTpHD/cdUiLN+IZB/wGgCjRRRQAUUUUAFFFFABRRRQAUUUUAFFFFABRRRQAUUUUAFFFFABRRRQAUUUUAFFFFABRRRQAUUUUAFFFFABRRRQAUUUUAFFFFABRRRQAUUUUAFFFFABRRRQAUUUUAFFFFABRRRQAUUUUAFFFFABRRRQAUUUUAFFFFABRRRQAUUUUAFFFFABRRRQAUUUUAFFFFABRRRQAUUUUAFFFFABRRRQAUUUUAFFFFABRRRQAUUUUAFFFFABRRRQAUUUUAFFFFABRRRQAUUUUAFFFFABRRRQAUUUUAFFFFABRRRQAUUUUAFFFFABRRRQAUUUUAFFFFABRRRQAUUUUAFFFFABRRRQAUUUUAFFFFABRRRQAUUUUAFFFFABRRRQAUUUUAFFFFABRRRQAUUUUAFWHEP9mQFZ3afzpN8BB2ou1NrA+pO4H/dFV6KACiiigAooooAKKKKACiiigAooooAKKKKACiiigAooooAKKKKACiiigAooooAKKKKACiiigAooooAKKKKACiiigAooooAKKKKACiiigAooooAKKKKACiiigAooooAKKKKACiiigAooooAKKKKACiiigAooooAKKKKACiiigAooooAKKKKACiiigAooooAKKKKACiiigAooooAKKKKACiiigAooooAKKKKACiiigAooooAKKKKACiiigAooooAKKKKACiiigAooooAKKKKACiiigAooooAKKKKACiiigAooooAKKKKACiiigAooooAKKKKACiiigAooooAKKKKACiiigAooooAKKKKACiiigAooooAKKKKACiiigAooooAKKKKACiiigAooooAKKKKACiiigAooooAKKKKACiiigAooooAKKKKACiiigAooooAKKKKACiiigAooooAKKKKACiiigAooooAKKKKACiiigAooooAKKKKACiiigAooooAKKKKACiiigAooooAKKKKACiiigAooooAKKKKACiiigAooooAKKKKACiiigAooooAKKKKACiiigAooooAKKKKACiiigAooooAKKKKACiiigAooooAKKKKACiiigAooooAKKKKACiiigAooooAKKKKACiiigAooooAKKKKACiiigAooooAKKKKACiiigAooooAKKKKACiiigAooooAKKKKACiiigAooooAKKKKACiiigAooooAKKKKACiiigAooooAKKKKACiiigAooooAKKKKACiiigAooooAKKKKACiiigAooooAKKKKACiiigAooooAKKKKACiiigAooooAKKKKACiiigAooooAKKKKACiiigAooooAKKKKACiiigAooooAKKKKACiiigAooooAKKKKACiiigAooooAKKKKACiiigAooooAKKKKACiiigAooooAKKKKACiiigAooooAKKKKACiiigAooooAKKKKACiiigAooooAKKKKACiiigAooooAKKKKACiiigAooooAKKKKACiiigAooooAKKKKACiiigAooooAKKKKACiiigAooooAKKKKACiiigAooooAKKKKACiiigAooooA/9k=)"
      ],
      "metadata": {
        "id": "m_QS8DnZFHfB"
      }
    },
    {
      "cell_type": "markdown",
      "source": [
        "## **News Category Classification Problem**\n",
        "\n",
        "Okay now that we know basics of BAG of n grams vectorizer 😎 It is the time to work on a real problem. Here we want to do a news category classification. We will use bag of n-grams and traing a machine learning model that can categorize any news into one of the following categories,\n",
        "\n",
        "1.   BUSINESS\n",
        "2.   SPORTS\n",
        "3.   CRIME\n",
        "4.   SCIENCE"
      ],
      "metadata": {
        "id": "Job-rZLxFYsp"
      }
    },
    {
      "cell_type": "markdown",
      "source": [
        "### **Dataset**\n",
        "\n",
        "Dataset Credits: https://www.kaggle.com/code/hengzheng/news-category-classifier-val-acc-0-65\n",
        "\n",
        "\n",
        "*   This data consists of two columns. - Text - Category\n",
        "*   Text is a news article\n",
        "*   Category can be one of these 4: 'BUSINESS', 'SPORTS', 'CRIME', 'SCIENCE', to keep things simple I trimmed additional categories from the original dataset\n"
      ],
      "metadata": {
        "id": "jCwz8WbWGLdR"
      }
    },
    {
      "cell_type": "code",
      "source": [
        "import pandas as pd"
      ],
      "metadata": {
        "id": "3SXCPtFUCbnY"
      },
      "execution_count": 21,
      "outputs": []
    },
    {
      "cell_type": "code",
      "source": [
        "df = pd.read_json(\"/news_dataset.json\")\n",
        "\n",
        "print(df.shape)\n",
        "\n",
        "df.head()"
      ],
      "metadata": {
        "colab": {
          "base_uri": "https://localhost:8080/",
          "height": 224
        },
        "id": "0j8YUlaHFDUh",
        "outputId": "ac734b3c-dc92-4402-e7aa-8371e2c74402"
      },
      "execution_count": 22,
      "outputs": [
        {
          "output_type": "stream",
          "name": "stdout",
          "text": [
            "(12695, 2)\n"
          ]
        },
        {
          "output_type": "execute_result",
          "data": {
            "text/plain": [
              "                                                text  category\n",
              "0  Watching Schrödinger's Cat Die University of C...   SCIENCE\n",
              "1     WATCH: Freaky Vortex Opens Up In Flooded Lake    SCIENCE\n",
              "2  Entrepreneurs Today Don't Need a Big Budget to...  BUSINESS\n",
              "3  These Roads Could Recharge Your Electric Car A...  BUSINESS\n",
              "4  Civilian 'Guard' Fires Gun While 'Protecting' ...     CRIME"
            ],
            "text/html": [
              "\n",
              "  <div id=\"df-c979dd1a-bd76-467c-8b5f-3cf97080814d\" class=\"colab-df-container\">\n",
              "    <div>\n",
              "<style scoped>\n",
              "    .dataframe tbody tr th:only-of-type {\n",
              "        vertical-align: middle;\n",
              "    }\n",
              "\n",
              "    .dataframe tbody tr th {\n",
              "        vertical-align: top;\n",
              "    }\n",
              "\n",
              "    .dataframe thead th {\n",
              "        text-align: right;\n",
              "    }\n",
              "</style>\n",
              "<table border=\"1\" class=\"dataframe\">\n",
              "  <thead>\n",
              "    <tr style=\"text-align: right;\">\n",
              "      <th></th>\n",
              "      <th>text</th>\n",
              "      <th>category</th>\n",
              "    </tr>\n",
              "  </thead>\n",
              "  <tbody>\n",
              "    <tr>\n",
              "      <th>0</th>\n",
              "      <td>Watching Schrödinger's Cat Die University of C...</td>\n",
              "      <td>SCIENCE</td>\n",
              "    </tr>\n",
              "    <tr>\n",
              "      <th>1</th>\n",
              "      <td>WATCH: Freaky Vortex Opens Up In Flooded Lake</td>\n",
              "      <td>SCIENCE</td>\n",
              "    </tr>\n",
              "    <tr>\n",
              "      <th>2</th>\n",
              "      <td>Entrepreneurs Today Don't Need a Big Budget to...</td>\n",
              "      <td>BUSINESS</td>\n",
              "    </tr>\n",
              "    <tr>\n",
              "      <th>3</th>\n",
              "      <td>These Roads Could Recharge Your Electric Car A...</td>\n",
              "      <td>BUSINESS</td>\n",
              "    </tr>\n",
              "    <tr>\n",
              "      <th>4</th>\n",
              "      <td>Civilian 'Guard' Fires Gun While 'Protecting' ...</td>\n",
              "      <td>CRIME</td>\n",
              "    </tr>\n",
              "  </tbody>\n",
              "</table>\n",
              "</div>\n",
              "    <div class=\"colab-df-buttons\">\n",
              "\n",
              "  <div class=\"colab-df-container\">\n",
              "    <button class=\"colab-df-convert\" onclick=\"convertToInteractive('df-c979dd1a-bd76-467c-8b5f-3cf97080814d')\"\n",
              "            title=\"Convert this dataframe to an interactive table.\"\n",
              "            style=\"display:none;\">\n",
              "\n",
              "  <svg xmlns=\"http://www.w3.org/2000/svg\" height=\"24px\" viewBox=\"0 -960 960 960\">\n",
              "    <path d=\"M120-120v-720h720v720H120Zm60-500h600v-160H180v160Zm220 220h160v-160H400v160Zm0 220h160v-160H400v160ZM180-400h160v-160H180v160Zm440 0h160v-160H620v160ZM180-180h160v-160H180v160Zm440 0h160v-160H620v160Z\"/>\n",
              "  </svg>\n",
              "    </button>\n",
              "\n",
              "  <style>\n",
              "    .colab-df-container {\n",
              "      display:flex;\n",
              "      gap: 12px;\n",
              "    }\n",
              "\n",
              "    .colab-df-convert {\n",
              "      background-color: #E8F0FE;\n",
              "      border: none;\n",
              "      border-radius: 50%;\n",
              "      cursor: pointer;\n",
              "      display: none;\n",
              "      fill: #1967D2;\n",
              "      height: 32px;\n",
              "      padding: 0 0 0 0;\n",
              "      width: 32px;\n",
              "    }\n",
              "\n",
              "    .colab-df-convert:hover {\n",
              "      background-color: #E2EBFA;\n",
              "      box-shadow: 0px 1px 2px rgba(60, 64, 67, 0.3), 0px 1px 3px 1px rgba(60, 64, 67, 0.15);\n",
              "      fill: #174EA6;\n",
              "    }\n",
              "\n",
              "    .colab-df-buttons div {\n",
              "      margin-bottom: 4px;\n",
              "    }\n",
              "\n",
              "    [theme=dark] .colab-df-convert {\n",
              "      background-color: #3B4455;\n",
              "      fill: #D2E3FC;\n",
              "    }\n",
              "\n",
              "    [theme=dark] .colab-df-convert:hover {\n",
              "      background-color: #434B5C;\n",
              "      box-shadow: 0px 1px 3px 1px rgba(0, 0, 0, 0.15);\n",
              "      filter: drop-shadow(0px 1px 2px rgba(0, 0, 0, 0.3));\n",
              "      fill: #FFFFFF;\n",
              "    }\n",
              "  </style>\n",
              "\n",
              "    <script>\n",
              "      const buttonEl =\n",
              "        document.querySelector('#df-c979dd1a-bd76-467c-8b5f-3cf97080814d button.colab-df-convert');\n",
              "      buttonEl.style.display =\n",
              "        google.colab.kernel.accessAllowed ? 'block' : 'none';\n",
              "\n",
              "      async function convertToInteractive(key) {\n",
              "        const element = document.querySelector('#df-c979dd1a-bd76-467c-8b5f-3cf97080814d');\n",
              "        const dataTable =\n",
              "          await google.colab.kernel.invokeFunction('convertToInteractive',\n",
              "                                                    [key], {});\n",
              "        if (!dataTable) return;\n",
              "\n",
              "        const docLinkHtml = 'Like what you see? Visit the ' +\n",
              "          '<a target=\"_blank\" href=https://colab.research.google.com/notebooks/data_table.ipynb>data table notebook</a>'\n",
              "          + ' to learn more about interactive tables.';\n",
              "        element.innerHTML = '';\n",
              "        dataTable['output_type'] = 'display_data';\n",
              "        await google.colab.output.renderOutput(dataTable, element);\n",
              "        const docLink = document.createElement('div');\n",
              "        docLink.innerHTML = docLinkHtml;\n",
              "        element.appendChild(docLink);\n",
              "      }\n",
              "    </script>\n",
              "  </div>\n",
              "\n",
              "\n",
              "<div id=\"df-da372c39-019b-4d2a-aa0f-09319dc766cb\">\n",
              "  <button class=\"colab-df-quickchart\" onclick=\"quickchart('df-da372c39-019b-4d2a-aa0f-09319dc766cb')\"\n",
              "            title=\"Suggest charts\"\n",
              "            style=\"display:none;\">\n",
              "\n",
              "<svg xmlns=\"http://www.w3.org/2000/svg\" height=\"24px\"viewBox=\"0 0 24 24\"\n",
              "     width=\"24px\">\n",
              "    <g>\n",
              "        <path d=\"M19 3H5c-1.1 0-2 .9-2 2v14c0 1.1.9 2 2 2h14c1.1 0 2-.9 2-2V5c0-1.1-.9-2-2-2zM9 17H7v-7h2v7zm4 0h-2V7h2v10zm4 0h-2v-4h2v4z\"/>\n",
              "    </g>\n",
              "</svg>\n",
              "  </button>\n",
              "\n",
              "<style>\n",
              "  .colab-df-quickchart {\n",
              "      --bg-color: #E8F0FE;\n",
              "      --fill-color: #1967D2;\n",
              "      --hover-bg-color: #E2EBFA;\n",
              "      --hover-fill-color: #174EA6;\n",
              "      --disabled-fill-color: #AAA;\n",
              "      --disabled-bg-color: #DDD;\n",
              "  }\n",
              "\n",
              "  [theme=dark] .colab-df-quickchart {\n",
              "      --bg-color: #3B4455;\n",
              "      --fill-color: #D2E3FC;\n",
              "      --hover-bg-color: #434B5C;\n",
              "      --hover-fill-color: #FFFFFF;\n",
              "      --disabled-bg-color: #3B4455;\n",
              "      --disabled-fill-color: #666;\n",
              "  }\n",
              "\n",
              "  .colab-df-quickchart {\n",
              "    background-color: var(--bg-color);\n",
              "    border: none;\n",
              "    border-radius: 50%;\n",
              "    cursor: pointer;\n",
              "    display: none;\n",
              "    fill: var(--fill-color);\n",
              "    height: 32px;\n",
              "    padding: 0;\n",
              "    width: 32px;\n",
              "  }\n",
              "\n",
              "  .colab-df-quickchart:hover {\n",
              "    background-color: var(--hover-bg-color);\n",
              "    box-shadow: 0 1px 2px rgba(60, 64, 67, 0.3), 0 1px 3px 1px rgba(60, 64, 67, 0.15);\n",
              "    fill: var(--button-hover-fill-color);\n",
              "  }\n",
              "\n",
              "  .colab-df-quickchart-complete:disabled,\n",
              "  .colab-df-quickchart-complete:disabled:hover {\n",
              "    background-color: var(--disabled-bg-color);\n",
              "    fill: var(--disabled-fill-color);\n",
              "    box-shadow: none;\n",
              "  }\n",
              "\n",
              "  .colab-df-spinner {\n",
              "    border: 2px solid var(--fill-color);\n",
              "    border-color: transparent;\n",
              "    border-bottom-color: var(--fill-color);\n",
              "    animation:\n",
              "      spin 1s steps(1) infinite;\n",
              "  }\n",
              "\n",
              "  @keyframes spin {\n",
              "    0% {\n",
              "      border-color: transparent;\n",
              "      border-bottom-color: var(--fill-color);\n",
              "      border-left-color: var(--fill-color);\n",
              "    }\n",
              "    20% {\n",
              "      border-color: transparent;\n",
              "      border-left-color: var(--fill-color);\n",
              "      border-top-color: var(--fill-color);\n",
              "    }\n",
              "    30% {\n",
              "      border-color: transparent;\n",
              "      border-left-color: var(--fill-color);\n",
              "      border-top-color: var(--fill-color);\n",
              "      border-right-color: var(--fill-color);\n",
              "    }\n",
              "    40% {\n",
              "      border-color: transparent;\n",
              "      border-right-color: var(--fill-color);\n",
              "      border-top-color: var(--fill-color);\n",
              "    }\n",
              "    60% {\n",
              "      border-color: transparent;\n",
              "      border-right-color: var(--fill-color);\n",
              "    }\n",
              "    80% {\n",
              "      border-color: transparent;\n",
              "      border-right-color: var(--fill-color);\n",
              "      border-bottom-color: var(--fill-color);\n",
              "    }\n",
              "    90% {\n",
              "      border-color: transparent;\n",
              "      border-bottom-color: var(--fill-color);\n",
              "    }\n",
              "  }\n",
              "</style>\n",
              "\n",
              "  <script>\n",
              "    async function quickchart(key) {\n",
              "      const quickchartButtonEl =\n",
              "        document.querySelector('#' + key + ' button');\n",
              "      quickchartButtonEl.disabled = true;  // To prevent multiple clicks.\n",
              "      quickchartButtonEl.classList.add('colab-df-spinner');\n",
              "      try {\n",
              "        const charts = await google.colab.kernel.invokeFunction(\n",
              "            'suggestCharts', [key], {});\n",
              "      } catch (error) {\n",
              "        console.error('Error during call to suggestCharts:', error);\n",
              "      }\n",
              "      quickchartButtonEl.classList.remove('colab-df-spinner');\n",
              "      quickchartButtonEl.classList.add('colab-df-quickchart-complete');\n",
              "    }\n",
              "    (() => {\n",
              "      let quickchartButtonEl =\n",
              "        document.querySelector('#df-da372c39-019b-4d2a-aa0f-09319dc766cb button');\n",
              "      quickchartButtonEl.style.display =\n",
              "        google.colab.kernel.accessAllowed ? 'block' : 'none';\n",
              "    })();\n",
              "  </script>\n",
              "</div>\n",
              "\n",
              "    </div>\n",
              "  </div>\n"
            ],
            "application/vnd.google.colaboratory.intrinsic+json": {
              "type": "dataframe",
              "variable_name": "df",
              "summary": "{\n  \"name\": \"df\",\n  \"rows\": 12695,\n  \"fields\": [\n    {\n      \"column\": \"text\",\n      \"properties\": {\n        \"dtype\": \"string\",\n        \"num_unique_values\": 12689,\n        \"samples\": [\n          \"Whales Are Mysteriously Dying In Alaska \\\"We do not yet know the cause of these strandings.\\\"\",\n          \"How Police Failed To Stop A Former NFL Star's Rape Spree \",\n          \"Freaky Non-Newtonian Fluid Dances To The Beat \"\n        ],\n        \"semantic_type\": \"\",\n        \"description\": \"\"\n      }\n    },\n    {\n      \"column\": \"category\",\n      \"properties\": {\n        \"dtype\": \"category\",\n        \"num_unique_values\": 4,\n        \"samples\": [\n          \"BUSINESS\",\n          \"SPORTS\",\n          \"SCIENCE\"\n        ],\n        \"semantic_type\": \"\",\n        \"description\": \"\"\n      }\n    }\n  ]\n}"
            }
          },
          "metadata": {},
          "execution_count": 22
        }
      ]
    },
    {
      "cell_type": "code",
      "source": [
        "df.category.value_counts()"
      ],
      "metadata": {
        "colab": {
          "base_uri": "https://localhost:8080/",
          "height": 241
        },
        "id": "9ZOQHNSzFDSY",
        "outputId": "8db9e9ae-625a-4254-ce6b-906f268cdbaa"
      },
      "execution_count": 23,
      "outputs": [
        {
          "output_type": "execute_result",
          "data": {
            "text/plain": [
              "category\n",
              "BUSINESS    4254\n",
              "SPORTS      4167\n",
              "CRIME       2893\n",
              "SCIENCE     1381\n",
              "Name: count, dtype: int64"
            ],
            "text/html": [
              "<div>\n",
              "<style scoped>\n",
              "    .dataframe tbody tr th:only-of-type {\n",
              "        vertical-align: middle;\n",
              "    }\n",
              "\n",
              "    .dataframe tbody tr th {\n",
              "        vertical-align: top;\n",
              "    }\n",
              "\n",
              "    .dataframe thead th {\n",
              "        text-align: right;\n",
              "    }\n",
              "</style>\n",
              "<table border=\"1\" class=\"dataframe\">\n",
              "  <thead>\n",
              "    <tr style=\"text-align: right;\">\n",
              "      <th></th>\n",
              "      <th>count</th>\n",
              "    </tr>\n",
              "    <tr>\n",
              "      <th>category</th>\n",
              "      <th></th>\n",
              "    </tr>\n",
              "  </thead>\n",
              "  <tbody>\n",
              "    <tr>\n",
              "      <th>BUSINESS</th>\n",
              "      <td>4254</td>\n",
              "    </tr>\n",
              "    <tr>\n",
              "      <th>SPORTS</th>\n",
              "      <td>4167</td>\n",
              "    </tr>\n",
              "    <tr>\n",
              "      <th>CRIME</th>\n",
              "      <td>2893</td>\n",
              "    </tr>\n",
              "    <tr>\n",
              "      <th>SCIENCE</th>\n",
              "      <td>1381</td>\n",
              "    </tr>\n",
              "  </tbody>\n",
              "</table>\n",
              "</div><br><label><b>dtype:</b> int64</label>"
            ]
          },
          "metadata": {},
          "execution_count": 23
        }
      ]
    },
    {
      "cell_type": "markdown",
      "source": [
        "**Handle class imbalance**\n",
        "\n",
        "As you can see above, SCIENCE category has almost 1/3rd data samples compared to BUSINESS and SPORTS categories. I initially trained a model without handling the imbalanced I saw a lower f1-score for SCIENCE category. Hence we need to address this imbalanced.\n",
        "\n",
        "There are various ways of handling class imbalance which I have discussed in this video: https://www.youtube.com/watch?v=JnlM4yLFNuo\n",
        "\n",
        "Out of those techniques, I will use **undersampling** technique here.\n",
        "\n",
        "In undersampling, we take a minor class and sample those many samples from other classes, this means we are not utilizing all the data samples for training and in ML world - Not using all the data for training is considered a SIN! 😵 In real life, you are advised to use a technique such as SMOTE so that you can utilize all of your dataset for the training but since this tutorial is more about bag of n-grams then class imbalance itself, I'd go with a simple technique of undersampling."
      ],
      "metadata": {
        "id": "WrAKEf5cHsmy"
      }
    },
    {
      "cell_type": "code",
      "source": [
        "min_samples = 1381 # we have these many SCIENCE articles and SCIENCE is our minority class\n",
        "\n",
        "df_business = df[df.category==\"BUSINESS\"].sample(min_samples, random_state=2022)\n",
        "df_sports = df[df.category==\"SPORTS\"].sample(min_samples, random_state=2022)\n",
        "df_crime = df[df.category==\"CRIME\"].sample(min_samples, random_state=2022)\n",
        "df_science = df[df.category==\"SCIENCE\"].sample(min_samples, random_state=2022)\n",
        "\n",
        "#we add random sample value / seed value cause we get simmillar samplling even we run the cell multiple times."
      ],
      "metadata": {
        "id": "cE5G5dZnFDQY"
      },
      "execution_count": 26,
      "outputs": []
    },
    {
      "cell_type": "code",
      "source": [
        "df_balanced = pd.concat([df_business,df_sports,df_crime,df_science],axis=0) #create a new df using new columns\n",
        "df_balanced.category.value_counts()"
      ],
      "metadata": {
        "colab": {
          "base_uri": "https://localhost:8080/",
          "height": 241
        },
        "id": "U-Ic5gSMFDNo",
        "outputId": "0d30e1c9-5dbb-41b4-e1cd-e99dc1ca4101"
      },
      "execution_count": 28,
      "outputs": [
        {
          "output_type": "execute_result",
          "data": {
            "text/plain": [
              "category\n",
              "BUSINESS    1381\n",
              "SPORTS      1381\n",
              "CRIME       1381\n",
              "SCIENCE     1381\n",
              "Name: count, dtype: int64"
            ],
            "text/html": [
              "<div>\n",
              "<style scoped>\n",
              "    .dataframe tbody tr th:only-of-type {\n",
              "        vertical-align: middle;\n",
              "    }\n",
              "\n",
              "    .dataframe tbody tr th {\n",
              "        vertical-align: top;\n",
              "    }\n",
              "\n",
              "    .dataframe thead th {\n",
              "        text-align: right;\n",
              "    }\n",
              "</style>\n",
              "<table border=\"1\" class=\"dataframe\">\n",
              "  <thead>\n",
              "    <tr style=\"text-align: right;\">\n",
              "      <th></th>\n",
              "      <th>count</th>\n",
              "    </tr>\n",
              "    <tr>\n",
              "      <th>category</th>\n",
              "      <th></th>\n",
              "    </tr>\n",
              "  </thead>\n",
              "  <tbody>\n",
              "    <tr>\n",
              "      <th>BUSINESS</th>\n",
              "      <td>1381</td>\n",
              "    </tr>\n",
              "    <tr>\n",
              "      <th>SPORTS</th>\n",
              "      <td>1381</td>\n",
              "    </tr>\n",
              "    <tr>\n",
              "      <th>CRIME</th>\n",
              "      <td>1381</td>\n",
              "    </tr>\n",
              "    <tr>\n",
              "      <th>SCIENCE</th>\n",
              "      <td>1381</td>\n",
              "    </tr>\n",
              "  </tbody>\n",
              "</table>\n",
              "</div><br><label><b>dtype:</b> int64</label>"
            ]
          },
          "metadata": {},
          "execution_count": 28
        }
      ]
    },
    {
      "cell_type": "markdown",
      "source": [
        "### **Convert text category to a number**"
      ],
      "metadata": {
        "id": "61OqSb8xJSAp"
      }
    },
    {
      "cell_type": "markdown",
      "source": [
        "way 1"
      ],
      "metadata": {
        "id": "ZSEfHzO1Klzb"
      }
    },
    {
      "cell_type": "code",
      "source": [
        "target = {'BUSINESS': 0, 'SPORTS': 1, 'CRIME': 2, 'SCIENCE': 3}\n",
        "\n",
        "df_balanced['category_num'] = df_balanced['category'].map(target)"
      ],
      "metadata": {
        "id": "7CANWXFXKVr7"
      },
      "execution_count": 34,
      "outputs": []
    },
    {
      "cell_type": "markdown",
      "source": [
        "way 2"
      ],
      "metadata": {
        "id": "TF4MdeGAKnZr"
      }
    },
    {
      "cell_type": "code",
      "source": [
        "df_balanced['category_num'] = df_balanced['category'].map({\n",
        "    'BUSINESS': 0,\n",
        "    'SPORTS': 1,\n",
        "    'CRIME': 2,\n",
        "    'SCIENCE': 3\n",
        "})"
      ],
      "metadata": {
        "id": "yQzc47CqFDKx"
      },
      "execution_count": 35,
      "outputs": []
    },
    {
      "cell_type": "code",
      "source": [
        "df_balanced.head()"
      ],
      "metadata": {
        "colab": {
          "base_uri": "https://localhost:8080/",
          "height": 206
        },
        "id": "rFfnRxGRKCRO",
        "outputId": "0b86fd8c-020f-47ef-bb48-f6b55f4c358f"
      },
      "execution_count": 36,
      "outputs": [
        {
          "output_type": "execute_result",
          "data": {
            "text/plain": [
              "                                                    text  category  \\\n",
              "11967  GCC Business Leaders Remain Confident in the F...  BUSINESS   \n",
              "2912   From the Other Side; an Honest Review from Emp...  BUSINESS   \n",
              "3408   Mike McDerment, CEO of FreshBooks, Talks About...  BUSINESS   \n",
              "502    How to Market Your Business While Traveling th...  BUSINESS   \n",
              "5279   How to Leverage Intuition in Decision-making I...  BUSINESS   \n",
              "\n",
              "       category_num  \n",
              "11967             0  \n",
              "2912              0  \n",
              "3408              0  \n",
              "502               0  \n",
              "5279              0  "
            ],
            "text/html": [
              "\n",
              "  <div id=\"df-91022185-9a67-4e57-85c7-db65ffe5717a\" class=\"colab-df-container\">\n",
              "    <div>\n",
              "<style scoped>\n",
              "    .dataframe tbody tr th:only-of-type {\n",
              "        vertical-align: middle;\n",
              "    }\n",
              "\n",
              "    .dataframe tbody tr th {\n",
              "        vertical-align: top;\n",
              "    }\n",
              "\n",
              "    .dataframe thead th {\n",
              "        text-align: right;\n",
              "    }\n",
              "</style>\n",
              "<table border=\"1\" class=\"dataframe\">\n",
              "  <thead>\n",
              "    <tr style=\"text-align: right;\">\n",
              "      <th></th>\n",
              "      <th>text</th>\n",
              "      <th>category</th>\n",
              "      <th>category_num</th>\n",
              "    </tr>\n",
              "  </thead>\n",
              "  <tbody>\n",
              "    <tr>\n",
              "      <th>11967</th>\n",
              "      <td>GCC Business Leaders Remain Confident in the F...</td>\n",
              "      <td>BUSINESS</td>\n",
              "      <td>0</td>\n",
              "    </tr>\n",
              "    <tr>\n",
              "      <th>2912</th>\n",
              "      <td>From the Other Side; an Honest Review from Emp...</td>\n",
              "      <td>BUSINESS</td>\n",
              "      <td>0</td>\n",
              "    </tr>\n",
              "    <tr>\n",
              "      <th>3408</th>\n",
              "      <td>Mike McDerment, CEO of FreshBooks, Talks About...</td>\n",
              "      <td>BUSINESS</td>\n",
              "      <td>0</td>\n",
              "    </tr>\n",
              "    <tr>\n",
              "      <th>502</th>\n",
              "      <td>How to Market Your Business While Traveling th...</td>\n",
              "      <td>BUSINESS</td>\n",
              "      <td>0</td>\n",
              "    </tr>\n",
              "    <tr>\n",
              "      <th>5279</th>\n",
              "      <td>How to Leverage Intuition in Decision-making I...</td>\n",
              "      <td>BUSINESS</td>\n",
              "      <td>0</td>\n",
              "    </tr>\n",
              "  </tbody>\n",
              "</table>\n",
              "</div>\n",
              "    <div class=\"colab-df-buttons\">\n",
              "\n",
              "  <div class=\"colab-df-container\">\n",
              "    <button class=\"colab-df-convert\" onclick=\"convertToInteractive('df-91022185-9a67-4e57-85c7-db65ffe5717a')\"\n",
              "            title=\"Convert this dataframe to an interactive table.\"\n",
              "            style=\"display:none;\">\n",
              "\n",
              "  <svg xmlns=\"http://www.w3.org/2000/svg\" height=\"24px\" viewBox=\"0 -960 960 960\">\n",
              "    <path d=\"M120-120v-720h720v720H120Zm60-500h600v-160H180v160Zm220 220h160v-160H400v160Zm0 220h160v-160H400v160ZM180-400h160v-160H180v160Zm440 0h160v-160H620v160ZM180-180h160v-160H180v160Zm440 0h160v-160H620v160Z\"/>\n",
              "  </svg>\n",
              "    </button>\n",
              "\n",
              "  <style>\n",
              "    .colab-df-container {\n",
              "      display:flex;\n",
              "      gap: 12px;\n",
              "    }\n",
              "\n",
              "    .colab-df-convert {\n",
              "      background-color: #E8F0FE;\n",
              "      border: none;\n",
              "      border-radius: 50%;\n",
              "      cursor: pointer;\n",
              "      display: none;\n",
              "      fill: #1967D2;\n",
              "      height: 32px;\n",
              "      padding: 0 0 0 0;\n",
              "      width: 32px;\n",
              "    }\n",
              "\n",
              "    .colab-df-convert:hover {\n",
              "      background-color: #E2EBFA;\n",
              "      box-shadow: 0px 1px 2px rgba(60, 64, 67, 0.3), 0px 1px 3px 1px rgba(60, 64, 67, 0.15);\n",
              "      fill: #174EA6;\n",
              "    }\n",
              "\n",
              "    .colab-df-buttons div {\n",
              "      margin-bottom: 4px;\n",
              "    }\n",
              "\n",
              "    [theme=dark] .colab-df-convert {\n",
              "      background-color: #3B4455;\n",
              "      fill: #D2E3FC;\n",
              "    }\n",
              "\n",
              "    [theme=dark] .colab-df-convert:hover {\n",
              "      background-color: #434B5C;\n",
              "      box-shadow: 0px 1px 3px 1px rgba(0, 0, 0, 0.15);\n",
              "      filter: drop-shadow(0px 1px 2px rgba(0, 0, 0, 0.3));\n",
              "      fill: #FFFFFF;\n",
              "    }\n",
              "  </style>\n",
              "\n",
              "    <script>\n",
              "      const buttonEl =\n",
              "        document.querySelector('#df-91022185-9a67-4e57-85c7-db65ffe5717a button.colab-df-convert');\n",
              "      buttonEl.style.display =\n",
              "        google.colab.kernel.accessAllowed ? 'block' : 'none';\n",
              "\n",
              "      async function convertToInteractive(key) {\n",
              "        const element = document.querySelector('#df-91022185-9a67-4e57-85c7-db65ffe5717a');\n",
              "        const dataTable =\n",
              "          await google.colab.kernel.invokeFunction('convertToInteractive',\n",
              "                                                    [key], {});\n",
              "        if (!dataTable) return;\n",
              "\n",
              "        const docLinkHtml = 'Like what you see? Visit the ' +\n",
              "          '<a target=\"_blank\" href=https://colab.research.google.com/notebooks/data_table.ipynb>data table notebook</a>'\n",
              "          + ' to learn more about interactive tables.';\n",
              "        element.innerHTML = '';\n",
              "        dataTable['output_type'] = 'display_data';\n",
              "        await google.colab.output.renderOutput(dataTable, element);\n",
              "        const docLink = document.createElement('div');\n",
              "        docLink.innerHTML = docLinkHtml;\n",
              "        element.appendChild(docLink);\n",
              "      }\n",
              "    </script>\n",
              "  </div>\n",
              "\n",
              "\n",
              "<div id=\"df-5322b78c-08cb-473f-81c1-a4536dd05f0c\">\n",
              "  <button class=\"colab-df-quickchart\" onclick=\"quickchart('df-5322b78c-08cb-473f-81c1-a4536dd05f0c')\"\n",
              "            title=\"Suggest charts\"\n",
              "            style=\"display:none;\">\n",
              "\n",
              "<svg xmlns=\"http://www.w3.org/2000/svg\" height=\"24px\"viewBox=\"0 0 24 24\"\n",
              "     width=\"24px\">\n",
              "    <g>\n",
              "        <path d=\"M19 3H5c-1.1 0-2 .9-2 2v14c0 1.1.9 2 2 2h14c1.1 0 2-.9 2-2V5c0-1.1-.9-2-2-2zM9 17H7v-7h2v7zm4 0h-2V7h2v10zm4 0h-2v-4h2v4z\"/>\n",
              "    </g>\n",
              "</svg>\n",
              "  </button>\n",
              "\n",
              "<style>\n",
              "  .colab-df-quickchart {\n",
              "      --bg-color: #E8F0FE;\n",
              "      --fill-color: #1967D2;\n",
              "      --hover-bg-color: #E2EBFA;\n",
              "      --hover-fill-color: #174EA6;\n",
              "      --disabled-fill-color: #AAA;\n",
              "      --disabled-bg-color: #DDD;\n",
              "  }\n",
              "\n",
              "  [theme=dark] .colab-df-quickchart {\n",
              "      --bg-color: #3B4455;\n",
              "      --fill-color: #D2E3FC;\n",
              "      --hover-bg-color: #434B5C;\n",
              "      --hover-fill-color: #FFFFFF;\n",
              "      --disabled-bg-color: #3B4455;\n",
              "      --disabled-fill-color: #666;\n",
              "  }\n",
              "\n",
              "  .colab-df-quickchart {\n",
              "    background-color: var(--bg-color);\n",
              "    border: none;\n",
              "    border-radius: 50%;\n",
              "    cursor: pointer;\n",
              "    display: none;\n",
              "    fill: var(--fill-color);\n",
              "    height: 32px;\n",
              "    padding: 0;\n",
              "    width: 32px;\n",
              "  }\n",
              "\n",
              "  .colab-df-quickchart:hover {\n",
              "    background-color: var(--hover-bg-color);\n",
              "    box-shadow: 0 1px 2px rgba(60, 64, 67, 0.3), 0 1px 3px 1px rgba(60, 64, 67, 0.15);\n",
              "    fill: var(--button-hover-fill-color);\n",
              "  }\n",
              "\n",
              "  .colab-df-quickchart-complete:disabled,\n",
              "  .colab-df-quickchart-complete:disabled:hover {\n",
              "    background-color: var(--disabled-bg-color);\n",
              "    fill: var(--disabled-fill-color);\n",
              "    box-shadow: none;\n",
              "  }\n",
              "\n",
              "  .colab-df-spinner {\n",
              "    border: 2px solid var(--fill-color);\n",
              "    border-color: transparent;\n",
              "    border-bottom-color: var(--fill-color);\n",
              "    animation:\n",
              "      spin 1s steps(1) infinite;\n",
              "  }\n",
              "\n",
              "  @keyframes spin {\n",
              "    0% {\n",
              "      border-color: transparent;\n",
              "      border-bottom-color: var(--fill-color);\n",
              "      border-left-color: var(--fill-color);\n",
              "    }\n",
              "    20% {\n",
              "      border-color: transparent;\n",
              "      border-left-color: var(--fill-color);\n",
              "      border-top-color: var(--fill-color);\n",
              "    }\n",
              "    30% {\n",
              "      border-color: transparent;\n",
              "      border-left-color: var(--fill-color);\n",
              "      border-top-color: var(--fill-color);\n",
              "      border-right-color: var(--fill-color);\n",
              "    }\n",
              "    40% {\n",
              "      border-color: transparent;\n",
              "      border-right-color: var(--fill-color);\n",
              "      border-top-color: var(--fill-color);\n",
              "    }\n",
              "    60% {\n",
              "      border-color: transparent;\n",
              "      border-right-color: var(--fill-color);\n",
              "    }\n",
              "    80% {\n",
              "      border-color: transparent;\n",
              "      border-right-color: var(--fill-color);\n",
              "      border-bottom-color: var(--fill-color);\n",
              "    }\n",
              "    90% {\n",
              "      border-color: transparent;\n",
              "      border-bottom-color: var(--fill-color);\n",
              "    }\n",
              "  }\n",
              "</style>\n",
              "\n",
              "  <script>\n",
              "    async function quickchart(key) {\n",
              "      const quickchartButtonEl =\n",
              "        document.querySelector('#' + key + ' button');\n",
              "      quickchartButtonEl.disabled = true;  // To prevent multiple clicks.\n",
              "      quickchartButtonEl.classList.add('colab-df-spinner');\n",
              "      try {\n",
              "        const charts = await google.colab.kernel.invokeFunction(\n",
              "            'suggestCharts', [key], {});\n",
              "      } catch (error) {\n",
              "        console.error('Error during call to suggestCharts:', error);\n",
              "      }\n",
              "      quickchartButtonEl.classList.remove('colab-df-spinner');\n",
              "      quickchartButtonEl.classList.add('colab-df-quickchart-complete');\n",
              "    }\n",
              "    (() => {\n",
              "      let quickchartButtonEl =\n",
              "        document.querySelector('#df-5322b78c-08cb-473f-81c1-a4536dd05f0c button');\n",
              "      quickchartButtonEl.style.display =\n",
              "        google.colab.kernel.accessAllowed ? 'block' : 'none';\n",
              "    })();\n",
              "  </script>\n",
              "</div>\n",
              "\n",
              "    </div>\n",
              "  </div>\n"
            ],
            "application/vnd.google.colaboratory.intrinsic+json": {
              "type": "dataframe",
              "variable_name": "df_balanced",
              "summary": "{\n  \"name\": \"df_balanced\",\n  \"rows\": 5524,\n  \"fields\": [\n    {\n      \"column\": \"text\",\n      \"properties\": {\n        \"dtype\": \"string\",\n        \"num_unique_values\": 5523,\n        \"samples\": [\n          \"The 'LeBron James' Kid Is Back We missed you.\",\n          \"Here's How Rats End Up In Toilet Bowls Fun fact: Rats can hold their breath for up to three minutes.\",\n          \"Washington Wizards' Dynamic Backcourt Duo Of John Wall And Bradley Beal Is Making Waves \"\n        ],\n        \"semantic_type\": \"\",\n        \"description\": \"\"\n      }\n    },\n    {\n      \"column\": \"category\",\n      \"properties\": {\n        \"dtype\": \"category\",\n        \"num_unique_values\": 4,\n        \"samples\": [\n          \"SPORTS\",\n          \"SCIENCE\",\n          \"BUSINESS\"\n        ],\n        \"semantic_type\": \"\",\n        \"description\": \"\"\n      }\n    },\n    {\n      \"column\": \"category_num\",\n      \"properties\": {\n        \"dtype\": \"number\",\n        \"std\": 1,\n        \"min\": 0,\n        \"max\": 3,\n        \"num_unique_values\": 4,\n        \"samples\": [\n          1,\n          3,\n          0\n        ],\n        \"semantic_type\": \"\",\n        \"description\": \"\"\n      }\n    }\n  ]\n}"
            }
          },
          "metadata": {},
          "execution_count": 36
        }
      ]
    },
    {
      "cell_type": "markdown",
      "source": [
        "## **Build a model with original text (no pre processing)**"
      ],
      "metadata": {
        "id": "rAUSgGYFMVp7"
      }
    },
    {
      "cell_type": "code",
      "source": [
        "from sklearn.model_selection import train_test_split"
      ],
      "metadata": {
        "id": "FxRq6eanJP4q"
      },
      "execution_count": 37,
      "outputs": []
    },
    {
      "cell_type": "code",
      "source": [
        "X_train, X_test, y_train, y_test = train_test_split(\n",
        "    df_balanced.text,\n",
        "    df_balanced.category_num,\n",
        "    test_size=0.2,\n",
        "    random_state=2022,\n",
        "    stratify=df_balanced.category_num\n",
        "    )\n",
        "\n",
        "#stratify creates equal number of samples on all the classes in train and test."
      ],
      "metadata": {
        "id": "-X-w9R3YJP2E"
      },
      "execution_count": 38,
      "outputs": []
    },
    {
      "cell_type": "code",
      "source": [
        "print(X_train.shape)\n",
        "\n",
        "X_train.head()"
      ],
      "metadata": {
        "colab": {
          "base_uri": "https://localhost:8080/",
          "height": 258
        },
        "id": "bhBJgyeoJPyy",
        "outputId": "493fe308-b0ec-472a-ea7d-52d4d5f61169"
      },
      "execution_count": 39,
      "outputs": [
        {
          "output_type": "stream",
          "name": "stdout",
          "text": [
            "(4419,)\n"
          ]
        },
        {
          "output_type": "execute_result",
          "data": {
            "text/plain": [
              "7589     Ovulating Women Prefer Images of Penetration O...\n",
              "10442    Scientists Discover Spooky Influence On Baby N...\n",
              "8792     Olympic Race Walker Steps Up To Propose To His...\n",
              "1733     Beloved Bipedal Bear Named Pedals Believed Kil...\n",
              "2526     Elizabeth Smart Gave Birth To Baby Girl, Fathe...\n",
              "Name: text, dtype: object"
            ],
            "text/html": [
              "<div>\n",
              "<style scoped>\n",
              "    .dataframe tbody tr th:only-of-type {\n",
              "        vertical-align: middle;\n",
              "    }\n",
              "\n",
              "    .dataframe tbody tr th {\n",
              "        vertical-align: top;\n",
              "    }\n",
              "\n",
              "    .dataframe thead th {\n",
              "        text-align: right;\n",
              "    }\n",
              "</style>\n",
              "<table border=\"1\" class=\"dataframe\">\n",
              "  <thead>\n",
              "    <tr style=\"text-align: right;\">\n",
              "      <th></th>\n",
              "      <th>text</th>\n",
              "    </tr>\n",
              "  </thead>\n",
              "  <tbody>\n",
              "    <tr>\n",
              "      <th>7589</th>\n",
              "      <td>Ovulating Women Prefer Images of Penetration O...</td>\n",
              "    </tr>\n",
              "    <tr>\n",
              "      <th>10442</th>\n",
              "      <td>Scientists Discover Spooky Influence On Baby N...</td>\n",
              "    </tr>\n",
              "    <tr>\n",
              "      <th>8792</th>\n",
              "      <td>Olympic Race Walker Steps Up To Propose To His...</td>\n",
              "    </tr>\n",
              "    <tr>\n",
              "      <th>1733</th>\n",
              "      <td>Beloved Bipedal Bear Named Pedals Believed Kil...</td>\n",
              "    </tr>\n",
              "    <tr>\n",
              "      <th>2526</th>\n",
              "      <td>Elizabeth Smart Gave Birth To Baby Girl, Fathe...</td>\n",
              "    </tr>\n",
              "  </tbody>\n",
              "</table>\n",
              "</div><br><label><b>dtype:</b> object</label>"
            ]
          },
          "metadata": {},
          "execution_count": 39
        }
      ]
    },
    {
      "cell_type": "code",
      "source": [
        "X_train.value_counts()"
      ],
      "metadata": {
        "colab": {
          "base_uri": "https://localhost:8080/",
          "height": 663
        },
        "id": "AxaBej21JPvy",
        "outputId": "a0530921-49e2-4b1f-c50d-5bb1a19aa504"
      },
      "execution_count": 40,
      "outputs": [
        {
          "output_type": "execute_result",
          "data": {
            "text/plain": [
              "text\n",
              "Ovulating Women Prefer Images of Penetration Over Images of Oral Sex Canadian researchers found that during ovulation the female genitalia is more responsive to images of penetration than to images of oral sex. The difference is significantly reduced during non-fertile phases of the menstrual cycle.                                   1\n",
              "Michael Jordan May Have To Admit He Is Not The Best At Something Well, this is new.                                                                                                                                                                                                                                                            1\n",
              "Smartphone Lovers More Likely To Forget Things, Walk Into People Stop reading this and go outside!                                                                                                                                                                                                                                             1\n",
              "Prevent PR Disaster: 6 Steps for Crisis Planning No one wants to think about the prospects for threats or calamities. But when they happen--as they inevitably will--you will be very glad you thought through how to react, before that reaction was needed.                                                                                  1\n",
              "Trump Proposes Slapping $100 Billion In New Tariffs On Chinese Goods The additional tariffs were being considered “in light of China’s unfair retaliation” against earlier U.S. trade actions, Trump said.                                                                                                                                     1\n",
              "                                                                                                                                                                                                                                                                                                                                              ..\n",
              "Day Care Workers Fired After Encouraging Toddlers To Fight (VIDEO)                                                                                                                                                                                                                                                                             1\n",
              "Police Shoot Suspect To End Los Angeles Hostage Situation The gunman was shot when heavily armed officers stormed the restaurant.                                                                                                                                                                                                              1\n",
              "Endangered Green Sea Turtles Return To Florida In Record Numbers Thousands of the enormous animals showed up to nest at a favorite beach last year.                                                                                                                                                                                            1\n",
              "Two Ways Entrepreneurs and CEOs Mistake Growth for Value Whether in a small or mid-size entrepreneurial business or a major corporation, the CEO sets the vision and direction for the company. But is there real value in the vision? Is the entire company focused on creating that value? Does the company culture support adding value?    1\n",
              "Prime Number Gap Grows After Decades-Long Lull                                                                                                                                                                                                                                                                                                 1\n",
              "Name: count, Length: 4419, dtype: int64"
            ],
            "text/html": [
              "<div>\n",
              "<style scoped>\n",
              "    .dataframe tbody tr th:only-of-type {\n",
              "        vertical-align: middle;\n",
              "    }\n",
              "\n",
              "    .dataframe tbody tr th {\n",
              "        vertical-align: top;\n",
              "    }\n",
              "\n",
              "    .dataframe thead th {\n",
              "        text-align: right;\n",
              "    }\n",
              "</style>\n",
              "<table border=\"1\" class=\"dataframe\">\n",
              "  <thead>\n",
              "    <tr style=\"text-align: right;\">\n",
              "      <th></th>\n",
              "      <th>count</th>\n",
              "    </tr>\n",
              "    <tr>\n",
              "      <th>text</th>\n",
              "      <th></th>\n",
              "    </tr>\n",
              "  </thead>\n",
              "  <tbody>\n",
              "    <tr>\n",
              "      <th>Ovulating Women Prefer Images of Penetration Over Images of Oral Sex Canadian researchers found that during ovulation the female genitalia is more responsive to images of penetration than to images of oral sex. The difference is significantly reduced during non-fertile phases of the menstrual cycle.</th>\n",
              "      <td>1</td>\n",
              "    </tr>\n",
              "    <tr>\n",
              "      <th>Michael Jordan May Have To Admit He Is Not The Best At Something Well, this is new.</th>\n",
              "      <td>1</td>\n",
              "    </tr>\n",
              "    <tr>\n",
              "      <th>Smartphone Lovers More Likely To Forget Things, Walk Into People Stop reading this and go outside!</th>\n",
              "      <td>1</td>\n",
              "    </tr>\n",
              "    <tr>\n",
              "      <th>Prevent PR Disaster: 6 Steps for Crisis Planning No one wants to think about the prospects for threats or calamities. But when they happen--as they inevitably will--you will be very glad you thought through how to react, before that reaction was needed.</th>\n",
              "      <td>1</td>\n",
              "    </tr>\n",
              "    <tr>\n",
              "      <th>Trump Proposes Slapping $100 Billion In New Tariffs On Chinese Goods The additional tariffs were being considered “in light of China’s unfair retaliation” against earlier U.S. trade actions, Trump said.</th>\n",
              "      <td>1</td>\n",
              "    </tr>\n",
              "    <tr>\n",
              "      <th>...</th>\n",
              "      <td>...</td>\n",
              "    </tr>\n",
              "    <tr>\n",
              "      <th>Day Care Workers Fired After Encouraging Toddlers To Fight (VIDEO)</th>\n",
              "      <td>1</td>\n",
              "    </tr>\n",
              "    <tr>\n",
              "      <th>Police Shoot Suspect To End Los Angeles Hostage Situation The gunman was shot when heavily armed officers stormed the restaurant.</th>\n",
              "      <td>1</td>\n",
              "    </tr>\n",
              "    <tr>\n",
              "      <th>Endangered Green Sea Turtles Return To Florida In Record Numbers Thousands of the enormous animals showed up to nest at a favorite beach last year.</th>\n",
              "      <td>1</td>\n",
              "    </tr>\n",
              "    <tr>\n",
              "      <th>Two Ways Entrepreneurs and CEOs Mistake Growth for Value Whether in a small or mid-size entrepreneurial business or a major corporation, the CEO sets the vision and direction for the company. But is there real value in the vision? Is the entire company focused on creating that value? Does the company culture support adding value?</th>\n",
              "      <td>1</td>\n",
              "    </tr>\n",
              "    <tr>\n",
              "      <th>Prime Number Gap Grows After Decades-Long Lull</th>\n",
              "      <td>1</td>\n",
              "    </tr>\n",
              "  </tbody>\n",
              "</table>\n",
              "<p>4419 rows × 1 columns</p>\n",
              "</div><br><label><b>dtype:</b> int64</label>"
            ]
          },
          "metadata": {},
          "execution_count": 40
        }
      ]
    },
    {
      "cell_type": "code",
      "source": [
        "y_train.value_counts()"
      ],
      "metadata": {
        "colab": {
          "base_uri": "https://localhost:8080/",
          "height": 241
        },
        "id": "SIJJ1n5nOvok",
        "outputId": "06bc4a56-bfb0-48f1-e2c0-ef643c41a8d7"
      },
      "execution_count": 41,
      "outputs": [
        {
          "output_type": "execute_result",
          "data": {
            "text/plain": [
              "category_num\n",
              "3    1105\n",
              "2    1105\n",
              "0    1105\n",
              "1    1104\n",
              "Name: count, dtype: int64"
            ],
            "text/html": [
              "<div>\n",
              "<style scoped>\n",
              "    .dataframe tbody tr th:only-of-type {\n",
              "        vertical-align: middle;\n",
              "    }\n",
              "\n",
              "    .dataframe tbody tr th {\n",
              "        vertical-align: top;\n",
              "    }\n",
              "\n",
              "    .dataframe thead th {\n",
              "        text-align: right;\n",
              "    }\n",
              "</style>\n",
              "<table border=\"1\" class=\"dataframe\">\n",
              "  <thead>\n",
              "    <tr style=\"text-align: right;\">\n",
              "      <th></th>\n",
              "      <th>count</th>\n",
              "    </tr>\n",
              "    <tr>\n",
              "      <th>category_num</th>\n",
              "      <th></th>\n",
              "    </tr>\n",
              "  </thead>\n",
              "  <tbody>\n",
              "    <tr>\n",
              "      <th>3</th>\n",
              "      <td>1105</td>\n",
              "    </tr>\n",
              "    <tr>\n",
              "      <th>2</th>\n",
              "      <td>1105</td>\n",
              "    </tr>\n",
              "    <tr>\n",
              "      <th>0</th>\n",
              "      <td>1105</td>\n",
              "    </tr>\n",
              "    <tr>\n",
              "      <th>1</th>\n",
              "      <td>1104</td>\n",
              "    </tr>\n",
              "  </tbody>\n",
              "</table>\n",
              "</div><br><label><b>dtype:</b> int64</label>"
            ]
          },
          "metadata": {},
          "execution_count": 41
        }
      ]
    },
    {
      "cell_type": "code",
      "source": [
        "y_test.value_counts()"
      ],
      "metadata": {
        "colab": {
          "base_uri": "https://localhost:8080/",
          "height": 241
        },
        "id": "04KgOJX_O3yN",
        "outputId": "beaa498a-9746-4396-f3c7-3fe5e358139f"
      },
      "execution_count": 42,
      "outputs": [
        {
          "output_type": "execute_result",
          "data": {
            "text/plain": [
              "category_num\n",
              "1    277\n",
              "0    276\n",
              "3    276\n",
              "2    276\n",
              "Name: count, dtype: int64"
            ],
            "text/html": [
              "<div>\n",
              "<style scoped>\n",
              "    .dataframe tbody tr th:only-of-type {\n",
              "        vertical-align: middle;\n",
              "    }\n",
              "\n",
              "    .dataframe tbody tr th {\n",
              "        vertical-align: top;\n",
              "    }\n",
              "\n",
              "    .dataframe thead th {\n",
              "        text-align: right;\n",
              "    }\n",
              "</style>\n",
              "<table border=\"1\" class=\"dataframe\">\n",
              "  <thead>\n",
              "    <tr style=\"text-align: right;\">\n",
              "      <th></th>\n",
              "      <th>count</th>\n",
              "    </tr>\n",
              "    <tr>\n",
              "      <th>category_num</th>\n",
              "      <th></th>\n",
              "    </tr>\n",
              "  </thead>\n",
              "  <tbody>\n",
              "    <tr>\n",
              "      <th>1</th>\n",
              "      <td>277</td>\n",
              "    </tr>\n",
              "    <tr>\n",
              "      <th>0</th>\n",
              "      <td>276</td>\n",
              "    </tr>\n",
              "    <tr>\n",
              "      <th>3</th>\n",
              "      <td>276</td>\n",
              "    </tr>\n",
              "    <tr>\n",
              "      <th>2</th>\n",
              "      <td>276</td>\n",
              "    </tr>\n",
              "  </tbody>\n",
              "</table>\n",
              "</div><br><label><b>dtype:</b> int64</label>"
            ]
          },
          "metadata": {},
          "execution_count": 42
        }
      ]
    },
    {
      "cell_type": "markdown",
      "source": [
        "### **Attempt 1 : Use 1-gram which is nothing but a Bag Of Words (BOW) model**"
      ],
      "metadata": {
        "id": "5k-19BdePLbk"
      }
    },
    {
      "cell_type": "code",
      "source": [
        "from sklearn.naive_bayes import MultinomialNB\n",
        "from sklearn.pipeline import Pipeline\n",
        "from sklearn.metrics import classification_report\n",
        "\n",
        "#try out with different models like KNN,decesion tree,random forest and compare teh performance"
      ],
      "metadata": {
        "id": "K9wu4kCIO3s8"
      },
      "execution_count": 45,
      "outputs": []
    },
    {
      "cell_type": "code",
      "source": [
        "#1. create a pipeline object\n",
        "clf = Pipeline([\n",
        "     ('vectorizer_bow', CountVectorizer(ngram_range = (1, 1))),        #using the ngram_range parameter\n",
        "     ('Multi NB', MultinomialNB())\n",
        "])\n",
        "\n",
        "#2. fit with X_train and y_train\n",
        "clf.fit(X_train, y_train)\n",
        "\n",
        "\n",
        "#3. get the predictions for X_test and store it in y_pred\n",
        "y_pred = clf.predict(X_test)\n",
        "\n",
        "\n",
        "#4. print the classfication report\n",
        "print(classification_report(y_test, y_pred))"
      ],
      "metadata": {
        "colab": {
          "base_uri": "https://localhost:8080/"
        },
        "id": "pO4iMH7VO3oN",
        "outputId": "55ce0959-63ce-41a7-ca1e-1330eb5615e7"
      },
      "execution_count": 46,
      "outputs": [
        {
          "output_type": "stream",
          "name": "stdout",
          "text": [
            "              precision    recall  f1-score   support\n",
            "\n",
            "           0       0.75      0.87      0.81       276\n",
            "           1       0.93      0.80      0.86       277\n",
            "           2       0.83      0.90      0.86       276\n",
            "           3       0.90      0.80      0.85       276\n",
            "\n",
            "    accuracy                           0.84      1105\n",
            "   macro avg       0.85      0.84      0.84      1105\n",
            "weighted avg       0.85      0.84      0.84      1105\n",
            "\n"
          ]
        }
      ]
    },
    {
      "cell_type": "code",
      "source": [
        "X_test[:5]"
      ],
      "metadata": {
        "colab": {
          "base_uri": "https://localhost:8080/",
          "height": 241
        },
        "id": "rt8smIW5O3ld",
        "outputId": "9aa89c56-737c-4699-be7d-51931f511cca"
      },
      "execution_count": 47,
      "outputs": [
        {
          "output_type": "execute_result",
          "data": {
            "text/plain": [
              "3716     African Nation Slaps Exxon With Fine Nearly 7 ...\n",
              "608      These Cringe-Worthy Stories Show It Can Be Har...\n",
              "11172    LISTEN: The Accidental Discovery That Proved T...\n",
              "1346     Build Loyalty -- The Cost -- $00.00 Remember y...\n",
              "1356     Man Killed By Michigan Police Wasn't Targeting...\n",
              "Name: text, dtype: object"
            ],
            "text/html": [
              "<div>\n",
              "<style scoped>\n",
              "    .dataframe tbody tr th:only-of-type {\n",
              "        vertical-align: middle;\n",
              "    }\n",
              "\n",
              "    .dataframe tbody tr th {\n",
              "        vertical-align: top;\n",
              "    }\n",
              "\n",
              "    .dataframe thead th {\n",
              "        text-align: right;\n",
              "    }\n",
              "</style>\n",
              "<table border=\"1\" class=\"dataframe\">\n",
              "  <thead>\n",
              "    <tr style=\"text-align: right;\">\n",
              "      <th></th>\n",
              "      <th>text</th>\n",
              "    </tr>\n",
              "  </thead>\n",
              "  <tbody>\n",
              "    <tr>\n",
              "      <th>3716</th>\n",
              "      <td>African Nation Slaps Exxon With Fine Nearly 7 ...</td>\n",
              "    </tr>\n",
              "    <tr>\n",
              "      <th>608</th>\n",
              "      <td>These Cringe-Worthy Stories Show It Can Be Har...</td>\n",
              "    </tr>\n",
              "    <tr>\n",
              "      <th>11172</th>\n",
              "      <td>LISTEN: The Accidental Discovery That Proved T...</td>\n",
              "    </tr>\n",
              "    <tr>\n",
              "      <th>1346</th>\n",
              "      <td>Build Loyalty -- The Cost -- $00.00 Remember y...</td>\n",
              "    </tr>\n",
              "    <tr>\n",
              "      <th>1356</th>\n",
              "      <td>Man Killed By Michigan Police Wasn't Targeting...</td>\n",
              "    </tr>\n",
              "  </tbody>\n",
              "</table>\n",
              "</div><br><label><b>dtype:</b> object</label>"
            ]
          },
          "metadata": {},
          "execution_count": 47
        }
      ]
    },
    {
      "cell_type": "markdown",
      "source": [
        "\n",
        "*   BUSINESS: 0\n",
        "*   SPORTS: 1\n",
        "*   CRIME: 2\n",
        "*   SCIENCE: 3\n",
        "\n"
      ],
      "metadata": {
        "id": "cxLPT2aHRMS9"
      }
    },
    {
      "cell_type": "markdown",
      "source": [
        "actual Vs."
      ],
      "metadata": {
        "id": "UY0NKsXbR0HG"
      }
    },
    {
      "cell_type": "code",
      "source": [
        "y_test[:5]"
      ],
      "metadata": {
        "colab": {
          "base_uri": "https://localhost:8080/",
          "height": 241
        },
        "id": "55aBiH6qQzuE",
        "outputId": "3711f2bf-5fff-42bc-9afd-660eca91faa9"
      },
      "execution_count": 49,
      "outputs": [
        {
          "output_type": "execute_result",
          "data": {
            "text/plain": [
              "3716     0\n",
              "608      3\n",
              "11172    3\n",
              "1346     0\n",
              "1356     2\n",
              "Name: category_num, dtype: int64"
            ],
            "text/html": [
              "<div>\n",
              "<style scoped>\n",
              "    .dataframe tbody tr th:only-of-type {\n",
              "        vertical-align: middle;\n",
              "    }\n",
              "\n",
              "    .dataframe tbody tr th {\n",
              "        vertical-align: top;\n",
              "    }\n",
              "\n",
              "    .dataframe thead th {\n",
              "        text-align: right;\n",
              "    }\n",
              "</style>\n",
              "<table border=\"1\" class=\"dataframe\">\n",
              "  <thead>\n",
              "    <tr style=\"text-align: right;\">\n",
              "      <th></th>\n",
              "      <th>category_num</th>\n",
              "    </tr>\n",
              "  </thead>\n",
              "  <tbody>\n",
              "    <tr>\n",
              "      <th>3716</th>\n",
              "      <td>0</td>\n",
              "    </tr>\n",
              "    <tr>\n",
              "      <th>608</th>\n",
              "      <td>3</td>\n",
              "    </tr>\n",
              "    <tr>\n",
              "      <th>11172</th>\n",
              "      <td>3</td>\n",
              "    </tr>\n",
              "    <tr>\n",
              "      <th>1346</th>\n",
              "      <td>0</td>\n",
              "    </tr>\n",
              "    <tr>\n",
              "      <th>1356</th>\n",
              "      <td>2</td>\n",
              "    </tr>\n",
              "  </tbody>\n",
              "</table>\n",
              "</div><br><label><b>dtype:</b> int64</label>"
            ]
          },
          "metadata": {},
          "execution_count": 49
        }
      ]
    },
    {
      "cell_type": "markdown",
      "source": [
        "predictions"
      ],
      "metadata": {
        "id": "vggOf8XhRrq1"
      }
    },
    {
      "cell_type": "code",
      "source": [
        "y_pred[:5]"
      ],
      "metadata": {
        "colab": {
          "base_uri": "https://localhost:8080/"
        },
        "id": "g0JCvwdzO3dU",
        "outputId": "03d09fb2-b8e0-46ea-f3b8-5ebbd4defa2a"
      },
      "execution_count": 48,
      "outputs": [
        {
          "output_type": "execute_result",
          "data": {
            "text/plain": [
              "array([0, 3, 3, 0, 2])"
            ]
          },
          "metadata": {},
          "execution_count": 48
        }
      ]
    },
    {
      "cell_type": "markdown",
      "source": [
        "### **Attempt 2 : Use 1-gram and Bi-grams (1 & 2)**"
      ],
      "metadata": {
        "id": "fcqwVM2PRn4d"
      }
    },
    {
      "cell_type": "code",
      "source": [
        "#1. create a pipeline object\n",
        "clf = Pipeline([\n",
        "     ('vectorizer_bow', CountVectorizer(ngram_range = (1, 2))),        #using the ngram_range parameter\n",
        "     ('Multi NB', MultinomialNB())\n",
        "])\n",
        "\n",
        "#2. fit with X_train and y_train\n",
        "clf.fit(X_train, y_train)\n",
        "\n",
        "\n",
        "#3. get the predictions for X_test and store it in y_pred\n",
        "y_pred = clf.predict(X_test)\n",
        "\n",
        "\n",
        "#4. print the classfication report\n",
        "print(classification_report(y_test, y_pred))"
      ],
      "metadata": {
        "colab": {
          "base_uri": "https://localhost:8080/"
        },
        "id": "6iOtsuvfQzo9",
        "outputId": "63268177-62f0-4204-d43b-e41cdbabac72"
      },
      "execution_count": 55,
      "outputs": [
        {
          "output_type": "stream",
          "name": "stdout",
          "text": [
            "              precision    recall  f1-score   support\n",
            "\n",
            "           0       0.69      0.90      0.78       276\n",
            "           1       0.95      0.74      0.83       277\n",
            "           2       0.82      0.88      0.85       276\n",
            "           3       0.92      0.78      0.84       276\n",
            "\n",
            "    accuracy                           0.82      1105\n",
            "   macro avg       0.85      0.82      0.83      1105\n",
            "weighted avg       0.85      0.82      0.83      1105\n",
            "\n"
          ]
        }
      ]
    },
    {
      "cell_type": "markdown",
      "source": [
        "***1. See the difference with 1-gram / Bag Of Words (BOW) model***  ✅"
      ],
      "metadata": {
        "id": "Lg4xPkp1Sh2V"
      }
    },
    {
      "cell_type": "markdown",
      "source": [
        "![Capture55.PNG](data:image/png;base64,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)"
      ],
      "metadata": {
        "id": "Y4fADvyjSevV"
      }
    },
    {
      "cell_type": "code",
      "source": [
        "y_test[:5]"
      ],
      "metadata": {
        "colab": {
          "base_uri": "https://localhost:8080/",
          "height": 241
        },
        "id": "ahecYzhMT_Fm",
        "outputId": "3d962438-303d-406b-fb6f-fd4532628e7e"
      },
      "execution_count": 56,
      "outputs": [
        {
          "output_type": "execute_result",
          "data": {
            "text/plain": [
              "3716     0\n",
              "608      3\n",
              "11172    3\n",
              "1346     0\n",
              "1356     2\n",
              "Name: category_num, dtype: int64"
            ],
            "text/html": [
              "<div>\n",
              "<style scoped>\n",
              "    .dataframe tbody tr th:only-of-type {\n",
              "        vertical-align: middle;\n",
              "    }\n",
              "\n",
              "    .dataframe tbody tr th {\n",
              "        vertical-align: top;\n",
              "    }\n",
              "\n",
              "    .dataframe thead th {\n",
              "        text-align: right;\n",
              "    }\n",
              "</style>\n",
              "<table border=\"1\" class=\"dataframe\">\n",
              "  <thead>\n",
              "    <tr style=\"text-align: right;\">\n",
              "      <th></th>\n",
              "      <th>category_num</th>\n",
              "    </tr>\n",
              "  </thead>\n",
              "  <tbody>\n",
              "    <tr>\n",
              "      <th>3716</th>\n",
              "      <td>0</td>\n",
              "    </tr>\n",
              "    <tr>\n",
              "      <th>608</th>\n",
              "      <td>3</td>\n",
              "    </tr>\n",
              "    <tr>\n",
              "      <th>11172</th>\n",
              "      <td>3</td>\n",
              "    </tr>\n",
              "    <tr>\n",
              "      <th>1346</th>\n",
              "      <td>0</td>\n",
              "    </tr>\n",
              "    <tr>\n",
              "      <th>1356</th>\n",
              "      <td>2</td>\n",
              "    </tr>\n",
              "  </tbody>\n",
              "</table>\n",
              "</div><br><label><b>dtype:</b> int64</label>"
            ]
          },
          "metadata": {},
          "execution_count": 56
        }
      ]
    },
    {
      "cell_type": "markdown",
      "source": [
        "the accuracy of predictions became low and it gives wrong predictions."
      ],
      "metadata": {
        "id": "9cxa5t8EUla-"
      }
    },
    {
      "cell_type": "code",
      "source": [
        "y_pred[:5]"
      ],
      "metadata": {
        "colab": {
          "base_uri": "https://localhost:8080/"
        },
        "id": "lKVhvhPGT-Pm",
        "outputId": "577ae1b6-5b78-4027-aa09-3f62ac2761a7"
      },
      "execution_count": 57,
      "outputs": [
        {
          "output_type": "execute_result",
          "data": {
            "text/plain": [
              "array([0, 0, 3, 0, 2])"
            ]
          },
          "metadata": {},
          "execution_count": 57
        }
      ]
    },
    {
      "cell_type": "markdown",
      "source": [
        "### **Attempt 3 : Use 1-gram to Tri-grams ( 1, 2 & 3)**"
      ],
      "metadata": {
        "id": "la1qNIqfTA22"
      }
    },
    {
      "cell_type": "code",
      "source": [
        "#1. create a pipeline object\n",
        "clf = Pipeline([\n",
        "     ('vectorizer_bow', CountVectorizer(ngram_range = (1, 3))),        #using the ngram_range parameter\n",
        "     ('Multi NB', MultinomialNB())\n",
        "])\n",
        "\n",
        "#2. fit with X_train and y_train\n",
        "clf.fit(X_train, y_train)\n",
        "\n",
        "\n",
        "#3. get the predictions for X_test and store it in y_pred\n",
        "y_pred = clf.predict(X_test)\n",
        "\n",
        "\n",
        "#4. print the classfication report\n",
        "print(classification_report(y_test, y_pred))"
      ],
      "metadata": {
        "colab": {
          "base_uri": "https://localhost:8080/"
        },
        "id": "QqQQl_89QzmG",
        "outputId": "31c110bb-3d70-461d-b72f-71b7a6bf0316"
      },
      "execution_count": 58,
      "outputs": [
        {
          "output_type": "stream",
          "name": "stdout",
          "text": [
            "              precision    recall  f1-score   support\n",
            "\n",
            "           0       0.67      0.91      0.77       276\n",
            "           1       0.96      0.73      0.83       277\n",
            "           2       0.83      0.87      0.85       276\n",
            "           3       0.93      0.76      0.83       276\n",
            "\n",
            "    accuracy                           0.82      1105\n",
            "   macro avg       0.84      0.82      0.82      1105\n",
            "weighted avg       0.84      0.82      0.82      1105\n",
            "\n"
          ]
        }
      ]
    },
    {
      "cell_type": "markdown",
      "source": [
        "***1. See the difference with 1-gram & Bi-gram model***  ➿"
      ],
      "metadata": {
        "id": "OlPFsTXFU9hn"
      }
    },
    {
      "cell_type": "markdown",
      "source": [
        "![Capture555.PNG](data:image/png;base64,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)"
      ],
      "metadata": {
        "id": "UYsDRUL0VGnH"
      }
    },
    {
      "cell_type": "markdown",
      "source": [
        "***2. See the difference with 1-gram / Bag Of Words (BOW) model***  ✅"
      ],
      "metadata": {
        "id": "H568wDeTWpZm"
      }
    },
    {
      "cell_type": "markdown",
      "source": [
        "![Capture55.PNG](data:image/png;base64,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)"
      ],
      "metadata": {
        "id": "pUZ6VXqwW2Cf"
      }
    },
    {
      "cell_type": "markdown",
      "source": [
        "you can see the performance become lower when 'n' increase n-gram.\n",
        "\n",
        "in each use case we need to select best model.\n",
        "\n",
        "it can be bag of words or another"
      ],
      "metadata": {
        "id": "78jKvLHVTUjm"
      }
    },
    {
      "cell_type": "code",
      "source": [
        "y_test[:5]"
      ],
      "metadata": {
        "colab": {
          "base_uri": "https://localhost:8080/",
          "height": 241
        },
        "id": "HYj4DsXiQzi1",
        "outputId": "fdfd9260-0a77-4e36-d41d-24a65a270713"
      },
      "execution_count": 59,
      "outputs": [
        {
          "output_type": "execute_result",
          "data": {
            "text/plain": [
              "3716     0\n",
              "608      3\n",
              "11172    3\n",
              "1346     0\n",
              "1356     2\n",
              "Name: category_num, dtype: int64"
            ],
            "text/html": [
              "<div>\n",
              "<style scoped>\n",
              "    .dataframe tbody tr th:only-of-type {\n",
              "        vertical-align: middle;\n",
              "    }\n",
              "\n",
              "    .dataframe tbody tr th {\n",
              "        vertical-align: top;\n",
              "    }\n",
              "\n",
              "    .dataframe thead th {\n",
              "        text-align: right;\n",
              "    }\n",
              "</style>\n",
              "<table border=\"1\" class=\"dataframe\">\n",
              "  <thead>\n",
              "    <tr style=\"text-align: right;\">\n",
              "      <th></th>\n",
              "      <th>category_num</th>\n",
              "    </tr>\n",
              "  </thead>\n",
              "  <tbody>\n",
              "    <tr>\n",
              "      <th>3716</th>\n",
              "      <td>0</td>\n",
              "    </tr>\n",
              "    <tr>\n",
              "      <th>608</th>\n",
              "      <td>3</td>\n",
              "    </tr>\n",
              "    <tr>\n",
              "      <th>11172</th>\n",
              "      <td>3</td>\n",
              "    </tr>\n",
              "    <tr>\n",
              "      <th>1346</th>\n",
              "      <td>0</td>\n",
              "    </tr>\n",
              "    <tr>\n",
              "      <th>1356</th>\n",
              "      <td>2</td>\n",
              "    </tr>\n",
              "  </tbody>\n",
              "</table>\n",
              "</div><br><label><b>dtype:</b> int64</label>"
            ]
          },
          "metadata": {},
          "execution_count": 59
        }
      ]
    },
    {
      "cell_type": "markdown",
      "source": [
        "the accuracy of predictions became low and it gives wrong predictions."
      ],
      "metadata": {
        "id": "qTGFtzFYUMZn"
      }
    },
    {
      "cell_type": "code",
      "source": [
        "y_pred[:5]"
      ],
      "metadata": {
        "colab": {
          "base_uri": "https://localhost:8080/"
        },
        "id": "yzct4MwHS7GV",
        "outputId": "50db940f-9061-43c5-aa9c-331d8012fb93"
      },
      "execution_count": 60,
      "outputs": [
        {
          "output_type": "execute_result",
          "data": {
            "text/plain": [
              "array([0, 0, 3, 0, 2])"
            ]
          },
          "metadata": {},
          "execution_count": 60
        }
      ]
    },
    {
      "cell_type": "markdown",
      "source": [
        "\n",
        "## **Use text pre-processing to remove stop words, punctuations and apply lemmatization**\n",
        "\n",
        "You may wonder, we have not done any text-processing yet to remove stop words, punctuations, apply lemmatization etc. Well we wanted to train the model without any preprocessing first and check the performance. Now we will re-do same thing but with preprocessing of text"
      ],
      "metadata": {
        "id": "Ekf7b6VoUc2e"
      }
    },
    {
      "cell_type": "code",
      "source": [
        "df_balanced['preprocessed_txt'] = df_balanced['text'].apply(preprocess)"
      ],
      "metadata": {
        "id": "3BDJaZWBS7DW"
      },
      "execution_count": 61,
      "outputs": []
    },
    {
      "cell_type": "code",
      "source": [
        "df_balanced.head()"
      ],
      "metadata": {
        "colab": {
          "base_uri": "https://localhost:8080/",
          "height": 293
        },
        "id": "biFb2Y5hS7AG",
        "outputId": "6b0c2d2f-fb59-4bf2-f176-41b1cb499113"
      },
      "execution_count": 62,
      "outputs": [
        {
          "output_type": "execute_result",
          "data": {
            "text/plain": [
              "                                                    text  category  \\\n",
              "11967  GCC Business Leaders Remain Confident in the F...  BUSINESS   \n",
              "2912   From the Other Side; an Honest Review from Emp...  BUSINESS   \n",
              "3408   Mike McDerment, CEO of FreshBooks, Talks About...  BUSINESS   \n",
              "502    How to Market Your Business While Traveling th...  BUSINESS   \n",
              "5279   How to Leverage Intuition in Decision-making I...  BUSINESS   \n",
              "\n",
              "       category_num                                   preprocessed_txt  \n",
              "11967             0  GCC Business Leaders remain Confident Face Reg...  \n",
              "2912              0  Honest Review employee wake morning love impor...  \n",
              "3408              0  Mike McDerment ceo FreshBooks Talks give build...  \n",
              "502               0  market business travel World recently amazing ...  \n",
              "5279              0  Leverage intuition decision making feel safe r...  "
            ],
            "text/html": [
              "\n",
              "  <div id=\"df-4696ffe5-c60c-4ae0-9b28-ee290c1b0f51\" class=\"colab-df-container\">\n",
              "    <div>\n",
              "<style scoped>\n",
              "    .dataframe tbody tr th:only-of-type {\n",
              "        vertical-align: middle;\n",
              "    }\n",
              "\n",
              "    .dataframe tbody tr th {\n",
              "        vertical-align: top;\n",
              "    }\n",
              "\n",
              "    .dataframe thead th {\n",
              "        text-align: right;\n",
              "    }\n",
              "</style>\n",
              "<table border=\"1\" class=\"dataframe\">\n",
              "  <thead>\n",
              "    <tr style=\"text-align: right;\">\n",
              "      <th></th>\n",
              "      <th>text</th>\n",
              "      <th>category</th>\n",
              "      <th>category_num</th>\n",
              "      <th>preprocessed_txt</th>\n",
              "    </tr>\n",
              "  </thead>\n",
              "  <tbody>\n",
              "    <tr>\n",
              "      <th>11967</th>\n",
              "      <td>GCC Business Leaders Remain Confident in the F...</td>\n",
              "      <td>BUSINESS</td>\n",
              "      <td>0</td>\n",
              "      <td>GCC Business Leaders remain Confident Face Reg...</td>\n",
              "    </tr>\n",
              "    <tr>\n",
              "      <th>2912</th>\n",
              "      <td>From the Other Side; an Honest Review from Emp...</td>\n",
              "      <td>BUSINESS</td>\n",
              "      <td>0</td>\n",
              "      <td>Honest Review employee wake morning love impor...</td>\n",
              "    </tr>\n",
              "    <tr>\n",
              "      <th>3408</th>\n",
              "      <td>Mike McDerment, CEO of FreshBooks, Talks About...</td>\n",
              "      <td>BUSINESS</td>\n",
              "      <td>0</td>\n",
              "      <td>Mike McDerment ceo FreshBooks Talks give build...</td>\n",
              "    </tr>\n",
              "    <tr>\n",
              "      <th>502</th>\n",
              "      <td>How to Market Your Business While Traveling th...</td>\n",
              "      <td>BUSINESS</td>\n",
              "      <td>0</td>\n",
              "      <td>market business travel World recently amazing ...</td>\n",
              "    </tr>\n",
              "    <tr>\n",
              "      <th>5279</th>\n",
              "      <td>How to Leverage Intuition in Decision-making I...</td>\n",
              "      <td>BUSINESS</td>\n",
              "      <td>0</td>\n",
              "      <td>Leverage intuition decision making feel safe r...</td>\n",
              "    </tr>\n",
              "  </tbody>\n",
              "</table>\n",
              "</div>\n",
              "    <div class=\"colab-df-buttons\">\n",
              "\n",
              "  <div class=\"colab-df-container\">\n",
              "    <button class=\"colab-df-convert\" onclick=\"convertToInteractive('df-4696ffe5-c60c-4ae0-9b28-ee290c1b0f51')\"\n",
              "            title=\"Convert this dataframe to an interactive table.\"\n",
              "            style=\"display:none;\">\n",
              "\n",
              "  <svg xmlns=\"http://www.w3.org/2000/svg\" height=\"24px\" viewBox=\"0 -960 960 960\">\n",
              "    <path d=\"M120-120v-720h720v720H120Zm60-500h600v-160H180v160Zm220 220h160v-160H400v160Zm0 220h160v-160H400v160ZM180-400h160v-160H180v160Zm440 0h160v-160H620v160ZM180-180h160v-160H180v160Zm440 0h160v-160H620v160Z\"/>\n",
              "  </svg>\n",
              "    </button>\n",
              "\n",
              "  <style>\n",
              "    .colab-df-container {\n",
              "      display:flex;\n",
              "      gap: 12px;\n",
              "    }\n",
              "\n",
              "    .colab-df-convert {\n",
              "      background-color: #E8F0FE;\n",
              "      border: none;\n",
              "      border-radius: 50%;\n",
              "      cursor: pointer;\n",
              "      display: none;\n",
              "      fill: #1967D2;\n",
              "      height: 32px;\n",
              "      padding: 0 0 0 0;\n",
              "      width: 32px;\n",
              "    }\n",
              "\n",
              "    .colab-df-convert:hover {\n",
              "      background-color: #E2EBFA;\n",
              "      box-shadow: 0px 1px 2px rgba(60, 64, 67, 0.3), 0px 1px 3px 1px rgba(60, 64, 67, 0.15);\n",
              "      fill: #174EA6;\n",
              "    }\n",
              "\n",
              "    .colab-df-buttons div {\n",
              "      margin-bottom: 4px;\n",
              "    }\n",
              "\n",
              "    [theme=dark] .colab-df-convert {\n",
              "      background-color: #3B4455;\n",
              "      fill: #D2E3FC;\n",
              "    }\n",
              "\n",
              "    [theme=dark] .colab-df-convert:hover {\n",
              "      background-color: #434B5C;\n",
              "      box-shadow: 0px 1px 3px 1px rgba(0, 0, 0, 0.15);\n",
              "      filter: drop-shadow(0px 1px 2px rgba(0, 0, 0, 0.3));\n",
              "      fill: #FFFFFF;\n",
              "    }\n",
              "  </style>\n",
              "\n",
              "    <script>\n",
              "      const buttonEl =\n",
              "        document.querySelector('#df-4696ffe5-c60c-4ae0-9b28-ee290c1b0f51 button.colab-df-convert');\n",
              "      buttonEl.style.display =\n",
              "        google.colab.kernel.accessAllowed ? 'block' : 'none';\n",
              "\n",
              "      async function convertToInteractive(key) {\n",
              "        const element = document.querySelector('#df-4696ffe5-c60c-4ae0-9b28-ee290c1b0f51');\n",
              "        const dataTable =\n",
              "          await google.colab.kernel.invokeFunction('convertToInteractive',\n",
              "                                                    [key], {});\n",
              "        if (!dataTable) return;\n",
              "\n",
              "        const docLinkHtml = 'Like what you see? Visit the ' +\n",
              "          '<a target=\"_blank\" href=https://colab.research.google.com/notebooks/data_table.ipynb>data table notebook</a>'\n",
              "          + ' to learn more about interactive tables.';\n",
              "        element.innerHTML = '';\n",
              "        dataTable['output_type'] = 'display_data';\n",
              "        await google.colab.output.renderOutput(dataTable, element);\n",
              "        const docLink = document.createElement('div');\n",
              "        docLink.innerHTML = docLinkHtml;\n",
              "        element.appendChild(docLink);\n",
              "      }\n",
              "    </script>\n",
              "  </div>\n",
              "\n",
              "\n",
              "<div id=\"df-a1424491-f0aa-4588-ae4f-3ab0a5ad51da\">\n",
              "  <button class=\"colab-df-quickchart\" onclick=\"quickchart('df-a1424491-f0aa-4588-ae4f-3ab0a5ad51da')\"\n",
              "            title=\"Suggest charts\"\n",
              "            style=\"display:none;\">\n",
              "\n",
              "<svg xmlns=\"http://www.w3.org/2000/svg\" height=\"24px\"viewBox=\"0 0 24 24\"\n",
              "     width=\"24px\">\n",
              "    <g>\n",
              "        <path d=\"M19 3H5c-1.1 0-2 .9-2 2v14c0 1.1.9 2 2 2h14c1.1 0 2-.9 2-2V5c0-1.1-.9-2-2-2zM9 17H7v-7h2v7zm4 0h-2V7h2v10zm4 0h-2v-4h2v4z\"/>\n",
              "    </g>\n",
              "</svg>\n",
              "  </button>\n",
              "\n",
              "<style>\n",
              "  .colab-df-quickchart {\n",
              "      --bg-color: #E8F0FE;\n",
              "      --fill-color: #1967D2;\n",
              "      --hover-bg-color: #E2EBFA;\n",
              "      --hover-fill-color: #174EA6;\n",
              "      --disabled-fill-color: #AAA;\n",
              "      --disabled-bg-color: #DDD;\n",
              "  }\n",
              "\n",
              "  [theme=dark] .colab-df-quickchart {\n",
              "      --bg-color: #3B4455;\n",
              "      --fill-color: #D2E3FC;\n",
              "      --hover-bg-color: #434B5C;\n",
              "      --hover-fill-color: #FFFFFF;\n",
              "      --disabled-bg-color: #3B4455;\n",
              "      --disabled-fill-color: #666;\n",
              "  }\n",
              "\n",
              "  .colab-df-quickchart {\n",
              "    background-color: var(--bg-color);\n",
              "    border: none;\n",
              "    border-radius: 50%;\n",
              "    cursor: pointer;\n",
              "    display: none;\n",
              "    fill: var(--fill-color);\n",
              "    height: 32px;\n",
              "    padding: 0;\n",
              "    width: 32px;\n",
              "  }\n",
              "\n",
              "  .colab-df-quickchart:hover {\n",
              "    background-color: var(--hover-bg-color);\n",
              "    box-shadow: 0 1px 2px rgba(60, 64, 67, 0.3), 0 1px 3px 1px rgba(60, 64, 67, 0.15);\n",
              "    fill: var(--button-hover-fill-color);\n",
              "  }\n",
              "\n",
              "  .colab-df-quickchart-complete:disabled,\n",
              "  .colab-df-quickchart-complete:disabled:hover {\n",
              "    background-color: var(--disabled-bg-color);\n",
              "    fill: var(--disabled-fill-color);\n",
              "    box-shadow: none;\n",
              "  }\n",
              "\n",
              "  .colab-df-spinner {\n",
              "    border: 2px solid var(--fill-color);\n",
              "    border-color: transparent;\n",
              "    border-bottom-color: var(--fill-color);\n",
              "    animation:\n",
              "      spin 1s steps(1) infinite;\n",
              "  }\n",
              "\n",
              "  @keyframes spin {\n",
              "    0% {\n",
              "      border-color: transparent;\n",
              "      border-bottom-color: var(--fill-color);\n",
              "      border-left-color: var(--fill-color);\n",
              "    }\n",
              "    20% {\n",
              "      border-color: transparent;\n",
              "      border-left-color: var(--fill-color);\n",
              "      border-top-color: var(--fill-color);\n",
              "    }\n",
              "    30% {\n",
              "      border-color: transparent;\n",
              "      border-left-color: var(--fill-color);\n",
              "      border-top-color: var(--fill-color);\n",
              "      border-right-color: var(--fill-color);\n",
              "    }\n",
              "    40% {\n",
              "      border-color: transparent;\n",
              "      border-right-color: var(--fill-color);\n",
              "      border-top-color: var(--fill-color);\n",
              "    }\n",
              "    60% {\n",
              "      border-color: transparent;\n",
              "      border-right-color: var(--fill-color);\n",
              "    }\n",
              "    80% {\n",
              "      border-color: transparent;\n",
              "      border-right-color: var(--fill-color);\n",
              "      border-bottom-color: var(--fill-color);\n",
              "    }\n",
              "    90% {\n",
              "      border-color: transparent;\n",
              "      border-bottom-color: var(--fill-color);\n",
              "    }\n",
              "  }\n",
              "</style>\n",
              "\n",
              "  <script>\n",
              "    async function quickchart(key) {\n",
              "      const quickchartButtonEl =\n",
              "        document.querySelector('#' + key + ' button');\n",
              "      quickchartButtonEl.disabled = true;  // To prevent multiple clicks.\n",
              "      quickchartButtonEl.classList.add('colab-df-spinner');\n",
              "      try {\n",
              "        const charts = await google.colab.kernel.invokeFunction(\n",
              "            'suggestCharts', [key], {});\n",
              "      } catch (error) {\n",
              "        console.error('Error during call to suggestCharts:', error);\n",
              "      }\n",
              "      quickchartButtonEl.classList.remove('colab-df-spinner');\n",
              "      quickchartButtonEl.classList.add('colab-df-quickchart-complete');\n",
              "    }\n",
              "    (() => {\n",
              "      let quickchartButtonEl =\n",
              "        document.querySelector('#df-a1424491-f0aa-4588-ae4f-3ab0a5ad51da button');\n",
              "      quickchartButtonEl.style.display =\n",
              "        google.colab.kernel.accessAllowed ? 'block' : 'none';\n",
              "    })();\n",
              "  </script>\n",
              "</div>\n",
              "\n",
              "    </div>\n",
              "  </div>\n"
            ],
            "application/vnd.google.colaboratory.intrinsic+json": {
              "type": "dataframe",
              "variable_name": "df_balanced",
              "summary": "{\n  \"name\": \"df_balanced\",\n  \"rows\": 5524,\n  \"fields\": [\n    {\n      \"column\": \"text\",\n      \"properties\": {\n        \"dtype\": \"string\",\n        \"num_unique_values\": 5523,\n        \"samples\": [\n          \"The 'LeBron James' Kid Is Back We missed you.\",\n          \"Here's How Rats End Up In Toilet Bowls Fun fact: Rats can hold their breath for up to three minutes.\",\n          \"Washington Wizards' Dynamic Backcourt Duo Of John Wall And Bradley Beal Is Making Waves \"\n        ],\n        \"semantic_type\": \"\",\n        \"description\": \"\"\n      }\n    },\n    {\n      \"column\": \"category\",\n      \"properties\": {\n        \"dtype\": \"category\",\n        \"num_unique_values\": 4,\n        \"samples\": [\n          \"SPORTS\",\n          \"SCIENCE\",\n          \"BUSINESS\"\n        ],\n        \"semantic_type\": \"\",\n        \"description\": \"\"\n      }\n    },\n    {\n      \"column\": \"category_num\",\n      \"properties\": {\n        \"dtype\": \"number\",\n        \"std\": 1,\n        \"min\": 0,\n        \"max\": 3,\n        \"num_unique_values\": 4,\n        \"samples\": [\n          1,\n          3,\n          0\n        ],\n        \"semantic_type\": \"\",\n        \"description\": \"\"\n      }\n    },\n    {\n      \"column\": \"preprocessed_txt\",\n      \"properties\": {\n        \"dtype\": \"string\",\n        \"num_unique_values\": 5523,\n        \"samples\": [\n          \"LeBron James Kid miss\",\n          \"rat End Toilet Bowls Fun fact rat hold breath minute\",\n          \"Washington Wizards Dynamic Backcourt Duo John Wall Bradley Beal make wave\"\n        ],\n        \"semantic_type\": \"\",\n        \"description\": \"\"\n      }\n    }\n  ]\n}"
            }
          },
          "metadata": {},
          "execution_count": 62
        }
      ]
    },
    {
      "cell_type": "markdown",
      "source": [
        "## **Build a model with pre processed text**"
      ],
      "metadata": {
        "id": "wCQKU6AAXfx_"
      }
    },
    {
      "cell_type": "code",
      "source": [
        "X_train, X_test, y_train, y_test = train_test_split(\n",
        "    df_balanced.preprocessed_txt,\n",
        "    df_balanced.category_num,\n",
        "    test_size=0.2, # 20% samples will go to test dataset\n",
        "    random_state=2022,\n",
        "    stratify=df_balanced.category_num\n",
        ")"
      ],
      "metadata": {
        "id": "uuYW4nUdUXXl"
      },
      "execution_count": 63,
      "outputs": []
    },
    {
      "cell_type": "code",
      "source": [
        "print(X_train.shape)\n",
        "X_train.head()"
      ],
      "metadata": {
        "colab": {
          "base_uri": "https://localhost:8080/",
          "height": 258
        },
        "id": "NBPPPA0yUXU1",
        "outputId": "e47bac41-68ce-41e6-8c9c-b584a1246cc8"
      },
      "execution_count": 64,
      "outputs": [
        {
          "output_type": "stream",
          "name": "stdout",
          "text": [
            "(4419,)\n"
          ]
        },
        {
          "output_type": "execute_result",
          "data": {
            "text/plain": [
              "7589     ovulate woman prefer Images Penetration Images...\n",
              "10442     scientist Discover Spooky Influence Baby Choices\n",
              "8792     Olympic Race Walker step Propose Boyfriend Rio...\n",
              "1733     Beloved Bipedal Bear name Pedals believe kill ...\n",
              "2526       Elizabeth Smart give Birth Baby Girl Father say\n",
              "Name: preprocessed_txt, dtype: object"
            ],
            "text/html": [
              "<div>\n",
              "<style scoped>\n",
              "    .dataframe tbody tr th:only-of-type {\n",
              "        vertical-align: middle;\n",
              "    }\n",
              "\n",
              "    .dataframe tbody tr th {\n",
              "        vertical-align: top;\n",
              "    }\n",
              "\n",
              "    .dataframe thead th {\n",
              "        text-align: right;\n",
              "    }\n",
              "</style>\n",
              "<table border=\"1\" class=\"dataframe\">\n",
              "  <thead>\n",
              "    <tr style=\"text-align: right;\">\n",
              "      <th></th>\n",
              "      <th>preprocessed_txt</th>\n",
              "    </tr>\n",
              "  </thead>\n",
              "  <tbody>\n",
              "    <tr>\n",
              "      <th>7589</th>\n",
              "      <td>ovulate woman prefer Images Penetration Images...</td>\n",
              "    </tr>\n",
              "    <tr>\n",
              "      <th>10442</th>\n",
              "      <td>scientist Discover Spooky Influence Baby Choices</td>\n",
              "    </tr>\n",
              "    <tr>\n",
              "      <th>8792</th>\n",
              "      <td>Olympic Race Walker step Propose Boyfriend Rio...</td>\n",
              "    </tr>\n",
              "    <tr>\n",
              "      <th>1733</th>\n",
              "      <td>Beloved Bipedal Bear name Pedals believe kill ...</td>\n",
              "    </tr>\n",
              "    <tr>\n",
              "      <th>2526</th>\n",
              "      <td>Elizabeth Smart give Birth Baby Girl Father say</td>\n",
              "    </tr>\n",
              "  </tbody>\n",
              "</table>\n",
              "</div><br><label><b>dtype:</b> object</label>"
            ]
          },
          "metadata": {},
          "execution_count": 64
        }
      ]
    },
    {
      "cell_type": "code",
      "source": [
        "y_train.value_counts()"
      ],
      "metadata": {
        "colab": {
          "base_uri": "https://localhost:8080/",
          "height": 241
        },
        "id": "rPio94NeUXPd",
        "outputId": "29d9d12e-e3fb-4875-a33e-ef2c7069cb80"
      },
      "execution_count": 65,
      "outputs": [
        {
          "output_type": "execute_result",
          "data": {
            "text/plain": [
              "category_num\n",
              "3    1105\n",
              "2    1105\n",
              "0    1105\n",
              "1    1104\n",
              "Name: count, dtype: int64"
            ],
            "text/html": [
              "<div>\n",
              "<style scoped>\n",
              "    .dataframe tbody tr th:only-of-type {\n",
              "        vertical-align: middle;\n",
              "    }\n",
              "\n",
              "    .dataframe tbody tr th {\n",
              "        vertical-align: top;\n",
              "    }\n",
              "\n",
              "    .dataframe thead th {\n",
              "        text-align: right;\n",
              "    }\n",
              "</style>\n",
              "<table border=\"1\" class=\"dataframe\">\n",
              "  <thead>\n",
              "    <tr style=\"text-align: right;\">\n",
              "      <th></th>\n",
              "      <th>count</th>\n",
              "    </tr>\n",
              "    <tr>\n",
              "      <th>category_num</th>\n",
              "      <th></th>\n",
              "    </tr>\n",
              "  </thead>\n",
              "  <tbody>\n",
              "    <tr>\n",
              "      <th>3</th>\n",
              "      <td>1105</td>\n",
              "    </tr>\n",
              "    <tr>\n",
              "      <th>2</th>\n",
              "      <td>1105</td>\n",
              "    </tr>\n",
              "    <tr>\n",
              "      <th>0</th>\n",
              "      <td>1105</td>\n",
              "    </tr>\n",
              "    <tr>\n",
              "      <th>1</th>\n",
              "      <td>1104</td>\n",
              "    </tr>\n",
              "  </tbody>\n",
              "</table>\n",
              "</div><br><label><b>dtype:</b> int64</label>"
            ]
          },
          "metadata": {},
          "execution_count": 65
        }
      ]
    },
    {
      "cell_type": "code",
      "source": [
        "y_test.value_counts()"
      ],
      "metadata": {
        "colab": {
          "base_uri": "https://localhost:8080/",
          "height": 241
        },
        "id": "zsil4--xUXMt",
        "outputId": "259b73aa-5e28-4c85-b2b4-b0b1c31f6fcf"
      },
      "execution_count": 66,
      "outputs": [
        {
          "output_type": "execute_result",
          "data": {
            "text/plain": [
              "category_num\n",
              "1    277\n",
              "0    276\n",
              "3    276\n",
              "2    276\n",
              "Name: count, dtype: int64"
            ],
            "text/html": [
              "<div>\n",
              "<style scoped>\n",
              "    .dataframe tbody tr th:only-of-type {\n",
              "        vertical-align: middle;\n",
              "    }\n",
              "\n",
              "    .dataframe tbody tr th {\n",
              "        vertical-align: top;\n",
              "    }\n",
              "\n",
              "    .dataframe thead th {\n",
              "        text-align: right;\n",
              "    }\n",
              "</style>\n",
              "<table border=\"1\" class=\"dataframe\">\n",
              "  <thead>\n",
              "    <tr style=\"text-align: right;\">\n",
              "      <th></th>\n",
              "      <th>count</th>\n",
              "    </tr>\n",
              "    <tr>\n",
              "      <th>category_num</th>\n",
              "      <th></th>\n",
              "    </tr>\n",
              "  </thead>\n",
              "  <tbody>\n",
              "    <tr>\n",
              "      <th>1</th>\n",
              "      <td>277</td>\n",
              "    </tr>\n",
              "    <tr>\n",
              "      <th>0</th>\n",
              "      <td>276</td>\n",
              "    </tr>\n",
              "    <tr>\n",
              "      <th>3</th>\n",
              "      <td>276</td>\n",
              "    </tr>\n",
              "    <tr>\n",
              "      <th>2</th>\n",
              "      <td>276</td>\n",
              "    </tr>\n",
              "  </tbody>\n",
              "</table>\n",
              "</div><br><label><b>dtype:</b> int64</label>"
            ]
          },
          "metadata": {},
          "execution_count": 66
        }
      ]
    },
    {
      "cell_type": "markdown",
      "source": [
        "### **Attempt 1 : Use 1-gram and Bi-grams (1 & 2)**"
      ],
      "metadata": {
        "id": "eGUSRnd0YLR_"
      }
    },
    {
      "cell_type": "code",
      "source": [
        "#1. create a pipeline object\n",
        "clf = Pipeline([\n",
        "    ('vectorizer_bow', CountVectorizer(ngram_range = (1, 2))),        #using the ngram_range parameter\n",
        "    ('Multi NB', MultinomialNB())\n",
        "])\n",
        "\n",
        "#2. fit with X_train and y_train\n",
        "clf.fit(X_train, y_train)\n",
        "\n",
        "\n",
        "#3. get the predictions for X_test and store it in y_pred\n",
        "y_pred = clf.predict(X_test)\n",
        "\n",
        "\n",
        "#4. print the classfication report\n",
        "print(classification_report(y_test, y_pred))"
      ],
      "metadata": {
        "colab": {
          "base_uri": "https://localhost:8080/"
        },
        "id": "uIFiADc0X_1M",
        "outputId": "8a7ede61-b3b0-484b-902c-1cc68fc321c4"
      },
      "execution_count": 67,
      "outputs": [
        {
          "output_type": "stream",
          "name": "stdout",
          "text": [
            "              precision    recall  f1-score   support\n",
            "\n",
            "           0       0.80      0.88      0.84       276\n",
            "           1       0.92      0.82      0.87       277\n",
            "           2       0.83      0.92      0.87       276\n",
            "           3       0.90      0.81      0.85       276\n",
            "\n",
            "    accuracy                           0.86      1105\n",
            "   macro avg       0.86      0.86      0.86      1105\n",
            "weighted avg       0.86      0.86      0.86      1105\n",
            "\n"
          ]
        }
      ]
    },
    {
      "cell_type": "markdown",
      "source": [
        "***1. See the difference with 1-gram & Bi-gram model***  ➿ **( before preorocess - RAW Text )**"
      ],
      "metadata": {
        "id": "N_BIP43lYWxn"
      }
    },
    {
      "cell_type": "markdown",
      "source": [
        "![Capture555.PNG](data:image/png;base64,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)"
      ],
      "metadata": {
        "id": "7CIwYx-vY6e4"
      }
    },
    {
      "cell_type": "markdown",
      "source": [
        "If you compare above classification report for (1,2) gram with the one from unprocessed text, you will find some improvement in the model that uses preprocessed cleaned up text. Hence we can conclude that for this particular problem using preprocessing (removing stop words, lemmatization) is improving the performance of the model"
      ],
      "metadata": {
        "id": "8wgja_paZJF_"
      }
    },
    {
      "cell_type": "markdown",
      "source": [
        "### **Plot confusion matrix**"
      ],
      "metadata": {
        "id": "6d2PVMidZffI"
      }
    },
    {
      "cell_type": "code",
      "source": [
        "from sklearn.metrics import confusion_matrix\n",
        "\n",
        "cm = confusion_matrix(y_test, y_pred)\n",
        "cm"
      ],
      "metadata": {
        "colab": {
          "base_uri": "https://localhost:8080/"
        },
        "id": "9aPI_DHBX_wA",
        "outputId": "f4ab7344-025e-4551-d900-06b6ecf62147"
      },
      "execution_count": 70,
      "outputs": [
        {
          "output_type": "execute_result",
          "data": {
            "text/plain": [
              "array([[243,   8,  17,   8],\n",
              "       [ 10, 228,  29,  10],\n",
              "       [ 15,   2, 253,   6],\n",
              "       [ 36,   9,   7, 224]])"
            ]
          },
          "metadata": {},
          "execution_count": 70
        }
      ]
    },
    {
      "cell_type": "code",
      "source": [
        "from matplotlib import pyplot as plt\n",
        "import seaborn as sn\n",
        "\n",
        "plt.figure(figsize = (10,7))\n",
        "sn.heatmap(cm, annot=True, fmt='d')\n",
        "plt.xlabel('Prediction')\n",
        "plt.ylabel('Truth')"
      ],
      "metadata": {
        "colab": {
          "base_uri": "https://localhost:8080/",
          "height": 636
        },
        "id": "WO8vWJ6TX_if",
        "outputId": "ea434915-a61e-46d2-c167-0a277795f5b1"
      },
      "execution_count": 71,
      "outputs": [
        {
          "output_type": "execute_result",
          "data": {
            "text/plain": [
              "Text(95.72222222222221, 0.5, 'Truth')"
            ]
          },
          "metadata": {},
          "execution_count": 71
        },
        {
          "output_type": "display_data",
          "data": {
            "text/plain": [
              "<Figure size 1000x700 with 2 Axes>"
            ],
            "image/png": "[encoded data removed]"
          },
          "metadata": {}
        }
      ]
    }
  ]
}