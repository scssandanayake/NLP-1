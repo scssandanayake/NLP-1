{
  "nbformat": 4,
  "nbformat_minor": 0,
  "metadata": {
    "colab": {
      "provenance": []
    },
    "kernelspec": {
      "name": "python3",
      "display_name": "Python 3"
    },
    "language_info": {
      "name": "python"
    }
  },
  "cells": [
    {
      "cell_type": "code",
      "source": [
        "!pip install tensorflow_hub"
      ],
      "metadata": {
        "colab": {
          "base_uri": "https://localhost:8080/"
        },
        "id": "l11tO6d21cCj",
        "outputId": "c65b275c-f4a0-434f-e636-3c11c0c7da61"
      },
      "execution_count": null,
      "outputs": [
        {
          "output_type": "stream",
          "name": "stdout",
          "text": [
            "Requirement already satisfied: tensorflow_hub in /usr/local/lib/python3.10/dist-packages (0.16.1)\n",
            "Requirement already satisfied: numpy>=1.12.0 in /usr/local/lib/python3.10/dist-packages (from tensorflow_hub) (1.26.4)\n",
            "Requirement already satisfied: protobuf>=3.19.6 in /usr/local/lib/python3.10/dist-packages (from tensorflow_hub) (3.20.3)\n",
            "Requirement already satisfied: tf-keras>=2.14.1 in /usr/local/lib/python3.10/dist-packages (from tensorflow_hub) (2.17.0)\n",
            "Requirement already satisfied: tensorflow<2.18,>=2.17 in /usr/local/lib/python3.10/dist-packages (from tf-keras>=2.14.1->tensorflow_hub) (2.17.0)\n",
            "Requirement already satisfied: absl-py>=1.0.0 in /usr/local/lib/python3.10/dist-packages (from tensorflow<2.18,>=2.17->tf-keras>=2.14.1->tensorflow_hub) (1.4.0)\n",
            "Requirement already satisfied: astunparse>=1.6.0 in /usr/local/lib/python3.10/dist-packages (from tensorflow<2.18,>=2.17->tf-keras>=2.14.1->tensorflow_hub) (1.6.3)\n",
            "Requirement already satisfied: flatbuffers>=24.3.25 in /usr/local/lib/python3.10/dist-packages (from tensorflow<2.18,>=2.17->tf-keras>=2.14.1->tensorflow_hub) (24.3.25)\n",
            "Requirement already satisfied: gast!=0.5.0,!=0.5.1,!=0.5.2,>=0.2.1 in /usr/local/lib/python3.10/dist-packages (from tensorflow<2.18,>=2.17->tf-keras>=2.14.1->tensorflow_hub) (0.6.0)\n",
            "Requirement already satisfied: google-pasta>=0.1.1 in /usr/local/lib/python3.10/dist-packages (from tensorflow<2.18,>=2.17->tf-keras>=2.14.1->tensorflow_hub) (0.2.0)\n",
            "Requirement already satisfied: h5py>=3.10.0 in /usr/local/lib/python3.10/dist-packages (from tensorflow<2.18,>=2.17->tf-keras>=2.14.1->tensorflow_hub) (3.11.0)\n",
            "Requirement already satisfied: libclang>=13.0.0 in /usr/local/lib/python3.10/dist-packages (from tensorflow<2.18,>=2.17->tf-keras>=2.14.1->tensorflow_hub) (18.1.1)\n",
            "Requirement already satisfied: ml-dtypes<0.5.0,>=0.3.1 in /usr/local/lib/python3.10/dist-packages (from tensorflow<2.18,>=2.17->tf-keras>=2.14.1->tensorflow_hub) (0.4.0)\n",
            "Requirement already satisfied: opt-einsum>=2.3.2 in /usr/local/lib/python3.10/dist-packages (from tensorflow<2.18,>=2.17->tf-keras>=2.14.1->tensorflow_hub) (3.3.0)\n",
            "Requirement already satisfied: packaging in /usr/local/lib/python3.10/dist-packages (from tensorflow<2.18,>=2.17->tf-keras>=2.14.1->tensorflow_hub) (24.1)\n",
            "Requirement already satisfied: requests<3,>=2.21.0 in /usr/local/lib/python3.10/dist-packages (from tensorflow<2.18,>=2.17->tf-keras>=2.14.1->tensorflow_hub) (2.32.3)\n",
            "Requirement already satisfied: setuptools in /usr/local/lib/python3.10/dist-packages (from tensorflow<2.18,>=2.17->tf-keras>=2.14.1->tensorflow_hub) (71.0.4)\n",
            "Requirement already satisfied: six>=1.12.0 in /usr/local/lib/python3.10/dist-packages (from tensorflow<2.18,>=2.17->tf-keras>=2.14.1->tensorflow_hub) (1.16.0)\n",
            "Requirement already satisfied: termcolor>=1.1.0 in /usr/local/lib/python3.10/dist-packages (from tensorflow<2.18,>=2.17->tf-keras>=2.14.1->tensorflow_hub) (2.4.0)\n",
            "Requirement already satisfied: typing-extensions>=3.6.6 in /usr/local/lib/python3.10/dist-packages (from tensorflow<2.18,>=2.17->tf-keras>=2.14.1->tensorflow_hub) (4.12.2)\n",
            "Requirement already satisfied: wrapt>=1.11.0 in /usr/local/lib/python3.10/dist-packages (from tensorflow<2.18,>=2.17->tf-keras>=2.14.1->tensorflow_hub) (1.16.0)\n",
            "Requirement already satisfied: grpcio<2.0,>=1.24.3 in /usr/local/lib/python3.10/dist-packages (from tensorflow<2.18,>=2.17->tf-keras>=2.14.1->tensorflow_hub) (1.64.1)\n",
            "Requirement already satisfied: tensorboard<2.18,>=2.17 in /usr/local/lib/python3.10/dist-packages (from tensorflow<2.18,>=2.17->tf-keras>=2.14.1->tensorflow_hub) (2.17.0)\n",
            "Requirement already satisfied: keras>=3.2.0 in /usr/local/lib/python3.10/dist-packages (from tensorflow<2.18,>=2.17->tf-keras>=2.14.1->tensorflow_hub) (3.4.1)\n",
            "Requirement already satisfied: tensorflow-io-gcs-filesystem>=0.23.1 in /usr/local/lib/python3.10/dist-packages (from tensorflow<2.18,>=2.17->tf-keras>=2.14.1->tensorflow_hub) (0.37.1)\n",
            "Requirement already satisfied: wheel<1.0,>=0.23.0 in /usr/local/lib/python3.10/dist-packages (from astunparse>=1.6.0->tensorflow<2.18,>=2.17->tf-keras>=2.14.1->tensorflow_hub) (0.44.0)\n",
            "Requirement already satisfied: rich in /usr/local/lib/python3.10/dist-packages (from keras>=3.2.0->tensorflow<2.18,>=2.17->tf-keras>=2.14.1->tensorflow_hub) (13.8.0)\n",
            "Requirement already satisfied: namex in /usr/local/lib/python3.10/dist-packages (from keras>=3.2.0->tensorflow<2.18,>=2.17->tf-keras>=2.14.1->tensorflow_hub) (0.0.8)\n",
            "Requirement already satisfied: optree in /usr/local/lib/python3.10/dist-packages (from keras>=3.2.0->tensorflow<2.18,>=2.17->tf-keras>=2.14.1->tensorflow_hub) (0.12.1)\n",
            "Requirement already satisfied: charset-normalizer<4,>=2 in /usr/local/lib/python3.10/dist-packages (from requests<3,>=2.21.0->tensorflow<2.18,>=2.17->tf-keras>=2.14.1->tensorflow_hub) (3.3.2)\n",
            "Requirement already satisfied: idna<4,>=2.5 in /usr/local/lib/python3.10/dist-packages (from requests<3,>=2.21.0->tensorflow<2.18,>=2.17->tf-keras>=2.14.1->tensorflow_hub) (3.8)\n",
            "Requirement already satisfied: urllib3<3,>=1.21.1 in /usr/local/lib/python3.10/dist-packages (from requests<3,>=2.21.0->tensorflow<2.18,>=2.17->tf-keras>=2.14.1->tensorflow_hub) (2.0.7)\n",
            "Requirement already satisfied: certifi>=2017.4.17 in /usr/local/lib/python3.10/dist-packages (from requests<3,>=2.21.0->tensorflow<2.18,>=2.17->tf-keras>=2.14.1->tensorflow_hub) (2024.8.30)\n",
            "Requirement already satisfied: markdown>=2.6.8 in /usr/local/lib/python3.10/dist-packages (from tensorboard<2.18,>=2.17->tensorflow<2.18,>=2.17->tf-keras>=2.14.1->tensorflow_hub) (3.7)\n",
            "Requirement already satisfied: tensorboard-data-server<0.8.0,>=0.7.0 in /usr/local/lib/python3.10/dist-packages (from tensorboard<2.18,>=2.17->tensorflow<2.18,>=2.17->tf-keras>=2.14.1->tensorflow_hub) (0.7.2)\n",
            "Requirement already satisfied: werkzeug>=1.0.1 in /usr/local/lib/python3.10/dist-packages (from tensorboard<2.18,>=2.17->tensorflow<2.18,>=2.17->tf-keras>=2.14.1->tensorflow_hub) (3.0.4)\n",
            "Requirement already satisfied: MarkupSafe>=2.1.1 in /usr/local/lib/python3.10/dist-packages (from werkzeug>=1.0.1->tensorboard<2.18,>=2.17->tensorflow<2.18,>=2.17->tf-keras>=2.14.1->tensorflow_hub) (2.1.5)\n",
            "Requirement already satisfied: markdown-it-py>=2.2.0 in /usr/local/lib/python3.10/dist-packages (from rich->keras>=3.2.0->tensorflow<2.18,>=2.17->tf-keras>=2.14.1->tensorflow_hub) (3.0.0)\n",
            "Requirement already satisfied: pygments<3.0.0,>=2.13.0 in /usr/local/lib/python3.10/dist-packages (from rich->keras>=3.2.0->tensorflow<2.18,>=2.17->tf-keras>=2.14.1->tensorflow_hub) (2.16.1)\n",
            "Requirement already satisfied: mdurl~=0.1 in /usr/local/lib/python3.10/dist-packages (from markdown-it-py>=2.2.0->rich->keras>=3.2.0->tensorflow<2.18,>=2.17->tf-keras>=2.14.1->tensorflow_hub) (0.1.2)\n"
          ]
        }
      ]
    },
    {
      "cell_type": "code",
      "source": [
        "!pip install tensorflow_text"
      ],
      "metadata": {
        "colab": {
          "base_uri": "https://localhost:8080/"
        },
        "id": "G4iLTIzb2tiK",
        "outputId": "28d57142-4f35-4011-a48f-f6ea1546bb70"
      },
      "execution_count": null,
      "outputs": [
        {
          "output_type": "stream",
          "name": "stdout",
          "text": [
            "Collecting tensorflow_text\n",
            "  Downloading tensorflow_text-2.17.0-cp310-cp310-manylinux_2_17_x86_64.manylinux2014_x86_64.whl.metadata (1.8 kB)\n",
            "Requirement already satisfied: tensorflow<2.18,>=2.17.0 in /usr/local/lib/python3.10/dist-packages (from tensorflow_text) (2.17.0)\n",
            "Requirement already satisfied: absl-py>=1.0.0 in /usr/local/lib/python3.10/dist-packages (from tensorflow<2.18,>=2.17.0->tensorflow_text) (1.4.0)\n",
            "Requirement already satisfied: astunparse>=1.6.0 in /usr/local/lib/python3.10/dist-packages (from tensorflow<2.18,>=2.17.0->tensorflow_text) (1.6.3)\n",
            "Requirement already satisfied: flatbuffers>=24.3.25 in /usr/local/lib/python3.10/dist-packages (from tensorflow<2.18,>=2.17.0->tensorflow_text) (24.3.25)\n",
            "Requirement already satisfied: gast!=0.5.0,!=0.5.1,!=0.5.2,>=0.2.1 in /usr/local/lib/python3.10/dist-packages (from tensorflow<2.18,>=2.17.0->tensorflow_text) (0.6.0)\n",
            "Requirement already satisfied: google-pasta>=0.1.1 in /usr/local/lib/python3.10/dist-packages (from tensorflow<2.18,>=2.17.0->tensorflow_text) (0.2.0)\n",
            "Requirement already satisfied: h5py>=3.10.0 in /usr/local/lib/python3.10/dist-packages (from tensorflow<2.18,>=2.17.0->tensorflow_text) (3.11.0)\n",
            "Requirement already satisfied: libclang>=13.0.0 in /usr/local/lib/python3.10/dist-packages (from tensorflow<2.18,>=2.17.0->tensorflow_text) (18.1.1)\n",
            "Requirement already satisfied: ml-dtypes<0.5.0,>=0.3.1 in /usr/local/lib/python3.10/dist-packages (from tensorflow<2.18,>=2.17.0->tensorflow_text) (0.4.0)\n",
            "Requirement already satisfied: opt-einsum>=2.3.2 in /usr/local/lib/python3.10/dist-packages (from tensorflow<2.18,>=2.17.0->tensorflow_text) (3.3.0)\n",
            "Requirement already satisfied: packaging in /usr/local/lib/python3.10/dist-packages (from tensorflow<2.18,>=2.17.0->tensorflow_text) (24.1)\n",
            "Requirement already satisfied: protobuf!=4.21.0,!=4.21.1,!=4.21.2,!=4.21.3,!=4.21.4,!=4.21.5,<5.0.0dev,>=3.20.3 in /usr/local/lib/python3.10/dist-packages (from tensorflow<2.18,>=2.17.0->tensorflow_text) (3.20.3)\n",
            "Requirement already satisfied: requests<3,>=2.21.0 in /usr/local/lib/python3.10/dist-packages (from tensorflow<2.18,>=2.17.0->tensorflow_text) (2.32.3)\n",
            "Requirement already satisfied: setuptools in /usr/local/lib/python3.10/dist-packages (from tensorflow<2.18,>=2.17.0->tensorflow_text) (71.0.4)\n",
            "Requirement already satisfied: six>=1.12.0 in /usr/local/lib/python3.10/dist-packages (from tensorflow<2.18,>=2.17.0->tensorflow_text) (1.16.0)\n",
            "Requirement already satisfied: termcolor>=1.1.0 in /usr/local/lib/python3.10/dist-packages (from tensorflow<2.18,>=2.17.0->tensorflow_text) (2.4.0)\n",
            "Requirement already satisfied: typing-extensions>=3.6.6 in /usr/local/lib/python3.10/dist-packages (from tensorflow<2.18,>=2.17.0->tensorflow_text) (4.12.2)\n",
            "Requirement already satisfied: wrapt>=1.11.0 in /usr/local/lib/python3.10/dist-packages (from tensorflow<2.18,>=2.17.0->tensorflow_text) (1.16.0)\n",
            "Requirement already satisfied: grpcio<2.0,>=1.24.3 in /usr/local/lib/python3.10/dist-packages (from tensorflow<2.18,>=2.17.0->tensorflow_text) (1.64.1)\n",
            "Requirement already satisfied: tensorboard<2.18,>=2.17 in /usr/local/lib/python3.10/dist-packages (from tensorflow<2.18,>=2.17.0->tensorflow_text) (2.17.0)\n",
            "Requirement already satisfied: keras>=3.2.0 in /usr/local/lib/python3.10/dist-packages (from tensorflow<2.18,>=2.17.0->tensorflow_text) (3.4.1)\n",
            "Requirement already satisfied: tensorflow-io-gcs-filesystem>=0.23.1 in /usr/local/lib/python3.10/dist-packages (from tensorflow<2.18,>=2.17.0->tensorflow_text) (0.37.1)\n",
            "Requirement already satisfied: numpy<2.0.0,>=1.23.5 in /usr/local/lib/python3.10/dist-packages (from tensorflow<2.18,>=2.17.0->tensorflow_text) (1.26.4)\n",
            "Requirement already satisfied: wheel<1.0,>=0.23.0 in /usr/local/lib/python3.10/dist-packages (from astunparse>=1.6.0->tensorflow<2.18,>=2.17.0->tensorflow_text) (0.44.0)\n",
            "Requirement already satisfied: rich in /usr/local/lib/python3.10/dist-packages (from keras>=3.2.0->tensorflow<2.18,>=2.17.0->tensorflow_text) (13.8.0)\n",
            "Requirement already satisfied: namex in /usr/local/lib/python3.10/dist-packages (from keras>=3.2.0->tensorflow<2.18,>=2.17.0->tensorflow_text) (0.0.8)\n",
            "Requirement already satisfied: optree in /usr/local/lib/python3.10/dist-packages (from keras>=3.2.0->tensorflow<2.18,>=2.17.0->tensorflow_text) (0.12.1)\n",
            "Requirement already satisfied: charset-normalizer<4,>=2 in /usr/local/lib/python3.10/dist-packages (from requests<3,>=2.21.0->tensorflow<2.18,>=2.17.0->tensorflow_text) (3.3.2)\n",
            "Requirement already satisfied: idna<4,>=2.5 in /usr/local/lib/python3.10/dist-packages (from requests<3,>=2.21.0->tensorflow<2.18,>=2.17.0->tensorflow_text) (3.8)\n",
            "Requirement already satisfied: urllib3<3,>=1.21.1 in /usr/local/lib/python3.10/dist-packages (from requests<3,>=2.21.0->tensorflow<2.18,>=2.17.0->tensorflow_text) (2.0.7)\n",
            "Requirement already satisfied: certifi>=2017.4.17 in /usr/local/lib/python3.10/dist-packages (from requests<3,>=2.21.0->tensorflow<2.18,>=2.17.0->tensorflow_text) (2024.8.30)\n",
            "Requirement already satisfied: markdown>=2.6.8 in /usr/local/lib/python3.10/dist-packages (from tensorboard<2.18,>=2.17->tensorflow<2.18,>=2.17.0->tensorflow_text) (3.7)\n",
            "Requirement already satisfied: tensorboard-data-server<0.8.0,>=0.7.0 in /usr/local/lib/python3.10/dist-packages (from tensorboard<2.18,>=2.17->tensorflow<2.18,>=2.17.0->tensorflow_text) (0.7.2)\n",
            "Requirement already satisfied: werkzeug>=1.0.1 in /usr/local/lib/python3.10/dist-packages (from tensorboard<2.18,>=2.17->tensorflow<2.18,>=2.17.0->tensorflow_text) (3.0.4)\n",
            "Requirement already satisfied: MarkupSafe>=2.1.1 in /usr/local/lib/python3.10/dist-packages (from werkzeug>=1.0.1->tensorboard<2.18,>=2.17->tensorflow<2.18,>=2.17.0->tensorflow_text) (2.1.5)\n",
            "Requirement already satisfied: markdown-it-py>=2.2.0 in /usr/local/lib/python3.10/dist-packages (from rich->keras>=3.2.0->tensorflow<2.18,>=2.17.0->tensorflow_text) (3.0.0)\n",
            "Requirement already satisfied: pygments<3.0.0,>=2.13.0 in /usr/local/lib/python3.10/dist-packages (from rich->keras>=3.2.0->tensorflow<2.18,>=2.17.0->tensorflow_text) (2.16.1)\n",
            "Requirement already satisfied: mdurl~=0.1 in /usr/local/lib/python3.10/dist-packages (from markdown-it-py>=2.2.0->rich->keras>=3.2.0->tensorflow<2.18,>=2.17.0->tensorflow_text) (0.1.2)\n",
            "Downloading tensorflow_text-2.17.0-cp310-cp310-manylinux_2_17_x86_64.manylinux2014_x86_64.whl (5.2 MB)\n",
            "\u001b[2K   \u001b[90m━━━━━━━━━━━━━━━━━━━━━━━━━━━━━━━━━━━━━━━━\u001b[0m \u001b[32m5.2/5.2 MB\u001b[0m \u001b[31m47.4 MB/s\u001b[0m eta \u001b[36m0:00:00\u001b[0m\n",
            "\u001b[?25hInstalling collected packages: tensorflow_text\n",
            "Successfully installed tensorflow_text-2.17.0\n"
          ]
        }
      ]
    },
    {
      "cell_type": "code",
      "source": [
        "#import tensorflow hub and text\n",
        "import tensorflow_hub as hub\n",
        "import tensorflow_text as text"
      ],
      "metadata": {
        "id": "1J4a0nAn3GUr"
      },
      "execution_count": null,
      "outputs": []
    },
    {
      "cell_type": "code",
      "source": [
        "#to preprocess the text using allocated preprocessing model for basic BERT model(below)\n",
        "preprocess_url = \"https://tfhub.dev/tensorflow/bert_en_uncased_preprocess/3\"\n",
        "#use basic encoder BERT model for encoding task\n",
        "encoder_url = \"https://tfhub.dev/tensorflow/bert_en_uncased_L-12_H-768_A-12/4\""
      ],
      "metadata": {
        "id": "eiLUPb843KQz"
      },
      "execution_count": null,
      "outputs": []
    },
    {
      "cell_type": "code",
      "source": [
        "#create hub layer\n",
        "bert_preprocess_model = hub.KerasLayer(preprocess_url)"
      ],
      "metadata": {
        "id": "xnuV9Yz4-Hly"
      },
      "execution_count": null,
      "outputs": []
    },
    {
      "cell_type": "code",
      "source": [
        "#provide sample statements for preprocess\n",
        "text_test = ['nice movie indeed','I love python programming']\n",
        "text_preprocessed = bert_preprocess_model(text_test) #BERT modle act like a function pointer\n",
        "text_preprocessed.keys() #dictionary"
      ],
      "metadata": {
        "colab": {
          "base_uri": "https://localhost:8080/"
        },
        "id": "moQpFUDuAAmD",
        "outputId": "61e4bc81-5ae1-40ce-901c-c23b8148343c"
      },
      "execution_count": null,
      "outputs": [
        {
          "output_type": "execute_result",
          "data": {
            "text/plain": [
              "dict_keys(['input_type_ids', 'input_mask', 'input_word_ids'])"
            ]
          },
          "metadata": {},
          "execution_count": 8
        }
      ]
    },
    {
      "cell_type": "code",
      "source": [
        "text_preprocessed['input_mask']\n",
        "#shape=(2, 128) 2 represents 2 sentences and 128 is like maximum lenth of the sentence\n",
        "#the first sentence 'nice movie indeed' have three words.but when bert model works it add 2 special tokens in the beginning and the end\n",
        "#so the sentence looks like 'CLS nice movie indeed SEP' now it have 5 words each word shown as 1 in binaries\n",
        "#so the 1st sentence have 3+2 words then 5 1's 2nd sentence have 4+2 then 6 1's"
      ],
      "metadata": {
        "colab": {
          "base_uri": "https://localhost:8080/"
        },
        "id": "PL6SY1M6AtQK",
        "outputId": "8340cb32-427d-4b8e-f9c8-d1eacdf0554e"
      },
      "execution_count": null,
      "outputs": [
        {
          "output_type": "execute_result",
          "data": {
            "text/plain": [
              "<tf.Tensor: shape=(2, 128), dtype=int32, numpy=\n",
              "array([[1, 1, 1, 1, 1, 0, 0, 0, 0, 0, 0, 0, 0, 0, 0, 0, 0, 0, 0, 0, 0, 0,\n",
              "        0, 0, 0, 0, 0, 0, 0, 0, 0, 0, 0, 0, 0, 0, 0, 0, 0, 0, 0, 0, 0, 0,\n",
              "        0, 0, 0, 0, 0, 0, 0, 0, 0, 0, 0, 0, 0, 0, 0, 0, 0, 0, 0, 0, 0, 0,\n",
              "        0, 0, 0, 0, 0, 0, 0, 0, 0, 0, 0, 0, 0, 0, 0, 0, 0, 0, 0, 0, 0, 0,\n",
              "        0, 0, 0, 0, 0, 0, 0, 0, 0, 0, 0, 0, 0, 0, 0, 0, 0, 0, 0, 0, 0, 0,\n",
              "        0, 0, 0, 0, 0, 0, 0, 0, 0, 0, 0, 0, 0, 0, 0, 0, 0, 0],\n",
              "       [1, 1, 1, 1, 1, 1, 0, 0, 0, 0, 0, 0, 0, 0, 0, 0, 0, 0, 0, 0, 0, 0,\n",
              "        0, 0, 0, 0, 0, 0, 0, 0, 0, 0, 0, 0, 0, 0, 0, 0, 0, 0, 0, 0, 0, 0,\n",
              "        0, 0, 0, 0, 0, 0, 0, 0, 0, 0, 0, 0, 0, 0, 0, 0, 0, 0, 0, 0, 0, 0,\n",
              "        0, 0, 0, 0, 0, 0, 0, 0, 0, 0, 0, 0, 0, 0, 0, 0, 0, 0, 0, 0, 0, 0,\n",
              "        0, 0, 0, 0, 0, 0, 0, 0, 0, 0, 0, 0, 0, 0, 0, 0, 0, 0, 0, 0, 0, 0,\n",
              "        0, 0, 0, 0, 0, 0, 0, 0, 0, 0, 0, 0, 0, 0, 0, 0, 0, 0]],\n",
              "      dtype=int32)>"
            ]
          },
          "metadata": {},
          "execution_count": 10
        }
      ]
    },
    {
      "cell_type": "code",
      "source": [
        "text_preprocessed['input_word_ids']\n",
        "#this sentence create by BERT models by adding extra 2 tokens 'CLS nice movie indeed SEP'\n",
        "#wors ID for CLS and SEP are 101, 102 midlle 3 are uniqe ID's for remaining middle words, 4 middle ID's for 2nd sentence"
      ],
      "metadata": {
        "colab": {
          "base_uri": "https://localhost:8080/"
        },
        "id": "rer6SDQ8A4PC",
        "outputId": "9f25febe-59fc-469f-b12f-e1d3aab538a7"
      },
      "execution_count": null,
      "outputs": [
        {
          "output_type": "execute_result",
          "data": {
            "text/plain": [
              "<tf.Tensor: shape=(2, 128), dtype=int32, numpy=\n",
              "array([[  101,  3835,  3185,  5262,   102,     0,     0,     0,     0,\n",
              "            0,     0,     0,     0,     0,     0,     0,     0,     0,\n",
              "            0,     0,     0,     0,     0,     0,     0,     0,     0,\n",
              "            0,     0,     0,     0,     0,     0,     0,     0,     0,\n",
              "            0,     0,     0,     0,     0,     0,     0,     0,     0,\n",
              "            0,     0,     0,     0,     0,     0,     0,     0,     0,\n",
              "            0,     0,     0,     0,     0,     0,     0,     0,     0,\n",
              "            0,     0,     0,     0,     0,     0,     0,     0,     0,\n",
              "            0,     0,     0,     0,     0,     0,     0,     0,     0,\n",
              "            0,     0,     0,     0,     0,     0,     0,     0,     0,\n",
              "            0,     0,     0,     0,     0,     0,     0,     0,     0,\n",
              "            0,     0,     0,     0,     0,     0,     0,     0,     0,\n",
              "            0,     0,     0,     0,     0,     0,     0,     0,     0,\n",
              "            0,     0,     0,     0,     0,     0,     0,     0,     0,\n",
              "            0,     0],\n",
              "       [  101,  1045,  2293, 18750,  4730,   102,     0,     0,     0,\n",
              "            0,     0,     0,     0,     0,     0,     0,     0,     0,\n",
              "            0,     0,     0,     0,     0,     0,     0,     0,     0,\n",
              "            0,     0,     0,     0,     0,     0,     0,     0,     0,\n",
              "            0,     0,     0,     0,     0,     0,     0,     0,     0,\n",
              "            0,     0,     0,     0,     0,     0,     0,     0,     0,\n",
              "            0,     0,     0,     0,     0,     0,     0,     0,     0,\n",
              "            0,     0,     0,     0,     0,     0,     0,     0,     0,\n",
              "            0,     0,     0,     0,     0,     0,     0,     0,     0,\n",
              "            0,     0,     0,     0,     0,     0,     0,     0,     0,\n",
              "            0,     0,     0,     0,     0,     0,     0,     0,     0,\n",
              "            0,     0,     0,     0,     0,     0,     0,     0,     0,\n",
              "            0,     0,     0,     0,     0,     0,     0,     0,     0,\n",
              "            0,     0,     0,     0,     0,     0,     0,     0,     0,\n",
              "            0,     0]], dtype=int32)>"
            ]
          },
          "metadata": {},
          "execution_count": 12
        }
      ]
    },
    {
      "cell_type": "code",
      "source": [
        "text_preprocessed['input_type_ids']\n",
        "#the prerocessing stage is done."
      ],
      "metadata": {
        "colab": {
          "base_uri": "https://localhost:8080/"
        },
        "id": "sozPH-CLA3-7",
        "outputId": "2aee93b2-91b4-4cd8-b61a-35dcd1cf9e34"
      },
      "execution_count": null,
      "outputs": [
        {
          "output_type": "execute_result",
          "data": {
            "text/plain": [
              "<tf.Tensor: shape=(2, 128), dtype=int32, numpy=\n",
              "array([[0, 0, 0, 0, 0, 0, 0, 0, 0, 0, 0, 0, 0, 0, 0, 0, 0, 0, 0, 0, 0, 0,\n",
              "        0, 0, 0, 0, 0, 0, 0, 0, 0, 0, 0, 0, 0, 0, 0, 0, 0, 0, 0, 0, 0, 0,\n",
              "        0, 0, 0, 0, 0, 0, 0, 0, 0, 0, 0, 0, 0, 0, 0, 0, 0, 0, 0, 0, 0, 0,\n",
              "        0, 0, 0, 0, 0, 0, 0, 0, 0, 0, 0, 0, 0, 0, 0, 0, 0, 0, 0, 0, 0, 0,\n",
              "        0, 0, 0, 0, 0, 0, 0, 0, 0, 0, 0, 0, 0, 0, 0, 0, 0, 0, 0, 0, 0, 0,\n",
              "        0, 0, 0, 0, 0, 0, 0, 0, 0, 0, 0, 0, 0, 0, 0, 0, 0, 0],\n",
              "       [0, 0, 0, 0, 0, 0, 0, 0, 0, 0, 0, 0, 0, 0, 0, 0, 0, 0, 0, 0, 0, 0,\n",
              "        0, 0, 0, 0, 0, 0, 0, 0, 0, 0, 0, 0, 0, 0, 0, 0, 0, 0, 0, 0, 0, 0,\n",
              "        0, 0, 0, 0, 0, 0, 0, 0, 0, 0, 0, 0, 0, 0, 0, 0, 0, 0, 0, 0, 0, 0,\n",
              "        0, 0, 0, 0, 0, 0, 0, 0, 0, 0, 0, 0, 0, 0, 0, 0, 0, 0, 0, 0, 0, 0,\n",
              "        0, 0, 0, 0, 0, 0, 0, 0, 0, 0, 0, 0, 0, 0, 0, 0, 0, 0, 0, 0, 0, 0,\n",
              "        0, 0, 0, 0, 0, 0, 0, 0, 0, 0, 0, 0, 0, 0, 0, 0, 0, 0]],\n",
              "      dtype=int32)>"
            ]
          },
          "metadata": {},
          "execution_count": 13
        }
      ]
    },
    {
      "cell_type": "code",
      "source": [
        "#then we create another layer for encoding part\n",
        "bert_model = hub.KerasLayer(encoder_url)"
      ],
      "metadata": {
        "id": "cR_NRw1lA3zr"
      },
      "execution_count": null,
      "outputs": []
    },
    {
      "cell_type": "code",
      "source": [
        "bert_results = bert_model(text_preprocessed) #BERT modle act like a function pointer"
      ],
      "metadata": {
        "id": "28okZN-lEMrs"
      },
      "execution_count": null,
      "outputs": []
    },
    {
      "cell_type": "code",
      "source": [
        "bert_results.keys()"
      ],
      "metadata": {
        "colab": {
          "base_uri": "https://localhost:8080/"
        },
        "id": "NtqbbG1tESja",
        "outputId": "15cd1b5e-8460-445c-eaaf-99da121f79eb"
      },
      "execution_count": null,
      "outputs": [
        {
          "output_type": "execute_result",
          "data": {
            "text/plain": [
              "dict_keys(['pooled_output', 'sequence_output', 'default', 'encoder_outputs'])"
            ]
          },
          "metadata": {},
          "execution_count": 17
        }
      ]
    },
    {
      "cell_type": "code",
      "source": [],
      "metadata": {
        "id": "i_G-qc5_ESSb"
      },
      "execution_count": null,
      "outputs": []
    },
    {
      "cell_type": "code",
      "source": [
        "bert_results['pooled_output']\n",
        "#pooled output is the embedding for entire sentences\n",
        "#2 sentences and embedding vector size is 768"
      ],
      "metadata": {
        "colab": {
          "base_uri": "https://localhost:8080/"
        },
        "id": "TpOUZjVnESJS",
        "outputId": "72eb2d7b-c81e-4733-dd7b-603d24b89660"
      },
      "execution_count": null,
      "outputs": [
        {
          "output_type": "execute_result",
          "data": {
            "text/plain": [
              "<tf.Tensor: shape=(2, 768), dtype=float32, numpy=\n",
              "array([[-0.7917741 , -0.21411921,  0.49769515, ...,  0.24465193,\n",
              "        -0.47334474,  0.8175871 ],\n",
              "       [-0.91712314, -0.47935188, -0.78656995, ..., -0.61751765,\n",
              "        -0.7102687 ,  0.921843  ]], dtype=float32)>"
            ]
          },
          "metadata": {},
          "execution_count": 19
        }
      ]
    },
    {
      "cell_type": "code",
      "source": [
        "bert_results['sequence_output']\n",
        "#this is individual word embedding vectors\n",
        "#2 is for 2 sentences\n",
        "#for each individual senteces we have some paddings that is what 128 represent. 128 is like maximum lenth of the sentence\n",
        "#'nice movie indeed 0 0 0 0 0 0' <---- 128\n",
        "#and for each word there is a 768 size embedding vector\n",
        "#this is contextualized embedding that's why sentences have paddings like above\n",
        "#these words have some context"
      ],
      "metadata": {
        "colab": {
          "base_uri": "https://localhost:8080/"
        },
        "id": "fds7gvpbFmor",
        "outputId": "11f689c6-7b11-4520-80c2-3d19412f9e6b"
      },
      "execution_count": null,
      "outputs": [
        {
          "output_type": "execute_result",
          "data": {
            "text/plain": [
              "<tf.Tensor: shape=(2, 128, 768), dtype=float32, numpy=\n",
              "array([[[ 0.07292046,  0.08567815,  0.14476833, ..., -0.09677089,\n",
              "          0.08722138,  0.07711098],\n",
              "        [ 0.17839392, -0.19006105,  0.50349474, ..., -0.05869799,\n",
              "          0.32717094, -0.15578488],\n",
              "        [ 0.18701468, -0.43388787, -0.48875138, ..., -0.15502772,\n",
              "          0.00145124, -0.24470966],\n",
              "        ...,\n",
              "        [ 0.12083106,  0.12884258,  0.46453524, ...,  0.07375515,\n",
              "          0.17441994,  0.16522008],\n",
              "        [ 0.07967864, -0.01190711,  0.50225407, ...,  0.13777758,\n",
              "          0.21002217,  0.00624588],\n",
              "        [-0.07212694, -0.2830348 ,  0.59033334, ...,  0.47551954,\n",
              "          0.16668473, -0.08920345]],\n",
              "\n",
              "       [[-0.07900596,  0.36335123, -0.2110157 , ..., -0.17183766,\n",
              "          0.1629974 ,  0.6724269 ],\n",
              "        [ 0.27883503,  0.43716323, -0.35764694, ..., -0.0446365 ,\n",
              "          0.3831516 ,  0.5887988 ],\n",
              "        [ 1.203767  ,  1.0727018 ,  0.4840876 , ...,  0.24920997,\n",
              "          0.40730938,  0.404818  ],\n",
              "        ...,\n",
              "        [ 0.08630033,  0.19353835,  0.47540033, ...,  0.18880166,\n",
              "         -0.06474119,  0.3131858 ],\n",
              "        [ 0.1588704 ,  0.2857266 ,  0.37340793, ...,  0.09309113,\n",
              "         -0.0496955 ,  0.38761106],\n",
              "        [-0.08079889, -0.09572859,  0.26809785, ...,  0.13979614,\n",
              "         -0.0631586 ,  0.27288333]]], dtype=float32)>"
            ]
          },
          "metadata": {},
          "execution_count": 20
        }
      ]
    },
    {
      "cell_type": "code",
      "source": [
        "len(bert_results['encoder_outputs'])\n",
        "#12 means we are using small BERT base model and it contains 12 encoder layers. each layer has 768 size embedding vector\n",
        "#so these encoder outputs is nothing but the output of each individual act encoder. So we have 12 that's why 12 is the size"
      ],
      "metadata": {
        "colab": {
          "base_uri": "https://localhost:8080/"
        },
        "id": "GeTExjOaHma6",
        "outputId": "ad4007ab-fffa-4175-bc08-eb6cda38c9b9"
      },
      "execution_count": null,
      "outputs": [
        {
          "output_type": "execute_result",
          "data": {
            "text/plain": [
              "12"
            ]
          },
          "metadata": {},
          "execution_count": 21
        }
      ]
    },
    {
      "cell_type": "code",
      "source": [
        "bert_results['encoder_outputs'][0]\n",
        "#the 1st encode layer"
      ],
      "metadata": {
        "id": "zyFF2HQEJf0T",
        "colab": {
          "base_uri": "https://localhost:8080/"
        },
        "outputId": "1d2b2bee-c92f-4d20-facc-6b7b916ee346"
      },
      "execution_count": 22,
      "outputs": [
        {
          "output_type": "execute_result",
          "data": {
            "text/plain": [
              "<tf.Tensor: shape=(2, 128, 768), dtype=float32, numpy=\n",
              "array([[[ 0.12901433,  0.00644742, -0.03614973, ...,  0.04999627,\n",
              "          0.06149201, -0.02657528],\n",
              "        [ 1.1753385 ,  1.2140789 ,  1.1569982 , ...,  0.11634358,\n",
              "         -0.3585536 , -0.4049018 ],\n",
              "        [ 0.03859036,  0.5386998 , -0.21089786, ...,  0.21858224,\n",
              "          0.7260168 , -1.1158603 ],\n",
              "        ...,\n",
              "        [-0.0758702 , -0.25421908,  0.7075512 , ...,  0.50542   ,\n",
              "         -0.1887868 ,  0.15028337],\n",
              "        [-0.16066599, -0.28089687,  0.5759707 , ...,  0.52758545,\n",
              "         -0.11141391,  0.0288756 ],\n",
              "        [-0.04428162, -0.20279588,  0.59093565, ...,  0.8133835 ,\n",
              "         -0.39075804, -0.02601745]],\n",
              "\n",
              "       [[ 0.1890359 ,  0.02752538, -0.06513739, ..., -0.00620209,\n",
              "          0.15053897,  0.03165445],\n",
              "        [ 0.5916149 ,  0.75891405, -0.07240669, ...,  0.6190399 ,\n",
              "          0.82928926,  0.16161972],\n",
              "        [ 1.4460827 ,  0.4460263 ,  0.40990257, ...,  0.48255897,\n",
              "          0.6269115 ,  0.13463408],\n",
              "        ...,\n",
              "        [ 0.15147899, -0.21573858,  0.70329076, ..., -0.1253722 ,\n",
              "         -0.13787259,  0.27722064],\n",
              "        [ 0.05143806, -0.24052726,  0.5356912 , ..., -0.07915048,\n",
              "         -0.03307909,  0.17380913],\n",
              "        [ 0.2093471 , -0.1564526 ,  0.60395455, ...,  0.3290352 ,\n",
              "         -0.35827175,  0.08100393]]], dtype=float32)>"
            ]
          },
          "metadata": {},
          "execution_count": 22
        }
      ]
    },
    {
      "cell_type": "code",
      "source": [
        "bert_results['encoder_outputs'][-1]\n",
        "#for the last encode layer"
      ],
      "metadata": {
        "id": "mgjzGYRsKUeb",
        "colab": {
          "base_uri": "https://localhost:8080/"
        },
        "outputId": "826ea44d-ad21-4a48-eea1-4e2ad5b7ad73"
      },
      "execution_count": 23,
      "outputs": [
        {
          "output_type": "execute_result",
          "data": {
            "text/plain": [
              "<tf.Tensor: shape=(2, 128, 768), dtype=float32, numpy=\n",
              "array([[[ 0.07292046,  0.08567815,  0.14476833, ..., -0.09677089,\n",
              "          0.08722138,  0.07711098],\n",
              "        [ 0.17839392, -0.19006105,  0.50349474, ..., -0.05869799,\n",
              "          0.32717094, -0.15578488],\n",
              "        [ 0.18701468, -0.43388787, -0.48875138, ..., -0.15502772,\n",
              "          0.00145124, -0.24470966],\n",
              "        ...,\n",
              "        [ 0.12083106,  0.12884258,  0.46453524, ...,  0.07375515,\n",
              "          0.17441994,  0.16522008],\n",
              "        [ 0.07967864, -0.01190711,  0.50225407, ...,  0.13777758,\n",
              "          0.21002217,  0.00624588],\n",
              "        [-0.07212694, -0.2830348 ,  0.59033334, ...,  0.47551954,\n",
              "          0.16668473, -0.08920345]],\n",
              "\n",
              "       [[-0.07900596,  0.36335123, -0.2110157 , ..., -0.17183766,\n",
              "          0.1629974 ,  0.6724269 ],\n",
              "        [ 0.27883503,  0.43716323, -0.35764694, ..., -0.0446365 ,\n",
              "          0.3831516 ,  0.5887988 ],\n",
              "        [ 1.203767  ,  1.0727018 ,  0.4840876 , ...,  0.24920997,\n",
              "          0.40730938,  0.404818  ],\n",
              "        ...,\n",
              "        [ 0.08630033,  0.19353835,  0.47540033, ...,  0.18880166,\n",
              "         -0.06474119,  0.3131858 ],\n",
              "        [ 0.1588704 ,  0.2857266 ,  0.37340793, ...,  0.09309113,\n",
              "         -0.0496955 ,  0.38761106],\n",
              "        [-0.08079889, -0.09572859,  0.26809785, ...,  0.13979614,\n",
              "         -0.0631586 ,  0.27288333]]], dtype=float32)>"
            ]
          },
          "metadata": {},
          "execution_count": 23
        }
      ]
    },
    {
      "cell_type": "code",
      "source": [
        "bert_results['encoder_outputs'][-1] == bert_results['sequence_output']\n",
        "#encoder output is the encoder output of all 12 layers and the last one is same as the sequence output"
      ],
      "metadata": {
        "id": "iXFlDC88Jfs7",
        "colab": {
          "base_uri": "https://localhost:8080/"
        },
        "outputId": "d6826641-7437-40bc-f955-c6cdc81c3de1"
      },
      "execution_count": 24,
      "outputs": [
        {
          "output_type": "execute_result",
          "data": {
            "text/plain": [
              "<tf.Tensor: shape=(2, 128, 768), dtype=bool, numpy=\n",
              "array([[[ True,  True,  True, ...,  True,  True,  True],\n",
              "        [ True,  True,  True, ...,  True,  True,  True],\n",
              "        [ True,  True,  True, ...,  True,  True,  True],\n",
              "        ...,\n",
              "        [ True,  True,  True, ...,  True,  True,  True],\n",
              "        [ True,  True,  True, ...,  True,  True,  True],\n",
              "        [ True,  True,  True, ...,  True,  True,  True]],\n",
              "\n",
              "       [[ True,  True,  True, ...,  True,  True,  True],\n",
              "        [ True,  True,  True, ...,  True,  True,  True],\n",
              "        [ True,  True,  True, ...,  True,  True,  True],\n",
              "        ...,\n",
              "        [ True,  True,  True, ...,  True,  True,  True],\n",
              "        [ True,  True,  True, ...,  True,  True,  True],\n",
              "        [ True,  True,  True, ...,  True,  True,  True]]])>"
            ]
          },
          "metadata": {},
          "execution_count": 24
        }
      ]
    },
    {
      "cell_type": "code",
      "source": [
        "bert_results['encoder_outputs']"
      ],
      "metadata": {
        "id": "dJAW8km3JMr7",
        "colab": {
          "base_uri": "https://localhost:8080/"
        },
        "outputId": "5d1f9cf6-9459-4720-95fa-e7b7a63a621c"
      },
      "execution_count": 25,
      "outputs": [
        {
          "output_type": "execute_result",
          "data": {
            "text/plain": [
              "[<tf.Tensor: shape=(2, 128, 768), dtype=float32, numpy=\n",
              " array([[[ 0.12901433,  0.00644742, -0.03614973, ...,  0.04999627,\n",
              "           0.06149201, -0.02657528],\n",
              "         [ 1.1753385 ,  1.2140789 ,  1.1569982 , ...,  0.11634358,\n",
              "          -0.3585536 , -0.4049018 ],\n",
              "         [ 0.03859036,  0.5386998 , -0.21089786, ...,  0.21858224,\n",
              "           0.7260168 , -1.1158603 ],\n",
              "         ...,\n",
              "         [-0.0758702 , -0.25421908,  0.7075512 , ...,  0.50542   ,\n",
              "          -0.1887868 ,  0.15028337],\n",
              "         [-0.16066599, -0.28089687,  0.5759707 , ...,  0.52758545,\n",
              "          -0.11141391,  0.0288756 ],\n",
              "         [-0.04428162, -0.20279588,  0.59093565, ...,  0.8133835 ,\n",
              "          -0.39075804, -0.02601745]],\n",
              " \n",
              "        [[ 0.1890359 ,  0.02752538, -0.06513739, ..., -0.00620209,\n",
              "           0.15053897,  0.03165445],\n",
              "         [ 0.5916149 ,  0.75891405, -0.07240669, ...,  0.6190399 ,\n",
              "           0.82928926,  0.16161972],\n",
              "         [ 1.4460827 ,  0.4460263 ,  0.40990257, ...,  0.48255897,\n",
              "           0.6269115 ,  0.13463408],\n",
              "         ...,\n",
              "         [ 0.15147899, -0.21573858,  0.70329076, ..., -0.1253722 ,\n",
              "          -0.13787259,  0.27722064],\n",
              "         [ 0.05143806, -0.24052726,  0.5356912 , ..., -0.07915048,\n",
              "          -0.03307909,  0.17380913],\n",
              "         [ 0.2093471 , -0.1564526 ,  0.60395455, ...,  0.3290352 ,\n",
              "          -0.35827175,  0.08100393]]], dtype=float32)>,\n",
              " <tf.Tensor: shape=(2, 128, 768), dtype=float32, numpy=\n",
              " array([[[ 0.01418149, -0.2208825 , -0.15028182, ...,  0.1141563 ,\n",
              "           0.12618098,  0.04843395],\n",
              "         [ 1.2033902 ,  1.3469869 ,  1.7064534 , ...,  0.30610535,\n",
              "          -0.50742555, -0.55147415],\n",
              "         [ 0.42169094,  0.8110244 , -0.25631577, ..., -0.0772246 ,\n",
              "           0.8937237 , -1.4472057 ],\n",
              "         ...,\n",
              "         [-0.19047466, -0.2386085 ,  0.8141203 , ...,  0.9749361 ,\n",
              "          -0.3477423 , -0.08733584],\n",
              "         [-0.27150992, -0.31984988,  0.765939  , ...,  0.96761715,\n",
              "          -0.29511935, -0.15731785],\n",
              "         [-0.21302755, -0.19229707,  0.73387784, ...,  1.1040444 ,\n",
              "          -0.45102876, -0.20683065]],\n",
              " \n",
              "        [[ 0.08973338, -0.18419707, -0.16645084, ...,  0.02761338,\n",
              "           0.11187723,  0.08041726],\n",
              "         [ 0.5831136 ,  0.59570324,  0.36019543, ...,  0.4127012 ,\n",
              "           0.2680922 ,  0.28400555],\n",
              "         [ 2.1166673 ,  0.5176937 ,  0.86377454, ...,  0.7178729 ,\n",
              "           0.3240509 ,  0.09739979],\n",
              "         ...,\n",
              "         [ 0.24372911, -0.05775567,  0.6842879 , ...,  0.43483606,\n",
              "          -0.57660955, -0.11131062],\n",
              "         [ 0.16803911, -0.03091834,  0.58638453, ...,  0.49625817,\n",
              "          -0.5056794 , -0.20782185],\n",
              "         [ 0.24831757,  0.00315475,  0.5159253 , ...,  0.80502385,\n",
              "          -0.69899654, -0.24186438]]], dtype=float32)>,\n",
              " <tf.Tensor: shape=(2, 128, 768), dtype=float32, numpy=\n",
              " array([[[ 0.02275398, -0.27980238,  0.02345712, ...,  0.27867025,\n",
              "           0.11714803,  0.18175085],\n",
              "         [ 1.2574846 ,  0.8725082 ,  1.6266017 , ...,  0.4521091 ,\n",
              "          -0.8090258 , -0.5448977 ],\n",
              "         [ 0.75219864,  0.6357363 , -0.20566119, ..., -0.32381788,\n",
              "           0.7574951 , -1.4587923 ],\n",
              "         ...,\n",
              "         [-0.15107417, -0.21129039,  0.96894604, ...,  1.1261965 ,\n",
              "          -0.03214088, -0.22340299],\n",
              "         [-0.2812562 , -0.31140047,  0.84328926, ...,  1.1342679 ,\n",
              "          -0.08336602, -0.2516123 ],\n",
              "         [-0.2444908 , -0.21537894,  0.94809866, ...,  1.2419428 ,\n",
              "          -0.19873479, -0.33752584]],\n",
              " \n",
              "        [[ 0.10617061, -0.27990746, -0.01731809, ...,  0.20060441,\n",
              "           0.08148392,  0.21859078],\n",
              "         [ 0.6892587 ,  0.31591564,  0.5558663 , ...,  0.69039506,\n",
              "          -0.07141564,  0.41407174],\n",
              "         [ 2.5758884 ,  0.62520874,  1.2503715 , ...,  0.43957722,\n",
              "          -0.18525603, -0.05004874],\n",
              "         ...,\n",
              "         [ 0.20464341, -0.01561997,  0.83431435, ...,  0.80149585,\n",
              "          -0.12853877, -0.35842055],\n",
              "         [-0.02875639,  0.05097832,  0.6815927 , ...,  0.9003149 ,\n",
              "          -0.12434891, -0.42256355],\n",
              "         [ 0.13327701,  0.02257299,  0.77221745, ...,  1.0211186 ,\n",
              "          -0.30834723, -0.4562319 ]]], dtype=float32)>,\n",
              " <tf.Tensor: shape=(2, 128, 768), dtype=float32, numpy=\n",
              " array([[[ 0.11484922, -0.64441115, -0.14245135, ...,  0.25474194,\n",
              "           0.00378413,  0.6110509 ],\n",
              "         [ 1.3035431 ,  0.7706048 ,  1.3185004 , ...,  0.35822502,\n",
              "          -0.6412162 , -0.32795328],\n",
              "         [ 1.1896739 ,  0.6279441 , -0.67501605, ..., -0.28870645,\n",
              "           0.47791922, -1.2806003 ],\n",
              "         ...,\n",
              "         [-0.22614762, -0.62762934,  1.0227482 , ...,  0.82923156,\n",
              "          -0.40314674,  0.04389237],\n",
              "         [-0.39901477, -0.75619066,  0.74893755, ...,  0.74922645,\n",
              "          -0.45077705, -0.00367936],\n",
              "         [-0.37728786, -0.7831045 ,  0.90572464, ...,  0.9736229 ,\n",
              "          -0.48285735, -0.07389838]],\n",
              " \n",
              "        [[ 0.15151384, -0.70752305, -0.2752042 , ...,  0.44345906,\n",
              "          -0.20920397,  0.49860165],\n",
              "         [ 0.8864791 , -0.24838138,  0.7353747 , ...,  0.7417942 ,\n",
              "          -0.13177215,  0.10158483],\n",
              "         [ 2.586581  ,  0.6188284 ,  0.5279886 , ...,  0.8487309 ,\n",
              "          -0.5915018 ,  0.02349873],\n",
              "         ...,\n",
              "         [-0.05526859, -0.43394667,  1.1783332 , ...,  0.91791654,\n",
              "          -0.4571815 , -0.2501464 ],\n",
              "         [-0.29328674, -0.23091221,  0.9938014 , ...,  1.0353785 ,\n",
              "          -0.42435732, -0.3494761 ],\n",
              "         [-0.15899095, -0.5009818 ,  0.9814213 , ...,  1.1373078 ,\n",
              "          -0.61888385, -0.44457805]]], dtype=float32)>,\n",
              " <tf.Tensor: shape=(2, 128, 768), dtype=float32, numpy=\n",
              " array([[[-0.22174804, -0.42225346, -0.04924025, ..., -0.26284212,\n",
              "           0.06099934,  0.6379487 ],\n",
              "         [ 1.1627904 ,  0.6770536 ,  1.3072393 , ...,  0.22794664,\n",
              "          -0.54329526, -0.27383232],\n",
              "         [ 1.5308232 ,  0.72225475, -0.43608642, ...,  0.27435842,\n",
              "           0.24980265, -0.98753834],\n",
              "         ...,\n",
              "         [-0.17669767, -0.31260586,  1.0875314 , ...,  0.5924216 ,\n",
              "           0.01275356, -0.28171965],\n",
              "         [-0.3447377 , -0.42430058,  0.8798016 , ...,  0.5482611 ,\n",
              "          -0.08151908, -0.34001404],\n",
              "         [-0.4813991 , -0.31324273,  1.1702348 , ...,  0.8730986 ,\n",
              "          -0.07970177, -0.45325482]],\n",
              " \n",
              "        [[-0.21608128, -0.8986419 , -0.4499155 , ..., -0.08286179,\n",
              "          -0.17226869,  0.66199833],\n",
              "         [ 0.66614497, -0.54916906,  0.46460572, ...,  0.17649351,\n",
              "           0.22822523,  0.34962183],\n",
              "         [ 2.062962  ,  0.6991978 ,  0.35604504, ...,  0.5295332 ,\n",
              "          -0.34809294,  0.00831391],\n",
              "         ...,\n",
              "         [-0.11594022, -0.17149246,  0.89943963, ...,  0.6299016 ,\n",
              "          -0.33990237, -0.2004923 ],\n",
              "         [-0.13007513, -0.02739116,  0.7079971 , ...,  0.8059462 ,\n",
              "          -0.30724147, -0.19956325],\n",
              "         [-0.2631489 , -0.26137114,  0.63385624, ...,  0.8150187 ,\n",
              "          -0.4540036 , -0.35120687]]], dtype=float32)>,\n",
              " <tf.Tensor: shape=(2, 128, 768), dtype=float32, numpy=\n",
              " array([[[-0.03392693, -0.39431506,  0.04223732, ..., -0.07905565,\n",
              "           0.01993829,  0.7692066 ],\n",
              "         [ 1.4294362 , -0.08699046,  1.5299488 , ...,  0.22512163,\n",
              "          -1.0060078 , -0.23702237],\n",
              "         [ 1.5031742 ,  0.6725792 , -0.5259017 , ...,  0.10906949,\n",
              "           0.27042392, -1.2567508 ],\n",
              "         ...,\n",
              "         [-0.3003356 , -0.02261963,  1.318741  , ...,  0.69288754,\n",
              "          -0.09798431, -0.17419742],\n",
              "         [-0.43754166, -0.21149263,  1.1094568 , ...,  0.5006598 ,\n",
              "          -0.17692392, -0.18529142],\n",
              "         [-0.65920526, -0.19607908,  1.313407  , ...,  0.7320075 ,\n",
              "          -0.1996736 , -0.32469165]],\n",
              " \n",
              "        [[-0.2733466 , -0.9526846 , -0.78696615, ..., -0.12205317,\n",
              "          -0.08783774,  0.75811654],\n",
              "         [ 0.46756995, -0.16237512, -0.01155872, ...,  0.1878125 ,\n",
              "           0.6216474 ,  0.03009908],\n",
              "         [ 1.79474   ,  0.9051074 ,  0.08580908, ...,  0.77093554,\n",
              "          -0.6682788 , -0.06755506],\n",
              "         ...,\n",
              "         [-0.18337466, -0.15806574,  1.1826942 , ...,  0.83047533,\n",
              "          -0.39406464, -0.23047718],\n",
              "         [-0.22270177,  0.00975942,  0.93408376, ...,  1.1286676 ,\n",
              "          -0.34884351, -0.19491422],\n",
              "         [-0.3038619 , -0.29683158,  0.8247157 , ...,  1.0090815 ,\n",
              "          -0.46407658, -0.31465593]]], dtype=float32)>,\n",
              " <tf.Tensor: shape=(2, 128, 768), dtype=float32, numpy=\n",
              " array([[[-0.23803474, -0.66554064,  0.29917186, ...,  0.03415125,\n",
              "           0.29362822,  0.965363  ],\n",
              "         [ 1.5040759 ,  0.00695055,  1.4314135 , ...,  0.24628793,\n",
              "          -0.5521965 , -0.32215467],\n",
              "         [ 1.3629025 ,  0.4774174 , -0.61529875, ...,  0.08586986,\n",
              "           0.43922517, -1.5594157 ],\n",
              "         ...,\n",
              "         [-0.16863957,  0.00209697,  1.3201773 , ...,  0.94280356,\n",
              "          -0.04737277,  0.21490341],\n",
              "         [-0.26666403, -0.2488125 ,  1.221326  , ...,  0.6352798 ,\n",
              "          -0.0444242 ,  0.04466234],\n",
              "         [-0.53366196, -0.35796076,  1.3447868 , ...,  0.60384405,\n",
              "          -0.08427155, -0.15712021]],\n",
              " \n",
              "        [[-0.05967472, -0.8448214 , -0.8939021 , ..., -0.10863932,\n",
              "           0.40932417,  0.79408616],\n",
              "         [ 0.5440508 , -0.31962895, -0.45491505, ...,  0.48068678,\n",
              "           0.77862483,  0.22774255],\n",
              "         [ 1.4479868 ,  1.1230615 ,  0.09567937, ...,  1.3554294 ,\n",
              "           0.06143552, -0.00836905],\n",
              "         ...,\n",
              "         [ 0.25652316, -0.14106539,  1.1854341 , ...,  0.9568372 ,\n",
              "          -0.21603955, -0.06946395],\n",
              "         [ 0.2581914 ,  0.07949172,  0.9851643 , ...,  1.051822  ,\n",
              "          -0.07890932, -0.12841499],\n",
              "         [-0.0526895 , -0.33431396,  0.9637336 , ...,  0.8960701 ,\n",
              "          -0.10082396, -0.28129607]]], dtype=float32)>,\n",
              " <tf.Tensor: shape=(2, 128, 768), dtype=float32, numpy=\n",
              " array([[[-7.08268583e-02, -2.56898910e-01, -3.59632000e-02, ...,\n",
              "          -3.58813107e-01,  1.35247707e-01,  1.01361156e+00],\n",
              "         [ 9.74719644e-01, -1.97129548e-01,  1.43180776e+00, ...,\n",
              "          -1.40520334e-01, -5.04318699e-02, -2.71415226e-02],\n",
              "         [ 1.12733972e+00,  2.71227241e-01, -2.86229014e-01, ...,\n",
              "           9.33858305e-02,  2.99082965e-01, -1.37644434e+00],\n",
              "         ...,\n",
              "         [-9.57861915e-02,  2.91807860e-01,  1.58791554e+00, ...,\n",
              "           8.50042164e-01, -5.12837395e-02,  2.03400433e-01],\n",
              "         [-2.22688198e-01, -8.38959664e-02,  1.72560108e+00, ...,\n",
              "           6.12221956e-01,  1.09766185e-01,  7.00463504e-02],\n",
              "         [-5.78300655e-01, -3.59156519e-01,  1.60359526e+00, ...,\n",
              "           3.41897875e-01,  5.28810099e-02, -1.54009238e-01]],\n",
              " \n",
              "        [[ 6.10169731e-02, -3.51616263e-01, -8.48914623e-01, ...,\n",
              "          -4.85549927e-01,  4.27030951e-01,  6.38290346e-01],\n",
              "         [ 6.63764834e-01,  1.82997435e-04, -7.90788412e-01, ...,\n",
              "           3.06870073e-01,  7.58436620e-01,  7.32401252e-01],\n",
              "         [ 1.44946980e+00,  1.12650406e+00,  1.77092046e-01, ...,\n",
              "           2.34715462e-01,  3.49294722e-01,  4.37097549e-01],\n",
              "         ...,\n",
              "         [ 3.23395580e-01,  1.75758511e-01,  8.76723289e-01, ...,\n",
              "           9.89041626e-01, -2.70508140e-01, -3.08094114e-01],\n",
              "         [ 4.04042691e-01,  5.13649106e-01,  7.27480829e-01, ...,\n",
              "           9.49421287e-01, -1.02156401e-02, -3.46442819e-01],\n",
              "         [-9.13090073e-03, -8.70166421e-02,  7.30317712e-01, ...,\n",
              "           8.54397476e-01, -1.36612192e-01, -4.74935412e-01]]],\n",
              "       dtype=float32)>,\n",
              " <tf.Tensor: shape=(2, 128, 768), dtype=float32, numpy=\n",
              " array([[[-0.09403507, -0.05987601, -0.01171748, ..., -0.22167565,\n",
              "          -0.07650115,  0.5765812 ],\n",
              "         [ 0.7748069 ,  0.15188183,  1.0920005 , ..., -0.19562374,\n",
              "           0.15173177, -0.01071361],\n",
              "         [ 0.851913  ,  0.25842658, -0.7703554 , ...,  0.03356688,\n",
              "           0.3401043 , -1.391868  ],\n",
              "         ...,\n",
              "         [-0.19780222,  0.5281968 ,  0.9023549 , ...,  0.27919748,\n",
              "          -0.28763872,  0.75109136],\n",
              "         [-0.35067368,  0.09291886,  1.3383355 , ...,  0.2261968 ,\n",
              "          -0.03588904,  0.2734386 ],\n",
              "         [-0.9044508 , -0.20991236,  1.1977335 , ...,  0.3511848 ,\n",
              "          -0.21743627,  0.01482281]],\n",
              " \n",
              "        [[-0.07011157, -0.02392504, -0.61924326, ..., -0.14542049,\n",
              "           0.34049398,  0.4122478 ],\n",
              "         [ 0.59261596,  0.19015962, -0.37399572, ...,  0.37239635,\n",
              "           0.39152876,  0.42580426],\n",
              "         [ 1.1394773 ,  0.84398586,  0.38893992, ...,  0.20898244,\n",
              "           0.25176343,  0.2639999 ],\n",
              "         ...,\n",
              "         [ 0.43305993,  0.4201215 ,  1.09651   , ...,  1.1872365 ,\n",
              "          -0.16672105,  0.00856193],\n",
              "         [ 0.5754229 ,  0.86609393,  1.1184685 , ...,  1.0475053 ,\n",
              "           0.0426427 , -0.01540364],\n",
              "         [-0.05488031, -0.07306911,  0.9012205 , ...,  0.8004526 ,\n",
              "          -0.16820663, -0.3550739 ]]], dtype=float32)>,\n",
              " <tf.Tensor: shape=(2, 128, 768), dtype=float32, numpy=\n",
              " array([[[-0.22671334,  0.03110908,  0.3218608 , ..., -0.28090188,\n",
              "          -0.75050807,  0.4455796 ],\n",
              "         [ 0.7712556 ,  0.11217897,  0.66033226, ..., -0.09223787,\n",
              "           0.34821138, -0.3690504 ],\n",
              "         [ 0.5122406 , -0.1992901 , -0.84775007, ..., -0.28812042,\n",
              "           0.2238371 , -1.21246   ],\n",
              "         ...,\n",
              "         [ 0.12500864,  0.6663391 ,  0.98522127, ..., -0.08709332,\n",
              "          -0.5805445 ,  0.6127215 ],\n",
              "         [ 0.01400362,  0.10471095,  1.2684823 , ..., -0.01833049,\n",
              "          -0.35933125,  0.15463182],\n",
              "         [-0.80938363, -0.36068112,  1.3501263 , ...,  0.5893608 ,\n",
              "          -0.50932384, -0.09766904]],\n",
              " \n",
              "        [[-0.21535009, -0.23962244, -0.30932364, ..., -0.25964975,\n",
              "           0.09695325,  0.41826698],\n",
              "         [ 0.5070063 , -0.01544834, -0.10519649, ...,  0.38675362,\n",
              "           0.22041132, -0.10293254],\n",
              "         [ 1.0366052 ,  0.91713095,  0.26164168, ...,  0.33182096,\n",
              "           0.45597035,  0.1269785 ],\n",
              "         ...,\n",
              "         [ 0.161906  ,  0.76270115,  1.2737674 , ...,  0.5726001 ,\n",
              "          -0.05929493,  0.2622408 ],\n",
              "         [ 0.46124482,  1.1673867 ,  0.959477  , ...,  0.4603301 ,\n",
              "           0.1352138 ,  0.45136017],\n",
              "         [-0.24184078,  0.17352736,  0.8415638 , ...,  0.24766803,\n",
              "          -0.14810285,  0.06557381]]], dtype=float32)>,\n",
              " <tf.Tensor: shape=(2, 128, 768), dtype=float32, numpy=\n",
              " array([[[-2.19515972e-02,  2.13035733e-01,  3.11359018e-01, ...,\n",
              "          -2.39179000e-01, -2.78708667e-01,  2.04084501e-01],\n",
              "         [ 8.30984235e-01,  1.90780744e-01,  7.11346090e-01, ...,\n",
              "          -3.00244242e-01,  3.11524063e-01, -2.59339601e-01],\n",
              "         [ 3.73089314e-01, -4.22126234e-01, -6.66908681e-01, ...,\n",
              "          -4.52976167e-01,  3.20451796e-01, -2.99885988e-01],\n",
              "         ...,\n",
              "         [ 3.31666410e-01,  7.18358994e-01,  8.99610400e-01, ...,\n",
              "          -3.49144936e-01, -2.99868464e-01,  5.23886085e-01],\n",
              "         [ 2.38532394e-01,  2.04842612e-01,  1.13064301e+00, ...,\n",
              "          -1.51129216e-01, -1.37811288e-01,  7.69989341e-02],\n",
              "         [-3.84120733e-01, -3.81587535e-01,  1.33972728e+00, ...,\n",
              "           5.77555597e-01, -1.55400291e-01, -2.92945355e-01]],\n",
              " \n",
              "        [[ 1.43630147e-01,  1.69801340e-01,  4.51200530e-02, ...,\n",
              "          -6.21678680e-02, -1.57528929e-02,  2.87870258e-01],\n",
              "         [ 5.84760189e-01,  2.69933105e-01, -2.85206527e-01, ...,\n",
              "           3.38931262e-01,  1.17773056e-01,  3.69869322e-02],\n",
              "         [ 1.25257814e+00,  1.25564456e+00,  3.87543887e-01, ...,\n",
              "           1.72757581e-01,  4.96662140e-01,  6.13780916e-01],\n",
              "         ...,\n",
              "         [ 1.95486128e-01,  4.40819353e-01,  1.03893638e+00, ...,\n",
              "           1.45270333e-01, -2.77438790e-01,  1.90321833e-01],\n",
              "         [ 4.48164821e-01,  7.64477134e-01,  6.98005080e-01, ...,\n",
              "          -8.35930929e-04, -7.96444789e-02,  4.93358552e-01],\n",
              "         [-2.33981058e-01, -2.03336254e-01,  3.48247170e-01, ...,\n",
              "          -6.43424988e-02, -3.20875883e-01,  2.23340355e-02]]],\n",
              "       dtype=float32)>,\n",
              " <tf.Tensor: shape=(2, 128, 768), dtype=float32, numpy=\n",
              " array([[[ 0.07292046,  0.08567815,  0.14476833, ..., -0.09677089,\n",
              "           0.08722138,  0.07711098],\n",
              "         [ 0.17839392, -0.19006105,  0.50349474, ..., -0.05869799,\n",
              "           0.32717094, -0.15578488],\n",
              "         [ 0.18701468, -0.43388787, -0.48875138, ..., -0.15502772,\n",
              "           0.00145124, -0.24470966],\n",
              "         ...,\n",
              "         [ 0.12083106,  0.12884258,  0.46453524, ...,  0.07375515,\n",
              "           0.17441994,  0.16522008],\n",
              "         [ 0.07967864, -0.01190711,  0.50225407, ...,  0.13777758,\n",
              "           0.21002217,  0.00624588],\n",
              "         [-0.07212694, -0.2830348 ,  0.59033334, ...,  0.47551954,\n",
              "           0.16668473, -0.08920345]],\n",
              " \n",
              "        [[-0.07900596,  0.36335123, -0.2110157 , ..., -0.17183766,\n",
              "           0.1629974 ,  0.6724269 ],\n",
              "         [ 0.27883503,  0.43716323, -0.35764694, ..., -0.0446365 ,\n",
              "           0.3831516 ,  0.5887988 ],\n",
              "         [ 1.203767  ,  1.0727018 ,  0.4840876 , ...,  0.24920997,\n",
              "           0.40730938,  0.404818  ],\n",
              "         ...,\n",
              "         [ 0.08630033,  0.19353835,  0.47540033, ...,  0.18880166,\n",
              "          -0.06474119,  0.3131858 ],\n",
              "         [ 0.1588704 ,  0.2857266 ,  0.37340793, ...,  0.09309113,\n",
              "          -0.0496955 ,  0.38761106],\n",
              "         [-0.08079889, -0.09572859,  0.26809785, ...,  0.13979614,\n",
              "          -0.0631586 ,  0.27288333]]], dtype=float32)>]"
            ]
          },
          "metadata": {},
          "execution_count": 25
        }
      ]
    }
  ]
}