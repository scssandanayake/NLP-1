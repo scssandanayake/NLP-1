{
  "nbformat": 4,
  "nbformat_minor": 0,
  "metadata": {
    "colab": {
      "provenance": []
    },
    "kernelspec": {
      "name": "python3",
      "display_name": "Python 3"
    },
    "language_info": {
      "name": "python"
    }
  },
  "cells": [
    {
      "cell_type": "code",
      "execution_count": 1,
      "metadata": {
        "id": "c6jz7LSkbKxi"
      },
      "outputs": [],
      "source": [
        "import spacy"
      ]
    },
    {
      "cell_type": "markdown",
      "source": [
        "## **POS tags**"
      ],
      "metadata": {
        "id": "BB6-IFuEeWab"
      }
    },
    {
      "cell_type": "code",
      "source": [
        "nlp = spacy.load('en_core_web_sm')"
      ],
      "metadata": {
        "id": "vMLu8kaYbf8z"
      },
      "execution_count": 2,
      "outputs": []
    },
    {
      "cell_type": "code",
      "source": [
        "doc = nlp(\"Elon flew to mars yesterday. He carried biryani masala with him\")\n",
        "\n",
        "for token in doc:\n",
        "  print(token,\"|\",token.pos)"
      ],
      "metadata": {
        "colab": {
          "base_uri": "https://localhost:8080/"
        },
        "id": "cm0Qld2ibf6N",
        "outputId": "946be9c3-c2ce-4067-8b21-0549675025ca"
      },
      "execution_count": 8,
      "outputs": [
        {
          "output_type": "stream",
          "name": "stdout",
          "text": [
            "Elon | 96\n",
            "flew | 100\n",
            "to | 85\n",
            "mars | 92\n",
            "yesterday | 92\n",
            ". | 97\n",
            "He | 95\n",
            "carried | 100\n",
            "biryani | 84\n",
            "masala | 92\n",
            "with | 85\n",
            "him | 95\n"
          ]
        }
      ]
    },
    {
      "cell_type": "code",
      "source": [
        "for token in doc:\n",
        "  print(token,\"|\",token.pos_,\"|\",spacy.explain(token.pos_))"
      ],
      "metadata": {
        "colab": {
          "base_uri": "https://localhost:8080/"
        },
        "id": "Cl9ytM9Xbf3S",
        "outputId": "204e7b12-9586-4fcc-aa24-4262e5ac41b5"
      },
      "execution_count": 9,
      "outputs": [
        {
          "output_type": "stream",
          "name": "stdout",
          "text": [
            "Elon | PROPN | proper noun\n",
            "flew | VERB | verb\n",
            "to | ADP | adposition\n",
            "mars | NOUN | noun\n",
            "yesterday | NOUN | noun\n",
            ". | PUNCT | punctuation\n",
            "He | PRON | pronoun\n",
            "carried | VERB | verb\n",
            "biryani | ADJ | adjective\n",
            "masala | NOUN | noun\n",
            "with | ADP | adposition\n",
            "him | PRON | pronoun\n"
          ]
        }
      ]
    },
    {
      "cell_type": "markdown",
      "source": [
        "You can check https://v2.spacy.io/api/annotation for the complete list of pos categories in spacy.\n",
        "\n",
        "https://en.wikipedia.org/wiki/Preposition_and_postposition\n",
        "\n",
        "https://en.wikipedia.org/wiki/Part_of_speech"
      ],
      "metadata": {
        "id": "hkWK7yCVcpKD"
      }
    },
    {
      "cell_type": "code",
      "source": [
        "doc = nlp(\"Wow! Dr. Strange made 265, million $ on the very first day\")\n",
        "\n",
        "for token in doc:\n",
        "  print(token,\"|\",token.pos_,\"|\",spacy.explain(token.pos_))"
      ],
      "metadata": {
        "colab": {
          "base_uri": "https://localhost:8080/"
        },
        "id": "Yc6svS2xbf0T",
        "outputId": "3d069cb1-975d-49e5-c669-d1b3bdf29951"
      },
      "execution_count": 17,
      "outputs": [
        {
          "output_type": "stream",
          "name": "stdout",
          "text": [
            "Wow | INTJ | interjection\n",
            "! | PUNCT | punctuation\n",
            "Dr. | PROPN | proper noun\n",
            "Strange | PROPN | proper noun\n",
            "made | VERB | verb\n",
            "265 | NUM | numeral\n",
            ", | PUNCT | punctuation\n",
            "million | NUM | numeral\n",
            "$ | SYM | symbol\n",
            "on | ADP | adposition\n",
            "the | DET | determiner\n",
            "very | ADV | adverb\n",
            "first | ADJ | adjective\n",
            "day | NOUN | noun\n"
          ]
        }
      ]
    },
    {
      "cell_type": "markdown",
      "source": [
        "there are many POS like preposition,postposition,adposition,punctuations apart from main 8 types. follow the above documentation.cause thay are added to many sub-catogeries.  "
      ],
      "metadata": {
        "id": "CMXfolrEdnjc"
      }
    },
    {
      "cell_type": "markdown",
      "source": [
        "## **Tags**"
      ],
      "metadata": {
        "id": "UU0gNu9qeQer"
      }
    },
    {
      "cell_type": "code",
      "source": [
        "doc = nlp(\"Wow! Dr. Strange made, 265 million $ on the very first day\")\n",
        "\n",
        "for token in doc:\n",
        "  print(token,\"|\",token.tag_,\"|\",spacy.explain(token.tag_))"
      ],
      "metadata": {
        "colab": {
          "base_uri": "https://localhost:8080/"
        },
        "id": "KArBSpnEbfxD",
        "outputId": "73077f57-059b-4192-84f6-da76fa722e19"
      },
      "execution_count": 18,
      "outputs": [
        {
          "output_type": "stream",
          "name": "stdout",
          "text": [
            "Wow | UH | interjection\n",
            "! | . | punctuation mark, sentence closer\n",
            "Dr. | NNP | noun, proper singular\n",
            "Strange | NNP | noun, proper singular\n",
            "made | VBD | verb, past tense\n",
            ", | , | punctuation mark, comma\n",
            "265 | CD | cardinal number\n",
            "million | CD | cardinal number\n",
            "$ | CD | cardinal number\n",
            "on | IN | conjunction, subordinating or preposition\n",
            "the | DT | determiner\n",
            "very | RB | adverb\n",
            "first | JJ | adjective (English), other noun-modifier (Chinese)\n",
            "day | NN | noun, singular or mass\n"
          ]
        }
      ]
    },
    {
      "cell_type": "markdown",
      "source": [
        "#### In below sentences Spacy figures out the past vs present tense for quit"
      ],
      "metadata": {
        "id": "eXTEJy9GfV2c"
      }
    },
    {
      "cell_type": "code",
      "source": [
        "doc = nlp(\"He quits the job\")\n",
        "\n",
        "print(doc[1].text, \"|\", doc[1].tag_, \"|\", spacy.explain(doc[1].tag_))"
      ],
      "metadata": {
        "colab": {
          "base_uri": "https://localhost:8080/"
        },
        "id": "d9lMFzSWfIAz",
        "outputId": "2cb1f355-8626-4ef3-f7da-92b7e6d6d949"
      },
      "execution_count": 19,
      "outputs": [
        {
          "output_type": "stream",
          "name": "stdout",
          "text": [
            "quits | VBZ | verb, 3rd person singular present\n"
          ]
        }
      ]
    },
    {
      "cell_type": "code",
      "source": [
        "doc = nlp(\"He quit the job\")\n",
        "\n",
        "print(doc[1].text, \"|\", doc[1].tag_, \"|\", spacy.explain(doc[1].tag_))"
      ],
      "metadata": {
        "colab": {
          "base_uri": "https://localhost:8080/"
        },
        "id": "kWdX9guUfH97",
        "outputId": "5d38f3eb-893b-4299-9ea8-2b2774a4847e"
      },
      "execution_count": 20,
      "outputs": [
        {
          "output_type": "stream",
          "name": "stdout",
          "text": [
            "quit | VBD | verb, past tense\n"
          ]
        }
      ]
    },
    {
      "cell_type": "markdown",
      "source": [
        "### **Removing all SPACE, PUNCT and X token from text**"
      ],
      "metadata": {
        "id": "1CZ0Ev8ugB9D"
      }
    },
    {
      "cell_type": "markdown",
      "source": [
        "Processing microsoft's earning report: https://www.microsoft.com/en-us/investor/earnings/fy-2022-q2/press-release-webcast"
      ],
      "metadata": {
        "id": "tNlqqx3tgJUr"
      }
    },
    {
      "cell_type": "code",
      "source": [
        "earnings_text=\"\"\"Microsoft Corp. today announced the following results for the quarter ended December 31, 2021, as compared to the corresponding period of last fiscal year:\n",
        "\n",
        "·         Revenue was $51.7 billion and increased 20%\n",
        "·         Operating income was $22.2 billion and increased 24%\n",
        "·         Net income was $18.8 billion and increased 21%\n",
        "·         Diluted earnings per share was $2.48 and increased 22%\n",
        "“Digital technology etc. is the most malleable resource at the world’s disposal to overcome constraints and reimagine everyday work and life,” said Satya Nadella, chairman and chief executive officer of Microsoft. “As tech as a percentage of global GDP continues to increase, we are innovating and investing across diverse and growing markets, with a common underlying technology stack and an operating model that reinforces a common strategy, culture, and sense of purpose.”\n",
        "“Solid commercial execution, represented by strong bookings growth driven by long-term Azure commitments, increased Microsoft Cloud revenue to $22.1 billion, up 32% year over year” said Amy Hood, executive vice president and chief financial officer of Microsoft.\"\"\"\n",
        "\n",
        "doc = nlp(earnings_text)\n",
        "\n",
        "for token in doc:\n",
        "  print(token,\"|\",token.pos_,\"|\",spacy.explain(token.pos_))\n",
        "\n",
        "#first we look and get overall idea about all the tokens"
      ],
      "metadata": {
        "colab": {
          "base_uri": "https://localhost:8080/"
        },
        "id": "Omhufqr6fH7D",
        "outputId": "2fa6fb52-4e18-4a80-8553-fbc2dbdbb736"
      },
      "execution_count": 42,
      "outputs": [
        {
          "output_type": "stream",
          "name": "stdout",
          "text": [
            "Microsoft | PROPN | proper noun\n",
            "Corp. | PROPN | proper noun\n",
            "today | NOUN | noun\n",
            "announced | VERB | verb\n",
            "the | DET | determiner\n",
            "following | VERB | verb\n",
            "results | NOUN | noun\n",
            "for | ADP | adposition\n",
            "the | DET | determiner\n",
            "quarter | NOUN | noun\n",
            "ended | VERB | verb\n",
            "December | PROPN | proper noun\n",
            "31 | NUM | numeral\n",
            ", | PUNCT | punctuation\n",
            "2021 | NUM | numeral\n",
            ", | PUNCT | punctuation\n",
            "as | SCONJ | subordinating conjunction\n",
            "compared | VERB | verb\n",
            "to | ADP | adposition\n",
            "the | DET | determiner\n",
            "corresponding | ADJ | adjective\n",
            "period | NOUN | noun\n",
            "of | ADP | adposition\n",
            "last | ADJ | adjective\n",
            "fiscal | ADJ | adjective\n",
            "year | NOUN | noun\n",
            ": | PUNCT | punctuation\n",
            "\n",
            "\n",
            " | SPACE | space\n",
            "· | PUNCT | punctuation\n",
            "         | SPACE | space\n",
            "Revenue | NOUN | noun\n",
            "was | AUX | auxiliary\n",
            "$ | SYM | symbol\n",
            "51.7 | NUM | numeral\n",
            "billion | NUM | numeral\n",
            "and | CCONJ | coordinating conjunction\n",
            "increased | VERB | verb\n",
            "20 | NUM | numeral\n",
            "% | NOUN | noun\n",
            "\n",
            " | SPACE | space\n",
            "· | PUNCT | punctuation\n",
            "         | SPACE | space\n",
            "Operating | VERB | verb\n",
            "income | NOUN | noun\n",
            "was | AUX | auxiliary\n",
            "$ | SYM | symbol\n",
            "22.2 | NUM | numeral\n",
            "billion | NUM | numeral\n",
            "and | CCONJ | coordinating conjunction\n",
            "increased | VERB | verb\n",
            "24 | NUM | numeral\n",
            "% | NOUN | noun\n",
            "\n",
            " | SPACE | space\n",
            "· | PUNCT | punctuation\n",
            "         | SPACE | space\n",
            "Net | ADJ | adjective\n",
            "income | NOUN | noun\n",
            "was | AUX | auxiliary\n",
            "$ | SYM | symbol\n",
            "18.8 | NUM | numeral\n",
            "billion | NUM | numeral\n",
            "and | CCONJ | coordinating conjunction\n",
            "increased | VERB | verb\n",
            "21 | NUM | numeral\n",
            "% | NOUN | noun\n",
            "\n",
            " | SPACE | space\n",
            "· | PUNCT | punctuation\n",
            "         | SPACE | space\n",
            "Diluted | VERB | verb\n",
            "earnings | NOUN | noun\n",
            "per | ADP | adposition\n",
            "share | NOUN | noun\n",
            "was | AUX | auxiliary\n",
            "$ | SYM | symbol\n",
            "2.48 | NUM | numeral\n",
            "and | CCONJ | coordinating conjunction\n",
            "increased | VERB | verb\n",
            "22 | NUM | numeral\n",
            "% | NOUN | noun\n",
            "\n",
            " | SPACE | space\n",
            "“ | PUNCT | punctuation\n",
            "Digital | PROPN | proper noun\n",
            "technology | NOUN | noun\n",
            "etc | X | other\n",
            ". | X | other\n",
            "is | AUX | auxiliary\n",
            "the | DET | determiner\n",
            "most | ADV | adverb\n",
            "malleable | ADJ | adjective\n",
            "resource | NOUN | noun\n",
            "at | ADP | adposition\n",
            "the | DET | determiner\n",
            "world | NOUN | noun\n",
            "’s | PART | particle\n",
            "disposal | NOUN | noun\n",
            "to | PART | particle\n",
            "overcome | VERB | verb\n",
            "constraints | NOUN | noun\n",
            "and | CCONJ | coordinating conjunction\n",
            "reimagine | VERB | verb\n",
            "everyday | ADJ | adjective\n",
            "work | NOUN | noun\n",
            "and | CCONJ | coordinating conjunction\n",
            "life | NOUN | noun\n",
            ", | PUNCT | punctuation\n",
            "” | PUNCT | punctuation\n",
            "said | VERB | verb\n",
            "Satya | PROPN | proper noun\n",
            "Nadella | PROPN | proper noun\n",
            ", | PUNCT | punctuation\n",
            "chairman | NOUN | noun\n",
            "and | CCONJ | coordinating conjunction\n",
            "chief | ADJ | adjective\n",
            "executive | ADJ | adjective\n",
            "officer | NOUN | noun\n",
            "of | ADP | adposition\n",
            "Microsoft | PROPN | proper noun\n",
            ". | PUNCT | punctuation\n",
            "“ | PUNCT | punctuation\n",
            "As | ADV | adverb\n",
            "tech | NOUN | noun\n",
            "as | ADP | adposition\n",
            "a | DET | determiner\n",
            "percentage | NOUN | noun\n",
            "of | ADP | adposition\n",
            "global | ADJ | adjective\n",
            "GDP | PROPN | proper noun\n",
            "continues | VERB | verb\n",
            "to | PART | particle\n",
            "increase | VERB | verb\n",
            ", | PUNCT | punctuation\n",
            "we | PRON | pronoun\n",
            "are | AUX | auxiliary\n",
            "innovating | VERB | verb\n",
            "and | CCONJ | coordinating conjunction\n",
            "investing | VERB | verb\n",
            "across | ADP | adposition\n",
            "diverse | ADJ | adjective\n",
            "and | CCONJ | coordinating conjunction\n",
            "growing | VERB | verb\n",
            "markets | NOUN | noun\n",
            ", | PUNCT | punctuation\n",
            "with | ADP | adposition\n",
            "a | DET | determiner\n",
            "common | ADJ | adjective\n",
            "underlying | VERB | verb\n",
            "technology | NOUN | noun\n",
            "stack | NOUN | noun\n",
            "and | CCONJ | coordinating conjunction\n",
            "an | DET | determiner\n",
            "operating | NOUN | noun\n",
            "model | NOUN | noun\n",
            "that | PRON | pronoun\n",
            "reinforces | VERB | verb\n",
            "a | DET | determiner\n",
            "common | ADJ | adjective\n",
            "strategy | NOUN | noun\n",
            ", | PUNCT | punctuation\n",
            "culture | NOUN | noun\n",
            ", | PUNCT | punctuation\n",
            "and | CCONJ | coordinating conjunction\n",
            "sense | NOUN | noun\n",
            "of | ADP | adposition\n",
            "purpose | NOUN | noun\n",
            ". | PUNCT | punctuation\n",
            "” | PUNCT | punctuation\n",
            "\n",
            " | SPACE | space\n",
            "“ | PUNCT | punctuation\n",
            "Solid | ADJ | adjective\n",
            "commercial | ADJ | adjective\n",
            "execution | NOUN | noun\n",
            ", | PUNCT | punctuation\n",
            "represented | VERB | verb\n",
            "by | ADP | adposition\n",
            "strong | ADJ | adjective\n",
            "bookings | NOUN | noun\n",
            "growth | NOUN | noun\n",
            "driven | VERB | verb\n",
            "by | ADP | adposition\n",
            "long | ADJ | adjective\n",
            "- | PUNCT | punctuation\n",
            "term | NOUN | noun\n",
            "Azure | ADJ | adjective\n",
            "commitments | NOUN | noun\n",
            ", | PUNCT | punctuation\n",
            "increased | VERB | verb\n",
            "Microsoft | PROPN | proper noun\n",
            "Cloud | PROPN | proper noun\n",
            "revenue | NOUN | noun\n",
            "to | ADP | adposition\n",
            "$ | SYM | symbol\n",
            "22.1 | NUM | numeral\n",
            "billion | NUM | numeral\n",
            ", | PUNCT | punctuation\n",
            "up | ADV | adverb\n",
            "32 | NUM | numeral\n",
            "% | NOUN | noun\n",
            "year | NOUN | noun\n",
            "over | ADP | adposition\n",
            "year | NOUN | noun\n",
            "” | PUNCT | punctuation\n",
            "said | VERB | verb\n",
            "Amy | PROPN | proper noun\n",
            "Hood | PROPN | proper noun\n",
            ", | PUNCT | punctuation\n",
            "executive | ADJ | adjective\n",
            "vice | NOUN | noun\n",
            "president | NOUN | noun\n",
            "and | CCONJ | coordinating conjunction\n",
            "chief | ADJ | adjective\n",
            "financial | ADJ | adjective\n",
            "officer | NOUN | noun\n",
            "of | ADP | adposition\n",
            "Microsoft | PROPN | proper noun\n",
            ". | PUNCT | punctuation\n"
          ]
        }
      ]
    },
    {
      "cell_type": "code",
      "source": [
        "#filtering unnecessary characters like spaces,punctuations,etc's\n",
        "for token in doc:\n",
        "  if token.pos_ in[\"SPACE\", \"PUNCT\", \"X\"]:\n",
        "    print(token,\"|\",token.pos_,\"|\",spacy.explain(token.pos_))"
      ],
      "metadata": {
        "colab": {
          "base_uri": "https://localhost:8080/"
        },
        "id": "bVNSz9vurGBD",
        "outputId": "bcdebec5-79dd-4926-cea0-72a5226061e4"
      },
      "execution_count": 43,
      "outputs": [
        {
          "output_type": "stream",
          "name": "stdout",
          "text": [
            ", | PUNCT | punctuation\n",
            ", | PUNCT | punctuation\n",
            ": | PUNCT | punctuation\n",
            "\n",
            "\n",
            " | SPACE | space\n",
            "· | PUNCT | punctuation\n",
            "         | SPACE | space\n",
            "\n",
            " | SPACE | space\n",
            "· | PUNCT | punctuation\n",
            "         | SPACE | space\n",
            "\n",
            " | SPACE | space\n",
            "· | PUNCT | punctuation\n",
            "         | SPACE | space\n",
            "\n",
            " | SPACE | space\n",
            "· | PUNCT | punctuation\n",
            "         | SPACE | space\n",
            "\n",
            " | SPACE | space\n",
            "“ | PUNCT | punctuation\n",
            "etc | X | other\n",
            ". | X | other\n",
            ", | PUNCT | punctuation\n",
            "” | PUNCT | punctuation\n",
            ", | PUNCT | punctuation\n",
            ". | PUNCT | punctuation\n",
            "“ | PUNCT | punctuation\n",
            ", | PUNCT | punctuation\n",
            ", | PUNCT | punctuation\n",
            ", | PUNCT | punctuation\n",
            ", | PUNCT | punctuation\n",
            ". | PUNCT | punctuation\n",
            "” | PUNCT | punctuation\n",
            "\n",
            " | SPACE | space\n",
            "“ | PUNCT | punctuation\n",
            ", | PUNCT | punctuation\n",
            "- | PUNCT | punctuation\n",
            ", | PUNCT | punctuation\n",
            ", | PUNCT | punctuation\n",
            "” | PUNCT | punctuation\n",
            ", | PUNCT | punctuation\n",
            ". | PUNCT | punctuation\n"
          ]
        }
      ]
    },
    {
      "cell_type": "code",
      "source": [
        "#filtering wanted tokens/characters in text\n",
        "for token in doc:\n",
        "  if token.pos_ not in[\"SPACE\", \"PUNCT\", \"X\"]:\n",
        "    print(token,\"|\",token.pos_,\"|\",spacy.explain(token.pos_))"
      ],
      "metadata": {
        "colab": {
          "base_uri": "https://localhost:8080/"
        },
        "id": "rrIZa7K3s7Hr",
        "outputId": "dcf15e50-427b-45e6-ffac-c3519f569c34"
      },
      "execution_count": 44,
      "outputs": [
        {
          "output_type": "stream",
          "name": "stdout",
          "text": [
            "Microsoft | PROPN | proper noun\n",
            "Corp. | PROPN | proper noun\n",
            "today | NOUN | noun\n",
            "announced | VERB | verb\n",
            "the | DET | determiner\n",
            "following | VERB | verb\n",
            "results | NOUN | noun\n",
            "for | ADP | adposition\n",
            "the | DET | determiner\n",
            "quarter | NOUN | noun\n",
            "ended | VERB | verb\n",
            "December | PROPN | proper noun\n",
            "31 | NUM | numeral\n",
            "2021 | NUM | numeral\n",
            "as | SCONJ | subordinating conjunction\n",
            "compared | VERB | verb\n",
            "to | ADP | adposition\n",
            "the | DET | determiner\n",
            "corresponding | ADJ | adjective\n",
            "period | NOUN | noun\n",
            "of | ADP | adposition\n",
            "last | ADJ | adjective\n",
            "fiscal | ADJ | adjective\n",
            "year | NOUN | noun\n",
            "Revenue | NOUN | noun\n",
            "was | AUX | auxiliary\n",
            "$ | SYM | symbol\n",
            "51.7 | NUM | numeral\n",
            "billion | NUM | numeral\n",
            "and | CCONJ | coordinating conjunction\n",
            "increased | VERB | verb\n",
            "20 | NUM | numeral\n",
            "% | NOUN | noun\n",
            "Operating | VERB | verb\n",
            "income | NOUN | noun\n",
            "was | AUX | auxiliary\n",
            "$ | SYM | symbol\n",
            "22.2 | NUM | numeral\n",
            "billion | NUM | numeral\n",
            "and | CCONJ | coordinating conjunction\n",
            "increased | VERB | verb\n",
            "24 | NUM | numeral\n",
            "% | NOUN | noun\n",
            "Net | ADJ | adjective\n",
            "income | NOUN | noun\n",
            "was | AUX | auxiliary\n",
            "$ | SYM | symbol\n",
            "18.8 | NUM | numeral\n",
            "billion | NUM | numeral\n",
            "and | CCONJ | coordinating conjunction\n",
            "increased | VERB | verb\n",
            "21 | NUM | numeral\n",
            "% | NOUN | noun\n",
            "Diluted | VERB | verb\n",
            "earnings | NOUN | noun\n",
            "per | ADP | adposition\n",
            "share | NOUN | noun\n",
            "was | AUX | auxiliary\n",
            "$ | SYM | symbol\n",
            "2.48 | NUM | numeral\n",
            "and | CCONJ | coordinating conjunction\n",
            "increased | VERB | verb\n",
            "22 | NUM | numeral\n",
            "% | NOUN | noun\n",
            "Digital | PROPN | proper noun\n",
            "technology | NOUN | noun\n",
            "is | AUX | auxiliary\n",
            "the | DET | determiner\n",
            "most | ADV | adverb\n",
            "malleable | ADJ | adjective\n",
            "resource | NOUN | noun\n",
            "at | ADP | adposition\n",
            "the | DET | determiner\n",
            "world | NOUN | noun\n",
            "’s | PART | particle\n",
            "disposal | NOUN | noun\n",
            "to | PART | particle\n",
            "overcome | VERB | verb\n",
            "constraints | NOUN | noun\n",
            "and | CCONJ | coordinating conjunction\n",
            "reimagine | VERB | verb\n",
            "everyday | ADJ | adjective\n",
            "work | NOUN | noun\n",
            "and | CCONJ | coordinating conjunction\n",
            "life | NOUN | noun\n",
            "said | VERB | verb\n",
            "Satya | PROPN | proper noun\n",
            "Nadella | PROPN | proper noun\n",
            "chairman | NOUN | noun\n",
            "and | CCONJ | coordinating conjunction\n",
            "chief | ADJ | adjective\n",
            "executive | ADJ | adjective\n",
            "officer | NOUN | noun\n",
            "of | ADP | adposition\n",
            "Microsoft | PROPN | proper noun\n",
            "As | ADV | adverb\n",
            "tech | NOUN | noun\n",
            "as | ADP | adposition\n",
            "a | DET | determiner\n",
            "percentage | NOUN | noun\n",
            "of | ADP | adposition\n",
            "global | ADJ | adjective\n",
            "GDP | PROPN | proper noun\n",
            "continues | VERB | verb\n",
            "to | PART | particle\n",
            "increase | VERB | verb\n",
            "we | PRON | pronoun\n",
            "are | AUX | auxiliary\n",
            "innovating | VERB | verb\n",
            "and | CCONJ | coordinating conjunction\n",
            "investing | VERB | verb\n",
            "across | ADP | adposition\n",
            "diverse | ADJ | adjective\n",
            "and | CCONJ | coordinating conjunction\n",
            "growing | VERB | verb\n",
            "markets | NOUN | noun\n",
            "with | ADP | adposition\n",
            "a | DET | determiner\n",
            "common | ADJ | adjective\n",
            "underlying | VERB | verb\n",
            "technology | NOUN | noun\n",
            "stack | NOUN | noun\n",
            "and | CCONJ | coordinating conjunction\n",
            "an | DET | determiner\n",
            "operating | NOUN | noun\n",
            "model | NOUN | noun\n",
            "that | PRON | pronoun\n",
            "reinforces | VERB | verb\n",
            "a | DET | determiner\n",
            "common | ADJ | adjective\n",
            "strategy | NOUN | noun\n",
            "culture | NOUN | noun\n",
            "and | CCONJ | coordinating conjunction\n",
            "sense | NOUN | noun\n",
            "of | ADP | adposition\n",
            "purpose | NOUN | noun\n",
            "Solid | ADJ | adjective\n",
            "commercial | ADJ | adjective\n",
            "execution | NOUN | noun\n",
            "represented | VERB | verb\n",
            "by | ADP | adposition\n",
            "strong | ADJ | adjective\n",
            "bookings | NOUN | noun\n",
            "growth | NOUN | noun\n",
            "driven | VERB | verb\n",
            "by | ADP | adposition\n",
            "long | ADJ | adjective\n",
            "term | NOUN | noun\n",
            "Azure | ADJ | adjective\n",
            "commitments | NOUN | noun\n",
            "increased | VERB | verb\n",
            "Microsoft | PROPN | proper noun\n",
            "Cloud | PROPN | proper noun\n",
            "revenue | NOUN | noun\n",
            "to | ADP | adposition\n",
            "$ | SYM | symbol\n",
            "22.1 | NUM | numeral\n",
            "billion | NUM | numeral\n",
            "up | ADV | adverb\n",
            "32 | NUM | numeral\n",
            "% | NOUN | noun\n",
            "year | NOUN | noun\n",
            "over | ADP | adposition\n",
            "year | NOUN | noun\n",
            "said | VERB | verb\n",
            "Amy | PROPN | proper noun\n",
            "Hood | PROPN | proper noun\n",
            "executive | ADJ | adjective\n",
            "vice | NOUN | noun\n",
            "president | NOUN | noun\n",
            "and | CCONJ | coordinating conjunction\n",
            "chief | ADJ | adjective\n",
            "financial | ADJ | adjective\n",
            "officer | NOUN | noun\n",
            "of | ADP | adposition\n",
            "Microsoft | PROPN | proper noun\n"
          ]
        }
      ]
    },
    {
      "cell_type": "code",
      "source": [
        "#removing unnecessary characters like spaces,punctuations,etc's\n",
        "filtered_tokens = []\n",
        "\n",
        "for token in doc:\n",
        "  if token.pos_ not in [\"SPACE\", \"PUNCT\", \"X\"]:\n",
        "    filtered_tokens.append(token)"
      ],
      "metadata": {
        "id": "XYv-zVr2rFPb"
      },
      "execution_count": 45,
      "outputs": []
    },
    {
      "cell_type": "code",
      "source": [
        "filtered_tokens[:15]\n",
        "#view the filtered tokens"
      ],
      "metadata": {
        "colab": {
          "base_uri": "https://localhost:8080/"
        },
        "id": "uysxAOZ9r5pT",
        "outputId": "72d21088-4178-4d25-a902-c194192fac4e"
      },
      "execution_count": 46,
      "outputs": [
        {
          "output_type": "execute_result",
          "data": {
            "text/plain": [
              "[Microsoft,\n",
              " Corp.,\n",
              " today,\n",
              " announced,\n",
              " the,\n",
              " following,\n",
              " results,\n",
              " for,\n",
              " the,\n",
              " quarter,\n",
              " ended,\n",
              " December,\n",
              " 31,\n",
              " 2021,\n",
              " as]"
            ]
          },
          "metadata": {},
          "execution_count": 46
        }
      ]
    },
    {
      "cell_type": "code",
      "source": [
        "#for filtered_tokens in doc:\n",
        "  #print(filtered_tokens)\n",
        "  #print(filtered_tokens,\"|\",filtered_tokens.pos_,\"|\",spacy.explain(filtered_tokens.pos_))"
      ],
      "metadata": {
        "id": "fxnE-r0zu3Mq"
      },
      "execution_count": null,
      "outputs": []
    },
    {
      "cell_type": "code",
      "source": [
        "for token in doc:\n",
        "    if token.pos_ not in [\"SPACE\", \"PUNCT\", \"X\"]:\n",
        "        filtered_tokens.append(token)\n",
        "        print(token.text, \"|\", token.pos_, \"|\", spacy.explain(token.pos_))"
      ],
      "metadata": {
        "id": "Y8XBtT4mwoya"
      },
      "execution_count": null,
      "outputs": []
    },
    {
      "cell_type": "markdown",
      "source": [
        "we can check how many nouns ,verbs,etc.. are present in text. and extract the details."
      ],
      "metadata": {
        "id": "iBIJ_JQoxUYL"
      }
    },
    {
      "cell_type": "code",
      "source": [
        "count=doc.count_by(spacy.attrs.POS)\n",
        "count"
      ],
      "metadata": {
        "colab": {
          "base_uri": "https://localhost:8080/"
        },
        "id": "BPsBlof7wy7y",
        "outputId": "b384e2f4-037c-448c-e417-b078524dd581"
      },
      "execution_count": 52,
      "outputs": [
        {
          "output_type": "execute_result",
          "data": {
            "text/plain": [
              "{96: 13,\n",
              " 92: 46,\n",
              " 100: 24,\n",
              " 90: 9,\n",
              " 85: 16,\n",
              " 93: 16,\n",
              " 97: 27,\n",
              " 98: 1,\n",
              " 84: 20,\n",
              " 103: 10,\n",
              " 87: 6,\n",
              " 99: 5,\n",
              " 89: 12,\n",
              " 86: 3,\n",
              " 94: 3,\n",
              " 95: 2}"
            ]
          },
          "metadata": {},
          "execution_count": 52
        }
      ]
    },
    {
      "cell_type": "code",
      "source": [
        "doc.vocab[96].text"
      ],
      "metadata": {
        "colab": {
          "base_uri": "https://localhost:8080/",
          "height": 35
        },
        "id": "yIJbIEOAxsxb",
        "outputId": "db7c1412-bd09-43b4-905b-af3d30bb1781"
      },
      "execution_count": 53,
      "outputs": [
        {
          "output_type": "execute_result",
          "data": {
            "text/plain": [
              "'PROPN'"
            ],
            "application/vnd.google.colaboratory.intrinsic+json": {
              "type": "string"
            }
          },
          "metadata": {},
          "execution_count": 53
        }
      ]
    },
    {
      "cell_type": "code",
      "source": [
        "for k,v in count.items():\n",
        "    print(doc.vocab[k].text, \"|\",v)\n",
        "#using dictionary key and value option"
      ],
      "metadata": {
        "colab": {
          "base_uri": "https://localhost:8080/"
        },
        "id": "zHuivhnTx9zC",
        "outputId": "3801cbed-cc53-4e54-d422-8cfaec22bfa4"
      },
      "execution_count": 55,
      "outputs": [
        {
          "output_type": "stream",
          "name": "stdout",
          "text": [
            "PROPN | 13\n",
            "NOUN | 46\n",
            "VERB | 24\n",
            "DET | 9\n",
            "ADP | 16\n",
            "NUM | 16\n",
            "PUNCT | 27\n",
            "SCONJ | 1\n",
            "ADJ | 20\n",
            "SPACE | 10\n",
            "AUX | 6\n",
            "SYM | 5\n",
            "CCONJ | 12\n",
            "ADV | 3\n",
            "PART | 3\n",
            "PRON | 2\n"
          ]
        }
      ]
    }
  ]
}