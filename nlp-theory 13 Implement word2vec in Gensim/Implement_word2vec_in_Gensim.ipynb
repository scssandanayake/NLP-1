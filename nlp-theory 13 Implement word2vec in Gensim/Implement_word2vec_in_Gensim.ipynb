{
  "nbformat": 4,
  "nbformat_minor": 0,
  "metadata": {
    "colab": {
      "provenance": []
    },
    "kernelspec": {
      "name": "python3",
      "display_name": "Python 3"
    },
    "language_info": {
      "name": "python"
    }
  },
  "cells": [
    {
      "cell_type": "code",
      "source": [
        "# !pip install gensim\n",
        "!pip install python-Levenshtein"
      ],
      "metadata": {
        "id": "xImhACYqqOlt",
        "colab": {
          "base_uri": "https://localhost:8080/"
        },
        "outputId": "f1d1d31e-ff18-419f-b9e9-e2b94ba46092"
      },
      "execution_count": 15,
      "outputs": [
        {
          "output_type": "stream",
          "name": "stdout",
          "text": [
            "Collecting python-Levenshtein\n",
            "  Downloading python_Levenshtein-0.26.0-py3-none-any.whl.metadata (3.7 kB)\n",
            "Collecting Levenshtein==0.26.0 (from python-Levenshtein)\n",
            "  Downloading levenshtein-0.26.0-cp310-cp310-manylinux_2_17_x86_64.manylinux2014_x86_64.whl.metadata (3.2 kB)\n",
            "Collecting rapidfuzz<4.0.0,>=3.9.0 (from Levenshtein==0.26.0->python-Levenshtein)\n",
            "  Downloading rapidfuzz-3.10.0-cp310-cp310-manylinux_2_17_x86_64.manylinux2014_x86_64.whl.metadata (11 kB)\n",
            "Downloading python_Levenshtein-0.26.0-py3-none-any.whl (9.4 kB)\n",
            "Downloading levenshtein-0.26.0-cp310-cp310-manylinux_2_17_x86_64.manylinux2014_x86_64.whl (162 kB)\n",
            "\u001b[2K   \u001b[90m━━━━━━━━━━━━━━━━━━━━━━━━━━━━━━━━━━━━━━━━\u001b[0m \u001b[32m162.6/162.6 kB\u001b[0m \u001b[31m4.0 MB/s\u001b[0m eta \u001b[36m0:00:00\u001b[0m\n",
            "\u001b[?25hDownloading rapidfuzz-3.10.0-cp310-cp310-manylinux_2_17_x86_64.manylinux2014_x86_64.whl (3.1 MB)\n",
            "\u001b[2K   \u001b[90m━━━━━━━━━━━━━━━━━━━━━━━━━━━━━━━━━━━━━━━━\u001b[0m \u001b[32m3.1/3.1 MB\u001b[0m \u001b[31m46.4 MB/s\u001b[0m eta \u001b[36m0:00:00\u001b[0m\n",
            "\u001b[?25hInstalling collected packages: rapidfuzz, Levenshtein, python-Levenshtein\n",
            "Successfully installed Levenshtein-0.26.0 python-Levenshtein-0.26.0 rapidfuzz-3.10.0\n"
          ]
        }
      ]
    },
    {
      "cell_type": "code",
      "execution_count": 16,
      "metadata": {
        "id": "rDgHG-hJpsan"
      },
      "outputs": [],
      "source": [
        "import gensim\n",
        "import pandas as pd"
      ]
    },
    {
      "cell_type": "markdown",
      "source": [
        "\n",
        "### **Reading and Exploring the Dataset**\n",
        "\n",
        "The dataset we are using here is a subset of Amazon reviews from the Cell Phones & Accessories category. The data is stored as a JSON file and can be read using pandas.\n",
        "\n",
        "Link to the Dataset: http://snap.stanford.edu/data/amazon/productGraph/categoryFiles/reviews_Cell_Phones_and_Accessories_5.json.gz\n",
        "\n",
        "if 1st link not respond: https://cseweb.ucsd.edu/~jmcauley/datasets.html#amazon_reviews"
      ],
      "metadata": {
        "id": "Iu1LTiSsqTS8"
      }
    },
    {
      "cell_type": "code",
      "source": [
        "df = pd.read_json(\"/Cell_Phones_and_Accessories_5.json\", lines=True)\n",
        "df"
      ],
      "metadata": {
        "id": "nFFEzLf1qQTs",
        "colab": {
          "base_uri": "https://localhost:8080/",
          "height": 304
        },
        "outputId": "4cf47943-6851-45c6-e7d3-32df32d9f306"
      },
      "execution_count": 17,
      "outputs": [
        {
          "output_type": "error",
          "ename": "ValueError",
          "evalue": "Unmatched ''\"' when when decoding 'string'",
          "traceback": [
            "\u001b[0;31m---------------------------------------------------------------------------\u001b[0m",
            "\u001b[0;31mValueError\u001b[0m                                Traceback (most recent call last)",
            "\u001b[0;32m<ipython-input-17-a57f76310b69>\u001b[0m in \u001b[0;36m<cell line: 1>\u001b[0;34m()\u001b[0m\n\u001b[0;32m----> 1\u001b[0;31m \u001b[0mdf\u001b[0m \u001b[0;34m=\u001b[0m \u001b[0mpd\u001b[0m\u001b[0;34m.\u001b[0m\u001b[0mread_json\u001b[0m\u001b[0;34m(\u001b[0m\u001b[0;34m\"/Cell_Phones_and_Accessories_5.json\"\u001b[0m\u001b[0;34m,\u001b[0m \u001b[0mlines\u001b[0m\u001b[0;34m=\u001b[0m\u001b[0;32mTrue\u001b[0m\u001b[0;34m)\u001b[0m\u001b[0;34m\u001b[0m\u001b[0;34m\u001b[0m\u001b[0m\n\u001b[0m\u001b[1;32m      2\u001b[0m \u001b[0mdf\u001b[0m\u001b[0;34m\u001b[0m\u001b[0;34m\u001b[0m\u001b[0m\n",
            "\u001b[0;32m/usr/local/lib/python3.10/dist-packages/pandas/io/json/_json.py\u001b[0m in \u001b[0;36mread_json\u001b[0;34m(path_or_buf, orient, typ, dtype, convert_axes, convert_dates, keep_default_dates, precise_float, date_unit, encoding, encoding_errors, lines, chunksize, compression, nrows, storage_options, dtype_backend, engine)\u001b[0m\n\u001b[1;32m    813\u001b[0m         \u001b[0;32mreturn\u001b[0m \u001b[0mjson_reader\u001b[0m\u001b[0;34m\u001b[0m\u001b[0;34m\u001b[0m\u001b[0m\n\u001b[1;32m    814\u001b[0m     \u001b[0;32melse\u001b[0m\u001b[0;34m:\u001b[0m\u001b[0;34m\u001b[0m\u001b[0;34m\u001b[0m\u001b[0m\n\u001b[0;32m--> 815\u001b[0;31m         \u001b[0;32mreturn\u001b[0m \u001b[0mjson_reader\u001b[0m\u001b[0;34m.\u001b[0m\u001b[0mread\u001b[0m\u001b[0;34m(\u001b[0m\u001b[0;34m)\u001b[0m\u001b[0;34m\u001b[0m\u001b[0;34m\u001b[0m\u001b[0m\n\u001b[0m\u001b[1;32m    816\u001b[0m \u001b[0;34m\u001b[0m\u001b[0m\n\u001b[1;32m    817\u001b[0m \u001b[0;34m\u001b[0m\u001b[0m\n",
            "\u001b[0;32m/usr/local/lib/python3.10/dist-packages/pandas/io/json/_json.py\u001b[0m in \u001b[0;36mread\u001b[0;34m(self)\u001b[0m\n\u001b[1;32m   1021\u001b[0m                         \u001b[0mdata\u001b[0m \u001b[0;34m=\u001b[0m \u001b[0mensure_str\u001b[0m\u001b[0;34m(\u001b[0m\u001b[0mself\u001b[0m\u001b[0;34m.\u001b[0m\u001b[0mdata\u001b[0m\u001b[0;34m)\u001b[0m\u001b[0;34m\u001b[0m\u001b[0;34m\u001b[0m\u001b[0m\n\u001b[1;32m   1022\u001b[0m                         \u001b[0mdata_lines\u001b[0m \u001b[0;34m=\u001b[0m \u001b[0mdata\u001b[0m\u001b[0;34m.\u001b[0m\u001b[0msplit\u001b[0m\u001b[0;34m(\u001b[0m\u001b[0;34m\"\\n\"\u001b[0m\u001b[0;34m)\u001b[0m\u001b[0;34m\u001b[0m\u001b[0;34m\u001b[0m\u001b[0m\n\u001b[0;32m-> 1023\u001b[0;31m                         \u001b[0mobj\u001b[0m \u001b[0;34m=\u001b[0m \u001b[0mself\u001b[0m\u001b[0;34m.\u001b[0m\u001b[0m_get_object_parser\u001b[0m\u001b[0;34m(\u001b[0m\u001b[0mself\u001b[0m\u001b[0;34m.\u001b[0m\u001b[0m_combine_lines\u001b[0m\u001b[0;34m(\u001b[0m\u001b[0mdata_lines\u001b[0m\u001b[0;34m)\u001b[0m\u001b[0;34m)\u001b[0m\u001b[0;34m\u001b[0m\u001b[0;34m\u001b[0m\u001b[0m\n\u001b[0m\u001b[1;32m   1024\u001b[0m                 \u001b[0;32melse\u001b[0m\u001b[0;34m:\u001b[0m\u001b[0;34m\u001b[0m\u001b[0;34m\u001b[0m\u001b[0m\n\u001b[1;32m   1025\u001b[0m                     \u001b[0mobj\u001b[0m \u001b[0;34m=\u001b[0m \u001b[0mself\u001b[0m\u001b[0;34m.\u001b[0m\u001b[0m_get_object_parser\u001b[0m\u001b[0;34m(\u001b[0m\u001b[0mself\u001b[0m\u001b[0;34m.\u001b[0m\u001b[0mdata\u001b[0m\u001b[0;34m)\u001b[0m\u001b[0;34m\u001b[0m\u001b[0;34m\u001b[0m\u001b[0m\n",
            "\u001b[0;32m/usr/local/lib/python3.10/dist-packages/pandas/io/json/_json.py\u001b[0m in \u001b[0;36m_get_object_parser\u001b[0;34m(self, json)\u001b[0m\n\u001b[1;32m   1049\u001b[0m         \u001b[0mobj\u001b[0m \u001b[0;34m=\u001b[0m \u001b[0;32mNone\u001b[0m\u001b[0;34m\u001b[0m\u001b[0;34m\u001b[0m\u001b[0m\n\u001b[1;32m   1050\u001b[0m         \u001b[0;32mif\u001b[0m \u001b[0mtyp\u001b[0m \u001b[0;34m==\u001b[0m \u001b[0;34m\"frame\"\u001b[0m\u001b[0;34m:\u001b[0m\u001b[0;34m\u001b[0m\u001b[0;34m\u001b[0m\u001b[0m\n\u001b[0;32m-> 1051\u001b[0;31m             \u001b[0mobj\u001b[0m \u001b[0;34m=\u001b[0m \u001b[0mFrameParser\u001b[0m\u001b[0;34m(\u001b[0m\u001b[0mjson\u001b[0m\u001b[0;34m,\u001b[0m \u001b[0;34m**\u001b[0m\u001b[0mkwargs\u001b[0m\u001b[0;34m)\u001b[0m\u001b[0;34m.\u001b[0m\u001b[0mparse\u001b[0m\u001b[0;34m(\u001b[0m\u001b[0;34m)\u001b[0m\u001b[0;34m\u001b[0m\u001b[0;34m\u001b[0m\u001b[0m\n\u001b[0m\u001b[1;32m   1052\u001b[0m \u001b[0;34m\u001b[0m\u001b[0m\n\u001b[1;32m   1053\u001b[0m         \u001b[0;32mif\u001b[0m \u001b[0mtyp\u001b[0m \u001b[0;34m==\u001b[0m \u001b[0;34m\"series\"\u001b[0m \u001b[0;32mor\u001b[0m \u001b[0mobj\u001b[0m \u001b[0;32mis\u001b[0m \u001b[0;32mNone\u001b[0m\u001b[0;34m:\u001b[0m\u001b[0;34m\u001b[0m\u001b[0;34m\u001b[0m\u001b[0m\n",
            "\u001b[0;32m/usr/local/lib/python3.10/dist-packages/pandas/io/json/_json.py\u001b[0m in \u001b[0;36mparse\u001b[0;34m(self)\u001b[0m\n\u001b[1;32m   1185\u001b[0m     \u001b[0;34m@\u001b[0m\u001b[0mfinal\u001b[0m\u001b[0;34m\u001b[0m\u001b[0;34m\u001b[0m\u001b[0m\n\u001b[1;32m   1186\u001b[0m     \u001b[0;32mdef\u001b[0m \u001b[0mparse\u001b[0m\u001b[0;34m(\u001b[0m\u001b[0mself\u001b[0m\u001b[0;34m)\u001b[0m\u001b[0;34m:\u001b[0m\u001b[0;34m\u001b[0m\u001b[0;34m\u001b[0m\u001b[0m\n\u001b[0;32m-> 1187\u001b[0;31m         \u001b[0mself\u001b[0m\u001b[0;34m.\u001b[0m\u001b[0m_parse\u001b[0m\u001b[0;34m(\u001b[0m\u001b[0;34m)\u001b[0m\u001b[0;34m\u001b[0m\u001b[0;34m\u001b[0m\u001b[0m\n\u001b[0m\u001b[1;32m   1188\u001b[0m \u001b[0;34m\u001b[0m\u001b[0m\n\u001b[1;32m   1189\u001b[0m         \u001b[0;32mif\u001b[0m \u001b[0mself\u001b[0m\u001b[0;34m.\u001b[0m\u001b[0mobj\u001b[0m \u001b[0;32mis\u001b[0m \u001b[0;32mNone\u001b[0m\u001b[0;34m:\u001b[0m\u001b[0;34m\u001b[0m\u001b[0;34m\u001b[0m\u001b[0m\n",
            "\u001b[0;32m/usr/local/lib/python3.10/dist-packages/pandas/io/json/_json.py\u001b[0m in \u001b[0;36m_parse\u001b[0;34m(self)\u001b[0m\n\u001b[1;32m   1401\u001b[0m         \u001b[0;32mif\u001b[0m \u001b[0morient\u001b[0m \u001b[0;34m==\u001b[0m \u001b[0;34m\"columns\"\u001b[0m\u001b[0;34m:\u001b[0m\u001b[0;34m\u001b[0m\u001b[0;34m\u001b[0m\u001b[0m\n\u001b[1;32m   1402\u001b[0m             self.obj = DataFrame(\n\u001b[0;32m-> 1403\u001b[0;31m                 \u001b[0mujson_loads\u001b[0m\u001b[0;34m(\u001b[0m\u001b[0mjson\u001b[0m\u001b[0;34m,\u001b[0m \u001b[0mprecise_float\u001b[0m\u001b[0;34m=\u001b[0m\u001b[0mself\u001b[0m\u001b[0;34m.\u001b[0m\u001b[0mprecise_float\u001b[0m\u001b[0;34m)\u001b[0m\u001b[0;34m,\u001b[0m \u001b[0mdtype\u001b[0m\u001b[0;34m=\u001b[0m\u001b[0;32mNone\u001b[0m\u001b[0;34m\u001b[0m\u001b[0;34m\u001b[0m\u001b[0m\n\u001b[0m\u001b[1;32m   1404\u001b[0m             )\n\u001b[1;32m   1405\u001b[0m         \u001b[0;32melif\u001b[0m \u001b[0morient\u001b[0m \u001b[0;34m==\u001b[0m \u001b[0;34m\"split\"\u001b[0m\u001b[0;34m:\u001b[0m\u001b[0;34m\u001b[0m\u001b[0;34m\u001b[0m\u001b[0m\n",
            "\u001b[0;31mValueError\u001b[0m: Unmatched ''\"' when when decoding 'string'"
          ]
        }
      ]
    },
    {
      "cell_type": "markdown",
      "source": [
        "**Hypothesis**\n",
        "\n",
        "The error message \"ValueError: Unmatched ''\"' when when decoding 'string'\" indicates that the JSON file you're trying to read has a syntax error. Specifically, there's an unmatched single quote (') within a double-quoted string (\"). This usually happens when a single quote is used inside a string value without being properly escaped.\n",
        "\n",
        "Since the lines=True parameter is used in pd.read_json, the parser is expecting each line of the file to be a valid JSON object. Therefore, even a single malformed line can cause the error."
      ],
      "metadata": {
        "id": "TVuRfX1xJk3F"
      }
    },
    {
      "cell_type": "markdown",
      "source": [
        "**Explanation of changes:**\n",
        "\n",
        "1. Import json: We import the json module to use its loads function for parsing individual lines.\n",
        "2. Iterate and Parse: The code iterates through each line of the file and attempts to parse it as JSON using json.loads.\n",
        "3. Error Handling: If a line fails to parse, it prints the line number, error message, and the problematic line itself to help you pinpoint the issue.\n",
        "4. Manual Fix: You need to manually edit your JSON file and correct the syntax error based on the information provided by the script.\n",
        "5. Read into DataFrame: After fixing the file, the code reads it into a pandas DataFrame using pd.read_json."
      ],
      "metadata": {
        "id": "3q5LG1mMJmP2"
      }
    },
    {
      "source": [
        "import json\n",
        "\n",
        "# Open the JSON file and read it line by line to identify the problematic line\n",
        "with open(\"/Cell_Phones_and_Accessories_5.json\", 'r') as f:\n",
        "    for i, line in enumerate(f):\n",
        "        try:\n",
        "            # Attempt to parse each line as JSON\n",
        "            json.loads(line)\n",
        "        except json.JSONDecodeError as e:\n",
        "            print(f\"Error on line {i + 1}: {e}\")\n",
        "            print(f\"Problematic line: {line}\")\n",
        "            break # Stop after finding the first error\n",
        "\n",
        "# After identifying the problematic line, you can manually fix the JSON syntax in the file.\n",
        "# For example, if the issue is an unescaped single quote, you can escape it using a backslash (\\'):\n",
        "#   Original:  {\"key\": \"This is John's phone\"}\n",
        "#   Fixed:     {\"key\": \"This is John\\'s phone\"}\n",
        "\n",
        "# Once you've fixed the file, you can read it into a DataFrame:\n",
        "df = pd.read_json(\"/Cell_Phones_and_Accessories_5.json\", lines=True)\n",
        "df"
      ],
      "cell_type": "code",
      "metadata": {
        "colab": {
          "base_uri": "https://localhost:8080/",
          "height": 1000
        },
        "id": "H17Ex-BYJUx-",
        "outputId": "a858e677-5cfb-4b45-c05a-a51562bdce97"
      },
      "execution_count": 18,
      "outputs": [
        {
          "output_type": "execute_result",
          "data": {
            "text/plain": [
              "            reviewerID        asin       reviewerName helpful  \\\n",
              "0       A30TL5EWN6DFXT  120401325X          christina  [0, 0]   \n",
              "1        ASY55RVNIL0UD  120401325X           emily l.  [0, 0]   \n",
              "2       A2TMXE2AFO7ONB  120401325X              Erica  [0, 0]   \n",
              "3        AWJ0WZQYMYFQ4  120401325X                 JM  [4, 4]   \n",
              "4        ATX7CZYFXI1KW  120401325X   patrice m rogoza  [2, 3]   \n",
              "...                ...         ...                ...     ...   \n",
              "194434  A1YMNTFLNDYQ1F  B00LORXVUE    eyeused2loveher  [0, 0]   \n",
              "194435  A15TX8B2L8B20S  B00LORXVUE       Jon Davidson  [0, 0]   \n",
              "194436  A3JI7QRZO1QG8X  B00LORXVUE  Joyce M. Davidson  [0, 0]   \n",
              "194437  A1NHB2VC68YQNM  B00LORXVUE     Nurse Farrugia  [0, 0]   \n",
              "194438  A1AG6U022WHXBF  B00LORXVUE     Trisha Crocker  [0, 0]   \n",
              "\n",
              "                                               reviewText  overall  \\\n",
              "0       They look good and stick good! I just don't li...        4   \n",
              "1       These stickers work like the review says they ...        5   \n",
              "2       These are awesome and make my phone look so st...        5   \n",
              "3       Item arrived in great time and was in perfect ...        4   \n",
              "4       awesome! stays on, and looks great. can be use...        5   \n",
              "...                                                   ...      ...   \n",
              "194434  Works great just like my original one. I reall...        5   \n",
              "194435  Great product. Great packaging. High quality a...        5   \n",
              "194436  This is a great cable, just as good as the mor...        5   \n",
              "194437  I really like it becasue it works well with my...        5   \n",
              "194438  product as described, I have wasted a lot of m...        5   \n",
              "\n",
              "                                                  summary  unixReviewTime  \\\n",
              "0                                              Looks Good      1400630400   \n",
              "1                                   Really great product.      1389657600   \n",
              "2                                          LOVE LOVE LOVE      1403740800   \n",
              "3                                                   Cute!      1382313600   \n",
              "4               leopard home button sticker for iphone 4s      1359849600   \n",
              "...                                                   ...             ...   \n",
              "194434                           This works just perfect!      1405900800   \n",
              "194435           Great replacement cable. Apple certified      1405900800   \n",
              "194436                                       Real quality      1405900800   \n",
              "194437  I really like it becasue it works well with my...      1405814400   \n",
              "194438              I have wasted a lot of money on cords      1405900800   \n",
              "\n",
              "         reviewTime  \n",
              "0       05 21, 2014  \n",
              "1       01 14, 2014  \n",
              "2       06 26, 2014  \n",
              "3       10 21, 2013  \n",
              "4        02 3, 2013  \n",
              "...             ...  \n",
              "194434  07 21, 2014  \n",
              "194435  07 21, 2014  \n",
              "194436  07 21, 2014  \n",
              "194437  07 20, 2014  \n",
              "194438  07 21, 2014  \n",
              "\n",
              "[194439 rows x 9 columns]"
            ],
            "text/html": [
              "\n",
              "  <div id=\"df-91004326-6b04-424a-a88b-e03d9837ac25\" class=\"colab-df-container\">\n",
              "    <div>\n",
              "<style scoped>\n",
              "    .dataframe tbody tr th:only-of-type {\n",
              "        vertical-align: middle;\n",
              "    }\n",
              "\n",
              "    .dataframe tbody tr th {\n",
              "        vertical-align: top;\n",
              "    }\n",
              "\n",
              "    .dataframe thead th {\n",
              "        text-align: right;\n",
              "    }\n",
              "</style>\n",
              "<table border=\"1\" class=\"dataframe\">\n",
              "  <thead>\n",
              "    <tr style=\"text-align: right;\">\n",
              "      <th></th>\n",
              "      <th>reviewerID</th>\n",
              "      <th>asin</th>\n",
              "      <th>reviewerName</th>\n",
              "      <th>helpful</th>\n",
              "      <th>reviewText</th>\n",
              "      <th>overall</th>\n",
              "      <th>summary</th>\n",
              "      <th>unixReviewTime</th>\n",
              "      <th>reviewTime</th>\n",
              "    </tr>\n",
              "  </thead>\n",
              "  <tbody>\n",
              "    <tr>\n",
              "      <th>0</th>\n",
              "      <td>A30TL5EWN6DFXT</td>\n",
              "      <td>120401325X</td>\n",
              "      <td>christina</td>\n",
              "      <td>[0, 0]</td>\n",
              "      <td>They look good and stick good! I just don't li...</td>\n",
              "      <td>4</td>\n",
              "      <td>Looks Good</td>\n",
              "      <td>1400630400</td>\n",
              "      <td>05 21, 2014</td>\n",
              "    </tr>\n",
              "    <tr>\n",
              "      <th>1</th>\n",
              "      <td>ASY55RVNIL0UD</td>\n",
              "      <td>120401325X</td>\n",
              "      <td>emily l.</td>\n",
              "      <td>[0, 0]</td>\n",
              "      <td>These stickers work like the review says they ...</td>\n",
              "      <td>5</td>\n",
              "      <td>Really great product.</td>\n",
              "      <td>1389657600</td>\n",
              "      <td>01 14, 2014</td>\n",
              "    </tr>\n",
              "    <tr>\n",
              "      <th>2</th>\n",
              "      <td>A2TMXE2AFO7ONB</td>\n",
              "      <td>120401325X</td>\n",
              "      <td>Erica</td>\n",
              "      <td>[0, 0]</td>\n",
              "      <td>These are awesome and make my phone look so st...</td>\n",
              "      <td>5</td>\n",
              "      <td>LOVE LOVE LOVE</td>\n",
              "      <td>1403740800</td>\n",
              "      <td>06 26, 2014</td>\n",
              "    </tr>\n",
              "    <tr>\n",
              "      <th>3</th>\n",
              "      <td>AWJ0WZQYMYFQ4</td>\n",
              "      <td>120401325X</td>\n",
              "      <td>JM</td>\n",
              "      <td>[4, 4]</td>\n",
              "      <td>Item arrived in great time and was in perfect ...</td>\n",
              "      <td>4</td>\n",
              "      <td>Cute!</td>\n",
              "      <td>1382313600</td>\n",
              "      <td>10 21, 2013</td>\n",
              "    </tr>\n",
              "    <tr>\n",
              "      <th>4</th>\n",
              "      <td>ATX7CZYFXI1KW</td>\n",
              "      <td>120401325X</td>\n",
              "      <td>patrice m rogoza</td>\n",
              "      <td>[2, 3]</td>\n",
              "      <td>awesome! stays on, and looks great. can be use...</td>\n",
              "      <td>5</td>\n",
              "      <td>leopard home button sticker for iphone 4s</td>\n",
              "      <td>1359849600</td>\n",
              "      <td>02 3, 2013</td>\n",
              "    </tr>\n",
              "    <tr>\n",
              "      <th>...</th>\n",
              "      <td>...</td>\n",
              "      <td>...</td>\n",
              "      <td>...</td>\n",
              "      <td>...</td>\n",
              "      <td>...</td>\n",
              "      <td>...</td>\n",
              "      <td>...</td>\n",
              "      <td>...</td>\n",
              "      <td>...</td>\n",
              "    </tr>\n",
              "    <tr>\n",
              "      <th>194434</th>\n",
              "      <td>A1YMNTFLNDYQ1F</td>\n",
              "      <td>B00LORXVUE</td>\n",
              "      <td>eyeused2loveher</td>\n",
              "      <td>[0, 0]</td>\n",
              "      <td>Works great just like my original one. I reall...</td>\n",
              "      <td>5</td>\n",
              "      <td>This works just perfect!</td>\n",
              "      <td>1405900800</td>\n",
              "      <td>07 21, 2014</td>\n",
              "    </tr>\n",
              "    <tr>\n",
              "      <th>194435</th>\n",
              "      <td>A15TX8B2L8B20S</td>\n",
              "      <td>B00LORXVUE</td>\n",
              "      <td>Jon Davidson</td>\n",
              "      <td>[0, 0]</td>\n",
              "      <td>Great product. Great packaging. High quality a...</td>\n",
              "      <td>5</td>\n",
              "      <td>Great replacement cable. Apple certified</td>\n",
              "      <td>1405900800</td>\n",
              "      <td>07 21, 2014</td>\n",
              "    </tr>\n",
              "    <tr>\n",
              "      <th>194436</th>\n",
              "      <td>A3JI7QRZO1QG8X</td>\n",
              "      <td>B00LORXVUE</td>\n",
              "      <td>Joyce M. Davidson</td>\n",
              "      <td>[0, 0]</td>\n",
              "      <td>This is a great cable, just as good as the mor...</td>\n",
              "      <td>5</td>\n",
              "      <td>Real quality</td>\n",
              "      <td>1405900800</td>\n",
              "      <td>07 21, 2014</td>\n",
              "    </tr>\n",
              "    <tr>\n",
              "      <th>194437</th>\n",
              "      <td>A1NHB2VC68YQNM</td>\n",
              "      <td>B00LORXVUE</td>\n",
              "      <td>Nurse Farrugia</td>\n",
              "      <td>[0, 0]</td>\n",
              "      <td>I really like it becasue it works well with my...</td>\n",
              "      <td>5</td>\n",
              "      <td>I really like it becasue it works well with my...</td>\n",
              "      <td>1405814400</td>\n",
              "      <td>07 20, 2014</td>\n",
              "    </tr>\n",
              "    <tr>\n",
              "      <th>194438</th>\n",
              "      <td>A1AG6U022WHXBF</td>\n",
              "      <td>B00LORXVUE</td>\n",
              "      <td>Trisha Crocker</td>\n",
              "      <td>[0, 0]</td>\n",
              "      <td>product as described, I have wasted a lot of m...</td>\n",
              "      <td>5</td>\n",
              "      <td>I have wasted a lot of money on cords</td>\n",
              "      <td>1405900800</td>\n",
              "      <td>07 21, 2014</td>\n",
              "    </tr>\n",
              "  </tbody>\n",
              "</table>\n",
              "<p>194439 rows × 9 columns</p>\n",
              "</div>\n",
              "    <div class=\"colab-df-buttons\">\n",
              "\n",
              "  <div class=\"colab-df-container\">\n",
              "    <button class=\"colab-df-convert\" onclick=\"convertToInteractive('df-91004326-6b04-424a-a88b-e03d9837ac25')\"\n",
              "            title=\"Convert this dataframe to an interactive table.\"\n",
              "            style=\"display:none;\">\n",
              "\n",
              "  <svg xmlns=\"http://www.w3.org/2000/svg\" height=\"24px\" viewBox=\"0 -960 960 960\">\n",
              "    <path d=\"M120-120v-720h720v720H120Zm60-500h600v-160H180v160Zm220 220h160v-160H400v160Zm0 220h160v-160H400v160ZM180-400h160v-160H180v160Zm440 0h160v-160H620v160ZM180-180h160v-160H180v160Zm440 0h160v-160H620v160Z\"/>\n",
              "  </svg>\n",
              "    </button>\n",
              "\n",
              "  <style>\n",
              "    .colab-df-container {\n",
              "      display:flex;\n",
              "      gap: 12px;\n",
              "    }\n",
              "\n",
              "    .colab-df-convert {\n",
              "      background-color: #E8F0FE;\n",
              "      border: none;\n",
              "      border-radius: 50%;\n",
              "      cursor: pointer;\n",
              "      display: none;\n",
              "      fill: #1967D2;\n",
              "      height: 32px;\n",
              "      padding: 0 0 0 0;\n",
              "      width: 32px;\n",
              "    }\n",
              "\n",
              "    .colab-df-convert:hover {\n",
              "      background-color: #E2EBFA;\n",
              "      box-shadow: 0px 1px 2px rgba(60, 64, 67, 0.3), 0px 1px 3px 1px rgba(60, 64, 67, 0.15);\n",
              "      fill: #174EA6;\n",
              "    }\n",
              "\n",
              "    .colab-df-buttons div {\n",
              "      margin-bottom: 4px;\n",
              "    }\n",
              "\n",
              "    [theme=dark] .colab-df-convert {\n",
              "      background-color: #3B4455;\n",
              "      fill: #D2E3FC;\n",
              "    }\n",
              "\n",
              "    [theme=dark] .colab-df-convert:hover {\n",
              "      background-color: #434B5C;\n",
              "      box-shadow: 0px 1px 3px 1px rgba(0, 0, 0, 0.15);\n",
              "      filter: drop-shadow(0px 1px 2px rgba(0, 0, 0, 0.3));\n",
              "      fill: #FFFFFF;\n",
              "    }\n",
              "  </style>\n",
              "\n",
              "    <script>\n",
              "      const buttonEl =\n",
              "        document.querySelector('#df-91004326-6b04-424a-a88b-e03d9837ac25 button.colab-df-convert');\n",
              "      buttonEl.style.display =\n",
              "        google.colab.kernel.accessAllowed ? 'block' : 'none';\n",
              "\n",
              "      async function convertToInteractive(key) {\n",
              "        const element = document.querySelector('#df-91004326-6b04-424a-a88b-e03d9837ac25');\n",
              "        const dataTable =\n",
              "          await google.colab.kernel.invokeFunction('convertToInteractive',\n",
              "                                                    [key], {});\n",
              "        if (!dataTable) return;\n",
              "\n",
              "        const docLinkHtml = 'Like what you see? Visit the ' +\n",
              "          '<a target=\"_blank\" href=https://colab.research.google.com/notebooks/data_table.ipynb>data table notebook</a>'\n",
              "          + ' to learn more about interactive tables.';\n",
              "        element.innerHTML = '';\n",
              "        dataTable['output_type'] = 'display_data';\n",
              "        await google.colab.output.renderOutput(dataTable, element);\n",
              "        const docLink = document.createElement('div');\n",
              "        docLink.innerHTML = docLinkHtml;\n",
              "        element.appendChild(docLink);\n",
              "      }\n",
              "    </script>\n",
              "  </div>\n",
              "\n",
              "\n",
              "<div id=\"df-3c616ae0-3ea9-4507-89b5-9bfca953f816\">\n",
              "  <button class=\"colab-df-quickchart\" onclick=\"quickchart('df-3c616ae0-3ea9-4507-89b5-9bfca953f816')\"\n",
              "            title=\"Suggest charts\"\n",
              "            style=\"display:none;\">\n",
              "\n",
              "<svg xmlns=\"http://www.w3.org/2000/svg\" height=\"24px\"viewBox=\"0 0 24 24\"\n",
              "     width=\"24px\">\n",
              "    <g>\n",
              "        <path d=\"M19 3H5c-1.1 0-2 .9-2 2v14c0 1.1.9 2 2 2h14c1.1 0 2-.9 2-2V5c0-1.1-.9-2-2-2zM9 17H7v-7h2v7zm4 0h-2V7h2v10zm4 0h-2v-4h2v4z\"/>\n",
              "    </g>\n",
              "</svg>\n",
              "  </button>\n",
              "\n",
              "<style>\n",
              "  .colab-df-quickchart {\n",
              "      --bg-color: #E8F0FE;\n",
              "      --fill-color: #1967D2;\n",
              "      --hover-bg-color: #E2EBFA;\n",
              "      --hover-fill-color: #174EA6;\n",
              "      --disabled-fill-color: #AAA;\n",
              "      --disabled-bg-color: #DDD;\n",
              "  }\n",
              "\n",
              "  [theme=dark] .colab-df-quickchart {\n",
              "      --bg-color: #3B4455;\n",
              "      --fill-color: #D2E3FC;\n",
              "      --hover-bg-color: #434B5C;\n",
              "      --hover-fill-color: #FFFFFF;\n",
              "      --disabled-bg-color: #3B4455;\n",
              "      --disabled-fill-color: #666;\n",
              "  }\n",
              "\n",
              "  .colab-df-quickchart {\n",
              "    background-color: var(--bg-color);\n",
              "    border: none;\n",
              "    border-radius: 50%;\n",
              "    cursor: pointer;\n",
              "    display: none;\n",
              "    fill: var(--fill-color);\n",
              "    height: 32px;\n",
              "    padding: 0;\n",
              "    width: 32px;\n",
              "  }\n",
              "\n",
              "  .colab-df-quickchart:hover {\n",
              "    background-color: var(--hover-bg-color);\n",
              "    box-shadow: 0 1px 2px rgba(60, 64, 67, 0.3), 0 1px 3px 1px rgba(60, 64, 67, 0.15);\n",
              "    fill: var(--button-hover-fill-color);\n",
              "  }\n",
              "\n",
              "  .colab-df-quickchart-complete:disabled,\n",
              "  .colab-df-quickchart-complete:disabled:hover {\n",
              "    background-color: var(--disabled-bg-color);\n",
              "    fill: var(--disabled-fill-color);\n",
              "    box-shadow: none;\n",
              "  }\n",
              "\n",
              "  .colab-df-spinner {\n",
              "    border: 2px solid var(--fill-color);\n",
              "    border-color: transparent;\n",
              "    border-bottom-color: var(--fill-color);\n",
              "    animation:\n",
              "      spin 1s steps(1) infinite;\n",
              "  }\n",
              "\n",
              "  @keyframes spin {\n",
              "    0% {\n",
              "      border-color: transparent;\n",
              "      border-bottom-color: var(--fill-color);\n",
              "      border-left-color: var(--fill-color);\n",
              "    }\n",
              "    20% {\n",
              "      border-color: transparent;\n",
              "      border-left-color: var(--fill-color);\n",
              "      border-top-color: var(--fill-color);\n",
              "    }\n",
              "    30% {\n",
              "      border-color: transparent;\n",
              "      border-left-color: var(--fill-color);\n",
              "      border-top-color: var(--fill-color);\n",
              "      border-right-color: var(--fill-color);\n",
              "    }\n",
              "    40% {\n",
              "      border-color: transparent;\n",
              "      border-right-color: var(--fill-color);\n",
              "      border-top-color: var(--fill-color);\n",
              "    }\n",
              "    60% {\n",
              "      border-color: transparent;\n",
              "      border-right-color: var(--fill-color);\n",
              "    }\n",
              "    80% {\n",
              "      border-color: transparent;\n",
              "      border-right-color: var(--fill-color);\n",
              "      border-bottom-color: var(--fill-color);\n",
              "    }\n",
              "    90% {\n",
              "      border-color: transparent;\n",
              "      border-bottom-color: var(--fill-color);\n",
              "    }\n",
              "  }\n",
              "</style>\n",
              "\n",
              "  <script>\n",
              "    async function quickchart(key) {\n",
              "      const quickchartButtonEl =\n",
              "        document.querySelector('#' + key + ' button');\n",
              "      quickchartButtonEl.disabled = true;  // To prevent multiple clicks.\n",
              "      quickchartButtonEl.classList.add('colab-df-spinner');\n",
              "      try {\n",
              "        const charts = await google.colab.kernel.invokeFunction(\n",
              "            'suggestCharts', [key], {});\n",
              "      } catch (error) {\n",
              "        console.error('Error during call to suggestCharts:', error);\n",
              "      }\n",
              "      quickchartButtonEl.classList.remove('colab-df-spinner');\n",
              "      quickchartButtonEl.classList.add('colab-df-quickchart-complete');\n",
              "    }\n",
              "    (() => {\n",
              "      let quickchartButtonEl =\n",
              "        document.querySelector('#df-3c616ae0-3ea9-4507-89b5-9bfca953f816 button');\n",
              "      quickchartButtonEl.style.display =\n",
              "        google.colab.kernel.accessAllowed ? 'block' : 'none';\n",
              "    })();\n",
              "  </script>\n",
              "</div>\n",
              "\n",
              "  <div id=\"id_ed3d1577-987b-4586-b8f6-e0104e3ecd00\">\n",
              "    <style>\n",
              "      .colab-df-generate {\n",
              "        background-color: #E8F0FE;\n",
              "        border: none;\n",
              "        border-radius: 50%;\n",
              "        cursor: pointer;\n",
              "        display: none;\n",
              "        fill: #1967D2;\n",
              "        height: 32px;\n",
              "        padding: 0 0 0 0;\n",
              "        width: 32px;\n",
              "      }\n",
              "\n",
              "      .colab-df-generate:hover {\n",
              "        background-color: #E2EBFA;\n",
              "        box-shadow: 0px 1px 2px rgba(60, 64, 67, 0.3), 0px 1px 3px 1px rgba(60, 64, 67, 0.15);\n",
              "        fill: #174EA6;\n",
              "      }\n",
              "\n",
              "      [theme=dark] .colab-df-generate {\n",
              "        background-color: #3B4455;\n",
              "        fill: #D2E3FC;\n",
              "      }\n",
              "\n",
              "      [theme=dark] .colab-df-generate:hover {\n",
              "        background-color: #434B5C;\n",
              "        box-shadow: 0px 1px 3px 1px rgba(0, 0, 0, 0.15);\n",
              "        filter: drop-shadow(0px 1px 2px rgba(0, 0, 0, 0.3));\n",
              "        fill: #FFFFFF;\n",
              "      }\n",
              "    </style>\n",
              "    <button class=\"colab-df-generate\" onclick=\"generateWithVariable('df')\"\n",
              "            title=\"Generate code using this dataframe.\"\n",
              "            style=\"display:none;\">\n",
              "\n",
              "  <svg xmlns=\"http://www.w3.org/2000/svg\" height=\"24px\"viewBox=\"0 0 24 24\"\n",
              "       width=\"24px\">\n",
              "    <path d=\"M7,19H8.4L18.45,9,17,7.55,7,17.6ZM5,21V16.75L18.45,3.32a2,2,0,0,1,2.83,0l1.4,1.43a1.91,1.91,0,0,1,.58,1.4,1.91,1.91,0,0,1-.58,1.4L9.25,21ZM18.45,9,17,7.55Zm-12,3A5.31,5.31,0,0,0,4.9,8.1,5.31,5.31,0,0,0,1,6.5,5.31,5.31,0,0,0,4.9,4.9,5.31,5.31,0,0,0,6.5,1,5.31,5.31,0,0,0,8.1,4.9,5.31,5.31,0,0,0,12,6.5,5.46,5.46,0,0,0,6.5,12Z\"/>\n",
              "  </svg>\n",
              "    </button>\n",
              "    <script>\n",
              "      (() => {\n",
              "      const buttonEl =\n",
              "        document.querySelector('#id_ed3d1577-987b-4586-b8f6-e0104e3ecd00 button.colab-df-generate');\n",
              "      buttonEl.style.display =\n",
              "        google.colab.kernel.accessAllowed ? 'block' : 'none';\n",
              "\n",
              "      buttonEl.onclick = () => {\n",
              "        google.colab.notebook.generateWithVariable('df');\n",
              "      }\n",
              "      })();\n",
              "    </script>\n",
              "  </div>\n",
              "\n",
              "    </div>\n",
              "  </div>\n"
            ],
            "application/vnd.google.colaboratory.intrinsic+json": {
              "type": "dataframe",
              "variable_name": "df"
            }
          },
          "metadata": {},
          "execution_count": 18
        }
      ]
    },
    {
      "cell_type": "code",
      "source": [
        "df.shape"
      ],
      "metadata": {
        "colab": {
          "base_uri": "https://localhost:8080/"
        },
        "id": "gfB6d_FcCu9a",
        "outputId": "a00ede74-01aa-49a8-c140-b848b288fd17"
      },
      "execution_count": 19,
      "outputs": [
        {
          "output_type": "execute_result",
          "data": {
            "text/plain": [
              "(194439, 9)"
            ]
          },
          "metadata": {},
          "execution_count": 19
        }
      ]
    },
    {
      "cell_type": "markdown",
      "source": [
        "### **Simple Preprocessing & Tokenization**\n",
        "\n",
        "The first thing to do for any data science task is to clean the data. For NLP, we apply various processing like converting all the words to lower case, trimming spaces, removing punctuations. This is something we will do over here too.\n",
        "\n",
        "Additionally, we can also remove stop words like 'and', 'or', 'is', 'the', 'a', 'an' and convert words to their root forms like 'running' to 'run'."
      ],
      "metadata": {
        "id": "Y94Y5ZRgC2CT"
      }
    },
    {
      "cell_type": "markdown",
      "source": [
        "we only use review text column to train Word2vec model"
      ],
      "metadata": {
        "id": "GxEsQPUFVJWq"
      }
    },
    {
      "cell_type": "code",
      "source": [
        "df.reviewText[0]"
      ],
      "metadata": {
        "colab": {
          "base_uri": "https://localhost:8080/",
          "height": 53
        },
        "id": "Mc3-uT4FVeh6",
        "outputId": "a441cb5f-d17f-4e00-fee5-f68234dda08f"
      },
      "execution_count": 21,
      "outputs": [
        {
          "output_type": "execute_result",
          "data": {
            "text/plain": [
              "\"They look good and stick good! I just don't like the rounded shape because I was always bumping it and Siri kept popping up and it was irritating. I just won't buy a product like this again\""
            ],
            "application/vnd.google.colaboratory.intrinsic+json": {
              "type": "string"
            }
          },
          "metadata": {},
          "execution_count": 21
        }
      ]
    },
    {
      "cell_type": "code",
      "source": [
        "gensim.utils.simple_preprocess(\"They look good and stick good! I just don't like the rounded shape because I was always bumping it and Siri kept popping up and it was irritating. I just won't buy a product like this again\")"
      ],
      "metadata": {
        "colab": {
          "base_uri": "https://localhost:8080/"
        },
        "id": "xlb_Q3wBV-Lx",
        "outputId": "480d59e2-42f7-4af2-ec02-e959663f80bc"
      },
      "execution_count": 22,
      "outputs": [
        {
          "output_type": "execute_result",
          "data": {
            "text/plain": [
              "['they',\n",
              " 'look',\n",
              " 'good',\n",
              " 'and',\n",
              " 'stick',\n",
              " 'good',\n",
              " 'just',\n",
              " 'don',\n",
              " 'like',\n",
              " 'the',\n",
              " 'rounded',\n",
              " 'shape',\n",
              " 'because',\n",
              " 'was',\n",
              " 'always',\n",
              " 'bumping',\n",
              " 'it',\n",
              " 'and',\n",
              " 'siri',\n",
              " 'kept',\n",
              " 'popping',\n",
              " 'up',\n",
              " 'and',\n",
              " 'it',\n",
              " 'was',\n",
              " 'irritating',\n",
              " 'just',\n",
              " 'won',\n",
              " 'buy',\n",
              " 'product',\n",
              " 'like',\n",
              " 'this',\n",
              " 'again']"
            ]
          },
          "metadata": {},
          "execution_count": 22
        }
      ]
    },
    {
      "cell_type": "code",
      "source": [
        "review_text = df.reviewText.apply(gensim.utils.simple_preprocess)"
      ],
      "metadata": {
        "id": "1m7UMCaZCu66"
      },
      "execution_count": 23,
      "outputs": []
    },
    {
      "cell_type": "markdown",
      "source": [
        "this creates new pandas series. each object in this series is a list list and the list contains tokenized words."
      ],
      "metadata": {
        "id": "klFRcY0kWo8y"
      }
    },
    {
      "cell_type": "code",
      "source": [
        "review_text"
      ],
      "metadata": {
        "colab": {
          "base_uri": "https://localhost:8080/",
          "height": 458
        },
        "id": "4UBYtbCCCu4K",
        "outputId": "00848091-4fa7-4691-d188-ff9758096e3d"
      },
      "execution_count": 24,
      "outputs": [
        {
          "output_type": "execute_result",
          "data": {
            "text/plain": [
              "0         [they, look, good, and, stick, good, just, don...\n",
              "1         [these, stickers, work, like, the, review, say...\n",
              "2         [these, are, awesome, and, make, my, phone, lo...\n",
              "3         [item, arrived, in, great, time, and, was, in,...\n",
              "4         [awesome, stays, on, and, looks, great, can, b...\n",
              "                                ...                        \n",
              "194434    [works, great, just, like, my, original, one, ...\n",
              "194435    [great, product, great, packaging, high, quali...\n",
              "194436    [this, is, great, cable, just, as, good, as, t...\n",
              "194437    [really, like, it, becasue, it, works, well, w...\n",
              "194438    [product, as, described, have, wasted, lot, of...\n",
              "Name: reviewText, Length: 194439, dtype: object"
            ],
            "text/html": [
              "<div>\n",
              "<style scoped>\n",
              "    .dataframe tbody tr th:only-of-type {\n",
              "        vertical-align: middle;\n",
              "    }\n",
              "\n",
              "    .dataframe tbody tr th {\n",
              "        vertical-align: top;\n",
              "    }\n",
              "\n",
              "    .dataframe thead th {\n",
              "        text-align: right;\n",
              "    }\n",
              "</style>\n",
              "<table border=\"1\" class=\"dataframe\">\n",
              "  <thead>\n",
              "    <tr style=\"text-align: right;\">\n",
              "      <th></th>\n",
              "      <th>reviewText</th>\n",
              "    </tr>\n",
              "  </thead>\n",
              "  <tbody>\n",
              "    <tr>\n",
              "      <th>0</th>\n",
              "      <td>[they, look, good, and, stick, good, just, don...</td>\n",
              "    </tr>\n",
              "    <tr>\n",
              "      <th>1</th>\n",
              "      <td>[these, stickers, work, like, the, review, say...</td>\n",
              "    </tr>\n",
              "    <tr>\n",
              "      <th>2</th>\n",
              "      <td>[these, are, awesome, and, make, my, phone, lo...</td>\n",
              "    </tr>\n",
              "    <tr>\n",
              "      <th>3</th>\n",
              "      <td>[item, arrived, in, great, time, and, was, in,...</td>\n",
              "    </tr>\n",
              "    <tr>\n",
              "      <th>4</th>\n",
              "      <td>[awesome, stays, on, and, looks, great, can, b...</td>\n",
              "    </tr>\n",
              "    <tr>\n",
              "      <th>...</th>\n",
              "      <td>...</td>\n",
              "    </tr>\n",
              "    <tr>\n",
              "      <th>194434</th>\n",
              "      <td>[works, great, just, like, my, original, one, ...</td>\n",
              "    </tr>\n",
              "    <tr>\n",
              "      <th>194435</th>\n",
              "      <td>[great, product, great, packaging, high, quali...</td>\n",
              "    </tr>\n",
              "    <tr>\n",
              "      <th>194436</th>\n",
              "      <td>[this, is, great, cable, just, as, good, as, t...</td>\n",
              "    </tr>\n",
              "    <tr>\n",
              "      <th>194437</th>\n",
              "      <td>[really, like, it, becasue, it, works, well, w...</td>\n",
              "    </tr>\n",
              "    <tr>\n",
              "      <th>194438</th>\n",
              "      <td>[product, as, described, have, wasted, lot, of...</td>\n",
              "    </tr>\n",
              "  </tbody>\n",
              "</table>\n",
              "<p>194439 rows × 1 columns</p>\n",
              "</div><br><label><b>dtype:</b> object</label>"
            ]
          },
          "metadata": {},
          "execution_count": 24
        }
      ]
    },
    {
      "cell_type": "code",
      "source": [
        "review_text.loc[0]"
      ],
      "metadata": {
        "colab": {
          "base_uri": "https://localhost:8080/"
        },
        "id": "rzhF5rgoCu1K",
        "outputId": "305fd865-fce2-403b-f76e-259a73e721a1"
      },
      "execution_count": 25,
      "outputs": [
        {
          "output_type": "execute_result",
          "data": {
            "text/plain": [
              "['they',\n",
              " 'look',\n",
              " 'good',\n",
              " 'and',\n",
              " 'stick',\n",
              " 'good',\n",
              " 'just',\n",
              " 'don',\n",
              " 'like',\n",
              " 'the',\n",
              " 'rounded',\n",
              " 'shape',\n",
              " 'because',\n",
              " 'was',\n",
              " 'always',\n",
              " 'bumping',\n",
              " 'it',\n",
              " 'and',\n",
              " 'siri',\n",
              " 'kept',\n",
              " 'popping',\n",
              " 'up',\n",
              " 'and',\n",
              " 'it',\n",
              " 'was',\n",
              " 'irritating',\n",
              " 'just',\n",
              " 'won',\n",
              " 'buy',\n",
              " 'product',\n",
              " 'like',\n",
              " 'this',\n",
              " 'again']"
            ]
          },
          "metadata": {},
          "execution_count": 25
        }
      ]
    },
    {
      "cell_type": "code",
      "source": [
        "df.reviewText.loc[0]"
      ],
      "metadata": {
        "colab": {
          "base_uri": "https://localhost:8080/",
          "height": 53
        },
        "id": "IDJF6Qj1Curj",
        "outputId": "21b9e688-7e23-42e0-b092-cbc6ec04dcd8"
      },
      "execution_count": 26,
      "outputs": [
        {
          "output_type": "execute_result",
          "data": {
            "text/plain": [
              "\"They look good and stick good! I just don't like the rounded shape because I was always bumping it and Siri kept popping up and it was irritating. I just won't buy a product like this again\""
            ],
            "application/vnd.google.colaboratory.intrinsic+json": {
              "type": "string"
            }
          },
          "metadata": {},
          "execution_count": 26
        }
      ]
    },
    {
      "cell_type": "markdown",
      "source": [
        "### **Training the Word2Vec Model**\n",
        "\n",
        "Train the model for reviews. Use a window of size 10 i.e. 10 words before the present word and 10 words ahead. A sentence with at least 2 words should only be considered, configure this using min_count parameter.\n",
        "\n",
        "Workers define how many CPU threads to be used."
      ],
      "metadata": {
        "id": "P1jaRkjhV07D"
      }
    },
    {
      "cell_type": "markdown",
      "source": [
        "## **Initialize the model**"
      ],
      "metadata": {
        "id": "mRoQqd4eXZbK"
      }
    },
    {
      "cell_type": "code",
      "source": [
        "model = gensim.models.Word2Vec(\n",
        "    window=10,   #10 words before and after your target word\n",
        "    min_count=2,  #minimum count of words should be present in the sentense to be considered to training.\n",
        "    workers=4,   #how many cpu threads you need to train the model\n",
        ")\n",
        "\n",
        "#gensim is an NLP library and it comes with Word2Vec class"
      ],
      "metadata": {
        "id": "xL35aMYGXVDr"
      },
      "execution_count": 27,
      "outputs": []
    },
    {
      "cell_type": "markdown",
      "source": [
        "*pls follow the Gensim documnetation*\n",
        "\n",
        " https://radimrehurek.com/gensim/auto_examples/index.html#"
      ],
      "metadata": {
        "id": "eEin1lPLY9lT"
      }
    },
    {
      "cell_type": "markdown",
      "source": [
        "### **Build Vocabulary**"
      ],
      "metadata": {
        "id": "AVXUVjwsXkci"
      }
    },
    {
      "cell_type": "code",
      "source": [
        "model.build_vocab(review_text, progress_per=1000) #follow documentation"
      ],
      "metadata": {
        "colab": {
          "base_uri": "https://localhost:8080/"
        },
        "id": "ngv6rxTQXkyi",
        "outputId": "caeecfd1-7f27-4383-d911-09e7efb593f8"
      },
      "execution_count": 31,
      "outputs": [
        {
          "output_type": "stream",
          "name": "stderr",
          "text": [
            "WARNING:gensim.models.keyedvectors:sorting after vectors have been allocated is expensive & error-prone\n"
          ]
        }
      ]
    },
    {
      "cell_type": "markdown",
      "source": [
        "### **Train the Word2Vec Model**"
      ],
      "metadata": {
        "id": "STCZy8AvYU5b"
      }
    },
    {
      "cell_type": "code",
      "source": [
        "model.epochs #by default it's 5"
      ],
      "metadata": {
        "colab": {
          "base_uri": "https://localhost:8080/"
        },
        "id": "s2TT14_sZb1r",
        "outputId": "6b3e2069-eed8-4fe0-ca70-097d56597a5c"
      },
      "execution_count": 34,
      "outputs": [
        {
          "output_type": "execute_result",
          "data": {
            "text/plain": [
              "5"
            ]
          },
          "metadata": {},
          "execution_count": 34
        }
      ]
    },
    {
      "cell_type": "code",
      "source": [
        "model.corpus_count"
      ],
      "metadata": {
        "colab": {
          "base_uri": "https://localhost:8080/"
        },
        "id": "Ufw83Lo6Z867",
        "outputId": "8f706677-8ee3-41da-aaca-029f82804e5b"
      },
      "execution_count": 35,
      "outputs": [
        {
          "output_type": "execute_result",
          "data": {
            "text/plain": [
              "194439"
            ]
          },
          "metadata": {},
          "execution_count": 35
        }
      ]
    },
    {
      "cell_type": "code",
      "source": [
        "model.train(review_text, total_examples=model.corpus_count, epochs=model.epochs)"
      ],
      "metadata": {
        "colab": {
          "base_uri": "https://localhost:8080/"
        },
        "id": "ubJzQuskYViT",
        "outputId": "16f293cf-4327-4ece-9389-89fd36188cda"
      },
      "execution_count": 36,
      "outputs": [
        {
          "output_type": "execute_result",
          "data": {
            "text/plain": [
              "(61505413, 83868975)"
            ]
          },
          "metadata": {},
          "execution_count": 36
        }
      ]
    },
    {
      "cell_type": "markdown",
      "source": [
        "### **Save the Model**\n",
        "\n",
        "Save the model so that it can be reused in other applications"
      ],
      "metadata": {
        "id": "HycSexiGYeXL"
      }
    },
    {
      "cell_type": "code",
      "source": [
        "model.save(\"./word2vec-amazon-cell-accessories-reviews-short.model\")"
      ],
      "metadata": {
        "id": "IYjqhS4_YfWz"
      },
      "execution_count": 37,
      "outputs": []
    },
    {
      "cell_type": "markdown",
      "source": [
        "### **Finding Similar Words and Similarity between words**\n",
        "\n",
        "https://radimrehurek.com/gensim/models/word2vec.html"
      ],
      "metadata": {
        "id": "Q9M0-Pn3YwEi"
      }
    },
    {
      "cell_type": "code",
      "source": [
        "model.wv.most_similar(\"bad\")"
      ],
      "metadata": {
        "colab": {
          "base_uri": "https://localhost:8080/"
        },
        "id": "6pD-gG1GYx5z",
        "outputId": "58ad6871-ee1c-429b-c3da-21c078cec438"
      },
      "execution_count": 38,
      "outputs": [
        {
          "output_type": "execute_result",
          "data": {
            "text/plain": [
              "[('terrible', 0.6560986638069153),\n",
              " ('shabby', 0.6153832077980042),\n",
              " ('horrible', 0.6151542663574219),\n",
              " ('good', 0.5880904197692871),\n",
              " ('crappy', 0.581427812576294),\n",
              " ('legit', 0.556399941444397),\n",
              " ('awful', 0.5485506057739258),\n",
              " ('funny', 0.5423880219459534),\n",
              " ('poor', 0.5243956446647644),\n",
              " ('crummy', 0.5222244262695312)]"
            ]
          },
          "metadata": {},
          "execution_count": 38
        }
      ]
    },
    {
      "cell_type": "markdown",
      "source": [
        "![Capture45.PNG](data:image/png;base64,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)"
      ],
      "metadata": {
        "id": "VErKom90bbzL"
      }
    },
    {
      "cell_type": "markdown",
      "source": [
        "training process can be improve. by fine tuning , input more training data, bigger data set , etc..."
      ],
      "metadata": {
        "id": "-8B9hHr4bhTL"
      }
    },
    {
      "cell_type": "code",
      "source": [
        "model.wv.similarity(w1=\"cheap\", w2=\"inexpensive\")"
      ],
      "metadata": {
        "colab": {
          "base_uri": "https://localhost:8080/"
        },
        "id": "jdYca08wZUFD",
        "outputId": "1e54bd5e-1225-4e88-b840-36ca51b89ab1"
      },
      "execution_count": 39,
      "outputs": [
        {
          "output_type": "execute_result",
          "data": {
            "text/plain": [
              "0.50753665"
            ]
          },
          "metadata": {},
          "execution_count": 39
        }
      ]
    },
    {
      "cell_type": "code",
      "source": [
        "model.wv.similarity(w1=\"cheap\", w2=\"disappointing\")"
      ],
      "metadata": {
        "colab": {
          "base_uri": "https://localhost:8080/"
        },
        "id": "ISve32HhcC_M",
        "outputId": "48b13bdd-63b0-422a-ae4a-79d1b43ca61c"
      },
      "execution_count": 47,
      "outputs": [
        {
          "output_type": "execute_result",
          "data": {
            "text/plain": [
              "0.38966215"
            ]
          },
          "metadata": {},
          "execution_count": 47
        }
      ]
    },
    {
      "cell_type": "code",
      "source": [
        "model.wv.similarity(w1=\"great\", w2=\"great\")"
      ],
      "metadata": {
        "colab": {
          "base_uri": "https://localhost:8080/"
        },
        "id": "y84rTjZPb_AD",
        "outputId": "817bafd9-7e00-4f8d-b425-cec472d85ffe"
      },
      "execution_count": 43,
      "outputs": [
        {
          "output_type": "execute_result",
          "data": {
            "text/plain": [
              "0.99999994"
            ]
          },
          "metadata": {},
          "execution_count": 43
        }
      ]
    },
    {
      "cell_type": "code",
      "source": [
        "model.wv.similarity(w1=\"great\", w2=\"good\")"
      ],
      "metadata": {
        "colab": {
          "base_uri": "https://localhost:8080/"
        },
        "id": "mkjoeg0NaGsz",
        "outputId": "b75ff113-e7d9-48ef-dc63-75be92ce0300"
      },
      "execution_count": 40,
      "outputs": [
        {
          "output_type": "execute_result",
          "data": {
            "text/plain": [
              "0.7788622"
            ]
          },
          "metadata": {},
          "execution_count": 40
        }
      ]
    },
    {
      "cell_type": "code",
      "source": [
        "model.wv.similarity(w1=\"great\", w2=\"awesome\")"
      ],
      "metadata": {
        "colab": {
          "base_uri": "https://localhost:8080/"
        },
        "id": "Zkks6SqJb0ZE",
        "outputId": "28a3c27d-e242-4401-9db0-c5d51e6ab8ec"
      },
      "execution_count": 42,
      "outputs": [
        {
          "output_type": "execute_result",
          "data": {
            "text/plain": [
              "0.74732465"
            ]
          },
          "metadata": {},
          "execution_count": 42
        }
      ]
    },
    {
      "cell_type": "markdown",
      "source": [
        "### **Further Reading**\n",
        "\n",
        "You can read about gensim more at https://radimrehurek.com/gensim/models/word2vec.html\n",
        "\n",
        "Explore other Datasets related to Amazon Reviews: http://jmcauley.ucsd.edu/data/amazon/\n",
        "\n",
        "### **Exercise**\n",
        "\n",
        "Train a word2vec model on the Sports & Outdoors Reviews Dataset Once you train a model on this, find the words most similar to 'awful' and find similarities between the following word tuples: ('good', 'great'), ('slow','steady')"
      ],
      "metadata": {
        "id": "Auc7Hy1saPXb"
      }
    }
  ]
}