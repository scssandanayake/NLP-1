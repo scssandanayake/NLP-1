{
 "cells": [
  {
   "cell_type": "code",
   "execution_count": 2,
   "id": "a5496f66-9063-4ff5-8d8c-de9bed755f46",
   "metadata": {},
   "outputs": [],
   "source": [
    "import spacy"
   ]
  },
  {
   "cell_type": "code",
   "execution_count": 9,
   "id": "cfac3fd9-09c1-4106-ab1d-7a761f35fc95",
   "metadata": {},
   "outputs": [],
   "source": [
    "nlp = spacy.load(\"en_core_web_sm\")\n",
    "\n",
    "doc = nlp(\"RAG , AIOps and GenAI fileds are rapidly improving . data science is the sexiest job in 2022\")"
   ]
  },
  {
   "cell_type": "code",
   "execution_count": 10,
   "id": "b25ba9f4-bf66-48b9-9d36-15b663055ee8",
   "metadata": {},
   "outputs": [
    {
     "name": "stdout",
     "output_type": "stream",
     "text": [
      "RAG , AIOps and GenAI fileds are rapidly improving .\n",
      "data science is the sexiest job in 2022\n"
     ]
    }
   ],
   "source": [
    "for sentence in doc.sents:\n",
    "    print(sentence)\n",
    "#sentense tokenization / segmentaion"
   ]
  },
  {
   "cell_type": "code",
   "execution_count": 11,
   "id": "1e29d649-5f17-49f5-8ad1-51d7822d259e",
   "metadata": {},
   "outputs": [
    {
     "name": "stdout",
     "output_type": "stream",
     "text": [
      "RAG\n",
      ",\n",
      "AIOps\n",
      "and\n",
      "GenAI\n",
      "fileds\n",
      "are\n",
      "rapidly\n",
      "improving\n",
      ".\n",
      "data\n",
      "science\n",
      "is\n",
      "the\n",
      "sexiest\n",
      "job\n",
      "in\n",
      "2022\n"
     ]
    }
   ],
   "source": [
    "for sentence in doc.sents:\n",
    "    for word in sentence:\n",
    "        print(word)"
   ]
  },
  {
   "cell_type": "markdown",
   "id": "56dd4f83-f4ed-4eef-bb04-22f955fb6ea5",
   "metadata": {},
   "source": [
    "### Sentence & Word Tokenization In NLTK"
   ]
  },
  {
   "cell_type": "code",
   "execution_count": 29,
   "id": "7250a5ae-c75e-49de-941e-5458ae2178d8",
   "metadata": {},
   "outputs": [
    {
     "name": "stderr",
     "output_type": "stream",
     "text": [
      "[nltk_data] Downloading package punkt to\n",
      "[nltk_data]     C:\\Users\\User\\AppData\\Roaming\\nltk_data...\n",
      "[nltk_data]   Package punkt is already up-to-date!\n",
      "[nltk_data] Downloading package punkt_tab to\n",
      "[nltk_data]     C:\\Users\\User\\AppData\\Roaming\\nltk_data...\n",
      "[nltk_data]   Unzipping tokenizers\\punkt_tab.zip.\n"
     ]
    },
    {
     "data": {
      "text/plain": [
       "True"
      ]
     },
     "execution_count": 29,
     "metadata": {},
     "output_type": "execute_result"
    }
   ],
   "source": [
    "import nltk\n",
    "\n",
    "nltk.download('punkt')\n",
    "nltk.download('punkt_tab')"
   ]
  },
  {
   "cell_type": "code",
   "execution_count": 34,
   "id": "3f294ae1-bf8d-42ea-a7c3-29ac97ed07fe",
   "metadata": {},
   "outputs": [
    {
     "name": "stdout",
     "output_type": "stream",
     "text": [
      "showing info https://raw.githubusercontent.com/nltk/nltk_data/gh-pages/index.xml\n"
     ]
    },
    {
     "data": {
      "text/plain": [
       "True"
      ]
     },
     "execution_count": 34,
     "metadata": {},
     "output_type": "execute_result"
    }
   ],
   "source": [
    "nltk.download()\n",
    "#serch for any required library"
   ]
  },
  {
   "cell_type": "code",
   "execution_count": 31,
   "id": "fe14bbb8-0d56-47b1-ab19-9d9e25cf5843",
   "metadata": {},
   "outputs": [
    {
     "data": {
      "text/plain": [
       "['RAG , AIOps and GenAI fileds are rapidly improving .',\n",
       " 'data science is the sexiest job in 2022']"
      ]
     },
     "execution_count": 31,
     "metadata": {},
     "output_type": "execute_result"
    }
   ],
   "source": [
    "from nltk.tokenize import sent_tokenize\n",
    "\n",
    "sent_tokenize(\"RAG , AIOps and GenAI fileds are rapidly improving . data science is the sexiest job in 2022\")"
   ]
  },
  {
   "cell_type": "code",
   "execution_count": 32,
   "id": "6c0cd934-a607-47fb-82f2-9f61aae3d960",
   "metadata": {},
   "outputs": [
    {
     "data": {
      "text/plain": [
       "['RAG',\n",
       " ',',\n",
       " 'AIOps',\n",
       " 'and',\n",
       " 'GenAI',\n",
       " 'fileds',\n",
       " 'are',\n",
       " 'rapidly',\n",
       " 'improving',\n",
       " '.',\n",
       " 'data',\n",
       " 'science',\n",
       " 'is',\n",
       " 'the',\n",
       " 'sexiest',\n",
       " 'job',\n",
       " 'in',\n",
       " '2022']"
      ]
     },
     "execution_count": 32,
     "metadata": {},
     "output_type": "execute_result"
    }
   ],
   "source": [
    "from nltk.tokenize import word_tokenize\n",
    "\n",
    "word_tokenize(\"RAG , AIOps and GenAI fileds are rapidly improving . data science is the sexiest job in 2022\")"
   ]
  },
  {
   "cell_type": "markdown",
   "id": "6858808b-c2bc-4f5c-b52d-6b05f2bc257e",
   "metadata": {},
   "source": [
    "#### From above code you can see that Spacy is object oriented whereas NLTK is a string processing library"
   ]
  }
 ],
 "metadata": {
  "kernelspec": {
   "display_name": "Python 3 (ipykernel)",
   "language": "python",
   "name": "python3"
  },
  "language_info": {
   "codemirror_mode": {
    "name": "ipython",
    "version": 3
   },
   "file_extension": ".py",
   "mimetype": "text/x-python",
   "name": "python",
   "nbconvert_exporter": "python",
   "pygments_lexer": "ipython3",
   "version": "3.11.0"
  }
 },
 "nbformat": 4,
 "nbformat_minor": 5
}
