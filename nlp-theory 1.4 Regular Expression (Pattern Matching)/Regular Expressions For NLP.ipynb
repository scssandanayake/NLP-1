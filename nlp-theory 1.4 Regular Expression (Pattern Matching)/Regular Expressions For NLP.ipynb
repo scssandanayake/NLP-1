{
 "cells": [
  {
   "cell_type": "markdown",
   "id": "8f346e9a",
   "metadata": {},
   "source": [
    "## Regular Expressions in python for NLP"
   ]
  },
  {
   "cell_type": "code",
   "execution_count": 3,
   "id": "1156cc75",
   "metadata": {},
   "outputs": [],
   "source": [
    "import re"
   ]
  },
  {
   "cell_type": "markdown",
   "id": "7d073367",
   "metadata": {},
   "source": [
    "### extract numbers"
   ]
  },
  {
   "cell_type": "code",
   "execution_count": 78,
   "id": "8f782ec0",
   "metadata": {},
   "outputs": [
    {
     "data": {
      "text/plain": [
       "['5555555555', '(999)-333-7777']"
      ]
     },
     "execution_count": 78,
     "metadata": {},
     "output_type": "execute_result"
    }
   ],
   "source": [
    "text = \"'elon musks number is 5555555555 and the tesla cfo number is this (999)-333-7777'\"\n",
    "\n",
    "pattern = '\\(\\d{3}\\)-\\d{3}-\\d{4}|\\d{10}'\n",
    "\n",
    "matches = re.findall(pattern,text)\n",
    "matches"
   ]
  },
  {
   "cell_type": "markdown",
   "id": "9b408429",
   "metadata": {},
   "source": [
    "### extract text / headings"
   ]
  },
  {
   "cell_type": "code",
   "execution_count": 87,
   "id": "5184b51d",
   "metadata": {},
   "outputs": [
    {
     "data": {
      "text/plain": [
       "['Overview', 'Summary of Significant Accounting Policies']"
      ]
     },
     "execution_count": 87,
     "metadata": {},
     "output_type": "execute_result"
    }
   ],
   "source": [
    "text = '''\n",
    "Note 1 – Overview\n",
    "Tesla, Inc. (“Tesla”, the “Company”, “we”, “us” or “our”) was incorporated in the State of Delaware on July 1, 2003. We design, develop, manufacture and sell high-performance fully electric vehicles and design, manufacture, install and sell solar energy generation and energy storage\n",
    "products. Our Chief Executive Officer, as the chief operating decision maker (“CODM”), organizes our company, manages resource allocations and measures performance among two operating and reportable segments: (i) automotive and (ii) energy generation and storage.\n",
    "Beginning in the first quarter of 2021, there has been a trend in many parts of the world of increasing availability and administration of vaccines\n",
    "against COVID-19, as well as an easing of restrictions on social, business, travel and government activities and functions. On the other hand, infection\n",
    "rates and regulations continue to fluctuate in various regions and there are ongoing global impacts resulting from the pandemic, including challenges\n",
    "and increases in costs for logistics and supply chains, such as increased port congestion, intermittent supplier delays and a shortfall of semiconductor\n",
    "supply. We have also previously been affected by temporary manufacturing closures, employment and compensation adjustments and impediments to\n",
    "administrative activities supporting our product deliveries and deployments.\n",
    "Note 2 – Summary of Significant Accounting Policies\n",
    "Unaudited Interim Financial Statements\n",
    "The consolidated balance sheet as of September 30, 2021, the consolidated statements of operations, the consolidated statements of\n",
    "comprehensive income, the consolidated statements of redeemable noncontrolling interests and equity for the three and nine months ended September\n",
    "30, 2021 and 2020 and the consolidated statements of cash flows for the nine months ended September 30, 2021 and 2020, as well as other information\n",
    "disclosed in the accompanying notes, are unaudited. The consolidated balance sheet as of December 31, 2020 was derived from the audited\n",
    "consolidated financial statements as of that date. The interim consolidated financial statements and the accompanying notes should be read in\n",
    "conjunction with the annual consolidated financial statements and the accompanying notes contained in our Annual Report on Form 10-K for the year\n",
    "ended December 31, 2020.\n",
    "The interim consolidated financial statemen'''\n",
    "\n",
    "pattern1 = 'Note \\d . ([^\\n]*)'\n",
    "\n",
    "a = re.findall(pattern1,text)\n",
    "a"
   ]
  },
  {
   "cell_type": "code",
   "execution_count": 88,
   "id": "09120c77",
   "metadata": {},
   "outputs": [
    {
     "data": {
      "text/plain": [
       "['Note 1 – Overview', 'Note 2 – Summary of Significant Accounting Policies']"
      ]
     },
     "execution_count": 88,
     "metadata": {},
     "output_type": "execute_result"
    }
   ],
   "source": [
    "text = '''\n",
    "Note 1 – Overview\n",
    "Tesla, Inc. (“Tesla”, the “Company”, “we”, “us” or “our”) was incorporated in the State of Delaware on July 1, 2003. We design, develop, manufacture and sell high-performance fully electric vehicles and design, manufacture, install and sell solar energy generation and energy storage\n",
    "products. Our Chief Executive Officer, as the chief operating decision maker (“CODM”), organizes our company, manages resource allocations and measures performance among two operating and reportable segments: (i) automotive and (ii) energy generation and storage.\n",
    "Beginning in the first quarter of 2021, there has been a trend in many parts of the world of increasing availability and administration of vaccines\n",
    "against COVID-19, as well as an easing of restrictions on social, business, travel and government activities and functions. On the other hand, infection\n",
    "rates and regulations continue to fluctuate in various regions and there are ongoing global impacts resulting from the pandemic, including challenges\n",
    "and increases in costs for logistics and supply chains, such as increased port congestion, intermittent supplier delays and a shortfall of semiconductor\n",
    "supply. We have also previously been affected by temporary manufacturing closures, employment and compensation adjustments and impediments to\n",
    "administrative activities supporting our product deliveries and deployments.\n",
    "Note 2 – Summary of Significant Accounting Policies\n",
    "Unaudited Interim Financial Statements\n",
    "The consolidated balance sheet as of September 30, 2021, the consolidated statements of operations, the consolidated statements of\n",
    "comprehensive income, the consolidated statements of redeemable noncontrolling interests and equity for the three and nine months ended September\n",
    "30, 2021 and 2020 and the consolidated statements of cash flows for the nine months ended September 30, 2021 and 2020, as well as other information\n",
    "disclosed in the accompanying notes, are unaudited. The consolidated balance sheet as of December 31, 2020 was derived from the audited\n",
    "consolidated financial statements as of that date. The interim consolidated financial statements and the accompanying notes should be read in\n",
    "conjunction with the annual consolidated financial statements and the accompanying notes contained in our Annual Report on Form 10-K for the year\n",
    "ended December 31, 2020.\n",
    "The interim consolidated financial statemen'''\n",
    "\n",
    "pattern2 = 'Note \\d . [^\\n]*'\n",
    "\n",
    "b = re.findall(pattern2,text)\n",
    "b"
   ]
  },
  {
   "cell_type": "markdown",
   "id": "120661f2",
   "metadata": {},
   "source": [
    "### extract details "
   ]
  },
  {
   "cell_type": "code",
   "execution_count": 179,
   "id": "5f0d17ff",
   "metadata": {},
   "outputs": [
    {
     "data": {
      "text/plain": [
       "['FY2021 Q1', 'FY2020 Q4', 'fy2019 Q3']"
      ]
     },
     "execution_count": 179,
     "metadata": {},
     "output_type": "execute_result"
    }
   ],
   "source": [
    "text = '''The gross cost of operating lease vehicles FY2021 Q1 was $4.85 billion and $3.54 billion, respectively.in previous quater i.e. FY2020 Q4 it was $3 billion\n",
    "Operating lease vehicles on the consolidated balance sheets are presented net of accumulated depreciation of $683 million and $446 million as of\n",
    "September 30, 2021 and December 31, 2020, respectively FY2020 Q5, 2019, respectively fy2019 Q3'''\n",
    "\n",
    "pattern3 = 'FY\\d{4} Q[1-4]'\n",
    "\n",
    "matches = re.findall(pattern3,text,flags=re.IGNORECASE)\n",
    "matches"
   ]
  },
  {
   "cell_type": "code",
   "execution_count": 180,
   "id": "af75a63d",
   "metadata": {},
   "outputs": [
    {
     "data": {
      "text/plain": [
       "['2021 Q1', '2020 Q4', '2019 Q3']"
      ]
     },
     "execution_count": 180,
     "metadata": {},
     "output_type": "execute_result"
    }
   ],
   "source": [
    "text = '''The gross cost of operating lease vehicles FY2021 Q1 was $4.85 billion and $3.54 billion, respectively.in previous quater i.e. FY2020 Q4 it was $3 billion\n",
    "Operating lease vehicles on the consolidated balance sheets are presented net of accumulated depreciation of $683 million and $446 million as of\n",
    "September 30, 2021 and December 31, 2020, respectively FY2020 Q5, 2019, respectively fy2019 Q3'''\n",
    "\n",
    "pattern3 = 'FY(\\d{4} Q[1-4])'\n",
    "matches= re.findall(pattern3,text,flags=re.IGNORECASE)\n",
    "matches"
   ]
  },
  {
   "cell_type": "code",
   "execution_count": 181,
   "id": "bfd90419",
   "metadata": {},
   "outputs": [
    {
     "data": {
      "text/plain": [
       "['$4.85', '$3.54', '$3', '$683', '$446', '$6.03', '$5.69']"
      ]
     },
     "execution_count": 181,
     "metadata": {},
     "output_type": "execute_result"
    }
   ],
   "source": [
    "text = '''The gross cost of operating lease vehicles FY2021 Q1 was $4.85 billion and $3.54 billion, respectively.in previous quater i.e. FY2020 Q4 it was $3 billion\n",
    "Operating lease vehicles on the consolidated balance sheets are presented net of accumulated depreciation of $683 million and $446 million as of\n",
    "September 30, 2021 and December 31, 2020, respectively FY2020 Q5 is $6.03, 2019, respectively fy2019 Q3 is $5.69'''\n",
    "\n",
    "pattern3 = '\\$[0-9\\.]+'\n",
    "\n",
    "matches = re.findall(pattern3,text,flags=re.IGNORECASE)\n",
    "matches"
   ]
  },
  {
   "cell_type": "code",
   "execution_count": 191,
   "id": "6274b8d0",
   "metadata": {},
   "outputs": [
    {
     "data": {
      "text/plain": [
       "['4.85', '3.54', '3', '683', '446', '6.03', '5.69']"
      ]
     },
     "execution_count": 191,
     "metadata": {},
     "output_type": "execute_result"
    }
   ],
   "source": [
    "text = '''The gross cost of operating lease vehicles FY2021 Q1 was $4.85 billion and $3.54 billion, respectively.in previous quater i.e. FY2020 Q4 it was $3 billion\n",
    "Operating lease vehicles on the consolidated balance sheets are presented net of accumulated depreciation of $683 million and $446 million as of\n",
    "September 30, 2021 and December 31, 2020, respectively FY2020 Q5 is $6.03, 2019, respectively fy2019 Q3 is $5.69'''\n",
    "\n",
    "pattern3 = '\\$([0-9\\.]+)'\n",
    "\n",
    "matches = re.findall(pattern3,text,flags=re.IGNORECASE)\n",
    "matches"
   ]
  },
  {
   "cell_type": "code",
   "execution_count": 192,
   "id": "de802637",
   "metadata": {},
   "outputs": [],
   "source": [
    "text = '''The gross cost of operating lease vehicles FY2021 Q1 was $4.85 billion and $3.54 billion, respectively.in previous quater i.e. FY2020 Q4 it was $3 billion\n",
    "Operating lease vehicles on the consolidated balance sheets are presented net of accumulated depreciation of $683 million and $446 million as of\n",
    "September 30, 2021 and December 31 2020, respectively FY2020 Q5 is $6.03, 2019, respectively fy2019 Q3 is $5.69'''\n",
    "\n",
    "pattern3 = 'FY(\\d{4} Q[1-4])[^\\$]+\\$([0-9\\.]+)'\n",
    "\n",
    "matches = re.findall(pattern3,text,flags=re.IGNORECASE)\n",
    "matches"
   ]
  },
  {
   "cell_type": "code",
   "execution_count": 201,
   "id": "6f1e91c1",
   "metadata": {},
   "outputs": [
    {
     "data": {
      "text/plain": [
       "()"
      ]
     },
     "execution_count": 201,
     "metadata": {},
     "output_type": "execute_result"
    }
   ],
   "source": [
    "matches = re.search(pattern,text)\n",
    "matches.groups()"
   ]
  }
 ],
 "metadata": {
  "kernelspec": {
   "display_name": "Python 3 (ipykernel)",
   "language": "python",
   "name": "python3"
  },
  "language_info": {
   "codemirror_mode": {
    "name": "ipython",
    "version": 3
   },
   "file_extension": ".py",
   "mimetype": "text/x-python",
   "name": "python",
   "nbconvert_exporter": "python",
   "pygments_lexer": "ipython3",
   "version": "3.11.5"
  }
 },
 "nbformat": 4,
 "nbformat_minor": 5
}
