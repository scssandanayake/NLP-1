{
  "nbformat": 4,
  "nbformat_minor": 0,
  "metadata": {
    "colab": {
      "provenance": []
    },
    "kernelspec": {
      "name": "python3",
      "display_name": "Python 3"
    },
    "language_info": {
      "name": "python"
    }
  },
  "cells": [
    {
      "cell_type": "markdown",
      "source": [
        "## **NLP Tutorial: Text Classification USing Gensim Word Embeddings**"
      ],
      "metadata": {
        "id": "jw1bgAb3f3A6"
      }
    },
    {
      "cell_type": "markdown",
      "source": [
        "#### Gensim is an open-source library for unsupervised topic modeling, document indexing, retrieval by similarity, and other natural language processing functionalities, using modern statistical machine learning.\n",
        "\n",
        "* Gensim overview: https://radimrehurek.com/gensim/intro.html#what-is-gensim\n",
        "\n",
        "* documentataion: https://radimrehurek.com/gensim/auto_examples/index.html\n",
        "\n",
        "* All gensim models are listed on this page: https://github.com/RaRe-Technologies/gensim-data"
      ],
      "metadata": {
        "id": "fu9-b_FEgH2z"
      }
    },
    {
      "cell_type": "markdown",
      "source": [
        "### **word2vec-google-news-300 Model**\n",
        "\n",
        "* based and trained on Google News data.\n",
        "\n",
        "* Load Google News Word2vec model from gensim library"
      ],
      "metadata": {
        "id": "rlWue5Nu79Yf"
      }
    },
    {
      "cell_type": "code",
      "execution_count": 1,
      "metadata": {
        "colab": {
          "base_uri": "https://localhost:8080/"
        },
        "id": "RsNaYi02bpSd",
        "outputId": "c073c440-88cf-4fc1-b2a6-7c4fe110431e"
      },
      "outputs": [
        {
          "output_type": "stream",
          "name": "stdout",
          "text": [
            "[==================================================] 100.0% 1662.8/1662.8MB downloaded\n"
          ]
        }
      ],
      "source": [
        "import gensim.downloader as api\n",
        "# This is a huge model (~1.6 gb) and it will take some time to load\n",
        "\n",
        "wv = api.load('word2vec-google-news-300')\n",
        "# in here we can sepcify which dataset or what kind of word embedding we need to download.\n",
        "#"
      ]
    },
    {
      "cell_type": "markdown",
      "source": [
        "* These simillarites are based on the context thay appear. not because of synonims or antonyms.\n",
        "\n",
        "* There are many trained word vectors avilable on the internet like Gensim,Spacy,PyTorch we load those vectors using these libraries.\n",
        "\n",
        "* Word2Vec & Glove are different techniques / algorithms.\n",
        "\n",
        "* Google news 300 / twitter 25 are the data sets that each model are trained on."
      ],
      "metadata": {
        "id": "cuap1M-o6ZlG"
      }
    },
    {
      "cell_type": "code",
      "source": [
        "wv.similarity(w1=\"great\", w2=\"great\")"
      ],
      "metadata": {
        "colab": {
          "base_uri": "https://localhost:8080/"
        },
        "id": "kJ-OCNgp6UkX",
        "outputId": "5cfb309f-4e08-44e4-8be2-0089c09f43f7"
      },
      "execution_count": 3,
      "outputs": [
        {
          "output_type": "execute_result",
          "data": {
            "text/plain": [
              "1.0"
            ]
          },
          "metadata": {},
          "execution_count": 3
        }
      ]
    },
    {
      "cell_type": "code",
      "source": [
        "wv.similarity(w1=\"great\", w2=\"good\")"
      ],
      "metadata": {
        "id": "XigCY9iKgzJy",
        "colab": {
          "base_uri": "https://localhost:8080/"
        },
        "outputId": "c5a1e8ff-f6ff-4466-ff06-470cf93d7af8"
      },
      "execution_count": 2,
      "outputs": [
        {
          "output_type": "execute_result",
          "data": {
            "text/plain": [
              "0.729151"
            ]
          },
          "metadata": {},
          "execution_count": 2
        }
      ]
    },
    {
      "cell_type": "code",
      "source": [
        "wv_great = wv[\"great\"]\n",
        "wv_good = wv[\"good\"]"
      ],
      "metadata": {
        "id": "nvL3sg36DDb5"
      },
      "execution_count": 22,
      "outputs": []
    },
    {
      "cell_type": "code",
      "source": [
        "wv_great.shape, wv_good.shape"
      ],
      "metadata": {
        "colab": {
          "base_uri": "https://localhost:8080/"
        },
        "id": "nOZJ8d_jDEV4",
        "outputId": "c2d623e4-ac7a-4f93-f55d-296eab7b3943"
      },
      "execution_count": 23,
      "outputs": [
        {
          "output_type": "execute_result",
          "data": {
            "text/plain": [
              "((300,), (300,))"
            ]
          },
          "metadata": {},
          "execution_count": 23
        }
      ]
    },
    {
      "cell_type": "markdown",
      "source": [
        "### **Fake vs Real News Classification Using This Word2Vec Embeddings**\n",
        "\n",
        "* Fake news refers to misinformation or disinformation in the country which is spread through word of mouth and more recently through digital communication such as What's app messages, social media posts, etc.\n",
        "\n",
        "* Fake news spreads faster than real news and creates problems and fear among groups and in society.\n",
        "\n",
        "* We are going to address these problems using classical NLP techniques and going to classify whether a given message/ text is **Real or Fake Message**.\n",
        "\n",
        "* We will use **glove embeddings** from spacy which is trained on massive wikipedia dataset to pre-process and text vectorization and apply different classification algorithms.\n",
        "\n",
        "### **Dataset**\n",
        "\n",
        "Credits: https://www.kaggle.com/datasets/clmentbisaillon/fake-and-real-news-dataset\n",
        "\n",
        "* This data consists of two columns. - Text - label\n",
        "\n",
        "* Text is the statements or messages regarding a particular event/situation.\n",
        "\n",
        "* label feature tells whether the given text is Fake or Real.\n",
        "\n",
        "* As there are only 2 classes, this problem comes under the **Binary Classification.**"
      ],
      "metadata": {
        "id": "t4V35dGeDICJ"
      }
    },
    {
      "cell_type": "code",
      "source": [
        "import pandas as pd\n",
        "import csv\n",
        "import numpy as np\n",
        "\n",
        "#read the dataset with name \"Fake_Real_Data.csv\" and store it in a variable df\n",
        "df = pd.read_csv(\"/Fake_Real_Data.csv\")\n",
        "\n",
        "#print the shape of dataframe\n",
        "print(df.shape)\n",
        "\n",
        "#print top 5 rows\n",
        "df.head(5)"
      ],
      "metadata": {
        "colab": {
          "base_uri": "https://localhost:8080/",
          "height": 224
        },
        "id": "JoV7-2KpFvxZ",
        "outputId": "70a82c50-5d50-4817-a607-314e930c48d0"
      },
      "execution_count": 28,
      "outputs": [
        {
          "output_type": "stream",
          "name": "stdout",
          "text": [
            "(9900, 2)\n"
          ]
        },
        {
          "output_type": "execute_result",
          "data": {
            "text/plain": [
              "                                                Text label\n",
              "0   Top Trump Surrogate BRUTALLY Stabs Him In The...  Fake\n",
              "1  U.S. conservative leader optimistic of common ...  Real\n",
              "2  Trump proposes U.S. tax overhaul, stirs concer...  Real\n",
              "3   Court Forces Ohio To Allow Millions Of Illega...  Fake\n",
              "4  Democrats say Trump agrees to work on immigrat...  Real"
            ],
            "text/html": [
              "\n",
              "  <div id=\"df-490377cc-dbf5-47eb-9117-ee4e85cb1fdc\" class=\"colab-df-container\">\n",
              "    <div>\n",
              "<style scoped>\n",
              "    .dataframe tbody tr th:only-of-type {\n",
              "        vertical-align: middle;\n",
              "    }\n",
              "\n",
              "    .dataframe tbody tr th {\n",
              "        vertical-align: top;\n",
              "    }\n",
              "\n",
              "    .dataframe thead th {\n",
              "        text-align: right;\n",
              "    }\n",
              "</style>\n",
              "<table border=\"1\" class=\"dataframe\">\n",
              "  <thead>\n",
              "    <tr style=\"text-align: right;\">\n",
              "      <th></th>\n",
              "      <th>Text</th>\n",
              "      <th>label</th>\n",
              "    </tr>\n",
              "  </thead>\n",
              "  <tbody>\n",
              "    <tr>\n",
              "      <th>0</th>\n",
              "      <td>Top Trump Surrogate BRUTALLY Stabs Him In The...</td>\n",
              "      <td>Fake</td>\n",
              "    </tr>\n",
              "    <tr>\n",
              "      <th>1</th>\n",
              "      <td>U.S. conservative leader optimistic of common ...</td>\n",
              "      <td>Real</td>\n",
              "    </tr>\n",
              "    <tr>\n",
              "      <th>2</th>\n",
              "      <td>Trump proposes U.S. tax overhaul, stirs concer...</td>\n",
              "      <td>Real</td>\n",
              "    </tr>\n",
              "    <tr>\n",
              "      <th>3</th>\n",
              "      <td>Court Forces Ohio To Allow Millions Of Illega...</td>\n",
              "      <td>Fake</td>\n",
              "    </tr>\n",
              "    <tr>\n",
              "      <th>4</th>\n",
              "      <td>Democrats say Trump agrees to work on immigrat...</td>\n",
              "      <td>Real</td>\n",
              "    </tr>\n",
              "  </tbody>\n",
              "</table>\n",
              "</div>\n",
              "    <div class=\"colab-df-buttons\">\n",
              "\n",
              "  <div class=\"colab-df-container\">\n",
              "    <button class=\"colab-df-convert\" onclick=\"convertToInteractive('df-490377cc-dbf5-47eb-9117-ee4e85cb1fdc')\"\n",
              "            title=\"Convert this dataframe to an interactive table.\"\n",
              "            style=\"display:none;\">\n",
              "\n",
              "  <svg xmlns=\"http://www.w3.org/2000/svg\" height=\"24px\" viewBox=\"0 -960 960 960\">\n",
              "    <path d=\"M120-120v-720h720v720H120Zm60-500h600v-160H180v160Zm220 220h160v-160H400v160Zm0 220h160v-160H400v160ZM180-400h160v-160H180v160Zm440 0h160v-160H620v160ZM180-180h160v-160H180v160Zm440 0h160v-160H620v160Z\"/>\n",
              "  </svg>\n",
              "    </button>\n",
              "\n",
              "  <style>\n",
              "    .colab-df-container {\n",
              "      display:flex;\n",
              "      gap: 12px;\n",
              "    }\n",
              "\n",
              "    .colab-df-convert {\n",
              "      background-color: #E8F0FE;\n",
              "      border: none;\n",
              "      border-radius: 50%;\n",
              "      cursor: pointer;\n",
              "      display: none;\n",
              "      fill: #1967D2;\n",
              "      height: 32px;\n",
              "      padding: 0 0 0 0;\n",
              "      width: 32px;\n",
              "    }\n",
              "\n",
              "    .colab-df-convert:hover {\n",
              "      background-color: #E2EBFA;\n",
              "      box-shadow: 0px 1px 2px rgba(60, 64, 67, 0.3), 0px 1px 3px 1px rgba(60, 64, 67, 0.15);\n",
              "      fill: #174EA6;\n",
              "    }\n",
              "\n",
              "    .colab-df-buttons div {\n",
              "      margin-bottom: 4px;\n",
              "    }\n",
              "\n",
              "    [theme=dark] .colab-df-convert {\n",
              "      background-color: #3B4455;\n",
              "      fill: #D2E3FC;\n",
              "    }\n",
              "\n",
              "    [theme=dark] .colab-df-convert:hover {\n",
              "      background-color: #434B5C;\n",
              "      box-shadow: 0px 1px 3px 1px rgba(0, 0, 0, 0.15);\n",
              "      filter: drop-shadow(0px 1px 2px rgba(0, 0, 0, 0.3));\n",
              "      fill: #FFFFFF;\n",
              "    }\n",
              "  </style>\n",
              "\n",
              "    <script>\n",
              "      const buttonEl =\n",
              "        document.querySelector('#df-490377cc-dbf5-47eb-9117-ee4e85cb1fdc button.colab-df-convert');\n",
              "      buttonEl.style.display =\n",
              "        google.colab.kernel.accessAllowed ? 'block' : 'none';\n",
              "\n",
              "      async function convertToInteractive(key) {\n",
              "        const element = document.querySelector('#df-490377cc-dbf5-47eb-9117-ee4e85cb1fdc');\n",
              "        const dataTable =\n",
              "          await google.colab.kernel.invokeFunction('convertToInteractive',\n",
              "                                                    [key], {});\n",
              "        if (!dataTable) return;\n",
              "\n",
              "        const docLinkHtml = 'Like what you see? Visit the ' +\n",
              "          '<a target=\"_blank\" href=https://colab.research.google.com/notebooks/data_table.ipynb>data table notebook</a>'\n",
              "          + ' to learn more about interactive tables.';\n",
              "        element.innerHTML = '';\n",
              "        dataTable['output_type'] = 'display_data';\n",
              "        await google.colab.output.renderOutput(dataTable, element);\n",
              "        const docLink = document.createElement('div');\n",
              "        docLink.innerHTML = docLinkHtml;\n",
              "        element.appendChild(docLink);\n",
              "      }\n",
              "    </script>\n",
              "  </div>\n",
              "\n",
              "\n",
              "<div id=\"df-0e3be9b5-4bac-48ff-8302-64694c17a888\">\n",
              "  <button class=\"colab-df-quickchart\" onclick=\"quickchart('df-0e3be9b5-4bac-48ff-8302-64694c17a888')\"\n",
              "            title=\"Suggest charts\"\n",
              "            style=\"display:none;\">\n",
              "\n",
              "<svg xmlns=\"http://www.w3.org/2000/svg\" height=\"24px\"viewBox=\"0 0 24 24\"\n",
              "     width=\"24px\">\n",
              "    <g>\n",
              "        <path d=\"M19 3H5c-1.1 0-2 .9-2 2v14c0 1.1.9 2 2 2h14c1.1 0 2-.9 2-2V5c0-1.1-.9-2-2-2zM9 17H7v-7h2v7zm4 0h-2V7h2v10zm4 0h-2v-4h2v4z\"/>\n",
              "    </g>\n",
              "</svg>\n",
              "  </button>\n",
              "\n",
              "<style>\n",
              "  .colab-df-quickchart {\n",
              "      --bg-color: #E8F0FE;\n",
              "      --fill-color: #1967D2;\n",
              "      --hover-bg-color: #E2EBFA;\n",
              "      --hover-fill-color: #174EA6;\n",
              "      --disabled-fill-color: #AAA;\n",
              "      --disabled-bg-color: #DDD;\n",
              "  }\n",
              "\n",
              "  [theme=dark] .colab-df-quickchart {\n",
              "      --bg-color: #3B4455;\n",
              "      --fill-color: #D2E3FC;\n",
              "      --hover-bg-color: #434B5C;\n",
              "      --hover-fill-color: #FFFFFF;\n",
              "      --disabled-bg-color: #3B4455;\n",
              "      --disabled-fill-color: #666;\n",
              "  }\n",
              "\n",
              "  .colab-df-quickchart {\n",
              "    background-color: var(--bg-color);\n",
              "    border: none;\n",
              "    border-radius: 50%;\n",
              "    cursor: pointer;\n",
              "    display: none;\n",
              "    fill: var(--fill-color);\n",
              "    height: 32px;\n",
              "    padding: 0;\n",
              "    width: 32px;\n",
              "  }\n",
              "\n",
              "  .colab-df-quickchart:hover {\n",
              "    background-color: var(--hover-bg-color);\n",
              "    box-shadow: 0 1px 2px rgba(60, 64, 67, 0.3), 0 1px 3px 1px rgba(60, 64, 67, 0.15);\n",
              "    fill: var(--button-hover-fill-color);\n",
              "  }\n",
              "\n",
              "  .colab-df-quickchart-complete:disabled,\n",
              "  .colab-df-quickchart-complete:disabled:hover {\n",
              "    background-color: var(--disabled-bg-color);\n",
              "    fill: var(--disabled-fill-color);\n",
              "    box-shadow: none;\n",
              "  }\n",
              "\n",
              "  .colab-df-spinner {\n",
              "    border: 2px solid var(--fill-color);\n",
              "    border-color: transparent;\n",
              "    border-bottom-color: var(--fill-color);\n",
              "    animation:\n",
              "      spin 1s steps(1) infinite;\n",
              "  }\n",
              "\n",
              "  @keyframes spin {\n",
              "    0% {\n",
              "      border-color: transparent;\n",
              "      border-bottom-color: var(--fill-color);\n",
              "      border-left-color: var(--fill-color);\n",
              "    }\n",
              "    20% {\n",
              "      border-color: transparent;\n",
              "      border-left-color: var(--fill-color);\n",
              "      border-top-color: var(--fill-color);\n",
              "    }\n",
              "    30% {\n",
              "      border-color: transparent;\n",
              "      border-left-color: var(--fill-color);\n",
              "      border-top-color: var(--fill-color);\n",
              "      border-right-color: var(--fill-color);\n",
              "    }\n",
              "    40% {\n",
              "      border-color: transparent;\n",
              "      border-right-color: var(--fill-color);\n",
              "      border-top-color: var(--fill-color);\n",
              "    }\n",
              "    60% {\n",
              "      border-color: transparent;\n",
              "      border-right-color: var(--fill-color);\n",
              "    }\n",
              "    80% {\n",
              "      border-color: transparent;\n",
              "      border-right-color: var(--fill-color);\n",
              "      border-bottom-color: var(--fill-color);\n",
              "    }\n",
              "    90% {\n",
              "      border-color: transparent;\n",
              "      border-bottom-color: var(--fill-color);\n",
              "    }\n",
              "  }\n",
              "</style>\n",
              "\n",
              "  <script>\n",
              "    async function quickchart(key) {\n",
              "      const quickchartButtonEl =\n",
              "        document.querySelector('#' + key + ' button');\n",
              "      quickchartButtonEl.disabled = true;  // To prevent multiple clicks.\n",
              "      quickchartButtonEl.classList.add('colab-df-spinner');\n",
              "      try {\n",
              "        const charts = await google.colab.kernel.invokeFunction(\n",
              "            'suggestCharts', [key], {});\n",
              "      } catch (error) {\n",
              "        console.error('Error during call to suggestCharts:', error);\n",
              "      }\n",
              "      quickchartButtonEl.classList.remove('colab-df-spinner');\n",
              "      quickchartButtonEl.classList.add('colab-df-quickchart-complete');\n",
              "    }\n",
              "    (() => {\n",
              "      let quickchartButtonEl =\n",
              "        document.querySelector('#df-0e3be9b5-4bac-48ff-8302-64694c17a888 button');\n",
              "      quickchartButtonEl.style.display =\n",
              "        google.colab.kernel.accessAllowed ? 'block' : 'none';\n",
              "    })();\n",
              "  </script>\n",
              "</div>\n",
              "\n",
              "    </div>\n",
              "  </div>\n"
            ],
            "application/vnd.google.colaboratory.intrinsic+json": {
              "type": "dataframe",
              "variable_name": "df",
              "summary": "{\n  \"name\": \"df\",\n  \"rows\": 9900,\n  \"fields\": [\n    {\n      \"column\": \"Text\",\n      \"properties\": {\n        \"dtype\": \"string\",\n        \"num_unique_values\": 9865,\n        \"samples\": [\n          \" ICYMI: SNL Skewers \\u201cMorning Joe\\u201d And It Is Hilarious This week s cold open for Saturday Night Live featured a parody of the morning show, Morning Joe. The sketch featured Alex Moffat as host Joe Scarborough and Kate McKinnon as Mika Mika Brzezinski. The sketch also has Alec Baldwin as President Donald Trump, who calls into the show as  John Miller,  a spokesperson for the White House. Back in the day, Trump was known for calling reporters all over the New York area pretending to be his own publicist. He would call, not to tout his business successes but to brag about his sex life.The sketch also made fun of the relationship between the hosts. The pair got engaged recently when they were celebrating Mika s 50th birthday. The sketch shows the response from the other panelists on the show, Mark Halperin, Willie Geist and Mike Barnacle, who all have no idea how to respond to Joe and Mika s behavior on the set.Featured image via Frederick M. Brown/Getty Images.\",\n          \" BOMBSHELL: Information Suggests Trump Associates DID Collude With Russia, According To Officials Wednesday was not a good day to be Donald Trump. In the aftermath of the disastrous Comey hearing where it was confirmed that The Donald s team was indeed being investigated   and of Rep. Nunes  decision to skip informing his fellow congressional Russia investigators of perfectly legal  incidental collection  of information about Trump associates and possibly the President* himself and run to The Donald with it instead   Trump has been flailing, attempting to distract from the whole Russia thing as much as possible.That s going to be very hard now, as U.S. officials have now confirmed that the facts suggest that members of his team were indeed working with the enemy. CNN reports:The FBI has information that indicates associates of President Donald Trump communicated with suspected Russian operatives to possibly coordinate the release of information damaging to Hillary Clinton s campaign, US officials told CNN.\",\n          \" Vladimir Putin Just Defended Trump In The WORST Way Possible (VIDEO) According to Russian dictator Vladimir Putin, it s silly to worry about little things like whether or not a couple of Russian ladies peed on Donald Trump s bed because it s much, much worse to publish memos that reveal these allegations.Putin says that there is a conspiracy to  delegitimize  the man and his team of hackers, fake news writers, and trolls he worked hard to install in the Oval Office by hacking Trump s political opponents and running an aggressive propaganda campaign. I don t know Mr. Trump, I have never met him, I don t know what he will do in the international arena, so I have no reason either to attack him, criticize him or defend him, Putin said at a press conference. Donald Trump has been with the most beautiful women in the world, so why would he need prostitutes in Moscow? To answer that question, we need only look to a 2001 edition of the Howard Stern Show in which Trump was reminded that he bragged that he likes to go to Russia to have sex with women because they  have no morals. Putin says that Russian security services  do not chase every US billionaire,  and that the release of the documents was worse than prostitutes. In a way, he s right, as the documents presented to both Trump and President Obama also allege that members of the President-elect s campaign staff directly worked with the Russian government during the campaign.On numerous occasions, Trump has repeated Russian propaganda while attacking U.S. intelligence agencies that have been exposing him for what he is and, of course, has directly quoted Putin (a man whom Trump says is  very smart ) while hurling barbs at Hillary Clinton.Trump and Putin have been screaming about the  fake news  release of actual documents that actual intelligence agencies are in possession of, but the BBC reported recently that the whole pissing Russian ladies thing is just the tip of the iceberg. Correspondent Paul Wood revealed last week that at least four sources have confirmed the information, with one U.S. intelligence source informing him that there is audio and video of The Donald s escapades, and an Israeli news source reports that the country s spies have been warned against sharing information with the United States for fear that Trump will relay it to Putin.Putin and Trump s bromance is disconcerting at best   especially when more than a baker s dozen intelligence agencies have confirmed that the man who stood up to join Trump in his attacks on our intelligence agencies has been confirmed to have interfered in our election.Watch it below:Featured image via Getty Images\"\n        ],\n        \"semantic_type\": \"\",\n        \"description\": \"\"\n      }\n    },\n    {\n      \"column\": \"label\",\n      \"properties\": {\n        \"dtype\": \"category\",\n        \"num_unique_values\": 2,\n        \"samples\": [\n          \"Real\",\n          \"Fake\"\n        ],\n        \"semantic_type\": \"\",\n        \"description\": \"\"\n      }\n    }\n  ]\n}"
            }
          },
          "metadata": {},
          "execution_count": 28
        }
      ]
    },
    {
      "cell_type": "code",
      "source": [
        "#check the distribution of labels\n",
        "df['label'].value_counts()"
      ],
      "metadata": {
        "colab": {
          "base_uri": "https://localhost:8080/",
          "height": 178
        },
        "id": "ZrHIIOfrGhzQ",
        "outputId": "f0446728-aa6e-44e7-9835-cabc9dbeae06"
      },
      "execution_count": 29,
      "outputs": [
        {
          "output_type": "execute_result",
          "data": {
            "text/plain": [
              "label\n",
              "Fake    5000\n",
              "Real    4900\n",
              "Name: count, dtype: int64"
            ],
            "text/html": [
              "<div>\n",
              "<style scoped>\n",
              "    .dataframe tbody tr th:only-of-type {\n",
              "        vertical-align: middle;\n",
              "    }\n",
              "\n",
              "    .dataframe tbody tr th {\n",
              "        vertical-align: top;\n",
              "    }\n",
              "\n",
              "    .dataframe thead th {\n",
              "        text-align: right;\n",
              "    }\n",
              "</style>\n",
              "<table border=\"1\" class=\"dataframe\">\n",
              "  <thead>\n",
              "    <tr style=\"text-align: right;\">\n",
              "      <th></th>\n",
              "      <th>count</th>\n",
              "    </tr>\n",
              "    <tr>\n",
              "      <th>label</th>\n",
              "      <th></th>\n",
              "    </tr>\n",
              "  </thead>\n",
              "  <tbody>\n",
              "    <tr>\n",
              "      <th>Fake</th>\n",
              "      <td>5000</td>\n",
              "    </tr>\n",
              "    <tr>\n",
              "      <th>Real</th>\n",
              "      <td>4900</td>\n",
              "    </tr>\n",
              "  </tbody>\n",
              "</table>\n",
              "</div><br><label><b>dtype:</b> int64</label>"
            ]
          },
          "metadata": {},
          "execution_count": 29
        }
      ]
    },
    {
      "cell_type": "code",
      "source": [
        "#Add the new column which gives a unique number to each of these labels\n",
        "\n",
        "df['label_num'] = df['label'].map({'Fake' : 0, 'Real': 1})\n",
        "\n",
        "#check the results with top 5 rows\n",
        "df.head(5)"
      ],
      "metadata": {
        "colab": {
          "base_uri": "https://localhost:8080/",
          "height": 206
        },
        "id": "n-ioyZDRGhxR",
        "outputId": "959ebfa0-305b-4015-8b81-5906fc6511c7"
      },
      "execution_count": 30,
      "outputs": [
        {
          "output_type": "execute_result",
          "data": {
            "text/plain": [
              "                                                Text label  label_num\n",
              "0   Top Trump Surrogate BRUTALLY Stabs Him In The...  Fake          0\n",
              "1  U.S. conservative leader optimistic of common ...  Real          1\n",
              "2  Trump proposes U.S. tax overhaul, stirs concer...  Real          1\n",
              "3   Court Forces Ohio To Allow Millions Of Illega...  Fake          0\n",
              "4  Democrats say Trump agrees to work on immigrat...  Real          1"
            ],
            "text/html": [
              "\n",
              "  <div id=\"df-74f26b6e-293b-4e74-ad23-5c4977656a21\" class=\"colab-df-container\">\n",
              "    <div>\n",
              "<style scoped>\n",
              "    .dataframe tbody tr th:only-of-type {\n",
              "        vertical-align: middle;\n",
              "    }\n",
              "\n",
              "    .dataframe tbody tr th {\n",
              "        vertical-align: top;\n",
              "    }\n",
              "\n",
              "    .dataframe thead th {\n",
              "        text-align: right;\n",
              "    }\n",
              "</style>\n",
              "<table border=\"1\" class=\"dataframe\">\n",
              "  <thead>\n",
              "    <tr style=\"text-align: right;\">\n",
              "      <th></th>\n",
              "      <th>Text</th>\n",
              "      <th>label</th>\n",
              "      <th>label_num</th>\n",
              "    </tr>\n",
              "  </thead>\n",
              "  <tbody>\n",
              "    <tr>\n",
              "      <th>0</th>\n",
              "      <td>Top Trump Surrogate BRUTALLY Stabs Him In The...</td>\n",
              "      <td>Fake</td>\n",
              "      <td>0</td>\n",
              "    </tr>\n",
              "    <tr>\n",
              "      <th>1</th>\n",
              "      <td>U.S. conservative leader optimistic of common ...</td>\n",
              "      <td>Real</td>\n",
              "      <td>1</td>\n",
              "    </tr>\n",
              "    <tr>\n",
              "      <th>2</th>\n",
              "      <td>Trump proposes U.S. tax overhaul, stirs concer...</td>\n",
              "      <td>Real</td>\n",
              "      <td>1</td>\n",
              "    </tr>\n",
              "    <tr>\n",
              "      <th>3</th>\n",
              "      <td>Court Forces Ohio To Allow Millions Of Illega...</td>\n",
              "      <td>Fake</td>\n",
              "      <td>0</td>\n",
              "    </tr>\n",
              "    <tr>\n",
              "      <th>4</th>\n",
              "      <td>Democrats say Trump agrees to work on immigrat...</td>\n",
              "      <td>Real</td>\n",
              "      <td>1</td>\n",
              "    </tr>\n",
              "  </tbody>\n",
              "</table>\n",
              "</div>\n",
              "    <div class=\"colab-df-buttons\">\n",
              "\n",
              "  <div class=\"colab-df-container\">\n",
              "    <button class=\"colab-df-convert\" onclick=\"convertToInteractive('df-74f26b6e-293b-4e74-ad23-5c4977656a21')\"\n",
              "            title=\"Convert this dataframe to an interactive table.\"\n",
              "            style=\"display:none;\">\n",
              "\n",
              "  <svg xmlns=\"http://www.w3.org/2000/svg\" height=\"24px\" viewBox=\"0 -960 960 960\">\n",
              "    <path d=\"M120-120v-720h720v720H120Zm60-500h600v-160H180v160Zm220 220h160v-160H400v160Zm0 220h160v-160H400v160ZM180-400h160v-160H180v160Zm440 0h160v-160H620v160ZM180-180h160v-160H180v160Zm440 0h160v-160H620v160Z\"/>\n",
              "  </svg>\n",
              "    </button>\n",
              "\n",
              "  <style>\n",
              "    .colab-df-container {\n",
              "      display:flex;\n",
              "      gap: 12px;\n",
              "    }\n",
              "\n",
              "    .colab-df-convert {\n",
              "      background-color: #E8F0FE;\n",
              "      border: none;\n",
              "      border-radius: 50%;\n",
              "      cursor: pointer;\n",
              "      display: none;\n",
              "      fill: #1967D2;\n",
              "      height: 32px;\n",
              "      padding: 0 0 0 0;\n",
              "      width: 32px;\n",
              "    }\n",
              "\n",
              "    .colab-df-convert:hover {\n",
              "      background-color: #E2EBFA;\n",
              "      box-shadow: 0px 1px 2px rgba(60, 64, 67, 0.3), 0px 1px 3px 1px rgba(60, 64, 67, 0.15);\n",
              "      fill: #174EA6;\n",
              "    }\n",
              "\n",
              "    .colab-df-buttons div {\n",
              "      margin-bottom: 4px;\n",
              "    }\n",
              "\n",
              "    [theme=dark] .colab-df-convert {\n",
              "      background-color: #3B4455;\n",
              "      fill: #D2E3FC;\n",
              "    }\n",
              "\n",
              "    [theme=dark] .colab-df-convert:hover {\n",
              "      background-color: #434B5C;\n",
              "      box-shadow: 0px 1px 3px 1px rgba(0, 0, 0, 0.15);\n",
              "      filter: drop-shadow(0px 1px 2px rgba(0, 0, 0, 0.3));\n",
              "      fill: #FFFFFF;\n",
              "    }\n",
              "  </style>\n",
              "\n",
              "    <script>\n",
              "      const buttonEl =\n",
              "        document.querySelector('#df-74f26b6e-293b-4e74-ad23-5c4977656a21 button.colab-df-convert');\n",
              "      buttonEl.style.display =\n",
              "        google.colab.kernel.accessAllowed ? 'block' : 'none';\n",
              "\n",
              "      async function convertToInteractive(key) {\n",
              "        const element = document.querySelector('#df-74f26b6e-293b-4e74-ad23-5c4977656a21');\n",
              "        const dataTable =\n",
              "          await google.colab.kernel.invokeFunction('convertToInteractive',\n",
              "                                                    [key], {});\n",
              "        if (!dataTable) return;\n",
              "\n",
              "        const docLinkHtml = 'Like what you see? Visit the ' +\n",
              "          '<a target=\"_blank\" href=https://colab.research.google.com/notebooks/data_table.ipynb>data table notebook</a>'\n",
              "          + ' to learn more about interactive tables.';\n",
              "        element.innerHTML = '';\n",
              "        dataTable['output_type'] = 'display_data';\n",
              "        await google.colab.output.renderOutput(dataTable, element);\n",
              "        const docLink = document.createElement('div');\n",
              "        docLink.innerHTML = docLinkHtml;\n",
              "        element.appendChild(docLink);\n",
              "      }\n",
              "    </script>\n",
              "  </div>\n",
              "\n",
              "\n",
              "<div id=\"df-d67d751e-0a1c-4a10-9eff-acd968b6c259\">\n",
              "  <button class=\"colab-df-quickchart\" onclick=\"quickchart('df-d67d751e-0a1c-4a10-9eff-acd968b6c259')\"\n",
              "            title=\"Suggest charts\"\n",
              "            style=\"display:none;\">\n",
              "\n",
              "<svg xmlns=\"http://www.w3.org/2000/svg\" height=\"24px\"viewBox=\"0 0 24 24\"\n",
              "     width=\"24px\">\n",
              "    <g>\n",
              "        <path d=\"M19 3H5c-1.1 0-2 .9-2 2v14c0 1.1.9 2 2 2h14c1.1 0 2-.9 2-2V5c0-1.1-.9-2-2-2zM9 17H7v-7h2v7zm4 0h-2V7h2v10zm4 0h-2v-4h2v4z\"/>\n",
              "    </g>\n",
              "</svg>\n",
              "  </button>\n",
              "\n",
              "<style>\n",
              "  .colab-df-quickchart {\n",
              "      --bg-color: #E8F0FE;\n",
              "      --fill-color: #1967D2;\n",
              "      --hover-bg-color: #E2EBFA;\n",
              "      --hover-fill-color: #174EA6;\n",
              "      --disabled-fill-color: #AAA;\n",
              "      --disabled-bg-color: #DDD;\n",
              "  }\n",
              "\n",
              "  [theme=dark] .colab-df-quickchart {\n",
              "      --bg-color: #3B4455;\n",
              "      --fill-color: #D2E3FC;\n",
              "      --hover-bg-color: #434B5C;\n",
              "      --hover-fill-color: #FFFFFF;\n",
              "      --disabled-bg-color: #3B4455;\n",
              "      --disabled-fill-color: #666;\n",
              "  }\n",
              "\n",
              "  .colab-df-quickchart {\n",
              "    background-color: var(--bg-color);\n",
              "    border: none;\n",
              "    border-radius: 50%;\n",
              "    cursor: pointer;\n",
              "    display: none;\n",
              "    fill: var(--fill-color);\n",
              "    height: 32px;\n",
              "    padding: 0;\n",
              "    width: 32px;\n",
              "  }\n",
              "\n",
              "  .colab-df-quickchart:hover {\n",
              "    background-color: var(--hover-bg-color);\n",
              "    box-shadow: 0 1px 2px rgba(60, 64, 67, 0.3), 0 1px 3px 1px rgba(60, 64, 67, 0.15);\n",
              "    fill: var(--button-hover-fill-color);\n",
              "  }\n",
              "\n",
              "  .colab-df-quickchart-complete:disabled,\n",
              "  .colab-df-quickchart-complete:disabled:hover {\n",
              "    background-color: var(--disabled-bg-color);\n",
              "    fill: var(--disabled-fill-color);\n",
              "    box-shadow: none;\n",
              "  }\n",
              "\n",
              "  .colab-df-spinner {\n",
              "    border: 2px solid var(--fill-color);\n",
              "    border-color: transparent;\n",
              "    border-bottom-color: var(--fill-color);\n",
              "    animation:\n",
              "      spin 1s steps(1) infinite;\n",
              "  }\n",
              "\n",
              "  @keyframes spin {\n",
              "    0% {\n",
              "      border-color: transparent;\n",
              "      border-bottom-color: var(--fill-color);\n",
              "      border-left-color: var(--fill-color);\n",
              "    }\n",
              "    20% {\n",
              "      border-color: transparent;\n",
              "      border-left-color: var(--fill-color);\n",
              "      border-top-color: var(--fill-color);\n",
              "    }\n",
              "    30% {\n",
              "      border-color: transparent;\n",
              "      border-left-color: var(--fill-color);\n",
              "      border-top-color: var(--fill-color);\n",
              "      border-right-color: var(--fill-color);\n",
              "    }\n",
              "    40% {\n",
              "      border-color: transparent;\n",
              "      border-right-color: var(--fill-color);\n",
              "      border-top-color: var(--fill-color);\n",
              "    }\n",
              "    60% {\n",
              "      border-color: transparent;\n",
              "      border-right-color: var(--fill-color);\n",
              "    }\n",
              "    80% {\n",
              "      border-color: transparent;\n",
              "      border-right-color: var(--fill-color);\n",
              "      border-bottom-color: var(--fill-color);\n",
              "    }\n",
              "    90% {\n",
              "      border-color: transparent;\n",
              "      border-bottom-color: var(--fill-color);\n",
              "    }\n",
              "  }\n",
              "</style>\n",
              "\n",
              "  <script>\n",
              "    async function quickchart(key) {\n",
              "      const quickchartButtonEl =\n",
              "        document.querySelector('#' + key + ' button');\n",
              "      quickchartButtonEl.disabled = true;  // To prevent multiple clicks.\n",
              "      quickchartButtonEl.classList.add('colab-df-spinner');\n",
              "      try {\n",
              "        const charts = await google.colab.kernel.invokeFunction(\n",
              "            'suggestCharts', [key], {});\n",
              "      } catch (error) {\n",
              "        console.error('Error during call to suggestCharts:', error);\n",
              "      }\n",
              "      quickchartButtonEl.classList.remove('colab-df-spinner');\n",
              "      quickchartButtonEl.classList.add('colab-df-quickchart-complete');\n",
              "    }\n",
              "    (() => {\n",
              "      let quickchartButtonEl =\n",
              "        document.querySelector('#df-d67d751e-0a1c-4a10-9eff-acd968b6c259 button');\n",
              "      quickchartButtonEl.style.display =\n",
              "        google.colab.kernel.accessAllowed ? 'block' : 'none';\n",
              "    })();\n",
              "  </script>\n",
              "</div>\n",
              "\n",
              "    </div>\n",
              "  </div>\n"
            ],
            "application/vnd.google.colaboratory.intrinsic+json": {
              "type": "dataframe",
              "variable_name": "df",
              "summary": "{\n  \"name\": \"df\",\n  \"rows\": 9900,\n  \"fields\": [\n    {\n      \"column\": \"Text\",\n      \"properties\": {\n        \"dtype\": \"string\",\n        \"num_unique_values\": 9865,\n        \"samples\": [\n          \" ICYMI: SNL Skewers \\u201cMorning Joe\\u201d And It Is Hilarious This week s cold open for Saturday Night Live featured a parody of the morning show, Morning Joe. The sketch featured Alex Moffat as host Joe Scarborough and Kate McKinnon as Mika Mika Brzezinski. The sketch also has Alec Baldwin as President Donald Trump, who calls into the show as  John Miller,  a spokesperson for the White House. Back in the day, Trump was known for calling reporters all over the New York area pretending to be his own publicist. He would call, not to tout his business successes but to brag about his sex life.The sketch also made fun of the relationship between the hosts. The pair got engaged recently when they were celebrating Mika s 50th birthday. The sketch shows the response from the other panelists on the show, Mark Halperin, Willie Geist and Mike Barnacle, who all have no idea how to respond to Joe and Mika s behavior on the set.Featured image via Frederick M. Brown/Getty Images.\",\n          \" BOMBSHELL: Information Suggests Trump Associates DID Collude With Russia, According To Officials Wednesday was not a good day to be Donald Trump. In the aftermath of the disastrous Comey hearing where it was confirmed that The Donald s team was indeed being investigated   and of Rep. Nunes  decision to skip informing his fellow congressional Russia investigators of perfectly legal  incidental collection  of information about Trump associates and possibly the President* himself and run to The Donald with it instead   Trump has been flailing, attempting to distract from the whole Russia thing as much as possible.That s going to be very hard now, as U.S. officials have now confirmed that the facts suggest that members of his team were indeed working with the enemy. CNN reports:The FBI has information that indicates associates of President Donald Trump communicated with suspected Russian operatives to possibly coordinate the release of information damaging to Hillary Clinton s campaign, US officials told CNN.\",\n          \" Vladimir Putin Just Defended Trump In The WORST Way Possible (VIDEO) According to Russian dictator Vladimir Putin, it s silly to worry about little things like whether or not a couple of Russian ladies peed on Donald Trump s bed because it s much, much worse to publish memos that reveal these allegations.Putin says that there is a conspiracy to  delegitimize  the man and his team of hackers, fake news writers, and trolls he worked hard to install in the Oval Office by hacking Trump s political opponents and running an aggressive propaganda campaign. I don t know Mr. Trump, I have never met him, I don t know what he will do in the international arena, so I have no reason either to attack him, criticize him or defend him, Putin said at a press conference. Donald Trump has been with the most beautiful women in the world, so why would he need prostitutes in Moscow? To answer that question, we need only look to a 2001 edition of the Howard Stern Show in which Trump was reminded that he bragged that he likes to go to Russia to have sex with women because they  have no morals. Putin says that Russian security services  do not chase every US billionaire,  and that the release of the documents was worse than prostitutes. In a way, he s right, as the documents presented to both Trump and President Obama also allege that members of the President-elect s campaign staff directly worked with the Russian government during the campaign.On numerous occasions, Trump has repeated Russian propaganda while attacking U.S. intelligence agencies that have been exposing him for what he is and, of course, has directly quoted Putin (a man whom Trump says is  very smart ) while hurling barbs at Hillary Clinton.Trump and Putin have been screaming about the  fake news  release of actual documents that actual intelligence agencies are in possession of, but the BBC reported recently that the whole pissing Russian ladies thing is just the tip of the iceberg. Correspondent Paul Wood revealed last week that at least four sources have confirmed the information, with one U.S. intelligence source informing him that there is audio and video of The Donald s escapades, and an Israeli news source reports that the country s spies have been warned against sharing information with the United States for fear that Trump will relay it to Putin.Putin and Trump s bromance is disconcerting at best   especially when more than a baker s dozen intelligence agencies have confirmed that the man who stood up to join Trump in his attacks on our intelligence agencies has been confirmed to have interfered in our election.Watch it below:Featured image via Getty Images\"\n        ],\n        \"semantic_type\": \"\",\n        \"description\": \"\"\n      }\n    },\n    {\n      \"column\": \"label\",\n      \"properties\": {\n        \"dtype\": \"category\",\n        \"num_unique_values\": 2,\n        \"samples\": [\n          \"Real\",\n          \"Fake\"\n        ],\n        \"semantic_type\": \"\",\n        \"description\": \"\"\n      }\n    },\n    {\n      \"column\": \"label_num\",\n      \"properties\": {\n        \"dtype\": \"number\",\n        \"std\": 0,\n        \"min\": 0,\n        \"max\": 1,\n        \"num_unique_values\": 2,\n        \"samples\": [\n          1,\n          0\n        ],\n        \"semantic_type\": \"\",\n        \"description\": \"\"\n      }\n    }\n  ]\n}"
            }
          },
          "metadata": {},
          "execution_count": 30
        }
      ]
    },
    {
      "cell_type": "markdown",
      "source": [
        "### **Now we will convert the text into a vector using gensim's word2vec embeddings.We will do this in three steps,**\n",
        "\n",
        "1. Preprocess the text to remove stop words, punctuations and get lemma for each word\n",
        "2. Get word vectors for each of the words in a pre-processed sentece\n",
        "3. Take a mean of all word vectors to derive the numeric representation of the entire news article\n",
        "\n",
        "* First let's explore **get_mean_vector** api of gensim to see how it works"
      ],
      "metadata": {
        "id": "fLgOOUnNGvhh"
      }
    },
    {
      "cell_type": "code",
      "source": [
        "r1 = np.mean([wv_good, wv_great],axis=0) # using numpy"
      ],
      "metadata": {
        "id": "-MuVNBzcZU99"
      },
      "execution_count": 71,
      "outputs": []
    },
    {
      "cell_type": "code",
      "source": [
        "wv_good[:5]"
      ],
      "metadata": {
        "colab": {
          "base_uri": "https://localhost:8080/"
        },
        "id": "62HpOG-NZU2d",
        "outputId": "1b0669e9-9838-42dc-fa58-f6f3cba3156d"
      },
      "execution_count": 72,
      "outputs": [
        {
          "output_type": "execute_result",
          "data": {
            "text/plain": [
              "array([ 0.04052734,  0.0625    , -0.01745605,  0.07861328,  0.03271484],\n",
              "      dtype=float32)"
            ]
          },
          "metadata": {},
          "execution_count": 72
        }
      ]
    },
    {
      "cell_type": "code",
      "source": [
        "wv_great[:5]"
      ],
      "metadata": {
        "colab": {
          "base_uri": "https://localhost:8080/"
        },
        "id": "9cD6SGNWZUzm",
        "outputId": "1adb1601-6837-4a51-ef52-29c017b471e4"
      },
      "execution_count": 73,
      "outputs": [
        {
          "output_type": "execute_result",
          "data": {
            "text/plain": [
              "array([ 0.07177734,  0.20800781, -0.02844238,  0.17871094,  0.1328125 ],\n",
              "      dtype=float32)"
            ]
          },
          "metadata": {},
          "execution_count": 73
        }
      ]
    },
    {
      "cell_type": "code",
      "source": [
        "r1[:5] # avarage vector values of full sentence embedding"
      ],
      "metadata": {
        "colab": {
          "base_uri": "https://localhost:8080/"
        },
        "id": "TvfULOtbZUwG",
        "outputId": "c8ce4f95-263e-403c-cc11-8020e0565a9c"
      },
      "execution_count": 77,
      "outputs": [
        {
          "output_type": "execute_result",
          "data": {
            "text/plain": [
              "array([ 0.05615234,  0.1352539 , -0.02294922,  0.12866211,  0.08276367],\n",
              "      dtype=float32)"
            ]
          },
          "metadata": {},
          "execution_count": 77
        }
      ]
    },
    {
      "cell_type": "code",
      "source": [
        "r2 = wv.get_mean_vector([\"good\", \"great\"],pre_normalize=False)"
      ],
      "metadata": {
        "id": "5miz50C-ZUrW"
      },
      "execution_count": 75,
      "outputs": []
    },
    {
      "cell_type": "code",
      "source": [
        "r2[:5]\n",
        "\n",
        "# avarage vector values of full sentence embedding using 'get_mean_vector'.\n",
        "# see the values are simillar."
      ],
      "metadata": {
        "colab": {
          "base_uri": "https://localhost:8080/"
        },
        "id": "H8dXoxetaIto",
        "outputId": "415d142c-b04f-4ec6-be2e-e3778bb76e95"
      },
      "execution_count": 76,
      "outputs": [
        {
          "output_type": "execute_result",
          "data": {
            "text/plain": [
              "array([ 0.05615234,  0.1352539 , -0.02294922,  0.12866211,  0.08276367],\n",
              "      dtype=float32)"
            ]
          },
          "metadata": {},
          "execution_count": 76
        }
      ]
    },
    {
      "cell_type": "markdown",
      "source": [
        "## **1. Preprocessing**"
      ],
      "metadata": {
        "id": "cHhXIm9zI8di"
      }
    },
    {
      "cell_type": "code",
      "source": [
        "!python -m spacy download en_core_web_lg"
      ],
      "metadata": {
        "colab": {
          "base_uri": "https://localhost:8080/"
        },
        "collapsed": true,
        "id": "gmm6f_ZyIkma",
        "outputId": "2ca2fb54-7d25-48eb-ec94-cccd0b637f7e"
      },
      "execution_count": 31,
      "outputs": [
        {
          "output_type": "stream",
          "name": "stdout",
          "text": [
            "Collecting en-core-web-lg==3.7.1\n",
            "  Downloading https://github.com/explosion/spacy-models/releases/download/en_core_web_lg-3.7.1/en_core_web_lg-3.7.1-py3-none-any.whl (587.7 MB)\n",
            "\u001b[2K     \u001b[90m━━━━━━━━━━━━━━━━━━━━━━━━━━━━━━━━━━━━━━━━\u001b[0m \u001b[32m587.7/587.7 MB\u001b[0m \u001b[31m742.4 kB/s\u001b[0m eta \u001b[36m0:00:00\u001b[0m\n",
            "\u001b[?25hRequirement already satisfied: spacy<3.8.0,>=3.7.2 in /usr/local/lib/python3.10/dist-packages (from en-core-web-lg==3.7.1) (3.7.5)\n",
            "Requirement already satisfied: spacy-legacy<3.1.0,>=3.0.11 in /usr/local/lib/python3.10/dist-packages (from spacy<3.8.0,>=3.7.2->en-core-web-lg==3.7.1) (3.0.12)\n",
            "Requirement already satisfied: spacy-loggers<2.0.0,>=1.0.0 in /usr/local/lib/python3.10/dist-packages (from spacy<3.8.0,>=3.7.2->en-core-web-lg==3.7.1) (1.0.5)\n",
            "Requirement already satisfied: murmurhash<1.1.0,>=0.28.0 in /usr/local/lib/python3.10/dist-packages (from spacy<3.8.0,>=3.7.2->en-core-web-lg==3.7.1) (1.0.10)\n",
            "Requirement already satisfied: cymem<2.1.0,>=2.0.2 in /usr/local/lib/python3.10/dist-packages (from spacy<3.8.0,>=3.7.2->en-core-web-lg==3.7.1) (2.0.8)\n",
            "Requirement already satisfied: preshed<3.1.0,>=3.0.2 in /usr/local/lib/python3.10/dist-packages (from spacy<3.8.0,>=3.7.2->en-core-web-lg==3.7.1) (3.0.9)\n",
            "Requirement already satisfied: thinc<8.3.0,>=8.2.2 in /usr/local/lib/python3.10/dist-packages (from spacy<3.8.0,>=3.7.2->en-core-web-lg==3.7.1) (8.2.5)\n",
            "Requirement already satisfied: wasabi<1.2.0,>=0.9.1 in /usr/local/lib/python3.10/dist-packages (from spacy<3.8.0,>=3.7.2->en-core-web-lg==3.7.1) (1.1.3)\n",
            "Requirement already satisfied: srsly<3.0.0,>=2.4.3 in /usr/local/lib/python3.10/dist-packages (from spacy<3.8.0,>=3.7.2->en-core-web-lg==3.7.1) (2.4.8)\n",
            "Requirement already satisfied: catalogue<2.1.0,>=2.0.6 in /usr/local/lib/python3.10/dist-packages (from spacy<3.8.0,>=3.7.2->en-core-web-lg==3.7.1) (2.0.10)\n",
            "Requirement already satisfied: weasel<0.5.0,>=0.1.0 in /usr/local/lib/python3.10/dist-packages (from spacy<3.8.0,>=3.7.2->en-core-web-lg==3.7.1) (0.4.1)\n",
            "Requirement already satisfied: typer<1.0.0,>=0.3.0 in /usr/local/lib/python3.10/dist-packages (from spacy<3.8.0,>=3.7.2->en-core-web-lg==3.7.1) (0.12.5)\n",
            "Requirement already satisfied: tqdm<5.0.0,>=4.38.0 in /usr/local/lib/python3.10/dist-packages (from spacy<3.8.0,>=3.7.2->en-core-web-lg==3.7.1) (4.66.5)\n",
            "Requirement already satisfied: requests<3.0.0,>=2.13.0 in /usr/local/lib/python3.10/dist-packages (from spacy<3.8.0,>=3.7.2->en-core-web-lg==3.7.1) (2.32.3)\n",
            "Requirement already satisfied: pydantic!=1.8,!=1.8.1,<3.0.0,>=1.7.4 in /usr/local/lib/python3.10/dist-packages (from spacy<3.8.0,>=3.7.2->en-core-web-lg==3.7.1) (2.9.2)\n",
            "Requirement already satisfied: jinja2 in /usr/local/lib/python3.10/dist-packages (from spacy<3.8.0,>=3.7.2->en-core-web-lg==3.7.1) (3.1.4)\n",
            "Requirement already satisfied: setuptools in /usr/local/lib/python3.10/dist-packages (from spacy<3.8.0,>=3.7.2->en-core-web-lg==3.7.1) (71.0.4)\n",
            "Requirement already satisfied: packaging>=20.0 in /usr/local/lib/python3.10/dist-packages (from spacy<3.8.0,>=3.7.2->en-core-web-lg==3.7.1) (24.1)\n",
            "Requirement already satisfied: langcodes<4.0.0,>=3.2.0 in /usr/local/lib/python3.10/dist-packages (from spacy<3.8.0,>=3.7.2->en-core-web-lg==3.7.1) (3.4.1)\n",
            "Requirement already satisfied: numpy>=1.19.0 in /usr/local/lib/python3.10/dist-packages (from spacy<3.8.0,>=3.7.2->en-core-web-lg==3.7.1) (1.26.4)\n",
            "Requirement already satisfied: language-data>=1.2 in /usr/local/lib/python3.10/dist-packages (from langcodes<4.0.0,>=3.2.0->spacy<3.8.0,>=3.7.2->en-core-web-lg==3.7.1) (1.2.0)\n",
            "Requirement already satisfied: annotated-types>=0.6.0 in /usr/local/lib/python3.10/dist-packages (from pydantic!=1.8,!=1.8.1,<3.0.0,>=1.7.4->spacy<3.8.0,>=3.7.2->en-core-web-lg==3.7.1) (0.7.0)\n",
            "Requirement already satisfied: pydantic-core==2.23.4 in /usr/local/lib/python3.10/dist-packages (from pydantic!=1.8,!=1.8.1,<3.0.0,>=1.7.4->spacy<3.8.0,>=3.7.2->en-core-web-lg==3.7.1) (2.23.4)\n",
            "Requirement already satisfied: typing-extensions>=4.6.1 in /usr/local/lib/python3.10/dist-packages (from pydantic!=1.8,!=1.8.1,<3.0.0,>=1.7.4->spacy<3.8.0,>=3.7.2->en-core-web-lg==3.7.1) (4.12.2)\n",
            "Requirement already satisfied: charset-normalizer<4,>=2 in /usr/local/lib/python3.10/dist-packages (from requests<3.0.0,>=2.13.0->spacy<3.8.0,>=3.7.2->en-core-web-lg==3.7.1) (3.3.2)\n",
            "Requirement already satisfied: idna<4,>=2.5 in /usr/local/lib/python3.10/dist-packages (from requests<3.0.0,>=2.13.0->spacy<3.8.0,>=3.7.2->en-core-web-lg==3.7.1) (3.10)\n",
            "Requirement already satisfied: urllib3<3,>=1.21.1 in /usr/local/lib/python3.10/dist-packages (from requests<3.0.0,>=2.13.0->spacy<3.8.0,>=3.7.2->en-core-web-lg==3.7.1) (2.2.3)\n",
            "Requirement already satisfied: certifi>=2017.4.17 in /usr/local/lib/python3.10/dist-packages (from requests<3.0.0,>=2.13.0->spacy<3.8.0,>=3.7.2->en-core-web-lg==3.7.1) (2024.8.30)\n",
            "Requirement already satisfied: blis<0.8.0,>=0.7.8 in /usr/local/lib/python3.10/dist-packages (from thinc<8.3.0,>=8.2.2->spacy<3.8.0,>=3.7.2->en-core-web-lg==3.7.1) (0.7.11)\n",
            "Requirement already satisfied: confection<1.0.0,>=0.0.1 in /usr/local/lib/python3.10/dist-packages (from thinc<8.3.0,>=8.2.2->spacy<3.8.0,>=3.7.2->en-core-web-lg==3.7.1) (0.1.5)\n",
            "Requirement already satisfied: click>=8.0.0 in /usr/local/lib/python3.10/dist-packages (from typer<1.0.0,>=0.3.0->spacy<3.8.0,>=3.7.2->en-core-web-lg==3.7.1) (8.1.7)\n",
            "Requirement already satisfied: shellingham>=1.3.0 in /usr/local/lib/python3.10/dist-packages (from typer<1.0.0,>=0.3.0->spacy<3.8.0,>=3.7.2->en-core-web-lg==3.7.1) (1.5.4)\n",
            "Requirement already satisfied: rich>=10.11.0 in /usr/local/lib/python3.10/dist-packages (from typer<1.0.0,>=0.3.0->spacy<3.8.0,>=3.7.2->en-core-web-lg==3.7.1) (13.9.2)\n",
            "Requirement already satisfied: cloudpathlib<1.0.0,>=0.7.0 in /usr/local/lib/python3.10/dist-packages (from weasel<0.5.0,>=0.1.0->spacy<3.8.0,>=3.7.2->en-core-web-lg==3.7.1) (0.19.0)\n",
            "Requirement already satisfied: smart-open<8.0.0,>=5.2.1 in /usr/local/lib/python3.10/dist-packages (from weasel<0.5.0,>=0.1.0->spacy<3.8.0,>=3.7.2->en-core-web-lg==3.7.1) (7.0.5)\n",
            "Requirement already satisfied: MarkupSafe>=2.0 in /usr/local/lib/python3.10/dist-packages (from jinja2->spacy<3.8.0,>=3.7.2->en-core-web-lg==3.7.1) (2.1.5)\n",
            "Requirement already satisfied: marisa-trie>=0.7.7 in /usr/local/lib/python3.10/dist-packages (from language-data>=1.2->langcodes<4.0.0,>=3.2.0->spacy<3.8.0,>=3.7.2->en-core-web-lg==3.7.1) (1.2.0)\n",
            "Requirement already satisfied: markdown-it-py>=2.2.0 in /usr/local/lib/python3.10/dist-packages (from rich>=10.11.0->typer<1.0.0,>=0.3.0->spacy<3.8.0,>=3.7.2->en-core-web-lg==3.7.1) (3.0.0)\n",
            "Requirement already satisfied: pygments<3.0.0,>=2.13.0 in /usr/local/lib/python3.10/dist-packages (from rich>=10.11.0->typer<1.0.0,>=0.3.0->spacy<3.8.0,>=3.7.2->en-core-web-lg==3.7.1) (2.18.0)\n",
            "Requirement already satisfied: wrapt in /usr/local/lib/python3.10/dist-packages (from smart-open<8.0.0,>=5.2.1->weasel<0.5.0,>=0.1.0->spacy<3.8.0,>=3.7.2->en-core-web-lg==3.7.1) (1.16.0)\n",
            "Requirement already satisfied: mdurl~=0.1 in /usr/local/lib/python3.10/dist-packages (from markdown-it-py>=2.2.0->rich>=10.11.0->typer<1.0.0,>=0.3.0->spacy<3.8.0,>=3.7.2->en-core-web-lg==3.7.1) (0.1.2)\n",
            "Installing collected packages: en-core-web-lg\n",
            "Successfully installed en-core-web-lg-3.7.1\n",
            "\u001b[38;5;2m✔ Download and installation successful\u001b[0m\n",
            "You can now load the package via spacy.load('en_core_web_lg')\n",
            "\u001b[38;5;3m⚠ Restart to reload dependencies\u001b[0m\n",
            "If you are in a Jupyter or Colab notebook, you may need to restart Python in\n",
            "order to load all the package's dependencies. You can do this by selecting the\n",
            "'Restart kernel' or 'Restart runtime' option.\n"
          ]
        }
      ]
    },
    {
      "cell_type": "markdown",
      "source": [
        "* Now let's write the function that can do preprocessing and vectorization both"
      ],
      "metadata": {
        "id": "B_iY4FQwayTn"
      }
    },
    {
      "cell_type": "code",
      "source": [
        "import spacy\n",
        "nlp = spacy.load(\"en_core_web_lg\") # if this fails then run \"python -m spacy download en_core_web_lg\" to download that model\n",
        "\n",
        "def preprocess_and_vectorize(text):\n",
        "    # remove stop words and lemmatize the text\n",
        "    doc = nlp(text)\n",
        "    filtered_tokens = []\n",
        "    for token in doc:\n",
        "        if token.is_stop or token.is_punct:\n",
        "            continue\n",
        "        filtered_tokens.append(token.lemma_)\n",
        "\n",
        "    return wv.get_mean_vector(filtered_tokens)\n",
        "    # the get_mean_vector is explained below"
      ],
      "metadata": {
        "id": "rSiwfJ5nGhui"
      },
      "execution_count": 42,
      "outputs": []
    },
    {
      "cell_type": "markdown",
      "source": [
        "We use *'return wv.get_mean_vector(filtered_tokens)'* here instead of *'return(filtered_tokens)'* because the *filtered_tokens* are list of words in a sentence. but we are interested in embedding of entire sentence. That's why."
      ],
      "metadata": {
        "id": "oSEjsPc2UvO9"
      }
    },
    {
      "cell_type": "code",
      "source": [
        "v = preprocess_and_vectorize(\"Don't worry if you don't understand ML and DL\")\n",
        "v.shape"
      ],
      "metadata": {
        "colab": {
          "base_uri": "https://localhost:8080/"
        },
        "id": "6_nTWumpGhrh",
        "outputId": "2b864d03-2fbf-42f9-97d8-967f8495df2e"
      },
      "execution_count": 45,
      "outputs": [
        {
          "output_type": "execute_result",
          "data": {
            "text/plain": [
              "(300,)"
            ]
          },
          "metadata": {},
          "execution_count": 45
        }
      ]
    },
    {
      "cell_type": "markdown",
      "source": [
        "## **2. Vectorization Process**"
      ],
      "metadata": {
        "id": "Idx0ehpNKC9a"
      }
    },
    {
      "cell_type": "markdown",
      "source": [
        "we saw how directly vectorization happen in one word when we use word2vec-google-news-300 Model in above example. but how about a sentence."
      ],
      "metadata": {
        "id": "qynovu50LmCS"
      }
    },
    {
      "cell_type": "markdown",
      "source": [
        "![Capture456.PNG](data:image/png;base64,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)"
      ],
      "metadata": {
        "id": "Ab1IxtCXLiX5"
      }
    },
    {
      "cell_type": "markdown",
      "source": [
        "so if we deep dive how embeddings happen in a sentence. the sentence is this \"Don't worry if you don't understand ML and DL\" , after remove stop words and lemmatize the text we get \"worry\" \"understand\" first we get 300 size vector for \"worry\" and then we get the same size vector for \"understand\". then we avrage those 2 words vectors. after averaging we get another vector size of 300 and it is the sentense embedding. this is the common method we use in NLP."
      ],
      "metadata": {
        "id": "8iadtrBaL4P7"
      }
    },
    {
      "cell_type": "markdown",
      "source": [
        "![Capture800.PNG](data:image/png;base64,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)"
      ],
      "metadata": {
        "id": "-bk3A13PMF3z"
      }
    },
    {
      "cell_type": "markdown",
      "source": [
        "by using the function, if we provide list of tokens it will provide avrage vector values of the both words."
      ],
      "metadata": {
        "id": "DKqQrxhDPAfr"
      }
    },
    {
      "cell_type": "code",
      "source": [
        "wv.get_mean_vector([\"worry\", \"understand\"])\n",
        "# it prints all 300 vector values."
      ],
      "metadata": {
        "colab": {
          "base_uri": "https://localhost:8080/"
        },
        "id": "ySk0sDBwO4uU",
        "outputId": "c7d173f1-1b48-44c2-9052-7c918a199e0e"
      },
      "execution_count": 56,
      "outputs": [
        {
          "output_type": "execute_result",
          "data": {
            "text/plain": [
              "array([ 0.00235079, -0.00284596, -0.03638233,  0.00413919, -0.10635224,\n",
              "        0.05758579,  0.13348952, -0.00689176,  0.05995331, -0.02875906,\n",
              "       -0.02279907, -0.06939262, -0.01549996,  0.03538099, -0.0873947 ,\n",
              "        0.10044542,  0.02490648,  0.11501945,  0.00442711, -0.07228819,\n",
              "       -0.04447255,  0.02785169,  0.03338735,  0.02222995,  0.07053161,\n",
              "        0.06723307,  0.03483712, -0.0873695 ,  0.04152397, -0.0969665 ,\n",
              "       -0.00914938,  0.00555944, -0.0277799 , -0.00701522,  0.05281431,\n",
              "       -0.01066206,  0.02466576,  0.02378148,  0.0279402 ,  0.05527755,\n",
              "        0.01359304, -0.01062085,  0.06734448, -0.03492254, -0.08421434,\n",
              "       -0.04324378, -0.03578918, -0.00817786, -0.02093195,  0.01856531,\n",
              "       -0.07064191,  0.05023994, -0.03036207, -0.0412168 , -0.00684169,\n",
              "        0.05189689, -0.04097777, -0.05789134,  0.044417  , -0.0470418 ,\n",
              "       -0.01475445,  0.01373999, -0.00459672,  0.00419459,  0.04307397,\n",
              "       -0.01500929, -0.08037488,  0.05358911, -0.0211829 , -0.00526253,\n",
              "        0.03918403,  0.04980108,  0.05149292, -0.02760597, -0.10414234,\n",
              "       -0.02358125,  0.01588048,  0.08794019,  0.02101067,  0.12986097,\n",
              "       -0.03165637,  0.04050155,  0.03682444,  0.040462  , -0.05560045,\n",
              "       -0.04289893, -0.0918161 ,  0.05959024,  0.00470191, -0.0232439 ,\n",
              "        0.00560733, -0.00577845, -0.06879626, -0.03633031, -0.02900399,\n",
              "       -0.04766011,  0.07934985,  0.00162647,  0.02277142,  0.02039685,\n",
              "       -0.04815039,  0.01239679, -0.00273225,  0.04066541,  0.01718738,\n",
              "        0.00625888, -0.01593183, -0.01934362,  0.05761226, -0.0331227 ,\n",
              "       -0.06559531, -0.05737359, -0.01415279,  0.00814293, -0.00914533,\n",
              "       -0.04018348,  0.06907931, -0.01761438, -0.04850446,  0.03578102,\n",
              "       -0.09473305,  0.0754801 , -0.0717351 ,  0.07410301, -0.01351144,\n",
              "       -0.06917487, -0.08305064,  0.02122197, -0.03204587, -0.03061295,\n",
              "        0.03981462, -0.09745683, -0.02837887,  0.01508353,  0.08710912,\n",
              "       -0.07773352,  0.02312475,  0.11828712,  0.02502898,  0.01062398,\n",
              "        0.02528481, -0.05621869, -0.01414752, -0.0054199 , -0.01355326,\n",
              "        0.00094675,  0.02235291, -0.01592062, -0.01313769, -0.08265737,\n",
              "       -0.01484838,  0.0081862 , -0.01607498,  0.00671422, -0.00992151,\n",
              "        0.01070912, -0.0982562 , -0.03244599, -0.10865653,  0.00107146,\n",
              "        0.06166647,  0.0420246 , -0.02478091, -0.06187486,  0.04542562,\n",
              "       -0.01792098,  0.02203037, -0.04716108,  0.05974475,  0.02451983,\n",
              "       -0.05880933,  0.00202552,  0.03811581, -0.00530442,  0.01021047,\n",
              "        0.00424089,  0.07840483,  0.00195731, -0.02595322, -0.01481547,\n",
              "       -0.00551981,  0.0238276 ,  0.12479315,  0.02065411, -0.0310494 ,\n",
              "       -0.00850888, -0.0311881 ,  0.00917857, -0.03004361,  0.0576644 ,\n",
              "       -0.04041921, -0.06032866,  0.04549592,  0.03322048, -0.01644383,\n",
              "       -0.00503511, -0.01896849,  0.01606871,  0.00400032, -0.06011828,\n",
              "        0.04199673,  0.00505777, -0.08229659, -0.01548028, -0.03333327,\n",
              "        0.00798658, -0.02941441, -0.02521159, -0.02466976, -0.03208973,\n",
              "       -0.0048754 ,  0.10096999, -0.00099747, -0.06560291, -0.09302893,\n",
              "       -0.02929383,  0.03191192, -0.06449024, -0.06151631, -0.03464489,\n",
              "       -0.00879403, -0.04896098, -0.05396915, -0.03790915, -0.00337401,\n",
              "       -0.11016175,  0.01955169,  0.00305599, -0.04357597, -0.0177894 ,\n",
              "       -0.00359144, -0.00470547,  0.05034078,  0.03830646,  0.03219876,\n",
              "        0.02305124,  0.00910473, -0.04350092, -0.02903038, -0.0315236 ,\n",
              "       -0.07043763,  0.03806581, -0.00331466,  0.0275654 , -0.10277379,\n",
              "        0.02215285,  0.02834682,  0.02572182, -0.01758924, -0.02523402,\n",
              "       -0.00754319,  0.0332179 ,  0.06108168,  0.0282419 , -0.02518045,\n",
              "       -0.0372708 , -0.02340444,  0.05284173, -0.02049535,  0.01781087,\n",
              "       -0.01642074, -0.00814359, -0.09242941,  0.02235497, -0.01418123,\n",
              "        0.04997897,  0.03673173, -0.03368299, -0.04099576, -0.01646286,\n",
              "       -0.00386522,  0.06183865,  0.10663132, -0.01943116, -0.03759148,\n",
              "       -0.07059436, -0.07094096, -0.08852433,  0.01143012, -0.06681544,\n",
              "        0.02912416, -0.04444458,  0.0345265 ,  0.00576102,  0.01349037,\n",
              "       -0.00558232, -0.04241272,  0.09029818,  0.05358769,  0.00822992,\n",
              "       -0.00130868,  0.01569558,  0.00255671, -0.00992117, -0.06574745,\n",
              "       -0.03867856, -0.03263403, -0.01895184,  0.07239452, -0.00496437],\n",
              "      dtype=float32)"
            ]
          },
          "metadata": {},
          "execution_count": 56
        }
      ]
    },
    {
      "cell_type": "markdown",
      "source": [
        "\n",
        "\n",
        "---\n",
        "\n"
      ],
      "metadata": {
        "id": "RMBYBS-vWT8s"
      }
    },
    {
      "cell_type": "markdown",
      "source": [
        "### **Prooving above mentioned part of vectorization**"
      ],
      "metadata": {
        "id": "9VEXCXhmPr4s"
      }
    },
    {
      "cell_type": "code",
      "source": [
        "v1 = wv[\"worry\"]\n",
        "v2 = wv[\"understand\"]\n",
        "\n",
        "import numpy as np\n",
        "np.mean([v1,v2],axis=0)\n",
        "#print the mean vector values of these 2 words. all 300 values."
      ],
      "metadata": {
        "colab": {
          "base_uri": "https://localhost:8080/"
        },
        "id": "NoY7sKWnPKib",
        "outputId": "4a9abf3e-eba3-4cf2-c5e2-08fac3b80e3d"
      },
      "execution_count": 57,
      "outputs": [
        {
          "output_type": "execute_result",
          "data": {
            "text/plain": [
              "array([ 0.00976562, -0.00561523, -0.08905029,  0.01330566, -0.2709961 ,\n",
              "        0.14746094,  0.3408203 , -0.01840591,  0.15161133, -0.06945801,\n",
              "       -0.05749512, -0.17822266, -0.03805542,  0.08730698, -0.22216797,\n",
              "        0.2578125 ,  0.06481934,  0.29589844,  0.00537109, -0.1875    ,\n",
              "       -0.1159668 ,  0.0715332 ,  0.08691406,  0.05912399,  0.18359375,\n",
              "        0.17687988,  0.09130859, -0.22705078,  0.10522461, -0.2475586 ,\n",
              "       -0.02436638,  0.01245117, -0.06616211, -0.02587891,  0.13476562,\n",
              "       -0.02604675,  0.06582642,  0.0612793 ,  0.07128906,  0.13867188,\n",
              "        0.03234863, -0.03295898,  0.17736816, -0.08789062, -0.21777344,\n",
              "       -0.11010742, -0.08728027, -0.01922607, -0.04943848,  0.05273438,\n",
              "       -0.18066406,  0.13122559, -0.07498932, -0.10064697, -0.01171875,\n",
              "        0.12963867, -0.10766602, -0.14624023,  0.11303711, -0.12280273,\n",
              "       -0.03540039,  0.03601074, -0.01379395,  0.01042175,  0.1105957 ,\n",
              "       -0.03820801, -0.20751953,  0.1352539 , -0.0625    , -0.01171875,\n",
              "        0.1003418 ,  0.13110352,  0.13232422, -0.06982422, -0.27319336,\n",
              "       -0.0579071 ,  0.03814697,  0.22070312,  0.05551147,  0.3330078 ,\n",
              "       -0.08251953,  0.10192871,  0.09521484,  0.10546875, -0.14331055,\n",
              "       -0.11083984, -0.23535156,  0.15014648,  0.01416016, -0.06171417,\n",
              "        0.01721191, -0.01123047, -0.17529297, -0.09301758, -0.07348633,\n",
              "       -0.12036133,  0.20410156,  0.00927734,  0.05957031,  0.05273438,\n",
              "       -0.11874962,  0.03303528, -0.01074219,  0.10217285,  0.04748535,\n",
              "        0.01245117, -0.04003906, -0.05134583,  0.14331055, -0.08398438,\n",
              "       -0.16455078, -0.14428711, -0.03356934,  0.02108765, -0.03173828,\n",
              "       -0.10424805,  0.17773438, -0.04595947, -0.12882996,  0.09228516,\n",
              "       -0.23754883,  0.19580078, -0.18457031,  0.19311523, -0.03485107,\n",
              "       -0.18017578, -0.20922852,  0.0559082 , -0.08605957, -0.07958984,\n",
              "        0.10083008, -0.2475586 , -0.06921387,  0.04638672,  0.21826172,\n",
              "       -0.2006836 ,  0.05957031,  0.30908203,  0.06060791,  0.02990723,\n",
              "        0.06884766, -0.15020752, -0.03399658, -0.01098633, -0.02880859,\n",
              "       -0.00292969,  0.05871582, -0.03564453, -0.03381348, -0.21948242,\n",
              "       -0.03915405,  0.02191925, -0.04150391,  0.01670837, -0.02694702,\n",
              "        0.02563477, -0.25390625, -0.08740234, -0.28027344,  0.00283432,\n",
              "        0.15820312,  0.10839844, -0.06127167, -0.15917969,  0.11981201,\n",
              "       -0.04638672,  0.05358887, -0.11646271,  0.15332031,  0.05737305,\n",
              "       -0.15307617,  0.00097656,  0.09558105, -0.01266479,  0.0222168 ,\n",
              "        0.00610352,  0.19970703,  0.00427246, -0.06845093, -0.0345459 ,\n",
              "       -0.01733398,  0.05737305,  0.32128906,  0.0550766 , -0.08178711,\n",
              "       -0.01953125, -0.08068848,  0.02464294, -0.07421875,  0.1484375 ,\n",
              "       -0.09741211, -0.15600586,  0.11425781,  0.09326172, -0.04492188,\n",
              "       -0.01086426, -0.05081177,  0.04760742,  0.01708984, -0.15527344,\n",
              "        0.11138916,  0.015625  , -0.21240234, -0.04370117, -0.08135986,\n",
              "        0.02258301, -0.07800293, -0.06542969, -0.06544495, -0.08154297,\n",
              "       -0.0123291 ,  0.2553711 , -0.00415039, -0.16894531, -0.23339844,\n",
              "       -0.07781219,  0.07324219, -0.16210938, -0.15893555, -0.08300781,\n",
              "       -0.02526855, -0.1262207 , -0.1381836 , -0.09838867, -0.01074219,\n",
              "       -0.27783203,  0.04492188,  0.00748825, -0.10726929, -0.04882812,\n",
              "       -0.01416016, -0.00927734,  0.12768555,  0.09741211,  0.07788086,\n",
              "        0.06163025,  0.02268982, -0.1184082 , -0.08178711, -0.08288574,\n",
              "       -0.17651367,  0.09863281, -0.00561523,  0.06860352, -0.25878906,\n",
              "        0.05804443,  0.0736084 ,  0.06164551, -0.04150391, -0.06311035,\n",
              "       -0.02124023,  0.08201218,  0.15917969,  0.07409668, -0.07104492,\n",
              "       -0.09619141, -0.05764771,  0.13671875, -0.04992676,  0.05151367,\n",
              "       -0.04199219, -0.01123047, -0.2397461 ,  0.05712891, -0.0402832 ,\n",
              "        0.12695312,  0.08886719, -0.08691406, -0.1027832 , -0.04324341,\n",
              "       -0.00708008,  0.16186523,  0.27392578, -0.05444336, -0.09399414,\n",
              "       -0.18652344, -0.1784668 , -0.23046875,  0.03808594, -0.17236328,\n",
              "        0.07556152, -0.11230469,  0.08959961,  0.01782227,  0.03378296,\n",
              "       -0.0137639 , -0.10766602,  0.23046875,  0.13720703,  0.0201416 ,\n",
              "       -0.00134277,  0.03894043,  0.00704956, -0.02587891, -0.16226959,\n",
              "       -0.10131836, -0.08911133, -0.05664062,  0.1850586 , -0.01269531],\n",
              "      dtype=float32)"
            ]
          },
          "metadata": {},
          "execution_count": 57
        }
      ]
    },
    {
      "cell_type": "code",
      "source": [
        "v1 = wv[\"worry\"]\n",
        "v2 = wv[\"understand\"]\n",
        "\n",
        "import numpy as np\n",
        "np.mean([v1,v2],axis=0).shape\n",
        "# this prints the vector size.look at the vector size here it's 300."
      ],
      "metadata": {
        "colab": {
          "base_uri": "https://localhost:8080/"
        },
        "id": "HfFvLiT1Pxrs",
        "outputId": "f5e21192-80dd-45d8-9bf2-bb6ca04abf9e"
      },
      "execution_count": 58,
      "outputs": [
        {
          "output_type": "execute_result",
          "data": {
            "text/plain": [
              "(300,)"
            ]
          },
          "metadata": {},
          "execution_count": 58
        }
      ]
    },
    {
      "cell_type": "code",
      "source": [
        "v1 = wv[\"worry\"]\n",
        "v2 = wv[\"understand\"]\n",
        "\n",
        "import numpy as np\n",
        "np.mean([v1,v2],axis=0)[:3]\n",
        "#lets print 1st 3 numbers"
      ],
      "metadata": {
        "colab": {
          "base_uri": "https://localhost:8080/"
        },
        "id": "LZrQIkoEQ0DU",
        "outputId": "378445ef-3352-4800-c7fc-7c2d0a8c10bb"
      },
      "execution_count": 59,
      "outputs": [
        {
          "output_type": "execute_result",
          "data": {
            "text/plain": [
              "array([ 0.00976562, -0.00561523, -0.08905029], dtype=float32)"
            ]
          },
          "metadata": {},
          "execution_count": 59
        }
      ]
    },
    {
      "cell_type": "code",
      "source": [
        "wv.get_mean_vector([\"worry\", \"understand\"])[:3]"
      ],
      "metadata": {
        "colab": {
          "base_uri": "https://localhost:8080/"
        },
        "id": "EwRbcjgmRRGU",
        "outputId": "d632d738-5e72-4fe2-c68a-cf6983c80859"
      },
      "execution_count": 54,
      "outputs": [
        {
          "output_type": "execute_result",
          "data": {
            "text/plain": [
              "array([ 0.00235079, -0.00284596, -0.03638233], dtype=float32)"
            ]
          },
          "metadata": {},
          "execution_count": 54
        }
      ]
    },
    {
      "cell_type": "markdown",
      "source": [
        "* it's not giving the same result. here you can see some diff. in vector values given by the function (of 'word2vec-google-news-300' model) . lets break down it. doc: https://radimrehurek.com/gensim/models/keyedvectors.html\n",
        "\n",
        "* the pre_normalization is by default = true we need to set it to false."
      ],
      "metadata": {
        "id": "SDd3f6xtRw0E"
      }
    },
    {
      "cell_type": "code",
      "source": [
        "wv.get_mean_vector([\"worry\", \"understand\"],pre_normalize=False)[:3]\n",
        "# there we go the mean/average vector values are same"
      ],
      "metadata": {
        "colab": {
          "base_uri": "https://localhost:8080/"
        },
        "id": "60RhBa0pTisV",
        "outputId": "3bcfcb26-54be-4e72-cbe7-a283d7ac2b95"
      },
      "execution_count": 61,
      "outputs": [
        {
          "output_type": "execute_result",
          "data": {
            "text/plain": [
              "array([ 0.00976562, -0.00561523, -0.08905029], dtype=float32)"
            ]
          },
          "metadata": {},
          "execution_count": 61
        }
      ]
    },
    {
      "cell_type": "markdown",
      "source": [
        "![Captur4025e.PNG](data:image/png;base64,iVBORw0KGgoAAAANSUhEUgAAArkAAAJMCAYAAAD+Ab4eAAAAAXNSR0IArs4c6QAAAARnQU1BAACxjwv8YQUAAAAJcEhZcwAADsMAAA7DAcdvqGQAAP+lSURBVHhe7P27qxtZFvcPv3+akgoGPYmCQThQMyAYLGZ6BD16OjidKGkFRtAgJ0o6UtAIDKIDJa6gOWAoDI8cKPhZgdFgEA7USUWKGta71tqX2nvXLqmkc/E58go+2Ke0a1/Wvn33tf5/f/31FwiCIAiCIAjCNSEiVxAEQRAEQbg6ROQKgiAIgiAIV4eIXEEQBEEQBOHqEJErCIIgCIIgXB0icgVBEARBEISrQ0SuIAiCIAiCcHWIyBUEQRAEQRCujrNF7v/7f//Pkue5IAiCIAiCIDwoMU16ChG5giAIgiAIwpMmpklPISJXEARBEARBeNLENOkpROQKgiAIgiAIT5qYJj2FiFxBEARBEAThSRPTpKcQkSsIgiAIgiA8aWKa9BQicgVBEARBEIQnTUyTnkJEriAIgiAIgvCkiWnSU4jIFR6cL+9/h9evX8Nv7z5HfxcEQRAEQThGTJOeQkSu8LB8+h1+fPF3+PuPb+CTff4nfHr/Dt69+wCf/nTcXjOf15jeNXyO/Rbhy8f36P4drD/HfxeE++EzrLGcvXv3Eb7Q318+wvt37+Hjl9CdINwnz7zccXuO8f/4Jf678CDENOkpnrjI/RO+fPkCX74VIfS1+RNtjfb+M/bbRXyC339Egfv37+G3j+7zd/DL3/H5d1P44Lm/Vj5rO/wdfvy93mz2u1/I/Xcw/RD/3fAn1Y8vf0Z/u5TPv//Icf3792/go/fbR/jtJcXrFfwhdfI6+PQGfqC8Hr5lsfH+9QvO+xev38fd3yt/wh+vVL2IM4S334TY/gb7ua9a7pDPv8OPXlkznG5ziU9vfmD3w7cich+TmCY9xdMWue9fc0H68fdP8d+Fe+X9a6rkP8Lvn+K/n82HKXyH+ffi1R++cA4aOO+dK+XT21fwww+v4G0t236CNz9QXpwSk3qw8OPvtWeI62A6nL///QW8+sMR0H/+Aa/o+Q/urLzwrHn3C+f1d9MP/PeXD7/CTy9/gl8/PEbnbVZ0iN/gJypbL4bwG/9N1F/5eNboPKg7AL4Kvmq5Q1BbvMDwXwx/02XN8L7W6mLdSQjhfolp0lM8rMj9vIb3XHA+wEeecQpnnbCR+6AK1/t1UMH//ALrN2pG6Yff1pfNMPLMpArv81ot/374ZML/DGtuYN9XLAmb3913fP789IF/jy278wwbPzNprArnBHp2NRzlqxk81yZHbGkp0hS6+fPLGt7wbOMP8Nu6sJvFyctSI+DYmd29/8TxUmLpBbx+H7jXDdzL3z7qZ3omA/nshvvnR/jAYQa2q7BJ+Xl1eqspz6oYW5efuTb605axdx9U+ovftPvPQRk2Nn2/hk9eGFq8vvwNPlaVH0rru9c8iPju9bty/I6UzeOY2XcNCmgraD/+Bi/p2S/v/HdOlg2dbl6SVOmNiZc/j/lzhCIvijrwIRxMuPH48xOWKz+MS8MucMvNF/h4rG2pay83ns5zs5Wldlv2Z3VbZmakzGBG2fKzTkdRLz2CON/ddoiZWQsHbDXsEXXrcFn83Pws7Fu1nG7rW1XZrqiPZO93r7/DPPgOXr+Lx/8obppP1C8pdwWf9GrVsYFFtf/xSYiTbW5VfybUJqZJT/FgIvcLjpRe0l5MarhcTCP26S38/NLMGCle/DCFD7oRUbOKPiWxdALlx/fw009dx58X8ONvv8PrbuHv3//eRb+LESSNKn8I4t79+a0ze/UJ3v7s+om8eOn48R5e07OfpjD90U2jH04taE8rvesuHdOMGsXPLPefsCXxZf0GfgrS9OIn9JMro46vx2t4z+/SYOMnHvXa3yit2CAbv5Wdh/Dm7Wvo0u8sjKpnIz/+9pL9UQ3cZ/jjFdnyBfyAo3o1s/sFPvz6gx8m/v7TUs3o//nHK/XME1sfYEp5+mIIb7EB+fJhWs7D1+9Pzxwbe5tlM2NrfGZXFD6+ge/xbztDHbP/yym8N+kudeCx9ClY+Bsx+dMreOX5a7Z9xJd5f3lHv8XKpjM7/+cH+P31az4I6LOEtVsWXryCX15R2MVsxZe3Q/bvhzdmZeULvA/T4dWDIq9/xjDc9uCFK545zi9L/kzf+x1jFDO7/BJt5dU1LC92BcjY6wd4/dsvKh52q8wdwnYxefYz2tLNM9f2J+1VFU/z/CX8+JMb1xfw6s3v8LPblr34Ad44W4M+vf251A4X9aDwV5UrzHty+0LXfT0YDSmEwSnbfYI/fg3LGfErvAsHIXrVzl+urrLHF3g7pOf+qpNqh9zZtTvkrVsHPfv65Zu28CxLYfzkxOtIfTRl1+MXeGf9Pk29+vWNlbuTbVysrLhE/Hf7btvm0CSEcX+kzY2290V/JtQnpklP8UAiV+/d+x47+s9/4ghnCUMqxHbZ2swWdeHV2484SsOR428/ciH4DisCufm8fgfLX1QFfvnLkkdI545+jFB+8eOv8P7jF/j49pUSYRTO8A2OLjHcN0OeDbMzVn9ihfsO/8ZC+tuHTxi3j/CWRVghckxn3331lmeoP72fsugpOk4jGlG4vX6Hbor02XBq8xmWP5Ff39tGhEQe24qXek7b0qaJ3CzX8OnTGpY6Td1f1xzG+t0SfuH9li/hlyWNNtVswJ/Y+bB9uq9guf4EH9//qg6SaTFJ8TF2pvR+P/wFXr+hxkzbwDRcFqeBQ/9U40CCxMzqqlE2xd/YlwS6ClP7ZYSobWRoZkCPzFmAGZuYzmYNb7CRfvnyF/jj1B4/04DprRSflz+xv4zugD9MaeZF58cXTCeLa1NePsG71355sUtjpgPnbRw42HrzkfPno467GcRZEY8dx+u3lF8f4Dct4JSff2KZ+wN+5XLxHXY4anaAZw90WC91h/LlD+y0XmIn9Yby2YSt0+NibGlsS+nXYv7vPy25LKh0GzFNf6t0vviJ6tcnWC91/bL1wOQ1uvnhNR/S+PThN5WXVqBgB8z2osHnB57R/vTOHSypsCoxYoTq2vQtrD99xA5d1zVb9sxeYnr2Hfz4Cju83z+g7e8YtoOXZ3SYppRndexVFc/iefcVdtTUbmEa2R3F/VeaYaR2SuWPWQKmvCb/X/z4G7Z1WI8+6nbY7nUN9lgHg7E/P+mVCeSP318pO3d/1ltuatjuy1sY0t8lygNfM7Pm73GssgfWObc9YEydN2m7W94W+fkSfsb27KPTZhbvf0axTXn8gvsor+yZrVjH6uOfn+D9H7+qbRrfvYI3ZGu9ChaLU5k69esbLHen2jhbVl7Ad5gXlB/E9+hfYa/C/4/LoZ+nps0xeuZEm3uyPxNqE9Okp3ggkasFjp1p07N6phCaQv3DFN7qwlzsySoyvlhS0GLhTJT4emHFg40Hjljf6AagEKQ6XF1gv/v5ja1o75ZYaMmNroRqCeczfP5M/xLYoX3v+BEVeEE4Z2BE9fcoilTDRg2rHgXXsWUosgi7tGUaVVPxY7Mjrg2L2QMzsjYi9ydv6Uen1xGiCtPAvYQffqB0oPD+w3nPzJx+N4Tf/jDpMQLcxM34gX+T0P6MnSm98325Efvh599gSct3QadaDcab/OKy+gGmODj4brpUWzmoPOv4vcAGj8rCxzffYziYN6/f6rgiv2lhrO0dduDq78LOX97+jH+bWY3Cvj8tC7uU60LFTLnO6793f4Lp72/hw8czZyS9vXJfdFmjGQ/q0Ck8HW8zGPgOy5gN38QpzKefYGkHqEE5M0L6+9fl8lujrhgxYjtYxikfbly92RXkjmG7nMyzOvaqiqd914gSZP2r6tj1AISfvVO2sNuAqJ36/Ak+2XZqDb+5Zcb4a+oolp2yLZGPv/Mq0IuXKKTMIPEebUeoNiSYWauyR2llhHC3+ODfd4xfLD9tfMz7RuyYfo3R8TBuTtVHcz4hPLdQixr1y5YdKXcF5uDzj/CLM9P7Rs/U0taJzyjoP3PckfVvXh6ZNsem91geU1qpPznanwl1iWnSUzyQyP3TjrZ+wFHhL0Oa+seRkemgTaF40bWjqIJfbYW6H5HrFqSYkPPFpzlZ/uK7MF7Iz7piR5anFaaSaT+9xu9ykWsrCm1ZcP9Pv9WwpUnTcTvGbGNuBfAro6nkxj9lZ3fgQCiBWEqvaeB+GMJQz4B6Ff1oeqbWL3M46pd3X+DdLzSTQMtJTuPy+R38OvweviNbsX8v4ee3dcqRtgPm3UdM5wuesdUzJvjsA8/sms7Y2OeFNyNgGOrlqLADJ1FLaXzxwyt4/cuQl/Ve/KxEczE749vTdLpmFrXUqVu+wBoHZT91i/L54off4IPu4GiFRDW0Pu/1nrnSqWEzKzP8Wc/G6Pw0+eRtGTGdrp6xsXntHlTzy8XR+jZcOu/FMXbxtzI5nTh1/uHMi+auYRfE88zMfHPc6tirIp72uftuaV97kXdmn+PnP36B7035d7FC0Pc3HIwRZtsPzcqtjdBA6tjOnZHzKO2PN/llZvo0VfbQtvQG7YFYvFvemvwM2iZT5/TkgQmj2L6DmDJvheHx+hjLx9rUqF/fYrk71cYdH1h8hj9++V7ZLMCkudwWH8njmv2ZUI+YJj3Fg+3JpSXYFy++05n5E/yyXKupfsKMxN3RIDYsatRXCJWvIXJNofRHle4hhEJg/Wwq5edlMJK8Z5HLjS6F+T38+qvaqmBtUseWZvnGdfPpD/iVRrC8tYCexWxTdNTujIZ5Zhqlsp0J01EUM5SMiQs2cLRvWy0zOY10rFHWhx/cQ2lmdvvljz+yH9+Rf/o308iZ7S3U6HKYXn5Uo07O/gg/oj1o3y35y2nEkf+PNGNv7WhEri9u/EMUxq5FB0771bpVdcN2Uu7ePLMH0Qkn1jHR8ic16GZ2/s+P+jChEYHFVWYhpoNSaXfzzCzJarfGhiaf3DKlBbF95uS18gsxS9jan7hQKOd3HFPGghk3tI2a7VEDwfJeYsXdwnY5lme6XtSwV1U8Y89NR2vyjfDyztj5O4yTLnd2643Oj9Df0mDsndrn6Z9H0H7VsF1xS4dPWdDFB2zn5NvH39SKivH7bnlrRKA/s/yFB72qTXCFtNtXfMY4kxt+drI+xvOxNjXq17dX7k63cccGFiZuRX9itgsaURu0xafyuGZ/JtQjpklP8SAi98sfaqbqux9ewW+8v5NuV3Az1CyDvoAffvkd3r5bwpSXrp3ZXsIUkBc/wCsUZG9dsVSDi0QuNXC89aALP/26hHdv3+hZ22Km0DTe3Ve/Y9rewq/2wMtDiVxE2+LFCwrLXZ6qY0tKt3r2cvgr/P77FEedFJcXKFQLcWDSxTOMr9+qDsd8zOHFSxj+gqL4ld5A38V0WNFPfoUit2jc1DYL9cxv4MwsLLoxDY6Zqea9cG/h3VIfIAtnfM1onHjxyttra7YQqPx5B8vXKs42Hl/+gF9QYH4/1XuWA4yIdxteM+CiZ+6MsQmLDvotsSy80QcW6JCF8tssjamZHTOL+/fvh6pu0M0KZlaHMJ3EsdkZwnRwOl94qc3a7kf49S36TWWXZ8uLLQ1KgJdRcTUzasEWCBMWYWfPTJxoSwiWCz0j7R5ACTszxpRj449ZfsT3pmiPt2/0gRWnfKk9bt9HDgyZOND7unyaeDj1NdxLbKkRdi2ieYb1ne1h8uy0variWX4emzk2wkznndlbrcuCTRs+M/nh++vPptJefBZC3/3Ah5rMku6v73Re1rBdVVkLT8lXzaxV2cPul+3+BL8u38Lvv/wA33G76AiZGvFb//YDlqshLIN2y+anfp/6Htvuue2QndzAvsJtG017VKM+mjS+wHj88voNvHfasVPUql9S7iymbIUzzy6mnadzPG+d9rxIs7GnHtCeyuM6/dmJ/kgoiGnSUzzQTC4WBM7o76D7nWp8WGBhxStmrD7C8pWzLEAb3n81p+sNn+H99Ee75OwvSZ7mMpGLfHmPwvU7J27fwyt3qdvbroDpwhHn7ywQjR8PIHLdDt1sgLfUsCVdETZ004SV7nd3BhH5/B6mNt1FPOm2iR9tPipB986K7GqRayu4sx/MNHA2L7GCsxuapV6rZ+HtFhxe6DfPMJJfwcCICNNKDfz0XTGTwSN5f5bGxQpaJ/9Mh1L+QEJwEje0a9iB0yFMzEdebnPqxs9msFFndobBcG2ev7D2DJcKX7z8GX5fF8uAR6H8ovdKWyCK2Qz3yh06QDF0y8X3r7ywYp2nmYlx/fFPYlN9+t1bouSZIndfoMHaBQdur4s8ePEddjj25HhkFtzhVNi1iOVZZN/ocXtVxTP23AgLZ+bY5J0V2p8wz9ywpvDmV9W5q/wIZpqD2VQzYxfiCoN7sR0RnVk7lm9Yv3kgb8JF8cCHN/1Vo+Px0+LKneE02Px8A797NnwFy2Cixa9vL+C7H/228WR9xL7k1fc6DO8Mx2nq1i8pdy4VK4wGbJ+LW4heoPB8A7+yCNdpjrTFp/L4ZH92oj8SCmKa9BQPM5PLgsDNNDNjFxFCWOjcUdZp6CYAmh2uot5lzrXgZYXyaM/AI8aLw3qIdNSwpV4quWTEeEl6STCS+OiGhwpqcDQ8M2PgfS44oCKt3JCWhNwdqWXXNfxKgz83ziiGeDbIzrzcD3crm+dxP2H5W4IKVMcaW1q0YsTY7kR9raYi7M/6051VnHUSvuAx8+Zym9SlKt8ennp2rIifFmex2TwzoDWD59PhnLbBWXku5a4GD1vuLrHVqXeqfn+Q/uhKiWnSUzyIyLWjyV/VFRx0nc6vPIMaHCy4CDMjWkVMSD9FriUdp/gMb3+mkf0FdwRXYvaJdi8Y/X6BP3556V1Z9miYWYDuaxzJY72g6970FXbulg7BgZfyfoLfI7MuoRi5b0w7VklpRUV4NtA1TnRqPyI6SqtNj4yUu2+Jr9gfPUNimvQUD7Nd4QuKWrucZHAvZ78LjziT+6BcSzoeH3MApNj3+lygOx6drQ26Xrz85Y/ykqlwkocWI18+xuqlQ+2v6AnPh3A5/fGRcicIcWKa9BQPtCdX8eeXT+qzfh8+Pt4yiXD18LIP8rwErsOfUi/uhVpbRAThPFT78pBL7YIgXEJMk57iQUWuIAiCIAiCINyVmCY9hYhcQRAEQRAE4UkT06SnEJErPHk+v/uN70r8/d4OrgmCIAiC8JyIadJTPKDI/QIf37+D9x9FmDBfPsL7d+/h451vlyC+Ndt+0l+R+TFyZ6YgCIIgCNdOTJOe4uFErv7yyrkXXF8r9mti93Ef6tewrfmMbAX+Z5AfAPOpVu+DCIIgCIIgfAvENOkpHk7k0jViP72En0pfMfs2oa+e/PTyJ/j1wz3Mvn4N2zoXlC9/UV+l+f710j57/+mhTyPTl2pooCBfhhEEQRCEb42YJj3Fw4lcfb3PZ+8qlj/h0wclij58VL/bK4Dc64B4aR/dvV9H7w/989MHJa5iv7v+/PkJPrz74Nw3+yd8Xr9X73647Ksxnv86Hu/tvYVO+gLRp66l+exdGWXT4cWxwMY1TGdo20ic4uk7Yv8zULPSxadkFf4XaDjuvJ1CPw+u5Ilf0/MnfNTxK2zqoGewH3zWWBAEQRCEJ0VMk57iwURuSQh9egs/vww/EEG8gj9QGJlvVv/8+rXzXeq/wwtvefojLH8OLtN/8ZNzabf5LvUP8Pq3X5Q/5pv3kfBfvJzC+4i4PIaJ548//eTE4wX88OvvMPU+gPECXv1hZm3fw2uKi91e8Ane/tx13NJvzuXjXz4EfiFdfFfv5/VtW6T5l9dunIKPJZyw/58ffufDXSWW60AEf4Lf9f7Y351vtNvtDD//Cm/0t8uHbzH94adXCfNJXufLPeH3vYkXPy39rQml76QLgiAIgvAtENOkp3ggkfs5EEKfYfkT/k2fM6W/v7yDX77Dv62ANUINhc0P6ObjF/j04Tf4kUWPEX/mU670haglrD99hPe//qhEnRVL6jv3LJJefAc/vkKR9vsH+PMLiswuPfsRfvvwCehzqu9eK5F53idBnXj++Csf/Pr49pUScUj3FcXrE3zAeHEcTLw+a1GH6eUZWT0j+RKFH/3+5Q8U5C9fwo9v1hzOJ/1ZR/OFuPWbn/j3X1g0h7Yt0tz9+Xf48EnFqUvh/d2I6lP2L74eFfLyt/Bzg/pzxGbwoPnzj1f2nRffD1Fw/wp/YL7ZTzz/7szMYvrpmZ2RJdFLed19BW95hnkNb350hbzBfApZ9nkLgiAIwrdETJOe4oFEbiiE9N92Nm8Nv5Iwe/WHniU0Qu0nWNrZQWfGkESumSn0ZnZRrLmix8z0ubOiyMc336Mb2kP6Vi3lE7/9xM+8GcaTROL55S38TP64ou/jG3VIyqQvFHXm4Fj3J5j+/hY+fPSX7Y3IffHDz/Db8j2sP7u/B7Y1afZEZygGT9n/DCKzsISZ4abZY/d5bGvDpzc/sNtXf1C6ir22w9/+sPlj9v36g5AwXYIgCIIgfAvENOkpHkbkloQQiiqeSX0Jw19ewytaisf//2oOEEWXoT/AlGYbtaAxM4I/vHFETyjwjBD2xJuZ+XwB3718yTOiLsPlGTO5sXh+egM/hGG++4XjamZBjWjl5Xt28wXWy1/gpy6JO4obCdrf4IPdOvEZ3v06hO+/M7+/gJc/v1VhhrY1af7lnX4XQeE9pGd2QHDC/hje2oh/j/flvcI6bf6+WDPD/RJ+++i4Lc06K9794rpF4coz9i+gG8mfaWwm1xP0giAIgiBcOzFNeoqHEbnhzKXeY/qiq4TLD8Nf4Z0z02r3bR4RakbkuuLq89shz4iaZ1/wb3LjCWErtH7w7liNHQQ7SSSeZpneXdb3ZyppNpPC17cC/PlJH6rTB8P+/KjvgP27mu00txiYg1ef/1BbC8yMdmDbaJrDfbCn7G+2U5RQ+3WtOyRMm8IMSH6Bd47bQsA6z7/gQIGfGb8jblA082G1z8GhuOggRhAEQRCEayemSU/xICLXCCE1c6lnEVHk/fj6d3iLAo5O9rsiJSrU9JK+vVf28xJ+IoHz9y789MtreP3qB7Xk/wLFkj6QZfaV/vJO+6Ex2xVe/DCF5bu38EYfXvMOZtUgFk+zTF+EGc5qfoI3P9DfQ3hL8aTZYBJ1L36EX9+imH37Bn7mWVYt+sxWh+4r+J3E7vK1OpD1/Rv4iP77to2n2d8He9r+VlSW8LdREP4srMYMSEoHwsz2jhfwwy8Y9vJXGH6PYpvcvvyN01NsV6DZ6jcYv6U+dPeitF/a5GMxIy4IgiAIwrdATJOe4kFEri+EvqAQI3FCy9FdJXCQFy9/tUvOp4WafvbHL/A9z/op4fTdj1N1kIp//wJvh/Tcn7FV0G0Gzq0ML17Cz7+vvb2jdSjH0whaN0wj7MzMpN43bEVdmA6yxc/w+9rZyvBmCN+5v6M4N+kMbRtLs78P9rT962MEezDDG5uJ11Ba7W0ZL36AXz+8VVsO3NlYuveXhW3hbvrOF7j5n+/hNc0Wm8GA+5sgCIIgCFdNTJOe4oEOnhV8efszCqvvUBgWs2/vX5NY9A+H1ce/j/Us3PtkXZwPHUQxWwvuGd4yUZmOO6TT4f7tfwmUlvKscAnOn7i7D1O6DaM8uysIgiAIwvUT06SneHCRq2Y/UZy8WSvR9vEdvP7+ac3ImVnjSoKbBJ4Tz8H+p/jy/jVfiVa6N1cQBEEQhG+CmCY9xYOLXLoN4Cdn6Z158RO8scvzXx8SftEZXEPs61vPhWdgf0EQBEEQhGPENOkpHl7kMn+ikKTPzb6H9afzPyMr3BWxvyAIgiAIz5eYJj3FI4lcQRAEQRAEQbiMmCY9hYhcQRAEQRAE4UkT06SnEJErCIIgCIIgPGlimvQUInIFQRAEQRCEJ01Mk55CRK4gCIIgCILwpIlp0lOIyBUEQRAEQRCeNDFNeoqzRa4gCIIgCIIgPHVE5AqCIAiCIAhXh4hcQRAEQRAE4eoQkSsIgiAIgiBcHSJyBUEQBEEQhKtDRK4gCIIgCIJwdYjIFQRBEARBEK4OEbmCIAiCIAjC1SEiVxAEQRAEQbg6ROQKgiAIgiAIV4eIXEEQBEEQBOHqePIi97DfwCrLIMtWsNkdom4ehW0K43EK29hvwpWwg3W6gOmzyuccNsspzLJ95LfHJV/NYTxfQc5/P4V45bBdLWE2nsMqj/0exlkQBEG4Jp6uyN0uYdhJoNFoQNJqQ7vdhIT+376BxSaPv/OQrMYYlzGsYr8JV8AW5h0qXwMYPSuRu4Jx0oBGbwH76O+Px27R43js+O+vHa8D3A6x/Ui6MDwicv04C4IgCNfE0xS5uwX0kgTaoxR2B+f5YQfpsIUdVw8WO+d5HfIUBo16760nTWiMV/5zEblfjTwdPLwQ2WOZa7Rhto389tQ55HCIPX9kSoLxzHjdbz4rkT28Pb76IyJXEAThenmCIncP6SCBZHhbsYS4hkmzAUkoQgnsVPOciHRsJJxritzVuHFC5B6qwzGYuLgivQaHiL/q2THBYOJzVzd1wjqfWn4eybuTQuRYvnuQDSrcnCgfJg0n85PiUsdNHb8caod/DjXjUbdM1BOM1XXnfMF5rB6iyG00YLwKn/vUDvOCPPM5FldBEAThIXh6IpfFRhMm68hvlewhm3TVdoZWS/3bnUC2V7+zaMVnLr3FLvAD4bBDt1rYssgdwfJ2BO0kgWaTtlIk0L5J/Q4y38Dipo1xQDct2mJBbhawqVgupX2gi14DRvMUbtoo7tFvE/91voOU/Eqa0KSl36SNnba/VWOfTaDLv7Wgxf92YRLsg9ylNxhn9LPZtm6ma+OPCn+crmHapeVdFb7vJmQLs07EhodbGOL7RljkmwWnqYHxb5G9MP43i00weNFppDQ39ZaU7lQvLyuh4ueHK0S3sKx8V8EiZpxZG0QFDeetH44VR9ulSgPlp87z7tTdw6ntlxXpiJYtItc2Rj9avP0mUn5CzDtoQ7Nlx8RRhaPCN4Oy7awTSaNaurcDw5Nl9JIyEQpGP178uymHrTaX56SNdatWPofksJrq+m7yvX0DSzMLH6nHVXkSitzdoo/1rQdz49dRW6l60JlvrX+G7Rzzob/krRrV6RYEQRAekqcncrWYzGK/VbCeoLBFUVh0HDlk4xY0OrNib+W9zORiZ9+fF35u59DDTmuQmo5fzUK3bpbOns4tzHv4XuXMtBYD2LHOzF7jPINxCztDFBctFGjmve0cO+RkCLdmNmk9QdGKotYRvnk2hlajUyy7Yxw7jRaKMOMmR3thB9xEEc1/q/CbzZ7jj7Zfawob/rsMd+IdxxbI4XaIokP7u09hgML7ZukIALZXAsNbJ5wRCgcv7/SWFE94xGbbciXcvHdJ9Pr5zu9imJ2bOay2R2bSYuUjV6K9O3FELYlezJvOzKRL2S9JOnAzX8G2crZPC82eY7P9Em3UgP6y+nAWbZ1JBkos8TOyIeavFWGhmOT8dn9HePBhBo51yuhlZeKoyNUDoCLv6XcUjpO1/rsqn8uwkG85ohbjtqJBLtUNWxbOn8klMdpyBW4NW+2XfacuaWxasazVSLcgCILwMDxRkVve+1qejTVuaO9dZOaXOhd3RvheRG75/WzkuOUw+rDUM8iW7QzajQGk0dkbLSiCTm87a2N4jqAleF9xkabVONZZkpgq/DvsVpCttr7A9mwRD1/F+Yi9UKD1PTGVoyBoQFuLPxYPeibLfY/TNUhVfDgebZhufDd/5VtYZSu7HzsqfirfTeEGByNG3PC77sCgikj54HfbZVGXoxhqJKb8KfuR6Dm+nL+HTZbBJigb0bJmUX7f2EFU8ay3MMJY/V34sYdl359d5L2ubS38a5XRy8qEn09BvLjsJjBwBT1vASgGHdF8LkH1PbQJsYFp252xPUfk4gAIB2gkcO1Ak6hjK1fQ6t894Vsj3YIgCMLD8ERF7nFRQjOGVuRyR4Rir003MPjQ0qCdZY2ImCqqRW6F+DZu9WxvqxQX2kJRtQXDiBZ/OTXe4bsdt3qPtiD4YSG0rG6EJJJvljAZdB03aonX9ae0nHvSXr6oDUUv2yVpOWFqWhg3IwAqbBoStUXlu3566gknJJLeSgHqua2wX5QdZLMh9B178PaRyvj5AxaGZ5fdsqTCd+PpidpQ9NYqo5eVCd/W5XjxVgAsd1Rm+8MpLFY7b2BQK6+OxMHPrzNELopUilexIqOpWZ9pJakY0KktDO7s/Kl0C4IgCA/D0xO5wWxlDL79wBO5XZ6BUQc7fGxncqKDdrmbyB1CGomHFxePuKCId/hlkdudbaJhmSVz3kLQaMFwuYGd+W0zg27gz/ki19+ewLNXzswt22WIQtuNk0XPYrG9Tm9NidqiIj/C9NQSTkQkvfcrcvUVZb2p3jahSFHEHo3fdo55hYO43hDG4yHvv24Nb50ZchW+F0+eXdR1iAcfzmxkrTJ6WZnwbR2JF3HIYbtOYTEZQAfTktykNi218upIHC4WuZgnC96KgeXJXW2pW5+dAR7XidjKwZF0C4IgCA/D0xO5eu8iLSFGOzueycLOzAoc7MyC5ULlzl/yriPaDBeLXA4j2A9J7DeQZZuKTi0uKOIdvt9x03aF8jI5XYCfwUp/OEOJTd+NEr53F7nK9iSmlIDzZ68w/sGeXWK/ySDbaHccRmRAs7uFqXO3adQWVe+y4Ai2K5wSTkQkvfxuuN8SYUEfbFc4KXLZ//CKMmW36vipfbBJfwopfxAF89XYzhIXk2Yri3sAin/jeJwqo5eVCd/Wfrz4owvTWz+d2cirU/XyispcbB+zunWliPM5IpfCxPj2ac+0E34tWxF6v/VwAfM+DkKcmfc66RYEQRAehicocpEcOyg6eEU3JGyNeD2gQFrCqJ1Ar4cdU9A5Jq0hpPaLaOrwktdh6RniYbr1Z2Ei8ExxbwrrHc3YuLOOJ0QuHYAhUdKbwdrMnOUbmPUSaKGbeJhxQRHv8IOOmzrhpIVpKpY/d6naW2iECIuc5ggyM0O1S2HYbULzXkSuslUT86MTzl5xHmJezdZWDNAMMsV3vCrylOzV4LzT7x30wZ5BMdPFy+9NdOMdHFO29t7VtnbzvZ5wQmLp1eWwNSxuQFBpwHRZe1XYL4RnV9Gd3Subw2bWg1aTylpF/GgWl2b9OvSBihksSeiuUFx5s4S+mLSsJ3xwrNcJB4B1yuhlZcK3dRAvPhCHdnPSv6IDkM5Btng+l+H67u2f1YcVaSbW2uZckUt/U5zd8nNGfSZ7Y3iNcA/vqXTT7Rn9wcl6JgiCIJzP0xS5BF3dM+zwjKM9bJZ0YEin9fnghys4c1hPe+qaLXabQHMwL13btVsMrJujnR+Km4n+2prtAGuJXII6XDfeCXRG7vJySFxQ1BK5SL6eQo+vtlLhJc0BzN3DM2jHeb/4XV0DlTr+XCZoLLpzjx68IkFt7Mhhd2B0G87AFde/KXexK9cwjgO1j9jPg9Pv3knkEvsMJnztlw6jdA1ahf0i7Pn6OTeuKWR0Y0Zl/MztE7RVYczbFfq0n9q7Sk6FXxK5emYzfujuVBm9rEwcFbmIve5Oh1sqq/RONJ9DcICw0FfCGb9oQOyKy4tELmIGNvZWk7r1We1Rj9WDo+neTKGFfpYP0gmCIAh35emKXMs5l6hrt6VO/Wug4lISfg+EurD/iI2+5onuWmHfJe8eId85DfeRn2fElQcQZZGqVhru43O5j1tGDSfLam0eId8tJ2zF22RaR88S3F+6BUEQhDo8A5ErCN8o+uBTKHI30/Y9iVzhvuCBR+TKPEEQBOHrISJXEJ4qB7V0nrQHMF3SwbMUFiPankH7mmV5+8kQuStXEARB+PqIyBWEJ80OVospjEcD6HYHMJouYCWHlJ4Uh82yfIOCIAiC8NURkSsIgiAIgiBcHSJyBUEQBEEQhKtDRK4gCIIgCIJwdYjIFQRBEARBEK4OEbmCIAiCIAjC1SEiVxAEQRAEQbg6ROQKgiAIgiAIV4eIXEEQBEEQBOHqEJErCIIgCIIgXB0icgVBEARBEISrQ0SuIAiCIAiCcHWIyBUEQRAEQRCuDhG5giAIgiAIwtUhIlcQBEEQBEG4OkTkCoIgCIIgCFeHiFxBEARBEATh6hCRKwiCIAiCIFwdInIFQRAEQRCEq0NEriAIgiAIgnB1iMgVhOdKvoJxK4HeYhf//TmSZzBuN6G/2MZ/F4Rz2c2h12jBeHXQz3JYjVuQ9BewC90KgnBVXKXIPeQ55AGHiDtBiILicT4ew3icwjb2+5NgB4teAq3xCnL3+WENi/EE0q36e7+awXS58d08NvkWVukCpqfseQ2ifb+C2XQJmzzy27Wxz2A2nsPqGaR1O+tAozWBtX22g3mvAa3J2nN3rxyo7zHCOnwufVJBDpvlFGbZ3nueb1ewnI1hvsrt36ut+v9d2abYvs+DttMhX82P/v5koDr4rbQ3F3KFIhc7ykYDGiUS6AyXT1i0XI4S9ZHGVLiM3QJ6XGbGsIr9/gTYpwNIkiHcho3bdgbtxgBSfp5DOsB0JF8xHfktDJMEmr0hjGcZ7GNumArR/szIMV+orRmv4r9fFdno65atc8hTuMF8Gd467STWlU6jAzM9ILxvdoseNHrBbPEO44EDuS6K6+dczu8X7LMTbKfQVqZ9ONwOIcH86g6NyC3c3Mfs+2p83K9o3j1B9hTPb6W9uZArFrlN6I1oNo4YQpcqCD5PhrdXNoI26X0mnc1z4MmL3C3MOw3ozMtL+tQ5NJrujNUB8oPv5igskkeQxX67ABZ97dnJwSWL9hba+5y4IttZGxqjLPrb1+Jw9oDzALfDBnTnz2sGezfvesLkaaNsnOAgyn+WPFifUBJKvFLRePYDuQfh4M9sr8YJNIJ8oZnc9a74+y48ZZHLbeYZYZ/f3nxbXLHI7cHCrRA8aqfnZpZLo5eOas2EktuwEz7j/diMq9lacayRtdsvYgLgcAvDU4LsTmlEkVQVx/0Gsmz95Ee7Z3OmyD2aP7U5YueQ9QSajT4s9+XfWPQN0uOdqCkPkfiaxr2+cDHxjpct7qxOitA1TJo0y1axFFkZX5r9bUBv4S9z+qj4nbTpiXQU1PUv5Jj/NEt15mzMkTz0YHc16n2N9PttVUw0xtxVUWXH2HMTt0vsXmBEuddercaQNIZwe6e6G8cTSiRw27RSkVXUzbun8fx26HSeE7Xys055NG5qlEcWoZGyFeWcsLWbs0TuGfGuT7Xt6whsypPT5USHUWmXevlforY9yP/7tNllfDsi968MRt7zHaTDDjZw9EyTdGG6LjpaLmz4vDvfwGbeV25txTv9PlckfH4zXcANNnDGXdJG8bRbw7RbPGskbbhJg5mcfQYT100jgeZgbvffmPj5uOneQzbpenFMmgOYb8pxHGU7uB212a3ZE7lLb6CtZ8AZjOPo1giKDUxb2s+6jdFzoSRy1UEVTmtvbmcl842fr7wlZnSrBSIJN/VskPoijIUfum/q/YDH7VyGO+vuPNIIqu0J7Zme4d1TOrowt+UBy+wN5TF2tu0m/9u+SbU/pt648Tgm8nPYLFS8kyb5ReX6BlIblqlvBVUzlbw06c0+a3JdR5ImtFtkswS6s7Vq3FGcuH4TphyqmZA5rG5H0CG7Hk3HztYRm47uFNbOQLi+f3sW3TadPBgZQbqaQpe2bKCQ53g6B55idfioaN+ZNsH4hzaZukvfqgz05iusz6p9qqyfNeJHlMo5l88Mpu0Glu2iLdlnE14xS5ptaLGdujBx2sMqO1bb1yljrTY06bdWUcbYdrFVgn0Kg6SFYfvP2X2YdzxJ8DDLvRweixW1FSepEC7Gbg2Ms7Wb3p+aU92gbUmhUKF4Y73gNEbqSf/EvnbT5hi7cp9kyzy1BdhurG5hFOT7zTJYPco3sNBtSrNl2pRFsEfUtDtUNoo6VoSnBquqb9X/N2GGuGW5TtjWjfFDtXnzEf7/pMidQmr6fU3SnUDGkwtbmFWspm3nHWj0l5UTBdW2j7TBtj+n3/D/m0I3cJnldtDp8+lvrEsZh4FlDjFpdtPqxoHLnA0vqB8eW1gezUdtNxzI2T7thFh/DL4Zkbud91Rh1Z3peqJFS3sAI9rScKPFYDKAVM+QcYbxMyws7CeiK1md942AZHfdobdtgsHGbIjvjvrKr0aCDbgpMAdMB4tILKCDCSwWMxjqwm0ay/0SCxKLFeWu1W7j3zd6hu9QCDOM42SxgNnQxLGwjYmjqgzq/yxyjdDDOI6XGWTLsW6ITRz32HCpCvSUDgr973//g//+97/wt7/9Dfr9Pv8dc3eUQORSOWC70XK6yR9yw3lJ+8ZmmD8TGOgOgZYjSYjtl33+u9EphLHqnOi9DsxpL+BJO5fhPIsKFyWs7b5DnqUqth5wefbSQKfOdUfJbrDhRuFyfGaU0KK/NXRELQ366JkrVlVdHGXm7xhqRtAIfhcaDLjCIM9GKMqclRjeWoFlOZjRXk+aWM9b0L1B4bQ9NuNgxMes6BixU5zRs0FqO6n6/mF6Me9Melm8Yb1qD50OZjOFDpYZV1TxFpOjQlzDZQ7r26w4SJhvZvysGEipMtBsdeEGhe72yExOrfhFwvxri+UGnyVO2TlgWWthuzKzA+gcshHazcm/KjtWPed6F5QxOixmRbvJf6edp3BpC4Kpg8VzXf5Lg0P0s1sM7O8TFd4Ixn1qF9ow3UTc4UCjRaJWH64i8gxtafcKq/zsL/06yUJKtyvq/4XYzykvKlZ6GG6D3JUTVQ+KOmj60BYMnYmXPcfLfQ/7gAHa+sY967LFPMKyMbzV5UWVAxKHrqjltsKWDVfkKjexNs5/Vi9sKgvRdorSd0SAcd6hG69tOGxhQXmp2zhu38PBubVtRRtx0vY67FLcKE8wbU3sJ9IN7MxMbkzkogDtDBaFXXR9vTED0v0S+li+igGoziO0W/XssLKln48ketGWTtnjuGNYnZNt5ePxDR08I+gaGcrYHWRT2qs706MyQjV25M50Uqagm8peFIB671uR647qWHjQc7fRU+KC3JrOhTsg/LuosISZHXSESSDIlDskT2FAz4PDSdyh4HNTqWwcqYNaOw2piWdzBLc6jfWWIb8u//73v1V6NL1eL+ruKI5NU+4wlH3cztTYsWNmTQluPOg9LcSsoC3yywpfUyYusHOlyOU8b9uDNHwowenUeQa5M4WNcY94y14UX0/0VsAzgD1nhliDorlbKpuhCAlRwrDcKahZ0QQFWFH+1fKaiW95/zGh33NEahWqk8JBgFM/GDpQZcV0ff/CmXNl76IDUKj2yR1I1NpigvFY9rHejsrL3RnNSpn3OQ7l1YMYp+NXHaYq/8ZGB9itcYC28cNUHZ5pl6rsWPU8h22WcUdZPNNlHwWAchsM6hAeCMXyFGE723cNSmBVily7NFtFdSduhVJ7BCMUZDTDFooqyoPyAM8f+LmCVv3uC1/Oiw7WAyfNR5ezuZ3AMuIKZ06nSYsqA+V4kQ2duHD9johpHnzossFuIgKfblzJVrDjAdgFIrd22LH2TPejJ0VuxH99kJbLXETQRoWvy0nb67CjIjcyc0yiNhS5pXir8mRtR25afj/Az44NtCvzUR3oNLpF1fmH2f5zKVcscrHx4JlNoguDEQpSr7NV15aMBl3tRi+HcQOvGjzTSMUrw+n3jYD0lmm5sNBzv0AZt+G7tPRn/HfDsBWrwj9V2PE5LWE577f1kqTZ1G/DKYkmbHh4BkL/jvHoD2eQBp3OU8OdkeZ4498xd0exNsWRqxapw8xNt26Uyf+WY9t2yw5gjNDkToHc8WBFHRjzBikX2Nlr7F0wz939hSxi3P2wmK4+pYfKRH8Is3Trixe3g3CfB7C/MVHGIrkYqCmxeKThJFiUFfZyoRkpXvJKWtCl1YyVL0Ti4hDrP75TFs0hSlzFOnJ/hrCufwjb38ycK//t1hED28idya2eyfZgO8UHIEa8cRsVlIFqasTvSJjcNrqdOYqWdDaEftjWWFFZZccj9t2tYDEZQNfxk5ZWi7Yq2BfMq1/uLJmL2sZRtvNxkatWy5w0hdwcWZZmG2nBzVsowlUvFXbYxjNkOztwoXeLfOAtDJ7tMd28ipRAqzuA0SyFTSjOAnYLtQyv2psp161CFKN/+JuZrPHgfkWXcf6/WUF0oXZQx5fdnGgDTHvqtGmxNs57dsew2a9TIje6JUzF1fTpvKJrJ7HUFoZw1j3kuO112BUit2g3NJzGUOSW0+zZjts3XwhzPxVr0w2VtvTrTzzuX5dvaE+uC2UMNQpY0HgbAc3KjqDHs6QRkRtUtrrvc8Fy/mbOFLnN3kj777M0I6pTIrfZU9spQpabaLgh+00Gi+kIBh2zLcK9VP3p8c9//lOlW/OPf/wj6u4o1qYjmGMZ4AbJq7i6UcbnnUHEtu4Mv53d7cBsQTOg+H9vVkZxjp155ibSIPkzt35jXHCA7TqDJQoS3j95U/jDqwcnb0JQ4qhcJxAjDnXaowd9QtjWR+rqYQ+bVcpihwRva6rKrREtJZEWzKZWg+0E+hcr9972gdr+6fbC2l/5XxIKgY1is5FRsD4nUTv5Qi+cva+mRvz0jH0sb3igY5Y39f3GbbtESexgifljBWiVHaueU7lAUdidoGDbGT9XMGlRnhUigsusFnwkOCpn3CtXKZQdag1iziTs8PlvZzubraO0FcTODDs4AxWq82o5+cjNKrsNrJYzGPbQbdKGaWRw4nHIsS1QdYv2QlNbYAck2AZVi1xdN/j/QxwUR+KOcNlgN2bgV4VuT502xRNlsWd3DJv9OtI2+XXZRcXVtht66Z+2nvHZgrqzmJW2L5cbhcqTexG52HZmQ+xDkg4MRmMYDdoY7y7MYttpDBX+hvaIx/3r8m2KXCtiHDdWjAQZRs+Cylb3/aiAtO/6BSZ0G92ukNNF/ySisDMxs23cSdC7QeWKblfIYb1QQsxcsB2NI8KXYVNYWgwTvCyKbu0S/RO8XeH9+/fwn//8h/fk/utf/+K/Y+6O4uURVWI1oHGv/oluV9jdwpRshh1zIRRpb7Rya3BH+rXsHFC1h9OfufUbxdjl5qrTLfzhNBnhcgSOX8md3tfliAxyV14hCGBbl8UHX9ae+uk3HZPyv0IcYmPs7kOuZsfbi0oimZ5jo20/ElDbPx0/k94K8VbaYhFsMamEt4JE3OmveRn7lWbvq6gTv4q8UTOLhe1YWLtpInhZl9oVXdar7FjxnNMRHt5BAR7uZ1Zx7MH8Fn8LthS5cFmPDC6tqK947y6UO3w10+e26ZROJV6L96gubVcZrHZO2d7O1Z2+NFD2hPIW0skYFmu3HqiyHbbpBm4Lprd+u+2tuqi2I7a6oLZGuNsV9NkC1x33CxuVd1VliNtK049dIHLvEvZdtitwPx+uxFAeLmDed9qNCk7bPlZuiHsUubxHtw2jRYa2IrAPPyXMq2wZ2CMe96/LtylyeS8NucFC2Z/Ccjm1h4YI0ziogu4UjjPf54Ll/M1wYaHnfkEsubUHz7BR5NnikXewqRArxS0HtKwbO3hmD7jRiI3+dg4fReNIcKNKv7WgP11CttQngLFAK2HxDd2uoO+3pLTbS9zJjbZHe0Cz7eZQYeQgnrUlEo70T9rZcWvg8hf+rjoKO3PLaSjqgDpkhGLAdgrFIQ3TwXJZ6NHtHTQbUhE2wjMWNNNsv1C0h/WsB4knMkxHe3zpjusrptc9pU9wZ4rl1O6tpM/9Yh4UM1iqnvfmehZM27T+TCYKadrryDbRaT2Yw3NF/ajvXzDDUyHeSlssdOcxut0VM1BR1Awe3+6h03rYpTBEmxTtgZplL8/eR6gVPxNmcfiGwhx1sNyg7U35YxthubbbXHaYV9jWtJxOscqOVc9Z5Dr7x/mGh27LP3jIaMHCZaEi3Vh2Rs34NgYuAw/UKUc7fDpoRvlttj9xO+Kf+dilQz7E5/dfe94fTen0xacSWV5d2S15a4Q9aBTCbQ62U7Yu5bCaoB3sPk1Vt2g2uIjXQcWL2yXjr/48MpaPtRGD+uBmcfBP90Pu4a+DbnvsgPgCkXt22H4d521tp0QuuvH836/Z/9I+dl7xoLyJiOKQk7bXbXUT48yrIqYdVnlyd5FLkxFok6QJveEYpouUhe7atIGVRA4bm0O6jh1F5D4KqjAcFbmIf20TLbVhZs8xg/Bv01FVitya70cFZCigNFG3dIUYLT2xexVOd1L+ahR1AEPseJQbN910hVjP7uMliitQFNFwNflqCj2zh5egimGvK3qatyvcC7E84s6InhXp9e1O9mnDzSL2Cd0Dz3KSm9jsyHE7x+G9YF5joq7sso1gaT8sNu6lq3T863YO61kRj9LskksOm/nAKVcJNHt+ufL2dnrvhuhOOgzPXIvkxNcv+wcW1uEedS7PdWYymb29ZsuE0Rn6Nqnvn29/bjtK4i22L5Q6XROHEzO6+1sWmNYmSQeGXnlTbV90mTmgdvzoC13OAJ6uiVtsUOi6s8B2T2jhJs1ohrkQpFV2rLQv1jfeP278pGvdUuzAwxljRB2GCoSHxYihSMdrDxFViME7Eu/wjfAqBlL52q//4TWPls0URWZk9jJyTVZxlWEce21ZNEwtqNLwmkssb+E1l175JWJhh1dZhm3PJSJXvVcn7LCOd6crbL9ieVPAeYflchv0882ef72gQtWb8ox8nOO2J9AeA9Pvmzb8vkQu/k2rP9hX0VYFWkWkc0W81z24OrDMqXysKvNflysUuedw6rLkU9z1/ZroE751KlCcu8XzOdyq8FU5lT966dZeGxZzg5xlZ70P8uwBho7r/ZTZeyr/R/Z+3r3s1+AxwrhHVDk5NfNyv9QJ8yHixX4eK18Vd+IaqNPlL+lFhEml+P1KnLIf78ut2nNMXFCO42EGgor9PZWv/s0ncR6qv6wf9mV1/ES8ecm+ugxW8RD15TRVZxnCbRjHeKh8fBi+cZErCA8PL4lip1F3pF8Xvg/zyD7E54O689LdqygIp1F3d8auOCP2t0NoOR+P8H5Lh9CMit8nCouQ2P7Sh6Bi1lCIwlurjnz84WmhZs1LIje4CuyaEJErCA+K2TP4MB0Ufc89C66geZbwvZkZbJ+L6BC+Onwnrnew1uGwg3VGH8OI/IaDqg2WtVPXbD0lynflPiQicmsTPR/xtOHVDdq2MVpASgfP9Jmip7SqcZ+IyBWEB+SwWcKEbk8IT9QKgnAH9pDNxjCzhx+vGfXxoYXzieSHZQsptlnpsf3hAkPt+3Ns2/NtCjPM42Gf7urFehTemX5FiMgVBEEQBEEQrg4RuYIgCIIgCMLVISJXEARBEARBuDpE5AqCIAiCIAhXh4hcQRAEQRAE4eoQkSsIgiAIgiBcHSJyBUEQBEEQhKtDRK4gCIIgCIJwdYjIFYQSdNH8FJabh7l8Pd8sYTrLTn4GMl/NYTxOH+krR4IgCIJwXYjIFYSQ/QJ6jQYk41X89zuyGifQaPRgceKzovT5xUZjDKvIb4IgCIIgHEdEriDEOORwiD0/Rp7CgMTrLvKbxwHyQ+y5j4hcQRAEQbgcEbmCcBYoUPM8LlJ3NANcR+RWgMKa/c4P/Hdc5OrwkXNE+EG/c0pck7s6/hr/zh4IhJg0e/EyaVR2qOLe4uBRL2yOd8SWMfvVtb0gCIJwv4jIFYQSKxg3GtBb7NTfqzE0enPI0htoJwkkSKORQPsmhZ1+ZzVu4DMf+35AWbzuIZt0IXHeTbpTWE59d/l6Ct0Ef2u2oYX/NpL+aUG9XcJNW8W32VT/dqcryK0bSisK880apl36vQHjlfO+ZQeLHv6WandkB4pr0oXputi7zHYobfNQ9rT+sj0pfZRmsieluQU36c5JY5P9T/oLa2PlTxfmq1sYcZqUrRpJG26WW3aT3w7RvyHchoLycAvDpAmTdfDcksOa44NhttrQpDi0byC19tXpz3aQ3rTZncrfI/bbpcr2GG67Rb+R7dfK9jnFJ4HhbSimD3A7xLyarIPngiAIwrmIyBWEEhGRi6KrM1gUh8C2c+ihSLlJncNpNWdyQ5G7nXVQCPVgZg+65bCZ9ZSItO62MO80oDNTYo7crMYtaPSX1QfYtJDqThxRS6K35fpDaUWh2eyigN3ArnJmVIm8ZrMHk1URz4zi0JrCRrurLXLx79bw1sZ9O8f0knBGO8y32l2ewaiJcZ27cVWCeIiCWD37C/bZGFqYhuEtxWsNE3ynv9zb34ntHG3cmVce4juwOHbCxoHHcoDC1NpXpT9JOnAzX8HWzsxW2U/lV2ucWdvn6wl0GoXQXk+a5fzDctVpdJx4CIIgCJciIlcQSkREbqMPS++gGM24BYLuIpGLYSVlUcYiq++KXCXeOhM9E8jQ0nr1sjqH0y4EqCFPb1BUO+FjWgshWYUWueEM43YGbSfN9UVuYE+aaUU3bSu+FSwEB6lOs/InNsvJAwUtYsuCNi58XfabDLJN8DvH09hJi1wU5v4goMJ+hx2sMhLDzjPthy1XEUEbFb6CIAjCRYjIFYQSSrj4IteInYKSoLtE5B55J5zxzTEebd6m0ILuYASzdHNUDMUFJ+KFGQjQSgKBZgjiX1/khvaMx4Nt0DNbFpSbUea7YdjPEWT0/30KA2drAm9haE5g7bqPsMtmMOy3od3W8BYDk7aK9B+zX76B5WQAXeMfQtsgCvvsIR04WxN45v3YlgpBEAThHETkCkIJJVweT+R2YV5D5CoOsNusYDkbQq+ZQNKeVoq3b0/kFn7SjKiaddXbPE7MVPPsb9KD6WqrD54h6RD9vFDk8h5g2pKxhM1O+4eid9YN7LOeoPBVe4hPbakQBEEQzkNEriCUUMLlUUQuhVVnu8I2hcl4AWv3QNVuDt0j4XE4kRnM/bJf2q5wryI3XNLfL6HvhnFHkRvbrsDL/K5A1FsBZgsSkQNIj95JrNIWbpVg0XmpyOU0BgfgtPD1BwFmr/UCJjhoGaTVWyoEQRCE8xCRKwgllHA5W+TyPblNGKZqNjB+gKs8Q0t/06Gn2doInD2s6eBZQsvl2p2ZGXQOMu2WA3RzA6m379Mhx3S0aDaxuAUi38z4wFwh1ipEWol6IpcPcOHfU3OI7oAirteCZvP+RG6StPngmbLvAXbp0Dl4Zt41g4S4KPZRNxrQDRpGJLOdWk1oXipyWWQ3YZSZOO0gHXbZDuFMNw860A9vQJKvYdofVA5gBEEQhNOIyBWEEkq4nC1ykd1ioPZdxoSPdeOLXL5NYV68p64nW8I288PNNwt9HZh2l3RgdHti5m+fwURfbaXeacPNYuMcXrtfkcu3Pkw6+mYIFd7odoVC9/5Err3GzIbR8W5bsGymKH5r3lSw968l4+vDsrmTtjNFLudpv7AD5ildH5ZGt3NsYEo3XrhbKjjuwe0dgiAIwlmIyBWEJ8ORD004qI8LnPhYQYj+6ELV7PK98yDhBYKSw6i2A+/LHaRn3VRwkW2PovL0qB14X+6pLRWCIAjCuYjIFQThmVB31hnhfcDP4aYCta3i9JYKQRAE4VxE5AqC8EyoL3KfzU0F8vEHQRCEB0NEriAIz4QtpOMxpCcF4Q6y6RgWzueGnyq7bArjhfuBD0EQBOG+EJErCIIgCIIgXB0icgVBEARBEISrQ0SuIAiCIAiCcHWIyBUEQRAEQRCuDhG5giAIgiAIwtUhIlcQBEEQBEG4OkTkCoIgCIIgCFeHiFxBEE6Qw2rcgqS3gF30d0EQhHtkt4Be0obx6unfdS08bUTkCsJjss9gNp5Buj2n8VYfQRiP57DKY78/LLtFD5LWOAj7AOvFGCbpVv29X8FsuoTNV4hfQQ7bVQqL6YkPRuRbWKULmI5T9UW0fAXzr2Rb4fHYLJ3yKlRwgG06hVm2j/z28OxupzCer/jjKHk2gmYygHQfd3tvHHLID8Xfhxz/9jj47r8x8u0KlrMxzJ/pgENEriA8GntY9BrQaCBnzYqqz9k2Gj1Y7GK/+6hG+p4a5n0KgySB4W3YwG1h1m7AIFXP83SA8UtqfXL3YcjhdphA0uzBEAcRWVXHmN/CENPT7A1hPMtgT89WY0gaQ7h1Ojrh2tjBvNuA3uLriLfnwxomTdU+cd14VA5YhxvQnKz137pOD28f5ouAOxzcDjtY9zG945V+btragKQDg6luL74hDrdDtE8C3aGIXEEQarBLh9Btd2GY7qK/xzlH5Bq3Y1hFfz+P7bwDjc5czXi6HFAsNpowWRfPDucIa36/C/Maor0WOYrxRhtmJz75y2K8PfPSs1/0oNGdP8hWjO2sDY1RFv1NeEwyGH3VQdjTo7JsHnI4hM8eBX/gzGzn0Gl0YH7yU97ns14MYbpIYdbH9jIQuWE52W9SGHdRcH9jW7ZW4wQaOMj4OuXhfhCRKwj3jF3uOmtm8GCXx8oNSihyjduIqGTxeEzkHgsnRM3q9JeR2a/tDNqNAaTHlvhpGZDCitmBZk+Tc4T4kTQTPBs7giz2mwM32kHHHnvGHIu/5Zg9dzxzf97s4Yl0WpS7Op2PKY937aiiKwTaRsf9rpum+pxOUxAml1esP+EMv8njU3Ejd7FyEHteq9zchfPKSNzduWXzPsLUVNknMnA28WzPHm6byWp8WuQyOQ6UsD3szGvEpWYZoHIcK8Pl58aud6/HIcfqkm+b54mIXEHwyCG9IZHYgOGtaaj1Eh6JR2dUu540+VlvoWdl9xlMcLRvl7gaCTQHc2+fKu1v5d+chiPfzKGfmHd8VGNbiNxp6rtNulNYa/+t3x7F7G++nkLXCyeB/nxTvRS4m0O3YrbVnxFV2zC6czM7vUMbtnmZq9Vu8r/tm1TPgKhOqxTHyn13OWwWN9DGeCdN8gv/bd9A6sQpGwX+RWdlaSbPd6fiq+JTxB3ZmXzE/Guqf7vTdWAnJ16tNjTJri0nXii63bCI5GhnsYNs0lXpM+l08pZgm/fmsLodQYfCqxwkqPI6Slcwpdkn7V8j6RcrAVFBgXC8zWAB68IAy/d0qfxJEIpXm/Zn6zymZxyXNkxWhbAxcc1SZSNrA5umavGyx3eT1gTW3vMaaWL21o42zD7abDmERtPxM9/AwiujDWjZMkqo8MbpBuYD9bsShFXP8R1T/5MmtFu63ExMucE6jHYo2pSC9aQFyWBZYym8fhmptjtyrGyWBoun699f6wk08Z10Re2LqTPorh/Meh61j/GnvG2IZ5wfcPtEbZGLmLhUzubmay6flLZy20eQ/9jebYw7t42PPafVP2P/NrQoT5MuTNd6mxhtJ0giW62ofqOdS/XbIef8Iv+aqv3COnyzNPUx0k4/01lsEbnCVfG///0P/vvf/8Lf/vY36Pf7/HfM3TG4o8BKbfeG8SyQruhWWJhGQC+RH7CRatHf2KgNJrBYzGCoGyt3iasscrWApgZmnkK2HGsh2oXZxoyuVcPL71HHMBzDeDSwnZiJ536JjaHusFUj28a/b2DJAhL9YPctFQ6K5RuObwumGxW3EtwZxoUUC3wr+JXfo0z9xml0D6qhWO55gkrtvTsu+gh1q0OjNXQ6VRRXQ3rmiyDuqE5uC1B2NPF0n9lOjU91J9CbFeI/38z42SAtZr3UYTw/XnMsD16aqmYPS1BZQuHWmxUDIhRhM3o2SG3nzjZvtqB7g6JtS7MvFbNlvHUD32278dvAtOPEr2ImnvPOlldTNnsw3+qwOC9REKKwL2y0h+UAy7ojRMwAsDXEDt50wHnGdYT2WFK5iQoG3jPdwvwI0lYnTdHykkNGN4Ng/jXQliq+yt4cN/4b4XQ52xk4POz82z2YoKDdmZmuqudc/4NyQwen7CCzosxjPnTQvr5Qj3FGGTlhd35WUTb9rTv16h+3l2jftmvPzRQ6rj1P2kf7E2wlYtDdfW2/inGOyD3WJqo8pjxytnftlzDAtrFYDSP/0U2zywMlW36qnvN2DawPmdnCkWMed5wBm6qj4Wpb5TYzA5U76gusqEX7ryY8SHHPX8hMriA8Mf79739zI2/o9XpRd0choUPv68ZeCdMmDAbqXxZrZluAbmyMMPYPSWiR4Ai8ksg1YTkCTXVU7v5B1fByepwZxxxH+OyXKxSMf2FDvDfPHcFyakmtskFXM3x2Fo79LmZ8efm/M4WN846//BbZexeDZ3YwvqEA4BlmVzSrAYedUa+CbRMICu8ZirU+DhowL4o8VPBssRVJOWyzjIWm64Y7BEfo0aENb/awgv2yj+5GkAWCU3XuRoiq2XJX0FTCs3Gd0v5kN35cXiNx8zo1ztfw0KGydXgYyBfH+oAldva2XGo4raZMlWbuUJCOUEBG7F8nTZXlhYWpM2jNt5BlK9h69lZ1zM7Kcnit8kxYxfPDbo1+bvy84bJV1OOyiFMDI7dOV3FOGTlpd6SqbHpbd2rWP1Xf3XQRvj3r2McfODtUtkMKs9xeRcm/AF/IqXgfF7lVh1T3sMF2YRMMHGL+l7c8xJ8fdivIVlu/PgTtWFnQxoWvC+fZjWnPCjZTf+Dpx/15IiJXuCp4xgYbCwP9HXN3nC3MO/Q+dR5K0PEMLjcuWtxxZ1d0nNwYUHhNmj0t4GUgfG6WKUsiV3fAjc5EzXweMGzqqDwxphpAmt31OhzubPC50yipBpDchp0CzcrQ8iz9hiQt6NKM8+pIB1vZuWB8MF126ZVt4SxxYhx4SwUtS/aHMEuDRrpqqTyAG2IrLB30AKPoiNRWhMqOyRCbEaJnZnaeRV08XqVZR+x8FpMBdJ28pqVEd6aO34nF30MJk+JEuYOZbeM8D2x+BJ6NK82I+TOJcUERDBY4X8MOXXWgYTx8/1Rco4MYt0xxPhYi54C/tWjpNRRySJ00VZYXXX/c+OxWC5gMuk5dbWFai7jEw6t+zgOfdAbDflEe1KoK5p8RPV5+qrYgKYnDGOeVkZN2R+JlU4Vjtu7Uq3/qndK2kyBvT9unwh8iiLvPGqbWvzjTk+0MtlW23qqyUtmWnJxV3kE2G0LfCZ+3GNi2o8r/6nDzzTIoq2q1zrrlG3CKdou3MBwdXB+ZFAhsLSJXEJ4Y//znP7GSYsXU/OMf/4i6OwV3AtRI36bcoKsOXM1AUoN1a37XDY0Ruc3eCMZ8p63PUm8JKIlcZDPDkbiOr6GFvxedi2oAfeGLGEFbS+QqaEaF7jwc9qlTJ3dJ9Qwoz+REDpcFM7ecptI+2ANs1xmGNeTtF4k7a1CawYuhOr1oAxsutbLYD2wTYTfv+rZynvEMEzbw3OmW/AmWmsnGOHjqTlLY7MyM0QomLWcmEDt1b7a7EiVMYnnAs22eAK93GwWLk9LWDVV2Vfyq4ubfQOAvXWt4UBbeYhGb2Y932FxWrEhU7ynxhuK55W8Jcambpmh54TpRxJnFZdK12w04/1YTaDllKh5e1XP9sZT2Dcxp1k37uVvSMr5bD9UAgUUoC5PITHGUc8pIfbuX81+1M2o7T936p+LmbwEK3dSxT4U/SPXA4n44R+TyYC5oQwrU5EjSm+rtRIoU247inSr/48/VFV4tGC6dsrqZ8eSG65bipbajqDgcPxwnIlcQni3v37+H//znP7wn91//+hf/HXN3EhZi2BF01D2KZnaEG7lGBzo801sIteh2hXwNCxa5xYcGSiIXxdG4jR1nqw8jdjuD5TpsfFQDWEvk6o6utKS2TZXgNnfDIizwyC03jo5bQ2k2RsNisJi5dRvCfDW3l7kb95xmp7Ov3HsXwFsESnFTS9resr07G3sE8i/cE+k9Y7EcuYYMn/ecJWoWOv3goBB26t4exIoZzzI7vr+1LDjUUnbLzN4FNq/Gn42zcF6a2Z54J8czQKeEXnSAEqSVO8pY2lGUBh0wl43eHAeNWM8qxUOdNOlyGOYLQge7ivqAdQnFVGkPIw00bRmqCK/qOde5cAVA3fFqB1AasmkyTlH4JDyQPbWUrqhfRurZvaJscntStDG16l/F4MvbDlHHPhX+lAaYD0BtkasHt1UDsXAwpdCrgheKXI5bkAdK+AZu9VVrswXWzxof0Ii2YUgo4kXkCsLVojoCFoGNvj68hbDY0M/dpTx78Awb5O4QBeUIBiRe8W93VjYUueuJcpM0OzAYkQhdQrYK9q6dI3LpMI6OB21JsAfPSBBg504zt93RAlI6eKbjVz3q1wcpgkaW02Bn+HzBxAKWDyoZ97T9wveD32+O4JZnQatFoJnFGNuvL+1hPetBEhzU8WZjK1FCoZhpJdyZQPW3momZw1aLuMMuhSHa081D7iCcPcf5ZgE33VYw663yrEe3V9DsiycKfXhPnXu462AO96Do0v5FZ1WjYLiVM2smfmomzz0gs19NsLximCeEXp3ZXTWowTx3DyztccB3Q7N5E1i5ttCDSd4rbvP0gPnch7690aJOmpxZL3sHNZaXeR87fcwvO6hSfnWmG+1G3R7QbWHnbutzRXhVz1mgJRiu2Sawg2w8gDaWm3CLgRkMh/tr+Wtsy02l6K1TRurbHdMRK5sskovBYq36VzH48rZD1LEPhx0ZxHG7FRlo3yMxkUtxNTOxOX0hcTHiFSl/hS1At7E9255i2UJ7tZqucFT+1xW5nO9uWaH2qNvkOuO73fN5Aipb0W0tIVqwuwcB6Q73FuW3c+hTRK4gXDEsZrDR8EQkzx6pxqS0942uyOmp/VL8HgnKif+VnFDk8mlyEtP2Wh39rifkVANYT+Qq0TXsGL+cd7ZL5zmRQMc9ER0DRQgv4zrh8gyPbfjC/bD6aiknjPbNwv/cLzXUJh5HZ3Sxk5gP7L5m8qvZmwRfM6s508P5FnSW/CyYYdrfwsi1UdKB4aLoCBi0e+katxQ7aW8fHAm1XmlPdpw93I70l5cYyhffZtzZRJbPS3CZKM+Isbhy4ndYz/QtHia8FDtyLJt2sKDKXCjoorO7LHSK2V0T1+3Cz7swTQo9y+jNUqIIv8FwzGGammmi99ZT9/owVf9WNAhy4rxb9H03KKZTjLMVBxXhVT7HcP397m24STOeZS21EVzfg8N8vHUhqNsl6peR03aPl83ydp7T9c8f8BbvFdtQ1N+n7BPbSkTwDHutfcuXExO5Kr0mvi1o90fHzy9o9rcj5+o2dX1YNlf1SqXtPJFLN2jM+257RNeHpXG3mym21fU/nMGDcz3RYfyeBJ9zFpErCEIZfWtB1ayMixLSvtCiq8Co0XmwJboz4qc6qNaRpeQKal6GXg99Efq9+FUPdWL7mDDVbu4zTmfly33wEHbd6RlzIwhUGFVpit+Je1eOh6mo4+ZMauSfuhPXvyGDZuvsloNTVIZxnt3P457KybnlmwYVsevknjz3ZC8Xtt1xO/C+3KBs1aFOW/ecEZErCF8NNeNBIndk70GkTk/N9tZadnoMaN8w3XEZO6ggCB7+4bWj8J24ftm/anjfdngl1xomHX/rwmWcYffnQL6BaU/anNrsl9Av7XsWCBG5gvAVyVdjaJnlIpekD8ujy5ePDO1Ly1bFBfOCEMPcdHHi4AsN8PgA09C/b/d62fHyvL8t4x6pbffnQfR+WKGS8l25gkFEriB8bejO1ekYRoMudAcjGM/S4KJ6QXgm8C0eWH5jv7nsM5iNZ8H+6uvlQHedjpfeB1Lulbp2F66QHWTYfyz0p34FHxG5giAIgiAIwtUhIlcQBEEQBEG4OkTkCoIgCIIgCFeHiFxBEARBEATh6hCRKwiCIAiCIFwdInIFQRAEQRCEq0NEriAIgiAIgnB1iMgVBEEQBEEQrg4RuYJw9eSwWU5hlu0jv30FdmtIF1MYp8e+/nSA9WIMk6NuvnX2kM2msNy4l8DnsF0tYTaew6r2B0Vi/jwu+WoO4/nqmXzh6pL6tIV0PIZ0G/vtUnawThcwffYfgchhNR/DfHVm+ZMPYAg1EJErCFfPCsZJAxq9Beyjvz8i2zl0Ggm06ctuRwXsFmbtBgxS+YpPJfsF9BoNSMYr/ewAt8MEGkkXhueI3JI/j89u0ePyuYv89vS4pD7hO2jj8Sr22yVsYd7BPGsPYPTshd4OFr0G9Ba7yG9HWI2h0RjDKvabIGhE5ArCt8Ahh0Ps+SOzJzHTnp3ulA+3MGw0YbKO/CYUePmqxNfw9uC7qcOjlY81TJplsfe8RC5ytr1qitw8hUGjB4td5DcXHpi0YXavM8NfCxG5wsMhIlcQKjlAnudItWg48O/IIf47gx1i2c1pv+PvHcP4eV+C5TL/jtmktpjZzqDdGEB6cjayhh1Pca6da7mvFy9jq2P2rVXGmPueLVSo8O9YByzxOHrlooZ969jtzpxd/47Fy093pbsdidcaIveEu9p5Qmk8mb467UCd8l7lxhe5tfO2rsg1+XiXNkJ4tojIFYQIu/QG2kkDklYbmvRvGxtTV3DtUrhp09JwE9ot/LeRQHe6LvYUUgPcm8Jy2oUEf0toebPRgpt0B/l6Cl3ys9nE3/DffiD68g0sbtr8XrNFbhJo3yxgc0TwFX62oUVhJX2nA1SdSMMsR3PnQPHxcWdS9tmE/WskLe1fFyan9iBul8omFO+msUmxz3I19sM71kHl6cCb8c2zMeZHG0a3Jg45rKY9lTc2j24g1Wlm0RSbMd6nMMA0qRniHaTazq22sXN6RIBH3KNNvTzvzmF1O+KyY9JJ8VoGM275ZmHLT4tshWm7WWz8PammjGE4MXsa4cT5xqLHta16nt8OsewN4TYUMjRTjmErOzj+WH97MM9U+EmC4O+ufZl8DdOuSkOb7eGHbd1pOE8cN4wuk0rkTiGd99muRXqdOoXUspvDftkPyoGuC4lb9mibB6bP1I+T9S+oT4RtD1q6PSjSqIStsvFoeQsjsqmp+45Ny/UjbsdY/bWDhhN10MR9nJmyXBGG5nQ7kMOa2zhMS6Qeltw46S7qhBa50xTmfbJhk/2hsKbrI9uVApGb499tjOc4M+/sIZuYuLXUv90JZHvlfjvrQKMzL7cRvKWqD0vtTnjeiMgVhBAWAAkMb01jSY0wdhqTtf5b7YdrjTPbeeTrCTaMzvK67ohaw1u7b2877ynBkKCAMA18nsGo2YDO3OxP3UM6QBF1s3QaXwwPw0/Qr3hnruLTmRk/UACOW9DoL3XYkU7ZgTqHFoka0zFhWlrUmTkHQUhkthqd6uXRXNmsO3E6VOpwW268ghm7I6wnTWhgemk2Z7tA4YOifW4PRqn0Jb0ZrG1HlEM2wndMmnkmOJzpynnPagvtQP5yXFrO4GU3R6FYvUXiYASjdY/C0gpFxIiP1tDp5LGjpbxw39NC+2bp7EnGjrXnljkuF4E9UUgN0Z6+GC3/7c+Squ0B/aU/QNnO3Q4+5g8Kjc4AFja/dRnEQYCJD+VRMjBlDKE0YBmxZTtKLI46LzD9bbdOcZlz7FvHbiHhjCdvB+hAp5M4cSAbmb/r1L+wPu1h2cdyju1DEfcRCjV3cKHSzeU4sGljUNj0TjO5teqginuSdOBmvoItzXBWzeTWaAdUnXDaM7IF2q9oezBvsd1rtFxRm8Nmhm1hE+seh23i1HYEKtZnqjfNCay1PyUckUvtb9cTuFQ+sY1AUVtMTmg/OzOVt/sl9Ev1Xe1rp7w+OZMsPAtE5ApCCHeECQxcYcBLXnq567CDVUYdhP6NUQ21FQrcAAezAbzPtAFtR/QRLOhMR8edV2QW4ejyvRIybierlgbN8twRkZtj59tKvNmc1dgV9AY121V+rmCR0p7CJniepzcoXorZlnoiN0ehQXZaoW26QLPomZtu7nwd0WhgG5mwlE3c/aksPJoj6xels9Hx40xLpVWdG88uJwMvb3hp1YgEzvOYSN7CjAYheiDDNnBEgGE7a9tyUGnP7Qqy1U7HMSZOywLSF7REKHzj/oTCmARNMXOmytSNdzDQ1AH/PZ94HJXILcqJYgfzbhGvOnZznyvUANAcYOQ8RLcrfMeWZS43WpDWqn9hfaI0tWC6cdzzM1dIhzbWYJn0VjTuIHIry4xXB1Xc64i4Ou3AfpNBtgny2xGfnO4kLCfEHjZZBhu2s45T2D7hoLN7zBY6nHQzw4FOC+u6Gw8KN1IXvb3+EUEbFb7Cc0ZEriBE2NHsIXZKtPzfH05hYYWFJt/AcjKAbrsNbQ0vsZmG2mvoDaqji3bwRvjxe7QcXviroOW26sZXLdVh+NjYdwcjmKUbRwyEnbL7XM1sFgJBdziYbj98hJY/K8QEL7WW/EeCzthLayWqY6RZ70arPJPDgwJeIg/jSEuhxubBEvQB/UQx7834Ydz6bDP0qz9Em20rhJIBbUPLqbQU3O7DcLqA1c7Z58d5hyLae0fB9hllxf8xn0rxp2VuPXNVaU8PVZ5OiVw1A1qUHd7C4M2Q1fTHK9ORQQ/PJJ4SCHG/4+VClUUTrzp2K94tYBHMtldxZsGLA6Wm3sbAYZtyXav+hfVJ3QTiDQpQFHe8QWkdmyJ3ELn16qBv02rqtwO7bAbDvvM7b9fQ4dVKT0WcTr2r84q2grWmG/83fpfqqRMvDbXT9tYWGjA7gxrewhAZSAnPFxG5glDFIYftOoUFitkOia6bVDV+vJ2BtiIsYbMzhxo2MOs6nUzYeTE1Onh+b4ido/HX5/jsywF2mxUsZ0PoYUeUtKe64w87ZQUt55VFpHLbnW2i4VctbdbrYGuKXD453oV5hv+i0B2k7gyNmuWtjJ9zuIRn7bT44aVL7JjLndcB8zhjm/GeZmc5vopDvuX7SSeDDgqfBG5M/DjvjohcbR/+/xDDORJ/dqNFcTU1xSnCWwt4xkpvbbHbY4ia/oRlekszbSgkekMYj5X93O05cWrUAYsvfurYLQoJWi4HGHZiyiLNZtPtBKo82bTXqn/l+pRnQ2iiLTp0Nd5ogAPOhMuojUNdm9YShUjEXb06WCEoS9RrB3iVAG06XeEA0fyW0oy/Do/Dxrp8ND0VcTplC13f5lh2aMuE506HO9s4cXYo2tG92mpC9cFuUztSloRnh4hcQQjgi+mnt36H6y4r6o7QO8yjha/tZMLOi6nRwXPjHNnXuN9Alrmzsw7bFCbjBazd+HhLfZFOGePXCjsGDS1Tlpcz6SMDmT9z6cBpiMym8cGfc7crYNwSLRb3KFTDDiwbxbZNuMufGt1Jzm9nOEjx/Yh9fIDjVloyN6gL66e3fkdMcfHzPDaTqbeTuNsVIgde3KXfKnvubqdOvFV5OilOCT5M04HZAgVfMoDUW46v6Y9XptX+xqQ/hRTtniGrcNk6So06YPHFTx27xcEwkzZM55h2530q573ZDIaukKpV/8L6pPbWtkcLtgOxLtWTOjZFTgk7Q8RdVZnx62CFoIxwuh1QfoXbr1j42riR7ctbX/46rGExnuiPY1TE6ZQtrO1oj34bEnd/PYcbEaw4QKWtZjunrTR77RdztFNk5Uh43ojIFYQQFgTYAdrZLmxEJ9hwt/R+N/69CSN7yGEH6bALTRQydxa53GCjeHAPVdEssd5WEJ3JNTPLzqGd3ZLE4U18DyF1HkkTbpY7f4bDNPz8ewuGabFFY5cOK0Uxw3t7aSavuJ0g571y/n7fuJjxYTfduWcPe1gEoT2G6rCL6cDQ/iPs5Er+KnFJh8F6c78DVftr3QMzxeGiqI0RM2tl38E0T+gAolkq5TynGXQ6eKbjdqCyERw8M/ugZ2s7aFG2amHZMO+V7XnQh6yKmW1Vnk6KU0bNWJEtygOEmv64ZZpmcWnmu0MfI5jBksTdCkWgO9CKovKkN13Dzilz8XIRiJ86dquABRvazhVkStxQfhVlq1798+sT7fVumRnt6UKJ/vU2KEc1bErweYAm1j01M1pVFqMCsFYdrBCUMU62A2pPa6NXDBw4vFYTmk7cKG+pvtKsqvJbH8a0gvKuIpf+1u2EI3Q5XD4E6rQTWBePtROuGKe09t1DfMKzRESuIESwV+dgw0ckzYF3un/DVx2Z3+manjWk7nLhxSKXoMaYlsIL/zuj48vA9mol807Sca7b8jtlDs/67WDiTv6tp7zlwfzmp7+CfQYTulLK+Be53ikuZny82VHCdN74TPlVXEmkwkL7DONXrKlrglwRY0Ab6yuUjB+nrmnjzllfSWTeaQ7mxTs6z1N9nZuxQ9Jxb1vQ0E0Jnar80py0pypPJ8WpYTPlk/GlWcq6/gSigm6zSLq0VWHM2xX6tCeaTsif+Dxrvprw9h9KkwkzXi4i4qeO3SKoQ3PBLDsfQoqJ/lP1z69P9DfP5NJWBbLFaABd2pfqXeNXx6aK3WKg9vfH3BuqBODJMnOGyEVOtgN7dSWa/Z2uD8volg03btheLtSVjNadc5VXZZzOErkE+YODFiu6qZ1Q1wyqcIP66qAGve7qXI7tA6bLTGwIzxYRuYJwBHUxedUskbrcvHK25c6c7//x+J7PRf7py9cfzi6GE/bx7sStwFwUf3IG0kVfah++E3S63s0LVbi3dlRxT/ZUV37F9iVfAO1zDbfsIHwoEMXqvYRxjDp2uzP16h8LpNKdzGrm/Kt9Kvme6+CpdqBeO1FRbx6cU+GqvGqVBjvCNSAiVxCEK0TdidscFVs4HpzIrNyT4b6vRuK0lkXuZtp+HJH7hOBZ6JLIpZnAryhyhfrwgE0+/nCtiMgVBOHqsJfxH91+cM88YZFbviv3jug9w0l7ANMlHbZKYTGirRy0P/bEtpZrg/eu0hL8CBYp2WIJ00Gb96FWLrULT4TIXbnCVSEiVxCEK2MP2WwMs1OfIb5vtimMx+n9Ccl7YwfZdAyLY59IvYgdrBZTtQe1O4AR3xscc/cNkG8hxTI3Hvb5zuXxDMvBYw6whMs4bGA5nsKtDEauFhG5giAIgiAIwtUhIlcQBEEQBEG4OkTkCoIgCIIgCFeHiFxBEARBEATh6hCRKwiCIAiCIFwdInIFQRAEQRCEq0NEriAIgiAIgnB1iMgVBOEbJIfVuAVJbwG76O/C10XnT1/yRxCEyxGRKwjCo5Ov5jAej2GcbvWzHDbLKUwXq0f5JCx9ijVpjWHlXdh/gPViDNNs5zx7aFSYE2uHJ8B+BbPpEjZf5WMGrj12MO81oDVZB27ukwPkeR6HP1mMYns+hvlDf8Vtn92jzbeQYt2ycb5Xv0+Tb5YwnWVP8NPOyi7pNvbbffBIZUU4CxG5giA8Ovy9/0YDGubb/qsxJPQ3Ml6V3d8r+xQGSQLD27Az2sKs3YBB+pid1NcI8zh5OsB8SB4+H6IE9tjOoNPowOyhhAl/ilmVu5DeggY7O1ig0Fb/j7x/T+y5PtyXzVcwtvG/b79PsxonGF4PFvv4718PZZeHs8PjlBXhPETkCoLw6JRE7mENs34b2v0prB94xmk770CjMy9/fjdH8dtowmQdPH9IDrcwfOwwDRx2F+aRT5oe8kPp2aNQsscBbocJJMNbOIRu7wMWuWNYxX5jHk+43J/NfZFLPEx+rmHSjInGg54Ff2rco8jltgKFvFd3vo7I5UGpbLuqRESuIJziYJYwa3QU5DZo4A/e8uc9YuJ1zN87xl2hl3S938wy7xF/j4RdErl3olhyPi2EVMfcX+7Lv60n0GwM4ZbTWSN9iMnb4+Ee8Ws7g3ZjAOmZwr5euCfKHs2eJ8cEXkCd8sacst2R/IrZg2f5Tb7cMxeL3Bpl7py6d4wadvfLQ1nkVnG6HB1L5/mi8WR492WzKH58a8clZvfdAnonRO7dbOtC7qrtwW3pEZFr4nG63l4nInIFIYQbMBRgzQks0xtoJ8USZtL1ZxpXY/V8lO3gdtTmJXfbuewzmHRp6c68n0BzML98b5yJV28OmRevBNo3adDI7SGbdO0WACJp38DSWfY1QrM738Bm3lduWXSqzqDRuIHpIggHf9+tp9B1bYL+pkFjnw47XtiNpAvTdbEkXxa5JkzdcVQuI7tiJ4eNFz8k6cDoNiJgDbs5dCtmL3lGpD2FdHk8z9ntZgE3bczbpAlNcpu04SYNRcXO5kHSbKp/A79UmLPyrHIFp8PVs2vpGqZu2fPcqc7Y/saY5eU9/9adO37uTDnG8ttU/3ana8htmGY2Ccsl265wR+WlcFfkV9Jqq/i3/LITtQfP7j7QcvsFInen617SbEOL88Av25TO9ZTyHe3Q1uk0dq4SIxyPQjRx/Rin1p+E/YjY3ZQH4z/n8xxG+H8b58Bvfs/UYbccLf194cfSaeuvi67L6jdjU2U/Wx6xbHC7cGebqXI+vHXEH6aT/PbEPQ+aTNpVGzNa3sIIbWbrZNh+5RtY3FBbjnFpkRtqXxe23TZtvosKU5eVaQrzPqXV2DZM61+wzyba/i1r20lWtFsq/zObB3EbmDbTxcnn7VKXDbfeuvXx20BErnBV/O9//4P//ve/8Le//Q36/T7/HXN3FCMmmQQ6gxGMhz3b8Lon8k2Dl2DjbRoabvAO2AC11PvtwQQWixkMtei4+ES/Gy/slAajMcbLCNkEOzfTkB74ZLpy12F3JuxGMoBU75WzHZXpeAhP5BLYMA7dcBRJdwjj8Qj6nEb8G0W2aTzXExV20h7AiA6X3eh3Y2FXiVzshNvY2Vm4kSY/sEPSnQ35ofztwnC2gMVkoDqERgsFUcXMxxFRs540OYzW0Bkw5Bnno7tcnqMfLQxj6IjLXTrkZ8UyO3V4aNferBjUYOc5o2eD1B7K4TBrLsXXCpeXUckmPZiti05zOydbdWBuBzm0DQDTZe1vwHxAG44y/TeVOSwfvdnG5m++mfGzQVr4z+nAZ33XHcYtCYRb0ho6gkIdLHPjELcHuusG4uW+4PKAcTKzXaVZr0DkbufQofKVmbqG4mzS4QHx2vhJKwJY1pd2T+qW09mZHzlcyPHwbdVAEdabFKIkz1T+Tzf6nRzFP+aVV153KQx1nbRxDvymgV4P/XFFrcrTZlFv6qRT19lw8KHqti9ym80eTOyBrBwyap9aU9iY9y6wGe39DctOu4ODa6d99ZfyVXyTpO/UAwoH2xask8rOe0gHCbRuls5AS7mhNsDkhWqLHZsyKq0Jts2u3TitQflokah1DqipvC32nrMNsT51buaw2lKZPHMml8sGtt1O+WHRi2WjMztSDq8QEbnCVfHvf/+bG3hDr9eLujuKFZPYkbvL2tzh0/Niz6Ad1QeightXfO41jHr2wX3/LGy8mihCigbSiDMrGI3QwUa4mLHMeW8juWvq0+qqMyJ3SjgVwqIQue6yvjpQgs/bTufEMyXktujUsikK2/EMMtthKZFC7xrxZMOuErn8TIMdNzXOSryadBtb+oeS9su+8td2WgHc4cdErprBpNlIr7NA2E+7rK/C7bkznYxKo7Etv9McQRbMAP+VjTB8sxyfY4fagHatTqdeuJS+JCgfCv2+FYoVB972VMbMTPceln30e5SVbJmNXBsr2/llHeHyamZgc9hmGXfYrj9cf7CDVqK/yh6B0CxRLPvGqRYIqjxQOQqw5dIP+7BbQbbaRtIZCFRn0Gef2XRGiIpcV1ASKs9MXOJuEN5249gr8JvrcRA/Yr/JINuo+l4nnWeJ3PCGDG+G9TKbHW5xEGXTT+Ub29UVzfqb+qUGckV5UvEtlSOukzq+nMa+I7Y14Taaki0ILXId4a3c0uqRb/+SPXRcvbY5qbdFx9jJbbf4mdtOa/L0xmnLvg1E5ApXhTujStDfMXdH4QaM3keR4v2mGiLy1zSUdiY3aNjs86YzG4mY2WBvma0uFfHiBo2emziYjrvrCzYjvE3HYd8LGshCcPrL+qVwPLdug6+uAxsNuqV0ex2051eFyM3xuRa43rK8tUUCLce+7ZYR4hVbANg2sUYew8E4Rm85cN/B/yfRPbS6bHB6lOgrd2RIuHyKYdYqC7XCRaFCdo0Jn1AoVh1443B0+WLBGx+QbWdtp9xUpMOk1QgGFE4029518ouWaou6U2WPEyI3nPUvMY3YQ1NZHgzlsOmKrIlTtttttext93qi+PLzQA0wo+XBwPEoyj7Xj1K99OPCbYxXFw1oR4yPjbPn9wlbOpxKpwmnjsgthReIxIts5h6cpLLG76uBkipDVJ7c8huPr1cG+P9Bm8K0MO2OX0dE7vG0Kjdhv8DQapUeOMbzP07MbWXZiMb7uhGRK1wV//znP7GRwgqu+cc//hF1dxQroMKRdLXIDRs287zZG6n7YAOWZsnxHGy8/E65JBi5oca/64rcUmOoOoNQcMbdh26pEVdCU21poPSOoMezroWdyn7FwjR+JRUdB7nvwCCwLVN1TyfPckXEIgu6SAeIcFy1aFbXMcVEkZllo5kw6lwjnR3CnbmZSfFmTY9TL1wqd2ivaOeo4mQFJNuhPFPEaTXlBsuRu92gQNUDK04r0uGllfKLl09T2OzMDOsKJjiAMXGvtkcQ9/vEFThRfOHCs4e08rHcwM7MFG9m0PXKzpZn15NmD4ZYFnmrUAttHc4OunA8CltzPtQRuaPM+d2g6pItf57fyg9vz3WEeulU4dyHyL3IZlrQ0sCUwjTlkds52vLCWyDcvI3H1ysD/P/I9hWNXe0qxZ+ok1Ztf9rWE/HfbJOJ53+cmFsRuQUicoWr4v379/Cf//yH9+T+61//4r9j7o7CDQEJqEBc0XPsbGPbFcKGLbpdIV/DgkXYPPgIQU1svPxOWXUqTqNmtyu4S/k73uNG7sw+t9J7FtUZXCRybRydd/dL6POzwk5lv8IwsTOgwxuYB/7hJUN8u8Ludsoit/LjClWHmLBzo1mqspBCEdlx9gby0mZZHOb4nPYUqj3HagtBbNnd+7gBhxmuFlRQM1zqQGOz2DmJFmf5k8tnxJ3XOfIya7t8R63e02lntSrSwbO9emaKxXd/6Q88tnQHrpMXVfbwZr/vGRY19UUu24cElONGCcJCPPH+yqQP0zSDLENWm8oldwvHo0hjTLiEcWE3sVn7OtsVwrzAgYv7UZI66bxPkXuRzRAOazjng1627nI7PYbZtB2ssNUQuRwvd++6Zr/BeDlxCuKvqJdWsr+7x1+Rw3aVwWqn0hDP/zgxt1Vlw9969W0gIlcQQrhRIgFFJHzal5aTjh08KzVs9uAZuteHtAb6FHQrKtpqYON1QuQi5vAXnfDtDAbQMwe3nK98xd5ThILzmPvALYlIbadWfwrL5dSmm/A6aM8v3x81c0l/h0uHN3a/HPlBnW7pEF4Sdj4uNAtZ7mQ4Pgk+dw9G7XFQchN8+lenrzUuZor3a3UQyy0DfBcvxmO+1R3vgW6coMM2gf3tbPsGluMJLDcVs5W1wlU2pC06xUGxA+xQQHTxWX9ZxI/Dbo7glmdVTZhhJ72FOQr8pDeHrRbHB32wyS3DnFfBqoGZ7TXLzSysOsUeQb4VoNvyZtV9exSwLWt2+GdzpsjluLh7rcke3SaLSiWeaEYS06oPfM6WJNpWsNlX5KvhApFr2hg+eOblD5ZjLCvWXeA3tyNeGcE81IfazMDldDoJvc97ulazvToOHPezRO6FNiN0Wvwr5qjcKhv4g1ZVP46KXBSb6nPfM1ibWWR9YJTKvG0z9J3aQxwU0Aysel5P5Ko4++cg+ACp027F8z8OD1ib2G65B9T0Ni/3UKI5MFqK35UjIlcQQrhRIoE1gnnpqq7iKhmiUuQSdIVYT+1jM+93J3f43KWNl98pq04Fn3viExvraXEjBJF0J85hsKr3CF9wHndfdmuvveHnZLMUsrl619ip7Jfvj/29hBsnupJqCB03jSiCF5vIvlqX9QQ7dD9tdJCqjZ3+bjFwbJZAZ+jnN5Fv5jAwgwYKk06OO9f/KPZwO3KvUSv7xYe3dPr32FGdunXjZLhcProw36xggp380fiRaDFu7IxuxldPeSJgfwsjxy8SIsNFIY4IrgOlZXMlgOweZ4xb3yuLU1inKC6c2SbXHhZ9Srz8dbp74kyRS4KHr4ey9qDroVJPPKnZ9S4vu9OqwrBPA+SqFQnNJSKXKOUPxmeFcXTdhSIXKV895l9hVSed7M9qYuufX7fPEbkX2oxR23XCg6a8ilDallRH5BLhFYhYd0e3pXbbbSuUnzVFLkJXuNmJByRpDrDeFmU8nv9VYLgD08846QivsKRr4oK6+y0gIlcQQkpiUp/etjMFZ6IvFfeXpxR8ipmW546hTzxfxh3jfjGPG6668LzGzA9jZmuqOhEV91h+udQK80jeF9DMk3v92HEqw+UtDUUnd55NjnNffrE/tcvEqXz6inC+xuyhxH1p2wtvIUCh4wwy75XK+BznZL5e6O95fCWbnaReO3AX7rOOVlKrDbpeROQKQkhJ5D4c1TOWDuHslnB3eDnviSzdYWfeiVzTdS67eZdnfy5eKXhi7NMhNJ3tHc8DNVtYEmybqX/ThOAgNhMeDhG5ghDyiCI3X815ee4oVYeohLuRb2GVrex+xucOLfeHV9k9X/awyTLYPDuBoz/EQvvEp0teiUkXI/661cV78a8esZnwcIjIFYSQfAVzFphp/K5VQXhy5LCaj2HufEVJ+HrsVguY0mHTbhcGoyksVk9gxeCJIzYTHgIRuYIgCIIgCMLVISJXEARBEARBuDpE5AqCIAiCIAhXh4hcQRAEQRAE4eoQkSsIgiAIgiBcHSJyBUEQBEEQhKtDRK4gCIIgCIJwdYjIFQRBEARBEK4OEbmCcGXwV9Tm5ktBe8hmU1huruMjAX7a6rKFdDyGdBv7TYiyTe/9Yyj5dgXL2fP8YMWpcpdvljCdZVfzSeUH5ZBDngef8N2tIV1Mj37d8ZDTezECvyq4rO24nHstE/oDRaYNO9vvfQaz6RI2Jz+RrdrK+66jj217FxG5gnBl7BY9aPQWsKO/9+oTxdfyuVcvbbVR38Yfr2K/CVFW43v9rPXhdghJI4Hu8HmK3FPlbjVO0F49WDy7zxA/PiVbbufQwbLRHoyOiFxVhxsxarYHl7Udl3OvZUJ/at60Yef6vae0o41Pt4HKzr3F/X5t7rFt7yIiVxCujFKDcsjh4Pz+nLmssbw2kbuGSfOB03PPIpc75eHtVy+H60kTGhcM+E6XuwPkh9hzISS0JQuw9uzEqsHd6/DjC617LBOByL3E70OtGW8RuYLwzaGWyY40ELz8VmfZDBummBv9vicAjJ+VDRn5FXkPuZcGpXaaXKrjdJmbcthe2k7ayFC3g6wTt3uglm2rbXA6PcfedSF3FW48kVvTvyP5sRo3qsVl7bIWie+Z5fRoPGw677lOnSqnZ6bBEvW3Rl6dig9Rx40J66ibMqEt69m2vsi12xqCeMXDqc5zy6X5cwQTx9rtZEnk3h9+XO4ich+o/twREbmCUIIqeg/mWQo37QSSBMGKn7RvIN257rawvGmr35pN9W93Citn3xNX7nEGu/QG2kmxtMbPR3NI6X3yn35LujBZ59ptAs0mLUkl0MZO2d3LZPxKmm1o6fem+J4Xpm1Q/EaLf8O/Q4rGcw/ZpKvS0mrpNE0gO7Ests8m0OW4tGycJtnec3Mq3n/9lcN6qsM29kSbL529tCptU0jnffy9sFF3uj6y3yvoIHP8G/O1hfli3jkW/5yW2pMh3Iad+eEWhkkT8+wv2M460Q70doh5a0VVHdset0E0/6z/OaxO2I/FK8Zzs56q9FbN1rLIHcHydqTKrQ6L/FuE+7vzDSy4HmB+tChcLLM3GAbXgx0sesX7jLXT5fXn7HKqRYIXDyft59Up+hvLX4JthJcvjn8c71Tnpa7fpXJq8hrt1m5D07FzuSxpOP+msPT8bcFNuoNc56m1ZT/w42g+GTdrmHZVnWq1jZu08IfDn0Om2yhqu7iNct2cwLUlDzpsfhBVqwdBHY6xU+11A+tku1VuF8I8LOxl8rwPC699v6wtNPhlQtWDcartq/uUchvotEVsD+1mOfVEruu3ap/KdtvOnTaJ63PPS1++WSh72XDaWI7mMML/e/1FqSyqtLhC+Nz685iIyBWEEtSgNqHZGcDCCoQtzHvYMGFjrhrNXAkYbPSKTpk67RY0OsXSG1dubNA6N3NYbYvZANVIJdCbbax/2RjfpcavNYbM+LmdY+OWwPBWzyLw/rUWjDPTgGBHOcHGrDmBNf8dNii+yA0ht0lzZMNbT7Ax99Kk4+WkqcR6gg0bikJnr2WejaHV6MDM2K9OvOcY75YrynLYzCh+2IBrgWns2XYEqgpLiU31XojTQWInPsFOxhW4p+Ovtgf0l75o506kM1d24fR1rOhhHBFMf9exbR0bVHX4LLSDd1fUSZNAN2FSZ4f2a3bHkG5QGFXNTnGniJ1Va+gM7LDTH9OgbACp7ej3kA7QnjdLp3zoujK8tTYuz6Derf5cVE6R6EzumXWKOvSWI3Dt76HIRbHZmxQDVFWmWjDd6Pew3DXRlktrS7JbAzrz6sNXJl9aaFtz6GiLZUYNlJ045RmMsMwWftXJJz0oQxFr3eyXMEDRYss+hY/p6gwWhRtqozD8m7SoP8dwbRn7O44q80MMw8wWKkz5xbR00C5uu4D27Tjtgh+Oct+ZGftgXaHy019au15axgx+mVDCsNnsOe2M9q81hY15bzvDOLv9AqZjM0P7Yrl16rznN7czTh/BqPR5+eaK3JzeoXLkDE5wkDBsqXDOErln90mPi4hcQSihGtRQ1NDhGduw8MxQu+iwDHkKN9hIeY1RZBaQnzuNAIMNXJsacq+xyrFzwsZxsua/D7sVZKutbQAZjkvRgPkNyhGRS+8l2DjZRhfdOqLMQo3oERFJ+y1N/Aqowzwn3hR2I9JR7mGTZbDRQkDZsxATih3Mu9VC3thgnG5ghp26KxCIOvH3BC0TCt89LPu+QMnTgbPXsI5t69nApscTuVXvbmDadmzDnV0gxmOwu1ieb2FG4sCkk/Ow7wg1DZdlFMNaIJTE5Z3qTx1bxomJ3Pp1CoU2tgEkcGfBbDb/XhK5Qf0m2zl5wW7soNl5D+tu5al5zpfA3pzuBrStYFPw/uOB9r9WPoXlTOHZLBa+riulwUMFJo1G8IR/x1FlngdeHkbo7WCVrWBrBSnhizE/HFV/O1i/C/vTcrtpey8vYwYOLxS5YTvD9i/KGe9dd4S2Yb/sc3qjIhehvKbBit0mQAOohlNvApHL75fKJ8LvVdnM4Nv1/D7pcRGRKwglYiIC4YZCNyzu/z2ONawF0edBw2AIO2a6PmYy6EK73dao5UmvAbR+q7SY+Fhoyb6V+M85fLV0WvitoKXUQXSmRqWXlqnCd9q0lcB0ssjReFekPaROo1tG2YCXVt1ZE6Zm/PcpDJxOj5cIg07CF7WB6K1j25o2iJbPI++WRUqs3AawuxFkkd/Yv1HmuKOl7TBdtLxb2KskLu9Sfy4qp4pSPDS16hTNluKzmP/8u5OeOuWUB81eGVKz2+UBl0PUbvH2yotDzXyiOGazIfQdN7z87PlTzrcqu8YIbRO3VUg8jR75BpaTAXSduPMWEB2vMJwc08JbYHCg3x2MYIaDYCsu71DGDByetVVFG+XV2yPtGLsLyqObD4GoLYlezreifajOL2Xno/UvEs/z+qTHRUSuIJSoaFDdBr6isQ8bgKrKHX1eIVTcBkldxdSC4XIDO7Nkt5lBt7JB8RsthVq6TFDAeTMGHH6XZ6n8JUFFeJhAodLbpeW1yDvm8MfJeOuw5ycEXt1G10fZYDTHMFCo+O7qxZ8oOg691BkuK9MsjxHC+yX03RmvOrataYNo+awoO4TXoVWW2wB2d0Tkev4NIY2kyaYrfMe+d2H9uaicKmKde/06NYUFLy9jvL0ZQ/27k5565RTLUZcGWD0YjscwpL2aLRQq4WyrS9Ru8fbKi0OtfFLlOsF0qq0hipRmaT1/yvkWs2sVoW3itgqpaJMNXPdo+X0Jm52J+wZmaF8Tr3g4B9ht6P7mIfRwUJu0p2rQcYcyZuDwrK0q2iiv3uq2aB5px9hdUB69fFB5p8Q3zVIHs82cb4HINQNVD7+/iNvMT8v5fdLjIiJXEEpUNKhuA8+NTtCQECxuguXWSOWOPvcavAK3A+H/uyN0RDUyVQ2K32iZ32nfb9hRs9vS3i4k3/JS4M5bMi6gJTZv1oDJYbvKYLVTfp2ON4Vd3iLy12GNwmJiL0GP27OiA7EU+almb9wtGvXiz+h9t7OF2ktZ7EstMFsfeHuDt+xYx7b1bOCmp3BX8a5elrW2qRApJdhdpHyH/nGZjWx/2G8gy4qZsZIIulP9qWPLOKV4mGe16xSWtT6WlyBO/Ltj1zrllPfoJn2YphnaClk5M4lVRPMvVh6CONTJJ3bTLvbRM0o8WX8qyk/MrlWEtonbKiSeRgvHK9jWooVvVORuU5iMF7B23e/mKMxM+3t5GTNweNZWFW1U0OZful3BPsN3d1R2w60IbJ8iHHZbd7tC6Xo3vw04r/4Ubh4LEbmCUKKiQfUaeH1QwT2YQzMHdJCjRgMefR40eAa3A2Hx5BwU48MC3SY3TPEGRaXFdqyYBjpQNV3v/dkJ3WjTuwmnyTTuO0iHrVKn7kHxRuE4THe2odulau+iSUvdeNPhmWK/Ix10IhsXjXHcnvVFLv2tbOAI3RrxV6gtCNTZVC4pUyfR7EGvU+4g69i2jg1sJzNdq5kTN++8d5X/PPNoOmWvDB+B3dHMlhPfg/bPPcim60HSm8HaiH5dD1pYZo09yyLo7vXn7HKK8D7V3hTWPNun3j2/TlF5i8TTsWs83m45pVlcFDRJBwajMcyWJHRXsNn7ZaZENP/i7ZUfhxr5pEVhz65QqEOPrSbZTPtTUX68/CX79d0DWz6hbeK2Cqlokw08AG3CyB5+ovLQxbpYxMsLx8z8OgfVdssB1p8bu4+c3B8tY6XBpw+HZ21VT+SqtogOnq2t0N2v6eAZlrewPIb5wANEbHswT0urTJxvTjgHtGdLHzzTbcOBD55hOFQGTDy1XaltVH5Re6TsatycX38eFxG5glCiokEtNfDFFTPqEET5Sp6qyh19XkPkUsc072PnaMLkq1pSL76+3yotpkFiv8y7DkXjS9ca9dReNv4tgeZgfvJzkHQdDy33Gf+S5gDmVmwhNeLNnepCXxVl/On6V/bE7XmeyCXIH/c0+sn4GzZTHiRUH9xSAjR22LCebU/bgMhXE+hoN27enXy3QqSUIHddjJu9akz713FEqYU6/45XDzqj8HAfPvdELnF5/bm0nNJe9AkOQPgd4+/ZdUr5wyJBiyT+3bFrnXKaZyOMf5e3Koxpu0Kf9nvSzSFHPn8azb94e1WOw+l82ntXxqmrwTK68cP4U1F+3PzN0xsMw7lFIiCMV9xWIRVtsgXLPl8rWMSdrg9LnXiF4ZSv0OrA6NZdCTlRxnhAG5kN1XB41lY1RS6Sb+YwcNsivgYwK5fHUj6oQ8rRg6Wcb0Hfsr+FkakLBJX7FdaFIJ67xcCzQX++YbtaN5fUn0dERK4g3JnLLkW/E3xB+YlZnztxWZrqfTjjVLy/gj01p+LP+3LDvcxnUyd9d7HB/duP7XLSPxWuu2xZjyeS1gevUy5qMFRaDuflYhQjwaDmfjmVT/dffh6P88vgyTarwh7bWbs8Y3qPnI7XPXFGm3zUro9af+ojIlcQBKEOvBwY26cqCOeiZiZLInczVVdKPajIFe4OzczWuIpP+OqIyBUEQagB7z3z7soVhEs5AO9JTtowmC754Fm6GPHWENojW7ldQRCEsxCRKwiCcJIdZNMxLIJPcArCXditFjAdj2DQ7cJgNIXFKtizKQjCnRCRKwiCIAiCIFwdInIFQRAEQRCEq0NEriAIgiAIgnB1iMgVBEEQBEEQrg4RuYIgCIIgCMLVISJXEARBEARBuDpE5AqCIAiCIAhXh4hcQRAEQRAE4eoQkSsIJbaQjseQyicbH5A9ZLMpLDfm4wq+zfPVHMbzp/TlpxxW8zHMV/IxiDJBfdlnMJsuYZO7bh6GbTp+YuVEEISnhIhcQSihvis/XsV+E+6F/QJ6aONkvNLPfJvvFj1o9Bawc9/5qtC36hvQW8gXqcr4ebenvGskj1J/VuPGEysngiA8JUTkCkKJKxO5eQqDRg8Wu8hvX5NDDgf799cTuXk6qBGWiNxqyvXlkB+c3x8OEbmCIBxDRK4glKgrcg+Q5zlTiLUHAMUgh3OI/GYxcYmIix3Nmh4TuUfe9SB3DyVeLhe5hxp5cMxNvbB8kWv8O5onJt/OtVmN/K4VPkF+ldzE8/u0HavKyf0MCuvkY2gbEbmCIBxDRK4glAg67Rz/bifQGmd2798+m0A3wQ42aUGL/+3CJNvzb/ntEJJkCLehuDjcwjBpwmT9F2xnnUjnfIDbYVIs4ecbWNy0IWkk0Gw1+d/2zSLY65jDetrF3xqQNMkN/tu+gaXeH8kiAJ+5FLOROayOvMusxhzPzXqq0tsYw8r8ZlnDpNmA4a0jfvA98s+b+dzOoG3FtrJx8fs5IlcJznG6hmk3QdujzfBdyoPp2t8zm690vNHuTf63DTfLrf5dhenbp2owoEXuNIV5H8O07hPoTjLYe273kE20XVst9W93AtnedePD6R2nOi8xPWxr9Hu69vebbpdwg2WRfms21b/dqbsnVdsm20HKZcfYmNLag+lS2SNBm1H8Wzcp7HJjR2OjfmADp4y12uyGyklq3fh5x2UmyOfCXhonb/PNQqUJw29RmiiPFhs/3bYuGD+oLmBejHy/BEEQXETkCkIJp9NGATBBAeAK3L/WExS2KGqdQ0h5NoZWowMzFohK9PWXSvQatnMUtp05bOnv7Rw66H7uCkpHBJNQSgcY7s1SuWe2MO+hABre2rjs5iiOWq4wzWEz66FoRTFqRHbFTC4L7eDdFYkzEuhGSJNgQUHU7I4h3ewis3iK1dgR58h60oR2pwOJK2a8bQHKxncRuc1mz8mDHLJxC9MzhY1xh6K602g5opZELw1OEhTkRd6dM5NL4qo3KwTYYbuAPoq+1mRt3a4nKGxR1K7sYETHrTNz8tKH44ADjd6kEKyqTLVgutHuciofJKodUUuit9WAzsykUcUzSTpwM1/B1s56arHZwrw1YhvLYI8GCEhvbt7HuI6aRTlFDjxo6zlldQ9LLJuN/lKLez/vfJEbQANGjG9vrvN9n8IAB4puHpl4FXmU8+CP4l4IaxTxQ7QppUlEriAIFYjIFYQSutNONzBDUdlCUenO1JGgazqiRkGzsCi89HNP0DKh8EWh0EdxYsWFFoFtLYRYmPZhGc7+8WzoAFIWUBhPFFg3qT97SX5vsgw25t2oyK16dwPTtiM+WbAEYjwCC6HmBNb8N6UVxfoKRZmNq7JP24oxZeM7idwwD7yZYpVPjZu0EISazbTt+X2WyLXCrsCfuSe7moGKAw1gGpHnGiVyjf0MW5g5ecFu2o6I1+TpDQ5EzAy7FrlYZv1lf2Vff+Cl8sSWOQMO4po23/6C/SaDbOMP2FS5MGH6eVctcnEQhWLfHfhwmiI23c4wjwY677j8xmyn6pSIXEEQqhCRKwglVKfNS7ruzCCjRUSzDe12AC21mo6ZZ6iKjpmFUCBiPFEbil4WCiiwwzDatPyt/T2511YTc3fkXd7iYGZlPTFzBBZxXZiTfyQ2Oa05pAOzjSEUf8rGdxG5xbsaL00VboggTeeI3K6ZgXThcHXa+f84CCrlm1rmH5QGFYp4HPw0ePniUivdgRDVRP2MlI1dNoNh30lPC8u6dRP4XSFyKY1JC+1uZ7h1+EnLs5P139SXI2WQ3xeRKwhCBSJyBaGE6rRHc+zsaSnXEwxa7NCStT4o4+Hsw6UlezWjtoV5x5+1ZdztCfsl9N2ZW+7Yh5DGwkB4ls4VV66/IRHREn2muUjkakFLIo7FjH6fhTzZgGYH7WwjcW0iV4er82S2OZJvEZ6yyOVViaQH09W2SEs6dIRsDZFLW3wardJsLIc/xIGhY6MCvTWG/RtB5rznvS8iVxCECkTkCkKJotPOsYNtJy38fzEDx/tPS8vBOWxXGax2zp5Vve92tiCBN4A0cvDIbH1gIeEu27LQiGwT2G8gyzbFXsikvPf3r8MaFuNJcTl/IFoUFe/qJWArkmqLXC3UhnM+mGUPoVHYKG5n07a3Z9fYuBBjvlC6u8hVto0thdPgw/X7HJEb82+/7DvbBciuTvoN+RZW2Qp24WFETR2Ry25KWxrC8O9b5Cr/im0mCi6vdUUu78MNB4sKTpO3rUfhbZHg+Mh2BUEQzkdEriCU8DttEro0C2WFLgu3FgzTnRW6u3QIrSQUkmoLAh2OKe/h1dAMZ7MHvU4ojMz+xRmsjTjO9R5hFCU2XBQJdCiIZg7Ve3t9AMsRQ3xPbhPjq2biqt/Vh3loSdmIsTNErrILDgAa7s0SNItNh5uC2xe0jR9S5Jr4uAfFOJ84L4u48Gxzc4iDAmf2sIQKkw9pzdZW6O7XMwzDPfil7cqHpIxfyq7uXtSQeHqDdOpDW61hat3lGwrfFZD3LXLVjR+NXiFEOcxWE5q1RC7FBwdyN0vYxWZpjQB2bKrS5ObRgeuCOnimnx20TTHt1m67FIZ998CfIAjfOiJyBaFEWRAYQWhmVvP1FHp8hZMSsUlzAHMrFh02U751ofrglp6Nil05xuKo412b1Bn5h+BIDG8WN9BGoWXjErmuarcYqOuh8PciXTXePUfk6oNSdl+yhg8ROQeZFMrGDypyEXs9lU6fe9VbAfo3UFeoVadVhTnKtvZqLuVfE3rhNV9o1/W0Z+1N+dYczI9+5raWyCX2Gd/2UaQnvG6rwjYXi1xkfwsjx4Z8fVg2d9wEfrsil/3ScfVw7EziFAdC9rekA6PbMI/2cDvy6wJdnbah20W03egAXuLeRiEIwjePiFxBuAPqAvuq2T+9LxdFX7jEfR7qEv6q/ZwKfVF/xXL4ce7y7vPgVD6djf4owcPlyQlqhX+/3LsNQzhNp/yvUxcEQRAUInIF4aHgw2SxvYSCIAiCIDw0InIF4YEo35UrCIIgCMJjISJXEB6EHWTTMSyCz8wKgiAIgvA4iMgVBEEQBEEQrg4RuYIgCIIgCMLVISJXEARBEARBuDpE5AqCIAiCIAhXh4hcQRAEQRAE4eoQkSsIgiAIgiBcHSJyBUEQBEEQhKtDRK4gCEKUHFbjFiS9BeyivwtfF50/fckfQRDiiMgVBOFJsk3HMB6PYb7SH9TIN7CcTmGx2pfcPgS7RQ+S1hhWufv8AOvFGKbZznn20KgwJ+k28ttXYr+C2XQJG882j8RhDYvxBNIt/b2Dea8Brcm67O6+OOSQ53EO7GYLKZZTFZ+HI98sYTrLYB/57WzyFczdOO+zR8zPHDbLKcyyx6nHZ7FNsc1JH/ArlY9TVoQCEbmC8FTQnanqOIXVuAGNRgN6CyUoV+OE/240UHgGbu+dfQqDJIHhbfjFui3M2g0YpI/5JbuvEeZx8nSA+ZDAeBX//UHZzqDdGEBqBBn+3Wl0YPZAwoEGO6rclVHpX8HY/v/hUOW/B4t9/Pez2C2g58R5z2l8rPxEeyVov97ifgT7fbIaox0esn15nLIiFIjIFYQnghF10gAqQpF7WM+g325Df7qGPHB732znHWh05uUZnRzFb6MJk3Xw/CE53MLwscM0cNhdmO/Kvx3yQ+nZY3C4HUKjOYG1fXaA22ECyfD2QQaILHKPbll5LOFygPwQe34BgcglHiQ/ub6gMA/LDw7on+Rg/h5FLg8ES+Xm64jc9aQJjfEq+tu1IyJXEE5hlyuPdwIHbwkzBnZSlW6oo34AkWvifqRzNPGu1YGSfzF30XBMeo/Y7YhtQ5F7J2rmoWINk2YD+svIcup6As3GEG45nTXSV8sNccRdOHNZk9PlUXE0/7HTT5IzOv0a5Y056a66rmxnbWgMUn+gQ/G0+XK/XC5yq9NgOatcHuFce0ZEbhX127VIGjiciMg9wsnw7stmMTyReyRdhiN2j5cbv6zcW1rJ3ZGyz23pEZFbt614jojIFYQQ3QHQbNEyvYE2La3R30jSncI6EBv5ZgE3bbOUTiTQna68TjhfT6Hr+ENu+vONcmPCC7hI3Bm/enPIvLgn0L5J/QZ3n8Gk68e7fbP0Zi+N0BxlO7gdtVFI6HiZcNpjmE+7/Nz40V9sYXvSbjtIhx3nPSTpwnRdLMmXRC53QPjMdBzm7xKu2NlDNnHjh3FpDmC+ObL0v5tDt2L2kmdn2lNIl6fSl8NmodwkzSaHn7RvIC35ubPxs+4Cv1SYs9r7BG15TJrQpDgmbbhJ3bKkRPw4XcPUzX/P3Q4WvSJ9CrNUvuffunPHz50pSwk0m+rfrjfjnkM6wLycZ7C8wXLkxG1s9lxrd9ZurbZy03Ltpvxpz4L9yTzj/DDL7ZeI3J0u/0mzDS1Op1+2KR1rrjdor7ZOp7FzRVhq20Qx4OC/x6n1J2E/Qrv/Bfts4rc9FJfllOuvjTPXJV+M2jbLLUdL1+4mDUVeuWXc1F8XVZd12bKiS/1ty2OCaSH3d7XZfgn9RtvbxqJs6JcTXhkwAzm2wwiWtyPMv6Isl9rOfAMLKscUlxbVW3Kz0HuaVXlw013YVv02Wt7CCOtoddtQtFtJq6X+7U4gs1tVtM2wXU45HhX9RbRvKcpQvjqVx88fEbnCVfG///0P/vvf/8Lf/vY36Pf7/HfM3VG8hiGBzmAE42HPNqreaXtyy8+xsesNYTwaWPFTHIbBho2fteBmnqL4nMNNS/093eDv2BjfOI02dRht/PsmNpN4Cjfu2GANRmOMu2osKY43Zl/nAePEccDwOgMYjYe2I0wGqd0rZzqqBBt89hPxRC6hwxkNVGOr3GGjT3Yb31h/W9ONjed60uJnSZvCxjje6DgmA0h1Q35S5GInTHaycIdEfmCHwZ3NAf0owpksFjAztkiOzC5xOPHZS172w/dbQ6fTyzO2ZbFcrk79N1pDp+MiUU/P3GV26qiwo+vNigM/2HnO6JmTBxxmzaX4HOPewnI1dETtLh3yM7vdgZeQlQ1m66KMbec9tE0H5lYUqNWFpDQDpMrzKNN/cx1IoDfTgzYk38z42SA1/ithnSR9mNkBBgrWIeaZU59IhCSB3ehgWREH5c/wNpzZQnfdio7+jrAw6lIemVk1jR1IKeFihdN2Dh209zgr0rmedPwtFrQigGV9aUXLltPZmVcLjKjIRZHUmxQD6jxT+c/tCj3j/cqxvFF1q1Lk4kCvh/64gke918R3lO1JHCZYhorysoflAPOzvyz22nI7Eda1uMhtNnswsQOeHDKuQ1PYmPfOtpnytygTaoDU6eDg2inTVL/s32wHrH99Z6sS5ifZq9gTv0d/Emh5EwIUF3wP66mxM+dPSXyrskL1oLCbetddnaD2kURtcehV26NjBrsqbUnSwT5lBVuvPJbhtjSsx1w2gjxe0YAodhbh+SIiV7gq/v3vf3Pjbej1elF3R7ECDjtpV2hyZ07Pi/2RRvQ0R5ltoFTjQe70EvPe+Ecdgu6cS8tcuuFHd+4sw9nYuDdRhBQNlYmnaejUwSH8uzd3xNotDIP02dmYQBC54RR7RYs0NG6KBptnSjgs0+DvIJvSzQkzb2aCRAq5M+LppMh12aV24GBnBq2YG8Kt7SycPKs6kV8pctUMpmczzX7Zx3D0O7ylAfM6FNE8Q1zYi99pjiBz4sZkIwzfbE+omLmMogRgz51hZZRtbXoxfUlQPhT6fSsKKg68cXk2M90obPpB+ddkI7SV6bj5nXLnyULAbofIYZtlsNr6brgcYJ6zcOI89WfnFKGgCbDLvlVULwcrcUlly6cIyxe5h90KstXWt0cg9thPp47YZyadEVQ8QpHrDpoIlWcmbnxYzRWdGi57TpxDkcvvBfHj9zYZZBvVDrj/t4R1J0i3QrcTocgN6yNv07mbzXhvvSmDXHawXq3QX2s3ZS87aArsYOCybOLLaeo7YlsTbCsycYuJ3FI55Tpv7EaDyMgefG9vvrJZ3X3oMZFblcebaTsS7+eLiFzhqnBnHAn6O+buKFbAoQDxfiv2zapGqhB1RpgplFggkaw6EZrZc2Y5kxZ0BxNYrNyGrvDrfkSuH3fVQeJz3dAZAektOWtBRc97C9V5GXel2byKcErC1HPrdH4YFl0jNBp07UysmckuOujAL+6A8FnYAOfYKWiB6y3LG/fYYURnfKs6iLCjtlDnU3HLgfMOdx7OrIyFOymTv0owR4W217mrMMszlxEwDkl0764utzoP+SR9SRwRqgxae1cdeONwdL6zeI24QXjvrMkrfqe8Z9a4KWb+VrCYDKDr5Bct97szbfG9t0HcA/a0vcTxs8RNWQga4mLFRQkXt97SdV8Tp2y322pZ2rgpH57L+fBc5cALUXW4KJfxeLl2OGITXSdtnLn8mjJ33JYuu2wGw75jxxbVLUckcjihaFT+hyK3FF7w7iU2U3VJlVV+n+sltc96oMRhOHWG7VCu+55IZDcJtGzeGmhbQVEXjoncUhvvhstxwnSV/FdtpGp/6ucR4cWfOfJ+hQ2eKyJyhavin//8J1ZQrNCaf/zjH1F3R9EdgL+3k7hU5CoOuzUsZ2PsFNQeK/q9aGQKv0oN4DnYuPuN1F1FbrwDKocTdV9yS2lVQjPpDvku3PF4BD22WfFuyS9ufPGZ13EYv1xbaoz7Zk9tiQhZFtsnPHgmNiIW9Yx8LH/YvrxvVs/2eh2KxohXngFS4rUUZ4Q7YzO76c2aHkddAxXrnMzsnslTtFdUtAWC2jtkV8Bp7erZbLRxUhIxhL/VgeNm3qlww+UEB6XdSQqbnZlhXcEEBzAm7nF/iDMGA2cSFysuvnCh/EtwwDXE8rUzM8WbGXS9srPl2fUEy+YQy+KQ9qK20Nbh7KCDqsNF/sbj5YoX9X+/jmt0nbTx4bpi8vHIew48S5r0YEqz1iadKa3aOOWBwwnLh/L/XJF7ic1UW6yEJ5V7Ewat5tDqSOkGhAqB54lEdjPE9kGnOcAMnOP5U1fkdnlbT7X/FTarwIs/c+T9Chs8V0TkClfF+/fv4T//+Q/vyf3Xv/7Ff8fcHUV3ACXhRM+xI41tV3D3YuXZCMUBuqNlchIIfME4iirnIvfdvMvvFbOJWhzhszt11DbufiOlOkh8rhs6u13B7vGid2kfHr1b7Mt8EJFr/3Y6MD4k4r97WuRiQ91XAreN6SrNnEa3K+T8YQXKD/uRiZCqQ0wYPg1OyvmDIrJT7A3kpc3SLHGOz5vOXlu1haC8DQGfYzmw+7k5zHBFoQJe8iyLUi6Pdq+zFhiRg2w5iTNTZunvigNvXofJWzAi2wf0nk5TT1hYjzLfjRbfZmac3YRL6zgwoD2lJi/i/ih37tL2fXKuyGX7BPmvhG/hhvfOJn2YphlkGbLaVM4kG84XuRU2RWptVyi9536URIUTll8Wvm4+cF0P80WXQSu6/DhbgncvsRlBaWlP5yh2nf3mVK96M5jhIMsLl+1QFnh+mad4uXvXNfsNxquI08UilwdstLUnaGfyLayyFey4flbYrAIv/vZZvGxwn3a0vD8vROQKQogVYUSxbBQ9eMYfDdDPW30YDMyNAY5AJtHEbhLojhaQ0sEzfRuDe2hiM1WHpMgdLYXd7eCZ31CHIpdnOMzBM2z8B4PiYF0L3RjBWBKahopwou5Dt9YeGFZ/CsvlFAbO7RTm3ZJf3BHgM21/NXNJbsKlwxu9X644eEYntWn2xx6OK33JzIVmGNUhEleosA2x8/EORu3XsLhpeWXCzOSN7Red9rCe9VBA+p29mQkr9mmbw2lF3DhMM3NJX6Xy9jEHaLu2xsVgar9WB8CK/FCdLG3jKQ4jHWCHAoIOnPSXRb5x2M0R3PKsqulww851C3MU+ElvDlstjg+7FIZYtopyFLmNgQi2Q3Cn2ykOGvEtEd2WM6uuwo7NMLItH6hjjosVF1+4cFzcvdZkj26TB77KDc1IYloTrHejMcyWJNpWsNkfH9yqOlzUt3i8gvyhusd5vS6VCVd0hyK3eK84sLbXh9pUfqk6QvvTzSCID6a1KJ2OPzzQbMIQhXE4C3meyL3MZgwJWkqvO2DjuoLPkmCAVkfk4oBVfe57BmtTF/WBUSrzps3gQWIT24qtW3/qiFyVt6qdKeodtQ1FO1NhswqUcJ3C2q3LkTw2h1TN4cJrQESuIIRYUTaCeekaLnNNjMN2CcNOIdL4GpZF0XBE3aBfHfeEPkHX0jjXatVtwDxs3P2GWnWQ+Nw21Ei+gmlP7RU0cepO/M+GPojIRcwVSyZcuqInm6s4mndPiVybphKumKSreAoBT/hX8VSwnmBj74tSmqFtY4ewWwwc/ygfwzKRw2buu2n2YmHu4XbkXqNW9ss98EInrptOJxoj38xhYPYcI7S0O3E/n8p50YX5ZgUTpzyW3LFbFGfGjRUIGYzwb6+T3t/CyCv/HRh65V917P6WHiTcFoJx63v5hJ1yinlu92FGwib4wOTDnQiPi0mXQLhgPZ7zCoOxB12FlXpu1Oy6GnjRqgLta21iGqIrEhpV3n0hdFLkIqUyQYPAbebHORS5/F5wNSLG1ysjlO/O73wNVkYz+L4/bn1R4V0ici+zGcODqXD/u956Fu5NryVyifAKRKy7o9tgVhTTNTDtq/GznsjlFaep225hGzKYO23DeSKX2npb350yczKPrwARuYIQUhJl+lLwYBm4hD7BfUyE1HLjcYDdSi/PHWFzSrQd4+w43Rc17XovnBuWma2pEjfKv+M2u89yQ0LObDk4jbrcPTIbw1sais600t0F3Jdf7M+95dNXhPM1Zg+1Z7+0HK1v5biXz/ZGuDR/Tr13n2Womq9js9PUaQfuwuO0kY+Th18HEbmCEBKZefx66FkPM9KuoDQzINwdvrXBXer/etAeyvLVYOfDe8FREIb78J4r+3QIzaNbT54iajavJNg2U+dgouAjNhMuQ0SuIIQ8KZGbw2qulueOkYaHIIT7wTvs8fyh7Q+l6+CeLXvY3HUV46ug94rTR1SmS16JSRcj/miKux9ecBGbCZchIlcQQvIVzFk8pqWT5YLwfFEDpspbJYRHZbdawHQ8gkG3C4PRNLg3W4ghNhPORUSuIAiCIAiCcHWIyBUEQRAEQRCuDhG5giAIgiAIwtUhIlcQBEEQBEG4OkTkCoIgCIIgCFeHiFxBEARBEATh6hCRKwiCIAiCIFwdInIFQRAEQRCEq0NEriBcGflqDuO5+QrQHrLZFJabr/ABgG36sB/U2K0hXUxhnG7t39lmX3Z3J+QDCs8L+tZ/+A3+HaxT+ohARVk80Hf7j3AlX7v7OgT1Z5/BbLqEzSN8hnmbjp12UPhWEZErCFfGbtGDRm8BO/p7rz5R/FU+5boaP9ynkbdz6DQSaA9GWuTuYdF7iE8x79jf3kK+rPQsKJW5Lcw7WP7bAxhViFyuL/wZ7ziS93fBrz97tnUC41XM7f2yGmP+mXZQ+GYRkSsIV4YncolDDgfn94dgPWlCIxTSDyhyubNsz3zRslvDanvfM64icu9Kng4eT2yEZY4HeW2YbR03x9iR+x4sdpHfhAso159Daab9YRCRe0fyFAZXUBdE5ArCCQ68bHmkYbbLnaca79hSKqLf94So8bNyqZT8iryHlETuJdROk4I7lKMi18S3hh1rLA+fncba9gzjd47Ijfuhys+RgUYtW9ewH3IyrLOpLmcuJtyYfU/l1bF3PchOp9yEIvdc0VrHfZ14RKlny+NoP46FX6s8EeRX2U2svTtdrqrK5z0NEk/WXyRwc5bI1e966asRZn27nMjzOuk7l3NsFisrp+rCsXc94uXssRCRKwglVjDGyj3PUrhpJ5AkSIOWPG8g9Sr8FpY3bfVbs6n+7U5h5ew34w5+nMEuvYF2UjS6/Hw0h5TeJ//pt6QLk3Wu3SbQbCa8tNdG8ejuKzN+Jc02tPR7U3zPC9M27pSWopPh3/DvkGL5cA/ZpKvS0mrpNE0g25vfA7ghDP3TIoMFxwiWtyM/PTep3/HkG1iwHdFNi+xIbhaV+/a48yqFqXE6NWX7FNZTSo+2Mf7bna4de+b6d0pvG5pkVy+fT3XSqqxMl1Po0ruYTopHi9KYr2Haxb+TJvvbSPpBh1HH1vXiN05NWKqshmXCI7+FIborLRnzFpCiU9tnE05TI2nZcjbJgj3PO1VHyK4mf7tTU15V2fPzyOk0t8sj7xI6bdlO1RN8/6RYckUu/98P/+QyebRjr4qHSl/Jz1BoI7VsWQX515tDptsFVcYi9eji9kilbzQP2jssi+tcp9mW4Tam1y1XZ9Yfto2xr/otzCPPdnXaBuvGvK9sMx/h/4+I3Lu0wflmocou2qVFbtAuN4vN+e30yfbJZQuzTqQOHIL6XKs9LcpyrKzE2tgi3Mv7PfP7YyIiVxBKUOeFjXpnAAu7zLmFeQ8bImw8VQOUw+0Q/8aOoKjcVPlb0OgUy+hc2bEB6tzMeSndjGj5OTY+vZlpGHPIxvguNbatMWTGTxQePXQ3vNUjYRYiLexwTWOJncykA40mdkj8t/a7QuSGkNukObLhrScotrw06Xg5aYpRPZOL6enPi3cpPdjoDVIT/z2kgwRF4dLxX9t6eFvR2IdpjD/jv7ER7k2KDirPxtBC+0036u/D7RA7FxzQ2HzewxLj0+gvYc9/B510CS3kWkO4NeKU04jxR3pzfSiO7Dhqoh0LW9Sxdd34NZs9mFjxof1pTWGj/fE5qLKL9nVnl7ZzLEfG3/UEO2bs8B1Bo2zXKZb+8wxG2MF3HfuS6B22fHvF8soIbe9dEr34bmdmbKbSliQduJmvYFtnpisUmPcyk1sVj5oit44tj0H+YTnuDBZBPUrgxtaju7RHWmxiOZuZA6qYt2PMCyrDLRQrJo+2c3ofy7rOh7PrjydyQ8gtCrORCa9O26DSTfXPFdbpENNN9fKIuGJbXNIG71MY4GDlZmnKqXaD7w1vtf3w71rt9In2KYTrqNOGEJwH1t96NqO2yC8r2mauvaJ14W793tdARK4glFCdV3/pz7RQY2I7L24A2uXGKE/hBhtE0/Gpyl50CgbVwBUNHrOdQRvDtY0pk2OjhSJmsua/D7sVZKutbRSZoDFiv21jdUTk0nvYWBczM+g2acJkHbijmQIU/aXnDtUit9yhZTTDYtxy3PuwDGeK2RYDSG1D6uOnMf4samNskGftwh77TVa+kcETKUEnXSJWVkhEYhrDPcModpo2TfVsXTd+pnxY2H5VYgKhuHjlcg2TZlH2VmMUG6GfOl3mOdu3XRbS+ZbK6M4K6Mq8ir2b3mB98dMWivGjeLZBoh31EaLuq+Kh8v6UyK1jy6Owf2Ed0WXMq0eXtkfxMrSdtTHcwC3v0zy/fNYRuRQ3EpdWPNVpG9hNrG1S5Tksdy5siwvaYH7PivgCttdATYLUbqdPtE8l9kvo4+CoGFSouLXNwLC2zWJlZQurbAU7k99BfItnl/d7XwMRuYJQokbnFXRkBX6jzpU90tBGn8caFSQUkPlmCZNBF9rttkYtGXkNjPVbpaXUaOb4vJX4zzl87JCtvwW0DFnMvpapFrllG3lu2U0CrVKYtHxfLaxj9gufxW0fdLrkLpvBsO+EjXYJl1QrO52KshK1h5u/Z9j6ovhVlKUCX9T6olf5ScusbrwYWprVHXk0jRFi+VD5rhfvU7aPEJa5k3YIiLqvikcdkVvPlt77IbXr0aXtUTx9cbflNJ9VPjme5fzI8XkrCZ6z2xNtQ2W6tX1K8S+Ipq+ivLi25v8nrSBOCKXbEa3ntdOGqrJmCERtKHrvaDOPmC0q361Tzr4OInIFoUSNzuuOlf3SBpaXphotGC43sONN/8hmBt3KxlOlxW801ZJWgh2sNxvB4Xd5yVIdKPA5NpvmdbiGCht5btnNENJIeMfCjNkvfBa3vZ8/vPyHneuUZl1MuCnN2Jt8ONXp3EXknrb1xfGrKEsu7LcWWXQ7RjGTp/zs0jKuEyeLnp3hNI4y618VsXyI2ofw4n3K9hHCMlfDDh5R91XxqC9yT9nyKLXr0aXtUTx9cbd+ms8unxzPwL68/J/gwC42I3yibWA3I8jc9zRsn1L8C6Lpqygvrq35/0OsN5E4mWX589tpQ1VZK3C3J+yXfX9W+Y4284jZgt+9tJx9HUTkCkKJGp0XNwCRmUYeWQfLNpHKfrcG1l82VQ1qVeNZFrn0u7csaEG3vK/MXapDwmWsCG4cLRUNoueW0+wuv2n2G8iyTWlJ0BCzX/gsamOvMVb/t7MiGu64qzrpEvGyErWHl791bH2H+FWUJQ9204fljvbH+mWZltjLy/M5bFcZrHYqzmzf0nIrPr+depfwV+ZV5F3utIPtCtW2jxCWuTp2cIm6r4qHyvswDzkNThzq2PIotevRpe1RPH1xt255v6B8clpc+9LvCbQwHaUZbU7TibahKt11tyuEv1eUF9fW/F6wL5Zwt26w+7PaaUNVWXOhtoPSrO6A9rZK3cVm2A5Mx/Ngu0hgi6p3a/Z7XwMRuYJQIi5c/M4mx4as5R94yDcwow3+TuWuquyXNrDcgTgHxfigT7cJzcrGU6XFNJq8LIiN4HS990f5WsDSuwmnyXS+6kCCm6YYfE9ubwrrHfmn363TOWs7Jr0ZrM0+Mm1H6vh8YVAQs1/4LGpjrxNRB7Do5LrpsGi2pdcie1Z00iXiZcVPoybI39O2vkP8KsqSzx6WfXy3h/EIO216P2nBMHX21qZDf0n5gGlvNaA1LE75H/QBHHdWju/JbWI63QMovF3Gf5fThu8WaYmljU7z92FQlR9hmatlB4eo+6oyYPJnak+uc/o5f4I4HLXlAdaLMUzMl/tCzqhHl7VH8fTF3brl/YLyyWkxv+k4d7Dd2DttEaLsVKdtODjp1mXroOsRlqVy/Aui6asoL56tzVav2doOwlXZpfMNKg7nt9OGqrLmwysvWG87pX2v59pMuznow2nu6p7efz3EchnmyaX93tdARK4glIgLl3JnU1wBpa5ZKV/VUlXZL29gNzDvY+NtwuRraVIvvr7fKi2m0WS/zLsORaNKIqLH+0LVbwk0B/PK67ws2PBPOjpeJuxanTNBnVLHs2NndFs5i0vE7Bc+i9s+6ET2tzDia6xU2Hz9UUanqSs66RLxslJOI1LK3xq2vjR+FWUphAUo+tuxt0A4v62n0OMrlHTYzQHMw89D7zOY0NVl2k3sKiWO40DtR/TKw8l3Y2nbwJRO/dtbTgIeVeQibrlHkvYIbleUP365P25LmnWMzUZqatejS9ujePriboPyfm759ESu8su8W+Dav07bsIfbke+GrqLb0E0QpfgXRNNXpw1mdyhanXxvJB0Y3Tozqme304YjZc2FD7GivUsrBEQ9m50qK8RuMbDtU9HGXd7vfQ1E5ArCnalxQft9wxdxmxnAh+ArpEmHWW60H57YBfiPx2lbf8341QpbXwx/Ud7d5d0nQt38ibqjk++R5e/Lefy6+/Dls07b8BXaj1Pt8IO308eob7PLysrjl7NLEJErCIIgCF8JmvWKzaQLgnB3ROQKgiAIgiAIV4eIXEEQBEEQBOHqEJErCIIgCIIgXB0icgVBEARBEISrQ0SuIAiCIAiCcHWIyBUEQRAEQRCuDhG5giAIgiAIwtUhIlcQBEEQBEG4OkTkCoIgCIIgCFeHiFxBEARBEATh6hCRKwh3JofNcgqzbK//3kI6HkO6Vb/nqzmM5yvIvXcMOazmY5iv8shvgiAIgiBciohcQbgzKxgnDWj0FrA3fzcaMF6p3+nb9PTbznvHsINFrwG9xS7ymyAIgiAIlyIiVxDug0MOB/v3tYjcNUyaRToEQRAE4TkhIlcQ7p3LRe4hzyEnDjG3hoNygxTCug703sF/huJc+RU8Z/x0XE4kXMKEfTStgiAIgnAZInIFIWA9aUJjeOvPzOrtCIVQ3cKsbcSpEqqN8apwf67InaYw7yfQwPcUCXQnmd7+ULDPJtCluCQtaPG/XZjYvcARVmMOe7OeqvcaY1jxb3vIJl1IMKyk1VL/dieQ7dV7HGcbF41O32pc/L8gkuZxBrv0BtqO7dTzFNZTCjuBhOOEaZ2uK/YsC4IgCMJliMgVhBAUhklixCCynkCz3YFO0oPFTj/LUxg0zN93F7kk9HqzjRV6h+0C+igAW5N14Rbj0SJR6xxSy7MxtBodmOlDbiVI5CYJNLtjSDc7O6O6nqCwRVG7yo3bHLJxCxqdGWzt+/GZ3NoiF8Pt3MxhtS1mivl5swm9SXEQT6WhBdON658gCIIg3A0RuYIQcriFYdKEyVr9TTO7TRRlt8MGDFIlMA+3Q2i0jSC8B5HbX5ZmbXMMI0mGcKuX81djFKuu6GUOHK/ycw2JXBTBc08EY/yc9Fko3Q33+V1FbhF3gxK5E1g7z/xZcfe5IAiCIFyOiFxBKKGEY3dOoosEmBJ+eTqw2xh8wXl3kavCCn7bLaDX6MLcmS1Omm1otwOaCTQGaXy5n0WuMytNsL8Y/9AfpJkUQv7OIjeS5vhzlTYRuYIgCMJ9IiJXECKwoCXhSILQbF3gLQo0O0m3DiSO+HtIketviejSlgZ96Myj6vBWpcjtwmwT8QepuiXCICJXEARBeA6IyBWEGCwEhzCf9yGxh9BIjKG4nU2h7e7ZvQeRG9uusF/2oeGEQ7PHRVwMOWxXGax2sdsRkJjIpfglCQxvg3fyLayyFeysYD4icsN47JfQF5ErCIIgPCFE5ApCFCVo6fS/Kwa38w4+SwKRd3eRS372ZmsrdPfrGfQw7M5sW7jlWeUWDNOdDXuXDqHlHogLiYpcFaekNYTUiuMdpMMWJF481T25vekadjTLq8Uv7UdOGj2YbvS2hsMW5r0WNJ07de8icilNfedgmiAIgiBcgohcQahgO2ujQBxAam8gQLYzaKOALfatEncXuaNsC+lNm6/y4uu6kiaLy1Do5esp9GgPrnaXNAcwN2IzRoXIpRng9bTHe3CVXwk0B3PYuGlF8tUEOtpNMdOaw2qCYl/HoZG0YXS7QqF7HyI3Rztg+lpT2HhuBEEQBOE8ROQKwlNCfyDB35JQRn00omKLwlnoD0tU7ek9Rs24CoIgCMLXQESuIAiCIAiCcHWIyBUEQRAEQRCuDhG5giAIgiAIwtUhIlcQBEEQBEG4OkTkCoIgCIIgCFeHiFxBEARBEATh6hCRKwiCIAiCIFwdInIFQRAEQRCEq0NEriAIgiAIgnB1iMgVBEEQBEEQrg4RuYIgCC67BfSSFoxXefx34evC+dOW/BEE4SQicgWhRA6b5RSmixXso78LIftsBuNZCts8/vtF7DOYjWeQbh9RzBxWMG4l0Fvs/Oe7W5iOl7A5OM8eGg5zDqv7tOmdOMA2ncIs20d+ewQce+TZCJrJANJ9xN09cchzyIP8zrcrWM7GMK8U2AfI6b0YNctOvprDeL6CPPLbUyDfLGE6y3TbmMNq7thjm8J4jO2A4/5+UG3yVyt7TwVqE6fYDnltQg7b1RLbyvtsK4J8fcaIyBWEkNUYkkYDGsh4Ffld8NkvoKftVRKHF7OHRU/52egtYBd1c/+sJy1odGalTvpwO4RGcwLr4PlD8jXCPM4aJk2VH19j8OfbI4fbYQLJ8PaBxOCOy59bnin8pJFAd3ik88e2g8tshLp1Y7foPWqZP5fVOMH09GDBA4zATpz+MayCd+4ODj4TtONXKntPhT2VDSyDRb904HrQSLowvFeRWy7/zxURuYIQcljDrN+Gdn8K6yczi/aU2UE67EK7O4R0F/v9MnbpELptbLzTR2poD7cwTBIY3h5Kv60nTWgM0kedXdvO2o8epoHDHmXl3w45HMJnj0TJHts5dBodmG99d/dDuZNncYei+mj670HkPXWRy7PVdlb6sUQu8hXL3lPikLvtkxL/sTbrbojIFYRvE2xo6y498nIncqxhNm5qLWVS2KE7Ex+v4bsHouk0S7H1wzqdvmJ59+wO7GRenOd3ng4qZk5zSAcNaM+2/HedfK1rq2q/aIamAc3JOnh+irp5dMw2poOrvzRczyY13FXmacweKp4mX+6XmMhtQGO8ctxEqC3yqu0fF7k18vVkfXgI7iJyKU1heuqWX8Oxcqy5qI2s4S8TS0PV87ppq/IzBorcxhkrjrXLSH2RW7fufy1E5ApCCdVw8JKcnZncw+2obbcxeOgOiTsn/Ls3zyC9cdwmbbgJZyP3GUy6tOxn/EmgfbP0lsm5U8XfRtnOhl00OnvIJl0vPklzAPPNhXuo6DAP+dMew3zq+ptAf7GFbXoDbVouNGF13Vlu1SDSc9vY5muYeunDd/pzby/ZLvCT7DS6LYSVsacVFiaOvTlk3rtku9QTBflmDn3Xb4eqDiEb4e+x2Uu9TH+zyPw0xfIVbWHyJWk21b+erRT5ZgE3bVpmbEKT4lnyS4VZf4Ymh81C2cSG277xZ9bXE2iiAEnXU+g6tvHcsUgpfuPfjf3xt6Qxgsz4h9RNxyhdse1M3BpJ36lbiKkP6E+7RTZOoIuCtpjFjtuDZ3cfZAnb7eSL8m2pmmmtIfJMuU+abWixzbowXRf1NhS51n2rzTZOsI56y9L5Bhbc3iTQbJF9qT4sgn2bcfbLPtZ5d3uOTmvipkENMEw5UPXS/B6IoVPpp98xbRtbBo3bHNa63SnS6ZZfHS9nkJFrPwo7BmXKaSOTVkv9251AdmIf9z6bqLglLZs/E2cvMKd/nBXtl9v+R57z/laTNqduLt0ViEq7BLB9db9k2kOHSlFq2+MEWm1TRvw20yfIV/q7j/UX215TVty632rSv1j3FxtVZ/OqVTG1veL8wfvliMgVror//e9/8N///hf+9re/Qb/f579j7o5TFrncGeAzaiSXWQrzmxb/3Rzdwk6Puq0oI3ftAYzGYxgaUZRgg206HT7cpN11yN3Qio5kkNoO24jcBBsL9gNRjc4Bf1PhUziTxQJmQy1ME1eYn4HbYGJjNRiNYTRwRT02ioMRjMc3Nq6t6Ua/rzsgfGYEpNq3h25u5pA69rLvmPCwAxkvM8iWY92xFHay9gxFLr+n4jg26cb43aRGKOi9o9ToztPC70YXZjgIiM84hI26Q57CgMPs8fvm+Xbew7Dd5XLygzqCWSEwUIDM6JmTrzl2VK1Gy9uGQVsz6Nlkbd6jMNswq7UUj50olYeWu12EtpDQs2JmmmeqMR0Uv7Xt6Lcwx/g1OkXn9dd2Bm2757KA9wN257ZjrJ8OTH/bjdsGph2Mh8lXc9hvpjtIhA+WuYPMKnugu1Oi8jLK5aH+TC6mVc9uWczMGW+xaME4M+UIxd2k460gcLk3AsluoTHuVRkrRMIe0gEKF2+ArPK01n5lrlOhnTvQ6bj7Pqk+FX+renkHkYvpaXZxsLXZoW1U28n7nbF+FXVpD0tMV6O/1PVGhVPYH9OIZahjZ/F1HbDu1f56aq+LAUEOGbmJ7Lm34ECwRaLW2XOdZ1TOO7bscfoxDR1s21Zbyl+n/Y88384wf1uuqMW4kvhOhnBr4lZhlxJsX7eNrzOTq4SlK1D/2i9hgG1if1m1WuPmK7Yl2H7772M5wUHAzdJZRcGy3XPKKm/xcvLDuHm4LUZxROQKV8W///1vbARI0Ch6vV7U3XHKIlcJzi7MTeOCjUSf3GBnZCqxFWXNEWS2YdWCC5+bhsiIDZqRtCNpHvmSu6YVCEbksrhaO42RFV1OI4lwo4LPLxolWwFZhG87FnqOo37TYfIBIHpmZyoKdyqNxaGx3nyrRWWwVIeNNYtTtNWtFlPhspe1Z0nkNmFkRUKR7pI7Z1ZWuXE77pCgs3bhuPphKlTemmV9Hgh5ea9hITbQ4l2/Mw/D2cG86+Qdz7pi/tZZema3KBBsx6fZzaHrlScUDbH46fdNWa868MbvW5vWTAfbrhAIBi7buu4cdmvIso3fGXIeOvlVZQ/u9KtFlSlTlVTat1we6otcKqMB+r3DbgXZauuLz0Bocrk3dUsPEgauGOElZ12P+N0+LMPZSR6omDJ3DCUWB3qAyG0TDshWs3aRh+xXYXtVL+8gciMiZ7/Bge4mEFyeX7qNsfZX5a+DcSxs6S7zYxueuG2ZhgYNXhvnQ2W83H76W2WUmC2XxfhzikfDGYAbcKDXDu1WQ/yxu3NF7h42WQaboIwcL886X+crTDsJXGfgjnBaQwGLePvmI4I2KnwfGBG5wlXhznoS9HfM3XHKIteIpMFSNUr7W5ppcmajENX443vekrdunPG5aYiMeO16AkHt+6TnRjQZd24YDDd0+Bst7bbbBbRkRM9PHY6JYQWkvxxt4uCJP+s26IDwmUkjzfLxkh27S6DVpRnnVSHq6Z1+kVe05Ngfzrzrwqw9Tfor4lhyZwYBHT2Lc6CZLXrP7RxCdKMeEbk8gxndq+u+o4R9uYNEzMwohY12SaLiQ3WkJg0cpreMXA2LT/dAloE7dH/gEY1fILLiB97U+7bM3ikdyk1RrnPYpjMY0mFPW55pSRXjpDvmSntwXagSVXtY3rh+lrmpNZOlntUXuUdEHkJXcE0GXSceagnb1B0uz3YASX/3+XdVR6awWO2K+s3h0RK0n652m5bnq8WcS3HIUOULC14aVGh7c3yc8qDqm1/3fbF2JP1Hft9lQRngbSumXKpwXPvbNiZpQXcwglnqDJS4TKNg9WyioK0QRtT7qDDIzuE73LZqG4T5Y4g+D+qWi1eeapQbht25/tURucQOstkQ+k6aeCtGJB3GPduC+9NyPee4o909GxGUZ7atVKsMts3hiZx6ZfI+EZErXBX//Oc/sVJiBdT84x//iLo7Tlnk/rW/hRs9I2sJtgaoxh+fex2hbpzx+aUityS8uKHD35o93hIxDlmabQRnUBKuimgcSm7LaWQOO1gvZzAe9lWDir8nQaNKMziL6QgGHdXRN2gpd6VmY0r2rIhjzO4bWiJktwUt/L0kBC3K/jERyCIy2hmoWRq170z9v5RXCM+M6j2OLNaindkWZjyzY/Iew4zuDw7Rs+ZemdN42w6q40flKbEzdf4huwJVJ0aZ+vtu6XDdqGVm2qM4pxlOPcO6Ww6szar9OSJ+74wq0669PFFSxQmxoq4ha8EQ6+jOzCZvZtBF21aJXOaAA4F1CovJADqYj8mN3v7C4UW2R2hqDXZJ0LIwoTJi2jSaKaXtIao8uHZQ9c2kMbDTifRX/b6dY33FsKdOGchTWjEy8dFtTMn+B9ht6O7iIfRQiCbtqRJY3Fao7UmuPQxxu6gwurRtJvKOmfWP5k/V8ychctVsfdKb6m0UipQGo9F2jdD5Ol3w1rqw7eS4D1H0u/axmNl0hMqWnt3mPHa3RT0SInKFq+L/+//+P/i///f/wv/5P/+H/6W/Y+6OoxoOtzFRsykJdG+UkJwustKHD2JiyzbOTkNktyu4e8N2cy3giuWdSpEb3a6Qw3qh4nbRBd73KnK3kLLgnhWHPHjpnNyoBo8vvA8EOR/8Qjdmn13JnnVFbo75RwciWn09CJjBch3YMII5xOQ3+lpERoRUzvsIjThUy/RlcYjP8f2WEc+8dcG8U+B/3CCYNT0B2600e5/jcxw4DLQY0rYrx6+4b1a9r5aBSwdGws76Lulwl4z5juVwdkfFifJCzcxV2SOcEb5PdCd/zyJXiQM/r5TwjYtcrifTW79Msu11GJwvkWXu/aa8BaQSErdtmM5RkDgihAYWvdkM88oXaaq++XX/biJX+RGWTRZFNmzdxhj7b1OYjBewdssftzHGPaUpcvAp38IqW8EuKLcGSnNRFwz0sYUMVjtn8B0Rh/HnFI/Y3le93aeu3QyXiFwuI+F+diV8Y+lQOPmK7/fRlm5d4LRGBGt524nZO73A9CYwSEM7PDwicgWhhGo4bGNi9t/SsmB/iKJpCos0g7Vu9Ayq8XcaYkY3zl5DhA2cOXjW7MBg0OMlNPrbHTFXilzs3M3BM3UJuHNIrIUNZWkJuQZaBIUN7WUil8QHihT8O+mO0FZ08EzHzzSMvF+L3mlBf7qEbKlPNKONTcdUsmdFHEN364kOm2xLh9Nm6P+qRocfPRRBZQE7Pmrk7cGoA+wyOszmf/rXzEbNt7pcHMzhLydP+CAR5bP5YhR2DOsZH9gobKzKn5015a/JFe5DzOzg2J4A38N61sM4O50hd46UDufwHMYvG9MBmD4sg06zN9ezWUYMhJ1w3XSgG5MOi7tflEUu5rldPqY4DaCN9aOYVfftYeE4HNtnfRecTl4/uw+Ry2XE3Re9S2HYbfLWp5jIVWUSbTo3ApAOLaEfrSlszN80E+4eJtSHHaktYbFW48t5LO7Qlq7Q5HKFz5JggKfqm1/3rZ1OibXo77q98E7uY1lqkV0qRK5T/kx7SbP/SXBwNeHDmKadVvUxXE3yoDYG6zUdpjRClw9TOnXJyx+HY8+9eqfjwe1CVf2qgt2dKXK1rdwytMH2odVs1hO59DfbxanbNJHAh0XXtv5znnGb6PeL5tB2fMvXwyMiVxBKqIbDbUz4hCw+M9fbcKVFXFGqGn+nIWZCAajBRmLaM0v0BF2Z5AuZapFL0PU4hTgm6lyPU8m9ilxiC8thx0kfxq/jnrCnWaopLzGa32mPcW9aHCQp2bOmyOW9X7S1hPYs874+eof+djuHGHoPGfpjZ3J4dmgIt/sVTDqFX0mz510rZN6/HblpTqAzLF/lRNebDZx0l/zyZqRoQNQsdRw+2GnNB05ZwDT0/LLANurOYbOa8HJ3lTsSHCSQjV92wDHvljrE0+mg/HIOa5r3vPuISaQ5t3jQjRg4gKTZb7tv0rNHAdfJYyfl70TQySP3IXJJgM6dvejq+rDUEyqcV46t7ZVW+p3yVYEkmoJyN7otxAfZ+8RhH95SE86okzhC/8ItPKq++XXf2ukikYvsb2FEqy8mjXR9WEarWybfdRvj2N9eYWXSnXS8KwipbK2nbhuJ5X3gX2MYg64mc9ul0N5h/px6zvVTX+9n/Qzb6ocUuQidIXHPSND1Ydm8Kr5Eufyb21TszSA0QHPaxLL9DRuY4qC1Y0X24yIiVxBOYcSV21Ec1nw6lhucS4UloS/n9pfHzkHfWhBZfuOT3Fl2nPBE871THT/DfV8mzvs3gw57v7zhhvjk0jbldWQ2wqDiekxwIjXztI5fPJtmthycpNrWvKXBpv10npxDLZuc4tx6cCKfnjzuDQk1OW1nla++DdUsaWnZ/olySVmqa5dzy/u9lGuP+6135/NA4Z8qy7wv12xhenxE5ArCKfj6IhQJ7j2BeQYjPohWPnn6VFAzLhTHI5wSfc8Oc4DPv/KL7rSl9EZvFwgguyWXbvu4V/aw7EeuBjsbtV/YHAZ79uQbmPbcbRFCNSsYR667EoTHgdqweu3uQyEiVxBOQks3zrKMJYH2xFnafmLYw13HSL/OEtJDopbVwrxCvL2nx4ne2/lswQEZltVTS5rPhehds4IgPD2+wscfQkTkCkIt1F2e4zHdNdiHIR0+W8lM0pMFhdBiSgfyunyH5niWlm7D+GbIVzA/cfBIEAThvtllUxgv3A92PD4icgVBEARBEISrQ0SuIAiCIAiCcHWIyBUEQRAEQRCuDhG5giAIgiAIwtUhIlcQBEEQBEG4OkTkCoIgCIIgCFeHiFxBEARBEATh6hCRKwiCIAiCIFwdInIF4Qy26RjG89UT/dpS7Nv1j0EOm+UUZtl9fyHsofz9mmwhHY8hvZcvAOWwmo9hvio+XywIgiAUiMgVhDNYjRvQ6C1gF/ntq7OeQLPRh+U+8tuDQt/HV3bZR3+/lIfy92uCaWo07ukTu/S56Qb0FvLlPUEQhBgicgXhDJ6yyN3O2pAMb4uZ3DyFQaMHi53v7kE4nDeDnKeDenY809+nj4hcQRCEx0JEriAcA0UWbQHID+rvSpFr3OUH/7mH2k5wbEvBQf9uwosSxEmRQzpowmTtPNstoHemyDXh34+wrE7vbtG782DhfuOqqGV/m64jeR3NI8IXuXdLQ5XIPV3OFOTuWHkVBEF43ojIFYQY+QYWN21IUJA0mATaNynMR6HI3cJSu0uaTfVvdwqr3PEL2WcT6NLSe9KCFv/bhYm71zRfw7Sb4PMmtFv4L4bXd8QLi8JxCutpF8NIICE/8N/udK33B+9hk23ssj6LcRt3xbEZv3yzgJu2Cr/VpH/bcLPYsN/5aoxxDsTybo4CugPTDf2txFZjvCr8W085vUmzrdPb1+8rkefHrUqIh/6qv8epsRXagd5HW07XFftS81sYorvSzOl2Dh033O1SpR9t2qT0s23Dvde5tr+T1+0bWLr7a00+4vutNrlR5aYoLyr9o+UtjDg8bQPH3uyuYoDiDw7KIneX3kDbs7tvG1WOMuuO/dI2Gt6GgvcAt0O0x2QdPBcEQXgeiMgVhBI5d+6N1hBSKzJ2kA5bSpBYkaHcJd2JI2pJ9KK7zgy2xr/1BAUHilrngFCeoXBEkTjTAmk773jvsLB09teyOEFh1ZsUwkv50dJCM0Ldmdx9CgMU3zfLbfEMRWCPhQ/F+YCiuQWJI67mJK7mRlyFYnQL804DOjPjX87vN/pLK8LrzeTGRW6z2XNsmUNGfremsPHeNSih5m3jQNjeJj5a5HUd27LobblpwDjPMc4tV9TmsJn1UFCOYcUztjqs3rzI+/0SbduA/tIMaIzIb8EwLcTpHvOyjXEYpNrdJSKXhXsLxllhm/UE09mcwNp9H8Pp3MxhtS1mo9eTppc/hX8dmN/LITlBEITHR0SuIISwwAiW/pk1TJqOyGV37bLIzFO4aRSzh6txbDaMBBEKNv2cRUYHxYgzA0xL2UaYKZFbiBXFFmbtIzO0NUUu+x0KHIT2+DYGqRZ+mPZWwmGx2EMhVwjUUIwqO3UwbcVMqL80fieRG9pyO4P2sXTSgbxkCLd264CKn5m55Li0yyI5T29QEKKA5b9RnKJYvUmLgYqCZtAz2PBgxP1/Ac+q2zQokRubHd3OaKCjBfIFIvewW0G22jo2RwJ/+H3PFpqIoI0KX0EQhGeEiFxBCFmNodEw4sbH25Nb6c4VH+r/tHzcbgfQsrgRkTmKH71c3uoOYDRLPbEUF4W+yClRU+RympJWOX60bcIV1jwjTVsEejD3/FTxKIScmonm5XD0tzsYwSwttlIQdxG5pfSeTKcvakPR64tQB9ffmrakOGazIfQdO/K2AZtWvV0hC99DuDyNIKP/V4R3TOQS+WYJk0HXyUe1rcIMuKrtvod04AzGeHY7NtATBEF4PojIFYQQV2wEXCpyu7ONPQzkEcyoHXYbWC1nMOyhOEnaMNUi48FF7hDFdix+zuzrAdPLIjcptlkoVDzKQvEAu80Klij6eijok/b0/9/e2fqsDmxr/F/DVNygUFUkNyE5CTknB3FRKBQKhcKjqlCoKlRzBAZVxTEoVBVqJ+uuNR/tTDuF8n7vvo/4ZW/a6XQ+1sw8nVkzr79sHhRbLvV4W/LbIZ/KPcF8UMgMpTuT2l3kTmrivo5204imW+MKoEmXjs08FbnGnt4gcu/HJQvaES0POV1t/eU7mnQSuYwj/rX7jON2AQAAfyEQuQDUUQKjq7tCINztQLOau0LdJ1T8JS+njE5XEZEXSjdr2p8rQSkCJplUAuYzRa6KOyBobnlGWW58RGWmeaR9RiV85Poc18XoJaXNek9nV8BfExZbVVoeiq2SjxO5OsyMDtfmDKVKS8MVhPN/mDXcFSrfWsP9TPv1Rv9xB/WOuPYBoIVvlVctckPuCso9wLOtely1MLXy0B8rvp1p4dtR5Ja+1Hu2c8c/GAAA/lIgcgFooDda6Y1nRnje9cazKIockWA2VLkb1IqcdlPZfOQICREskd5oVPrYpkuqTizQG5YGozVl1if3KhuWotIHNCxOnohcdU7ukN97UbN6vsh2MAJ2ujuXLgUyAyhpXp8k/zqf0Tw19+W9EY1KoVYTo3cRkgMarbPSP/R6mHPZLSg1+VPn5A653JzNT01q8bblt4vI/XOjw4yfnYpArwl6lX9O77I6BUHnX/sg23BK3HOd7XLrl3szm96MQDb5nibVhjvZmDYausJUi1yZpa/s4a7tgT+M9EY/uaYF59BJk2xOm3hx+eWhZl+HK8eGUlpOhjTsLHKNsOfwnuiXEyNm86cfSwAA8NOAyAUgyI2Oq7GaBdPHPOkjpXK16coVCSx0NvpYKRsuXuwpdzaQCXKklizZ6zDiozunpBRLTODIsvHqWIrON4lc5rqf01B8QjlOK3SCiCAaV+kbRGNaHfVMXvgIMS3c9YxoXYyKSDRHkgXi0/Azc+0v2ub/3Iy3Jb+dRK4R1vy+cSlCHW4ZbdTRXza9tSO9FCxa9+boLRNOTtbIHN/p23Hl3NfHh2WezYjInXDd26PGTFguH/e0BQXna+7azCyhPF23ilyxoWTmxinHh6VKVHcVuX/+5LSVUyXcMsq3SoA3N90BAMDPBiIXgIfog/VbZ0FLzAH89V3rNfTh/20zl4z5IwLP3/dJqPc/SN+LPM3vT6NT+T+r6262oOhQ3qoMu8RleU8dKr/cOaW1EyIAAOBvBCIXAAAAo106Qv7CAADwNwKRCwAAAH/8AQDQOyByAQAA0DXb0nrv/gEPAAD4u4HIBQAAAAAAvQMiFwAAAAAA9A6IXAAAAAAA0DsgcgEAAAAAQO+AyAUAAAAAAL0DIhcAAAAAAPQOiFwAAAAAANA7IHIBAAAAAEDvgMgFAAAAAAC9AyIXAAAAAAD0DohcAAAAAADQOyByAQAAAABA74DIBQAAAAAAvQMiFwAAAAAA9A6IXAAAAAAA0DsgcgEAAAAAQO+AyAUAAAAAAL0DIhcAAAAAAPQOiFwAAAAAANA7IHIBAAAAAEDvgMgFAAAAAAC9AyIXAAAAAAD0DohcAAAAAADQOyByAQAAAABA74DIBQAAAAAAvQMiFwAAAAAA9A6IXAAAAAAA0DsgcgEAAAAAQO+AyAUAAAAAAL0DIhcAAAAAAPQOiFwAAAAAANA7IHIBAAAAAEDv6KXIvRcFFTXugXDg70XV8T18r+SOuv9crnRO97Rdp3QJ3v8cilNC6+REReDe+7hQul5TetG/i/xA211Gt0a4r6O4nOiwW1NyKoL3/1xSWn9x+QMAwN9CD0XuidaDAQ0aRDRepnQNPvMYLZrvwXvgOzB1PNzQOXhfuNJ+KvU+pf01dB+8jwsl4wFF8ZxWXyyyrvspDab7N7Xlx2i7Wp/079M60vZzq4f7Gu7HJUXcb02WD0Tuac1pXNMpdA8AAH45PRa5Q5qu1rReM6s5xZEWu6P16cWZPRsfBpKfQ/UhMzvcAvdZIPDgP1Rhfp/ILdL5J4lAh9uepoOYdmbW83M402ZYiU7LV4ncP3/uz1cLXIqU5h9ob0pkL4+P+yuIXAAAaKXHIrc22ORbitX1FWVeeMe9ITSg3Y+0VM991EDCA2fLrLBNR3hQk+da7hcXOmUnuhS1671F1/F0ymInOJurZ3FH8zlNgqLjQVmW2DCPZ/Af19nb6BLnI5t9JgIf2ruLuHu0hbmKyG0XdF3LRcK1h6mLTo2XP+OS8igvXdPS9r46reX3pExCPErbac39Dn+U1697dBW5tpzesSLVmm8AAPih/B6RqwYgc90sPxb5nhaxLEnKdSGi8epY+uCpwbS8ZzHxlvH5A0z5jB2cbLhJQnme0EzNKOtn1CDG99bpmbYTJx3RhLbnanmyOG9pYmaiNRHNktz4JBaULsyzPPB/p//g12HESKZn+uqzuWoWN5pTem6Kjlu20WUZjWik/p3QJnOfL+i8nVDE8UejmOORJfkFpWUcWkCXdRZFKmy9znwutBuzKN9f/evyAcXPW1FV2mM0pNFQ/o1psbf1bLimxmYjGkoYWc7eWv9Ua/suTv4vhwfPCiZv2ZVtKlb5aqRZUMLKf0+Zh5OxVc6DlJ3Kw+HiPC9p5DTllc2HRGWw7Zk2pUXultJkppbzq7ycvbLqVJ4evsjVaXDad2HrfEjxSL9zZsrHtmWXYNkZHpeTdbVxaPtoqYncgn/HbNvrzNrijbKNteeR/neyocz0gZfdmAbjpOluckloPJjRQcI9yDcAAPxkfo3IvSRTLUZshy7iUwYXGRyXO9rvNzQ3gte6NNwOC4rjoX6Ow43imH8vdMf/qsjl5yP1vuoZd2CMJktar1dlGgajLeUqTs6Pem5EiySlLE1oMdK/t7l+53mrBcnrrhh/K5UYuR1mNBhyeZazS9pXdLQ5m7J37OC8YWHLotbxbyyyNY0G43LZXflBRlNKymX4Gx3mXCezg/mA0AJkOJw68RSUrUdOnTW5JE0xod5lZ6JvKc1ZnHiCkIXGlEXw8mjeU2S0YrE22TjClEXvku3BFVRaBNZEUaEFtfesiF5+drzzxVUUjdnWZGXgwaxdvWyFy46FkZ+H4iQfFU4eVN1xWxhO+EMhp2vLLGYVtimCVf44znidlXnR9TikzdmE61KeDfz31UWursNdWYciKEdWCMq1UJmE6FROr8/kFmzfE0/gct+wYWHLovZUrvIYW7X5uB1o5pab4k7HJdeRcZV4mm8AAPih/KKNZ4wSL3q57rwZqmvVAM+oDl/Czim1g0KLmG273i5yWXjJxjdHNJQid5pUgqRMgxksle+j/m3T3mWJtt+4YkTP5lqRp0Xqko5SfzXRIT6OQxG/XlwyoLNoNddveUZZXvPz9WbLjMitx8PCJX4kcFS9jh3xXFA6H1Bs7E/ZTSmkKy67mAbzVIk5FSZuCmnZgZ+drqVYVOFqIrf12XTB7cLPmxU3brgGAUGnfEgXOq1u2Jw/wqr06LobJ067a+WRyK21R057MqnsoEt5utc1j0Wu6jPG/FHiuAV57haBMgnRrZxeE7lpvmMBP2KR7Nou5yeqC1hGuWDZ676gVfdrwvdpvgEA4IfS/41nC71UNxgsKS1FYbUcKEvSsZqhFfRy3sDdUNMiZtuu64GRrzdEbnPwsyJ3krhLfzb9NnzB4fRMrYqXB7LJfEN7FjVuXL8LX4zc0jlFajZXz+KWHy6e6DACbujWt0GWsh3hc812tJw599USrR9PYyn6qcDxRW1d9Cpb4Lr10mXfbWZ7O4keRtlgTeS2Phsoo0fL7CWN/D541vtI8OvuMeGwofzV39+lPKtnLf776iL3T8H3jbvHaDKn1S6l3J3NfGoDQtdy6ljf6hm9SjTa5v49lR7+sKuXASMuEvPUzPjKCoczM6tcGNwPhGf5BgCAH8ovcFfQwkcEYuW7qQcauTaemxMYPHalz5oeKCSsL2bbrreL3NrzjBrE+J4/4NXTr7lfz+q8zOXMCvGomxjpJb4YUbO5smQ/nVazuHLdEx26zie73GzAqWE+gNTSbDSl7elS3UuXTn20iBTvXWFc9wTlZuEICWULSxbabppK9Ay+CrPKvDhDQOR2K88m/vsaItdwv+Z0OvCH0HTI9hbT1s6UdrCB7uX0oM5c1DMrSjit4mbjvVulZ0K7PFQG7kzsjQ4zM7tu/MSXx2YZteYbAAB+KL/CJ1fN9Mk1ZwYn6K5wPdJWRO7GOfezdBdg8eS6B5TXXd+0KyU8gH2oyFWHvXOanEPpr8lEv8MuMf7S0xVc8WPr2FsGr4kOWSZuLsUXdDlldLrKoK4FSDnbalDCt4ynRaR0EjicbrV8rD+83A1zSlAFNgC57hMqTGAW8nrcen8cISQC255VYrvmrhAUYHUC+VXL8AEXAdXWyvQ0666dcNhQ/upp71KeTfz3qTjKdnuhdLOm/dkVf76LRDcb6FpOr4hcSaNZ8Rnx/8t+QOwtIFhNf+G6Tlk3n33C9jBy7aRDvgEA4IfySzaeab9NEYalsJAByWw8i+crFpJLvdu5MUOa01Zt9GLU8qfZeObMEMvO+qVsGhvLTm8tnj9M5KqZFfkd0WS1p1Q2npnNaVrQ/eLTFTzxc6O8NnA3RIeq8xEtU8d/NV3SqJwB0/6J4iNdbrIRX8fRkIZlPO8RuVrIDKdTGsuMs5tWWRIese3tzmUdqndzetcnIzDuEsb4dpswd7OZap5Wwk2dkztcUnqRGTvzrIrff1bH79r7+0SuLl/JQ3WCgSrfgZOHYN21Yfytt2e1Qc3OtncRuZ3Ks4GfNl/kGttgEZmVKwUHmnN+F3bZX52TO2T70qsArT6rncrpVZErv0XoygbISuhKHqIR24L6iJNrV0qXI4oa5RfoIxXP8i2nkcxo3sVmAADgi/klItcOWHzdmc2SI4aWLEzVdaHliCE/nBNveZyTfj6abOmcyqDDvz9K5Mq1y8FPJwte96+3/ebTFcL3DQEhJsexTdWRU7oso+Gckrzajf7ndqSVW6dyfFjGQrKM530iV/wf5Y9UBDd3yUkJnj2OaeVtJGJuGW284+ZCNstpnNtTQRy7e/rsO0Uu0ziWr3FEW8e6MxSnDX8Q6LhsujqJXKFLeXo8ErlMkdPeHK2m4/SPHNTPzPWRYE48IZ6X01tEriDlELGItR9qIkKnZZokzcN5Qnlg1Ud9HNU/voSH+daTAFFgIx0AAHw3PRS5b8CcVvBWgagOSa8PDJ/BO9MJKvTB9m0zes/vfyqqnp+8+z228AV29K3lV6dLeb7CB5bf15WT+eMmrf2U9stVR+8F7zNfYDcAAPCRQOQCAMBvR60w4OxbAEC/gMgFAIBfTeCsXAAA6AEQuQAA8Ju553RYb+n4zJ8cAAD+MiByAQAAAABA74DIBQAAAAAAvQMiFwAAAAAA9A6IXAAAAAAA0DsgcgEAAAAAQO+AyAUAAAAAAL0DIhcAAAAAAPQOiFwAAAAAANA7IHIBAAAAAEDvgMgFAAAAAAC9AyIXAAAAAAD0DohcAAAAAADQOyByAQAAAABA74DIBQAAAAAAvQMiFwAAAAAA9A6IXAAAAAAA0DsgcgEAAAAAQO+AyAUAAAAAAL0DIhcAAAAAAPQOiFwAAAAAANA7eily70VBRY17IBwAfeGSrmmdnKgI3AMAAAB+Iz0UuSdaDwY0aBDReJnSNfjMY7RovgfvfRc/MU3g+zit2can+zfZNwAAANBHeixyhzRdrWm9ZlZziiMtdkfr04uzuja+NZ2C97+B656mkiaIGmCAyAUAAAB8eixyp7S/OtfzLcXq+ooyL7zj3nD3ryvuR1p+qMi9t87A2nQ8FeGXnc7LB4mah/kvkXS3pK+40Ck70aWoXf8iPmpWOxRPpzq56zAfN7NuyvpRfdh3mjBtIrd73YbSHrpu7eCj8goAAAB8Dr9H5NrZT7l+09eKfE+LOOJrcl2IaLw60s08c91PnXsWE28Zny9+y2fWJ/+9k4TyPKGZmlHWzyhhwvfW6Zm2Eycd0YS256KM08U+46PjO2+G6nc0T8s8KE5riiTccENn/m3TONwcKF3E+p4iosn2XPPrLCjfL8qZcEU0ptXxVt5PFybtLLK8934aUsdTSrJU1V8UMfz+KF5QautclXvNBhiV91IMXmk/HdAqqcUz4XIqrrpsoiENJe9RTOtTVScqnlVKeTJzyk+e3dLJiP3LbkyDcUIX80zJJaHxYEYHY4cKrqPBNKEslbLWaZH6iBc1F5sip32tziRMsuL/uyL3qvM04PTHIx2XV7fqfXvKz1uaODbZep3r+byd6PIZxapM3PJ+Ka8AAADAF/BrRO4lmWphYAdiEUFqEOfBf7mj/X5DcyN4rUvD7cCCIx4aQRHRKI7590IP2K+KXH4+Uu+rnnEFazRZ0nq9KtMwGG0pd+K1nLecBiVaOIwIGJWmrRKvf24Hmqn4xpRc7DN3Oi51+HFyUdfKNKo4xjRfrWk5rfI53V/L90lYdZ2F93K3p/3Gun6MWPTp2TxJk4R53RXkrUgds/gcz2lf5vNCyZTLmAWfEnIviNxBNKVdbgRskdF6xPXBInO0zkpRKPYziJZ0NDOitgyj6Y5yO4N912kYjHfaxlR9DGlzNvcVuj6i5dEvKxGXwyGN5/tKKLJAnHI6FqkV14Wuy9GyEvOch3Q50nVZ5ovTMZb6qNJfnDcsNp20yPs47uFkTWl+rWZmW67fj0suE/6wKMv7Roc5p2V20B82r+QVAAAA+AJ+0cYzRg3SRpiZWc/xTgs/RSkS55Ra4dIiZl8XuSw6ZOObs2xcitxpUs3AlWloCrQSESLqufrydCVoh5uzvlbGV82mlWmM5t4MWylozYzvnz9n2gzl2THtSnEj4n+mn58bQfnl6DqeHexsskaEWFkfL4jcsqwMl13M8VSCVlGkNHdEnC7DwAxlcaQli8TlUewsIPKCYpBRdVqPT57ncvZsKfCsrSebr/s14D6i81p+wKj3uR9DhpbrtzyjLPfLW4e19v9CXgEAAIAvoP8bzxZ6iVVES1qKFjODx9dl6VXPhgojEzauRN2Hidym4LIid5JUM6dtM9EerSKXuexoLPdk1pFFziUZq7CukCvTuMr8Z0v/Y/PuMu12FttgZ5JjM2P55egyWp9q113RpdLeTeS6M9fNMBb/nSrMxPk4KdFxlnV63tDIEa9qWd/Ofrp4grFC2Yi1pZYwZTg3zUVOh82cJk69KbeLZ3E9eMc129FyVrcDp4y75hUAAAD4An6Bu4JeuhVRVs38VSJ3PDcnMHjsKLMzah8mcpvCwYpcX2S9U+TKMvJMxzve7cuZWHdmrkxjfRm5VeSOad4oI2aXfZOA+fkit4pT14dyFZHyLWd5a8+1iMumyG1unCzD2TSr98jKwYHyq9l4xqJ3N6nH1Xxf23X1sRRNaXu6mPiYVGbO3TLumFcAAADgC/gVPrm3dF5bhm9xV7geaSvibZNWM5Q3K/Rqy9fldXeJ+UqJEc+fLXJVflpmUu98f6jiMNRm00qRy6LFfYdc7+KucD1ulcjdpKbsvvx0ha4i15mRN6h6/yiRG3JXUEv0vrjT/qxL2iczGowqG/RoEZeeyFV56uCuoOKq2asRvm8TubqcYretMHqVwLehTnkFAAAAvoBfsvHMijVnNlcEg9pAFVE8X7FoW5rd5P7Gqz9/ctqO9LODaETlxjNnhlhtypJNY+OIhkMtnj9V5BYpLVRaBxQNZenYbDwrcdJWE1xCKXKFcvPas41nsdqgtl4a949SIH/X6QpPRK4pg6HzB0Bu2ZomUj8fJXKjSG08O1uhezvTzt14VhKwP+aaLmm2MX+lrIvI/XPn3yOz8czU6V1vPFOnMdg0qxMNhrTK7IY1CTNh23TieknkGl/vaXV6QpHvaDoa8sdU3U7DeQUAAAC+ml8ich1h58zmyhFiSxam6rrAQm6xzxubqfxwTrz2mCbzvBwfdU5FJPDvzxS5zC3b0HRo392M+56t9Gyuk19LWRarxD9CLJh/OUJsSWMjqgU5OmpvTyNgvud0hWcil+Gyn5dlxOmeJZRL/XyUyC2P/LJlwx85U7aBwIx2kc65fN3ZVfNxYE/R6CRyhRsdV+Oqzvidk+2Jcjn9oUwz15l3tJk+Pix143pJ5DK3I61cW5fjw7KEbbtpp828AgAAAF9PD0XuGzAH679VoKkD93/UgG6OmmIxYo8NcylFrhU8HfP/UX904av5jPrxhfCzP96gfVVHtVMc3od+5+M66xLmNZ7bwGfkFQAAAHgdiNw+oparWcS2zKY1RC54mfBsbwvnDQ1D/rt95DflFQAAwI8GIreH2E119fNfLRC576e7yA2cH9tbflNeAQAA/HQgcvvGXc5HlSO+tnRs8ektTok+AsyejgBeRpVhYjaNPULq40Fd9IrflFcAAAA/HohcAAAAAADQOyByAQAAAABA74DIBQAAAAAAvQMiFwAAAAAA9A6IXAAAAAAA0DsgcgEAAAAAQO+AyAUAAAAAAL0DIhcAAAAAAPQOiFwAAAAAANA7IHIBAAAAAEDvgMgFAAAAAAC9AyIXAAAAAAD0DohcAAAAAADQOyByAQAAAABA74DIBQAAAAAAvQMiFwAAAAAA9A6IXAAAAAAA0DsgcgEAAAAAQO+AyAUAAAAAAL0DIhcAAAAAAPSOXorce1FQUeMeCNeFW7aj9S6lSxG+D/qHtZ9Wm7lbu7qH79e4pGtar9eUnIrg/fcSsveSe/iZvxGVz1p+isuJDrs3lO0l5Trhdh2698kU+YG2u4xugXtfz5XO6Z62byiL4pTQOjlREbj3Pi6UcntJL/r3TyivTnZ2P9N+vSnT/RtQNvAd7ejONrLdUXYL3GvjemQ7P1D+jX3it5VXR0J97N9OD0XuidaDAQ0aRDRepnQNPtPCbU9T8/x0fw2HAb3jtI5UnQ835+D982b48H6d0/ozbehK+6lr5z79sVudTzc/9+OSIm7Xk+UbRO5pzeWzplPo3iej7WtK+1cG6E/hQsl4QFE8p9UbBt7rfkqD6f61PrUTug9fn/Tv7y6vznZ22VE8mFP6iyZElA18Rzs6b2io+rdb+H4AqcfBcEPnwL2v4tvKqxNn2gwHNDt0L9O/gR6L3CFNV3oGbb2aUxzpQX+0Pr0wq3uldDmheLKk9Bq6D3qJ6UDDHSLbl7KlIW3O9XthvkrkjufG3h0+a/b462mKXCV+lsen7Vl9lHC7965/o8j98+f+M2ZL1Ed8TLunM4968LOi0/JVIvfl8ipSmoso/qA+u6ud/QQR9dV8p2i7d1xJs1x2MQ3m6dOVBxVulQXvvZcfLXLlIy1a0tFpa8G+8y+jxyK31snlW/7Klusryrzw0lheX9rt9EyXZe0HYW55Rtm5LzNxfxN6UA8KWRZHkdhRvPNnvh7U40eI3HZ7q0RuXYQ8RNLbYrvyrvqA/lIbeRD32wmJXM53hw44GM4TuSyiVP46tNMX8vWWfqUdm8YXXa8e2OWfq4jcLmKwLjo1nsh9Wj6vpD/8Pp8H8XXOV4Wtq1DautpZVxH1sE668rI9drBxRpdDh3ZgwnyuaOuWZpf2eiwonQ8o3l2ehLP9THg285GdBOlcXq/Uz4P3d7IL865amCKdN1Ynu9r+T+b3iFzV8ZnrZtmrOG9pOtRL05qI4oXr0hAQEMWZthP3mQFFs4Ryb4nqRtlmosWQDTOcU5K7s2pXShexHyZe0dEuybEoH6nr0WviBXwI1iUh8hr4nY5LXffjRHeWqh6XY68eB9GEtueqrusiV3d0fM2Lu0Ws3jLaePYW0XDu2ls3kWvfOUlyypOZTq96v20v/PF3PdIqlnc5bSfw/nhx8AS+zd8qu9JxpW3642etXZFb5bkkNKNYtnkXM8Aokbuiw3FFccRlqvqBevtnipz2qp1ymNFQ/Rsv9rX2XsP2EdGQ4pGOd+aUhzfQqXTU0+iX3y3b0ERWD6IRjdS/E9pkz5YUL3Qw/Us0lHTzv5MtnWy6A+8N2U9pqy7GbtW96ZZSZU9VGU62Z0/ovZ5+X+R65cVIvy3xRcPYxDcr7dXaossjWyxOOi6pq6H6N6bFoWrbnexM4Yso+Z2tufzdPl3qRPUVXFbxqKyTs6oT/a7q+Yobi49oZGaIA7Y12Z0fiK6Czls9FkWjWOUxihfOyqSU9ZSSLKUFt/2I24IK64URAmMap/2w9eumjrYRt8y0i4z/jO5XR6XAKujE8aq0BtMs9cx5d2dbLwedfraJuDamazvSExfLQ6bKz7YJscVdbuIItAnb/zdtjp87PxKkXctL8mrqx7ZTzuuhtrpS5HuVP6n3keRP7HSfO+3M6gkux9j0U5z28r7kbZpQli5Ufyf1XO/vZFItt7b6qO/8y/g1IveSTLXBjRM9QN9SmouxSiexlKXdFc1GujKrxtYUENo/jMMsEkq5Y0gWI/17m5tn7hxGXxNft81+T7ulMfaoSpMdPKLJmg5ZRoe1MXQ2OmWYnL6Fakw1sQ4e8t///pf+7//+j/7nf/6HZrOZ+h0K95RLQmNVZ07Dvh9pqWxmTInphM6bqq5X4iKwsHU9p9R0GG8WuXe2ZWWT3BnNN7Tf72hpBGdUDhzVc013hcrPsnynGcSq99v2Ih2fuW7bTvl+ft9Y8rfUgkB+z9NyI5DNn+449f8/V+Tqa+q9XhmGCYZTAxrnmT9QS8HOdT7l/M1T+4FyY+HCg4Yn6nmQnvJzy2PrjN0lGXM/syufKfhdo8GMDsYe6qLNRYdl0WHb/HnDgyqLQsftpMgkzPiBm0GhREM02VSiVoletlUnXR8yk8t1Hq+zsix02pwVkDel33+fX15aJI0dMan629mh2pjWNV+XHbfxkSNqpfxFkEe0PNY+Up/amRFRRxE+F9rPtG35H6NsS7IvpJxBE1uqfPvVTHBdRBfS54y4LLSgkvGnavtSlisaPvADVv7EPIbY/kps+sA2XZWXlDULfG7f+zKMsXE7FjGXHds0x7MrJ2oKyndmTH0kfjh9bh+q0jOdcv04aVZ9rW0fuj6j6Y7O5ccBfzCshk6ab6ovmCSmL5B+igXiMq36hnzL6eVyKm1CubBwWkeu62FOWxHcriuK8qtm2ynfLXD8bBNV32PS82DWvmt5qXAjV9Ry/kUci9uALR+lVXw71X1VZae6np1npA2wIC7bofR3XEbj+b7W30W0KPu7Jl372J/ML9p4xqjGrjuLe37QQuBgxSkjDVLCTZKGgNAdrm5c8nuaXEzDqC0z2MbkGhxT36xkxfJwdTQN8fWlGdDkX//6l65Dw5Q71FC459gZh2omXXUkEm/Z2V4p24qYdHf5XimZ6HevMn3NisBXRa4sH8lvX1DVXSmq55pUnWn5Th7UZTCoZn6q9uIPLNX7ZQagHHjVoCvhqw7U5k916ufHM4x2ua2V1mW2zxC5TSGUrZywSixV4rTkyQYj1dbHGzNDp5F82zJvFbkF18XIHUx1P9Hc4CgzXw82Pqp0x7S1M1QW7psWjj1/jMit50Pbv83Dm9Jfe59fXtr+x/xs1Sak73T6zY75Un2wI+Qs+dYXm53sTPX7Me1OnD7+EHWFv6BmY90PDIPy47XvUnsBXJ9ILaaGKxuXHn8iFsp+3tuXr5XLW15rk8r2bXnqsq5vNlLpcsNwm29uSGLBPOOyCdmyReXJ3tdCf3k8cnyT8kNO2suQy1flQX0U+WOnQrU5Pz22f1X9VN19TMZy94NBpWPUcD9TdeuEU/mu+1Ur33VOtysGlVtA21jdtbx0uKbIZPEd18YL9yPO4LrHqDKI5l5fpfpaa0uqzut9mW6Hj2y7ax/7k+n/xjM7s8adR1ofQK8Z7dZLmsUxxYJa/nGNMCA82FjsJjYRQKOJzNaeqsakjInvyXKSjVewSyj2q5E74pkTzzCe0RJHlb0bdzZRkN+hcF2wwlBE5t12CPzb77z4C/2wpdV8Uta1WvbkcNVA7/+28fqdR9PW7HNqCc6xJRu/njWqnpNO2BeNVSdcvtPt+BW2vTTdYuz7yxkThV6WlevWb61M59POkDv5hZ+XOovWnb2fIXKbg7MXVoWR5b96OmWpOeCvbRGxqtw+dP+w4nZdLgMyvmizaAEgG2MrAaPzXK9/hfQnbTNJLXlrlOFHiNyGPbnveGP6a++rl1fZB0cjmsxXtEtzXwB0yletLFxq5dfJzvgZWSKW1ZBqJdBi2gynt1EOMubYMpSVIqcd3jnOuuDz876h/SmQ/hrXbEfLWe2dZfmE69YrgwflGbZlB/dZEZpqJVWXvXqn+mh2V8b4A7E+dipkCd68R4nOSiTfJA3xlnL7Tilvz/3Bhml+ZNTrNuxXLbPLxvVnNKH5Zk+nR7bVtbwehHPTpf7fZjulIOcynUm9Gi2xlTQ6Irxm05Zntt3J9n84v8Bdwc7I+eJEdSASLoppbk9hmI9VuMoYdGOUa14ncL/S+bCj9XKm/XP4frmEpIyJrw2nevm6jjtzzIN+nu1pu5rT2IrgEb+7dTYLPOMf//iHLkfD//7v/wbDdeJ2oJnEIwPNTQYgidOdaRH70PUWTZamjlc0VTOt1QCqOgrnt+7o+JrXeTRtzT43nK58GzIc1Exdi43WCL9TqLeXCvv+riI3KBg+DJ1P9x1dO+BguC6dvgrDH8feh0NF2+yZ5X7N6cT9xHLKAzT3M1sjikPCQLm9WL/LEp3nyS4Pvr911rslb40y7CQGhfeJ3JfT/0Tkau50zeXs2qXaVxGxyCnLrlO+mvZUUiu/LnamRNQkoYz/jRxXJY1xZWh8hFqsGNFtS89w8zMsYuZp4KPvzuPGKaX9Rp8aVLnKNVGuM9GUtqdL9b5UZmlt+XQVuZWodAnXjYvEL8/KLGa1vC4rJlL2kj49iSBhdf5b7cWWk0qbs4G8yGjJ5WtdqmZcbtHMt0s1a984McGuOtgy1u8P+UUL9xu353RPm7kI3lFzpcTStbxeEbkye/+oTAz34qLOvd6wlpGProW1n5Y+4Zltd7H9n86v8MlVS0VyzVmGUJUn15wKtC4FlTHojlCu6U5AH1LuLU9fE5qoZ4z4CborFHTea2Gij3TiL8PEFSpCRisVT+WrhtMVXuc///kP/fvf/1Y+uf/85z/V71C4blhBFym3B7GDqkNmVCcl952Oygpjxg6g1tbsbzUgShjPjzAxcVUDTtBdoZAD58V2EuNvWbfRMLpz5XCNDqvZXiylu4Lnx2nTWc2+1PP3OTRFSdcOOBiuS6ev6rfKZwkPdllWmz0s4T5is6a9tynFX8KvCwPlh8tCJDzY8YDt2pyioMsp82dqXFS6AzPNyjY/2F3hoch9Y/pr7/PK65LSZr2nsyuQVR/s5KNjvpTwCSwDq3HAyVcXO6tElPbjdv1mbf03lq9ZkJyyk+Oja8s0oeOORUqtbNUflUl9AabSxuHCtqjroi7alPAtyydct3774DAspt/krsDtYRcPaLXZ0Mj5iFMuCpsdi3/fhUDEb9ONRSaDqk1Rvt3pDZbxas9tksdL5lR3z+DnpRz8j3VBxlx3Bct8jKgVMnvN/8MkGl1m7Wf0di2vtnA6HV5/YfcSOVSuKFpPbI9+/jzXK4jcPqEN0B+0tdHIQGwNSjd0vhZNaLU/0H5l3RoEawx1AaF3gcrvaLKifSobz/QyRmWE1cYziXvJDWSlvvz4t8zSGuFbvn80o+0ho4PdiSniWDo9nK7wI9C+aVIPui68DrDciDag0WxLh8OW5mqZWl+rBnr/d7mpjVEzwDKTH3Gnb2y0rG9345eaKV6V8VfL2pWNyk7k+pKWXf7XQoHDNTqsUHuxyGySiXs4pvlc73j23x/I36fwdpGrRcuWzldn5qNTpx/YBFPktDNuBeGZXNNHcFvP7Efu9UBzZ4OHJ9pEkHHdLw5Xf4bGCh913/ejvqbLVlGs0en2NtmYdHvCqbPINYPu9kxXJ22+2LDU6ulN6dc2aduBV16mzY0cn9frYU5RtKh8pNVEg2xE0rOX4XpiVNr4A1ZmDs01lbZBtdFLeG5nOs+liFK+1e7mOPHzlfpgm3DsKJnV3VMY5Tsq7cnZfGhQduzaVZHp95QnvdQxtsii2QqkIt/RdMR9zUsiV9eBbGCrfO5vdJaNVMo9rNmOKowfMYdzxZyqU74W1T4yinSh3mP3zkjZpnJii2Nnbn3cTxs1mx0Np2qs3e5TNTHk1znnkcNYH94S+3FUzrrrspgmZiZZ2bm2fdfe7MbJxsevQ9fyKsOVG9TktB5tK+WKrvXV353LslL1yO3K2qmdsS/TxM9sxpxuO8v/RpEb7Dv/Mn6JyDWNSq7b2dz6UWAsSLfn1DxrjaEucgV7DIx5jonG9T8WIceHVIJAhZlsan+CkAcic0xKGYYbann0FE5X+Bk4QjZ00PtVHcli61AfyZIl2tZaRW7gOTl2KTXhvAFHjvCS5W4VzoTduH/itLLREPadpf03OrRweynhznL78P3h/H08bxe5usM3bd0Olp07/foRcRGNy82iLZTHjoWf0XWh313WSx0nDfWjDpvHEYaoH2Ektlk7+qyzyOU0sJgYG3v1bOqZyGVeT7+2yaDIZcrjlEx8g2hMq2MloPQz87JvbQg4h2ZczePNntuZXoVz36NPyRAR4ogX1yb4w2Zaa0eaC+280yMc6mNWoC02uNljAfUz6iiuTFZjbL37ZV3SaB8F5UlVptqeDnRhwRdqRy6q/IYcxoo2QcUf8muvjjyz7xkvXbv1V0XEhmfDCa0PGaX7La3Xxn2l8THXdB9QExjexsm7EqI2j3ZCwx4fZsswZCNNupYXh9u7Y0FIKzDXlJa2D1NpqNt8s717R02+UeQG+86/jB6K3Bcxhye3fu23Ej5Q2eeFMH/pVxIQutRziMc7oz3ebKcfxHe//9t5oa4sH1xm+mSKV/uJt9rmx/O29LfzkfF9dNpaeWIT3pm4bbzBrj4uf19lT13aW07bUeXnW1J3X/kgPrf9dQyn6v5RGn5Oe/8pQOQCAAAA3406aWBIq+zZLD1QqBna5p+lVmcHW7c/5zr4nUDkAgAAAN+KPhPX22QKniCuMRHZfS2y6eywlRMnRrRw/jAE+N1A5AIAAADfyU3ObHf/qAzoxpVO4ou7nFE8W9JanQ8bCgd+KxC5AAAAAACgd0DkAgAAAACA3gGRCwAAAAAAegdELgAAAAAA6B0QuQAAAAAAoHdA5AIAAAAAgN4BkQsAAAAAAHoHRC4AAAAAAOgdELkA/C1cUlqvU7qE7gEAAADAAyIXgL+F05oGgzWdQvcAAAAA4AGRC8AXU6RzGkz3dA3cewhELgAAANAZiFwAHnKnoiiYu3f9rq4VdHeuedz1/eLevHfdTx+KXBt341lP5IbTBQAAAAANRC4ADU60Hkxpe9jSJBpQFEUsLgc0WqR0Lc60nfDvaEhDvjeIZrS/Os/a+4OIRvGQIv43lufKePkZj2n1/DWlRayfHQ71v5PtiQobtxK5KzocVxRzmmyYKn4AAAAAWCByAWhgxOhoScebuXZJaMrCUgTvNLmYcAVlqyENxonZDHan45LDTO1v5nagOYvh2eFmnmmZyS0yWrFonWwcUcuidzka0HR/1b+VyOX4Z078Kl0DmqdFFRcAAAAAIHIBaKJFritMtYBl4Rvv/NMNzhsaDuaUFvL7RnmWUW6FseG05ufWp/J3SOSqa/GWcueaUFxOlJ2u2i1CiVxn5teQrfz4AQAAAACRC0AALXLXJ/96XawqrnuaesLzStluSbM4ptgwErcGR9SGRG4w7jotG886PQsAAAD8MiByAWjwVpF7oWQ8oGi6pdPFbB5jUpkB7iJyV1n5OwhELgAAANAZiFwAGrxR5Kr/x7S7OPeN8H0mctW14YbOzjV1/bildWL8dCFyAQAAgM5A5ALQ4I0i936kZTTwNqbluymNhkNP1KpzcodLStVsrzkC7M7vHA1otKxOSribzW7z1PgGdxG5sllttqGT8hEGAAAAfi8QuQA0eLtP7k0d78Xh+Hl7vFeW1Gdur7Sfy/FiEsYRrbeMNur4MfN8FNNin9eOEHsscot0wfGOaJv7YQAAAIDfBkQuAB+O+UMNgT8E0QnzhyRa/9AEAAAAAJ4CkQsAAAAAAHoHRC4AAAAAAOgdELkAAAAAAKB3QOQCAAAAAIDeAZELAAAAAAB6B0QuAAAAAADoHRC5AAAAAACgd0DkAgAAAACA3gGRCwAAAAAAegdELgAAAAAA6B0QuQAAAAAAoHdA5AIQ4F4UVDD3lutFcfeuv5u7jTfEB7/rO1H5rOXneqZ0v6V1evGv/228OR8XStdrSi+he+/kktJ6ndIldO8buKRrWicnKgL3fgKqfd/D9z6TIj/QdpfRLXDvPXxWvN/HR7aVgk7JmpJTEbjXA4oTJZ/Vr/xFQOQC0OBE68GABoMp7a/V9et+SpFcj/zrH4HEPVDvDDDd0zXwzN+Iyqebn0tC40FE8Xz1d4vcd+VD29v6FLr3Tk5rtqE1nUL3voHT+ifb85k2wwHNDrfAvc/ltI64nrhfuYXvv5XPivf7+Mi2cqX9dEDT/TVwrwdc9zT9rH7lLwIiF4AGTZF7Oy5pJNdY4O7yj//yL0XueE5r/vr2+MEzX69SF7k3+R3vfsxM41vpmo8inQdEHkTuj+Cyozha0rGcydWi92tEwv21GeQipXntIzzMi/H+eCByOwORq4DIBaCBL3ILFgpK4A5G3GGEBW7pxvDGAaUUuetT8H4YHsDaXBnELaCWlpfSGHj+I6iL3MbM7kMkvzoPdTcSD+v68cHpf1R+XfMRDucP3PY9rXksXVs6uLF0FbmvxPkKtbpoFbmd3t+h/jvVvYmnFkY+QIabs3PtdUH1tO5e4kF+lYDpInLb+di0arr1MTZfXeq6HubFtvKQdpHbPR8f0V4e1LPD87zW4oHIVUDkAtCgErlJltA0eiBwbxltJrIkKGGEiIbzhPJC3z9vhup6NE99vzgWH8r1YbihM//uJHJNpzWYcPx5QjOVLi1glHjge6vsSsdVrOIuO+9AGuPFwZt1tO+fJDnlyUyn7SXB3Q1X5Nk0V7SLsWu6oJjzGw1jGkm+owltz1V9qHjXKZ23E057RJEqm4gm27OeBS+OtIwiWh7rg9KdjkuuM0/c1LgcaBFL+XG4of53sq1m17vlw9qUixUp+t7qcKQVvycaDlX5R/GCUk/E3CjbSP743mik/51sKHu0FF0TufLBFkdsy5ktu8dxXnZjGoyT5gy1cs+Y0aHt3UVO+4W2Q51XsbmUkhX/3xO5FzqYcGW+J1s6mfZjuWUbmqh6H5X1v8lct4IrpSqeiEaxxMPvY/stV0CkHKYJZcqOxD50PUqabFpueUa5yU/ZHl0etIci32sbiYY0EhuJYlrsc2N7XL+jqCamrpSwwBpvc/Vbv8+pp/NW5bey91kpaJv21j4b6cerRd06PdNW+gMpB3m+1pZ8LrQbB+K/6/ZUCqgnbURTmPbp1DXb+MHzGXXCjGIaShl47cBvK2UZuOXthGsIPK89BETuNS3rMeY60/kwfQij+5ms7I+ULb+jb3ncr3Wvr7J9lOXBYQ5biFwGIhf0iv/+97/0f//3f/Q///M/NJvN1O9QuMcEBAkLy8ZAf5fBS+6LL+aG9vsdLY2YjOxAfjvQTMUxpqTszHXnJ+HGifbfLAfVgLtCuXHAilx+nxZxgu6w7cCnB2/9f9V5l2nkexz3ar0sO0NXeJfvtx2p8MkiN/Q7iBJUrjDjgXDD4st8IMg1FQ8PnNNNNbAWmczAj2ib69/qg2N28D82VNxu3dQwA9jEiVcN6Fym413le9spH0w4nLa3iIVMlY4LiyCuS64j+97zhkUoC9BKABaUrUdsMw/cJJxBvTjLQOiWY4c4lf0OaXO29wVtv9Hy2DKrVGj7Hi0dccIidMnxil2V+dfh/PeL6K3lidM9ElHrfGTquh3TzpTX/bjk8lvS0cYjbYWFSpluKQe2j/F8X8XLdT/lul2kvmCoaBFKdW4pzblcFwfHF9vEvTzquO/8/pHjy39NxA4Svx2U4ovrnoVlZV8Ft28uE9d2O87k+vFq0TQcTp2yNPU92lLuPOdySZofOqq8bfvr2kYkzyNX1BaU76YcD6fPzJjqepw67eBGhznbUpl32zePaJlW4vTG9iAfL/PUfvi01N1DkavLfcQituxD2PbGjv2r8uT3jBcJnS4ya6qF7Zv6lqf9Wsf6uuw4Hv6I2lUiv8h3ZnIGIhciF/SKf/3rX6phW6bTaTDcY2xH6lKfieGORPwr+Z4M9mXnbvz4BmXHWAna8ou+FL7VTJgejNz3VZSdVClyuSNepnR1ltLK2R3xGT5XM1w2je6AqgclCV/rvFXcevB4uPxXLij0cOgAABI0SURBVC230b6Ep97zosi9X0+UnS5OGTO1QV7F44hezYV2sTOIBQad4ODkoOKNmwKgSBdc1naw7JYPIRxO21vdvv5kK64P+w4O44o2i8yoNUSogxnUUzXocd0e3dnPLnEGBG1Q+DqougndN23D5l+Fi8uPkJIipQW3N2v3snmqORsm6aralLLzaO7NLKvlXdtGVDnUZ551HO0fcy1CqYaq04ANXXZx8yNF8n5lASyrRI5AVXGUda3Lacx5q2y+tjT+HpFbL0vxRX4Ul6pvt90UlM4HFBsBq97xtI2IrQ0CHxQ3yrNqBl1m07O8tvHPE6a6TkKzo/6qQ0vdPRK59yudshNdvFUEP4zKq+e3bXhD3/K8X+tWX2pzYeA9t8OM8wqRC5ELeoU7kynI71C4x+gOUi1VcQeTc8eml4nmlDqDZDl7OowpjitkiU2ul8tX6ktbntczTWpmhH+7nZcejDgMi9e6aCzFheoAJe7mgFSmpTZg2+uTxBVQepCS69O9HlDK93cQarfDwstvg8UT0ei8o/67DTkKaTOfOO/Ry522Aw/HUxvEeEBN545gUmL/gVhjVPmFRFBNZHTNRzhchwFZvY/T7pazQext3jYbqeLQM/8jszRe0jVOmUl1BKISEw8Gb19I+KjytPlvDefWm/5/vY0pZFm8FJEcbiZtX/Izo+V2T6erIwpb3tVav4qWeqmh4uAPiEb6ZLnb+/Bi8crXpC6mXns0duGkT7uV6Hgn8xXt0twv75r9teHHW28Phqdx+aK2Lno7tZGO6RWu2Y6Ws1o5ls/qOlllzed0Ha8oU7/fIHKFIqfDZk4Tpx5Vf27y197OX+9bhMf9Wpf6aglThntuv30HIhf0in/84x/ciXGnZPjf//3fYLjHWJFbdSTiPyfxubO2qnPna8PpquFiIBzKGaobHWY67Hi3NzO9/le/Hoz4euuAy5hOq3Ww5nv1zs5e7yxyH73/A6gPEu2DRoVawpQZ5kNOVyv+8x1NOL22Aw/HExgAWLANzUxMaBm2TqcBnH93yYcQDtdV5E7UyR71jyChdebdDPwJv1eWgT2R0TlObb/Ktcb4Yjb9Dx08seGjytPm3xMcLm696f9PZCk2kMb6xqB7caFzym1sPmabEVcEMyvY8q7W+lW8IHIDH6cap5yU65CI3MhbxheUXTTSd6drfqLDbklTFvRRvK0Ec83+2vDj7SKawrjuCWqG0PnI6dRGjK25s9chVJtkO93KDKctw3TJebDp03XSLnJtXju0qXp5KNuWVbID5VdbfzntJlX+HrbzF/uW5/1al/oy7aP20VSFe26/fQciF/SK//znP/Tvf/9b+eT+85//VL9D4R6jO0hvxtTOxg6G3MHqGa6gu0Jxpr0SuYm3eUZ88obqeUNtJkwPRnz9kcg0nVbrYM336h1i6a7g+jiq5VIJXwntTu//AOqDxMNBw6BFhO//qQeIqgMPxxMaJKy/o3xsuD58YVS8DTcIM9B/sLvC4wGZw4TEJYs6WWJ1XVc8yjjErzOmaMT/L+2ye5zaV3JJ+4TzPWqWh4ey067uCoFwaqbQd1do+v8WdDllZrZWH+q/Pfq2n8kmN2vPXllWfITIVXUaEDT+0rv2q1V+8JLvqPInFlQcNn2XlDbrPZ3dOuU2O3H7I1V2zu8WvHjfIXK1rUhd6fbjniWs3vG0jcjzgTOI79Jfbsy+A52+csbYoFe+bPp0nYTcFZR7QNm2dLi6besl/JbyUDZSc0UwwreTyH2xb3ner3WrL7grPAYiF4AGuoP0RO6fuxqklBAUoSAdobupa7JkYbuiudnxO+JO0fO1Mh2gep4H8Hrnqwcjvhda9rTL/6pzk+dtJ13RJnL1Eqm+Fw3HNJ9P9fIb/3bTWL6/dcD/GOqDxONBQ6MGueGKsnJTUUrLyVB9NNgOPBxPeJCwnX9oYG6gdsYbH2hzTW/q8H20u+RDUB8dwyUP6jJzY21A21tjMKoJM3lHpDZz2ef0Zq5yk2MILw6zgckRut3jNAKV0/n8jyWYtuLGezfxcrlV5WTT42xQk5mzKYta9/1KFPq+4td06W3ksjOA5eoI19tGNhFZF403iVyd5+n2rGfa2j4k7OkJu3MpNLSNyIksOv/qGELH3UmXe2V/yn5s+uyMorMB6nqYc9ktKLVtQJ2TO+Qy0TOe/gdAhRdvR9HUhojI4XRK47pP6gttRFYTqnPGb2YTlS0Hs39hWn0wqHhG0tZ9kRtFsWMPd20Pql+1cdu4tuVJN3fZDKjiaikP5VdbTWLotjChodh9J5H7Wt/yvF/rWF+qffj2dzvr8ncnAn4rELkANNAdqS9ymSKjlRnoR3YmQY7nmmo/KtW5cUc72YT/jOY9W+nZ3EAHqAcjG0cN26m+SeQyPAhtn6SxfP8PFLkifBLlb2nSr47QST1hGI6nZZD4k9NWdn6bky2eUj+CrXFcUcd8KDhNc1sXth67iVwRhedt9ZGi/E+d4+qCNOKQMhERaYVE9zj15q6awGnlRseVuAxU8cqRUrk6VcAtp+oIMxsuXuwb75cjtWTJXoeRD7Y5Jd4fZWnG4+XjTSJXxOmGRZ2OM9i2LCJQxq6NjGllN/lZEew9r+vB9iO6/VXpK48kC8VnuO7nZb21CRk/3o6iqQ1Zjud3NWfVmQ5tRGwt35ujt0y4xhF4N/9oMHV8mBzj6IncCde9OVbLhJPycU9bUKgPHTeuFR1PEldbeXD67PGJCrHZM6WOjTxv5y/0LU/7te71VeQJzd32oY5my8L9yi8DIheAj8CcONA2oyIdqD1lobO4+miepvGHo9JvZxzfgfKd8zcRduLHlJ859L2T2OzKszi1X275cdcZHe/zMuuWJ30g/iMb+IyyeYGPslHD8/z+MDq1ked11DnfHcr79TLsarMB3tK3fKDN/HX28gVA5ALwFailMPla7zoTBj4HLdZCPn3gAWoW78EffwDg14O+5ScCkQvAF6A2RbDIRQf4zQTOswTPCJyVCwDwQd/yI4HIBeCzucvZi3LiwpaOz/zewKdyzba03ruH7IOniP3CdgF4CPqWnwlELgAAAAAA6B0QuQAAAAAAoHdA5AIAAAAAgN4BkQsAAAAAAHoHRC4AAAAAAOgdELkAAAAAAKB3QOQCAAAAAIDeAZELAAAAAAB6B0QuAEHudEm3tMtugXu/nNuJdtsD5UXg3lv46PhC3LIPeEdBl9OBduuETh3jKU4JrZMTDogHAIBvACIXgCBn2gwHNJju6Ra8/3sp0jkNBhGtT+H7r/LR8YW47afvfIf+07aDaELLF0TuVd7LNnQN3AMAAPC5QOQC0Ma9wN/qb+Fe3IPX38pHxxfife840Toa0PL4WhwQuQAA8H1A5ALwCix8i4K5B+65PA131/c7CK87h6uLbbkmz3+MCDdp8dLaPX2KD8xvxfNn3lsO9vmn9SkidzBonQluiycscm2+HqTblue7hDkAAPxuIHIBCHFaUzRYUWZ/FyfaTmS5ekTxiP9lwWOZ7sVvt6B0zv9PMjosYoqiIQ0jvh/FLIwKJ+6C8v2CYr4XDYf8Dv43XlB6tfeZ84aGgzWleULzobxrSvubvlectjSVa5IO9W9Mi/RaPdsV9Y4VJamkJeL0Sl4imu2vVJy3NJH08XXJXzQ7OCLtRvvpgCaJfeeVUskvPzuKJT8RxYvUE3VX9Q6OZxSrMvHzW4vPpCvlfE74/UOVf0lDTSheDrSIOd3DWJeDqYtWlwSuT1WO9r3F2dTn0NSnznvjOeG6p2kZv2Zqw15TlQ43nsn2XPrg1kVuWbac7pGUeTSr0qS4UbaZaLsYjfS/kw1lpv4BAAB0ByIXgADKh3OSGHFyVUJsus1L8VKkSxaBazqZ39aHN2LRssutqGXhK36cpcgp6LQe0WC0dEQei8SlXNvQ2cSlfFRZAMfTDQtdFp1mNq9goTaKprQ7V5vhimzFonBGhxdFkPaDHdBonRmf44Ky1ZDfO2Kx6qSPRefIE4562X6V6d9KxI24HKyP6jVhQTikzdn+FoE4coT+lRIuy+HmbH778al0sbiNl45Qzrc0dtNw52e4fJaOuM+3Y1XOrf7TNZF7STj8eEcXc1+V7cNyDM3kXigZ6zIs7YLLa+zk3xe5Ovx4dzHPG3vgjwib7vOGhS2L2srnl+tFwjhpBQAA0A2IXAACnNYsTleZ/q1mF5d0dJeiWcxNBo7IvYmYi2h5dGdtjcixYljFM6XEm7ljVFyVMFLvdkSvhkX0qBm/CKdd3L6M3oZ6R104KSE4pt3FuVYXdyqfkzIPOp4t5WX4mnsFxxlxnNu8uq+W4m1ZBuOrCzqdBj1jboRwXAvDYr/pFuBQE7nnDQv6MZexs4HMS3eDgMi9X+mUnejibUIzH0RmptcXufpDaMwCvzptQVwXrEsCvyNyPhAs9yMt3Q8HAAAAnYDIBaBBbQldCbUFpY6YkZnDaJ5WM4cqTE0IM5ddXM4wKgHHzzSOk1Iixgoo/e64nO0zKIEc0TCOKa4hLgCvidzwO4LisUhpPogr4avy6bhxXPc0U8vuQ4pnS9qll1r+WPTNON8q7TNa7lJfFHrxteRdlU81k6tm2WNXWOsZ81E5OxygJnLF/WQtbgYc72gypxWnK384Gx4QuUKR02Ezp0mtPgbrk7rfcFfgdIjrhribTOYrLq+8siE1691ex/O0/oEDAADgERC5ADTQgsYuoatl5on4UU5puV7RfDykKHaW6BnfvcEix07xc0rwaAFnxY/HZUexCDAlsmQ2z323RgnQyY5ys2Gpzmsbr8LvULOby6MfV20WW4m2QD4v54wOu6X2N100hfz9cqbssKOl8oOtPhj8+MLp8suHKTJaimvImMXpekmzUdT02a1TF7mG+zWnk6RrynUaxbRtnS0NiFwR35ze0fJA+dXWRU47tpU2kau50zU/qfIS/+qIBbuatVcid6LcXer1K7xWxwAAACByAaijxIYVRAWdNhMazraUZhllwvnaEBxqlta6N5RoVwI7A5etWPzURaTxhS1nhWvL9yWyHD+suzCwuM45PfmLf7Ai+A69ce7Z7O5pXQm40B86UKLOumcUJ0rqZ8qa2UorFt342vJ+Py6dvF/Uxr54tdd1wZy65N8TuRdKN2van92TC67qQ6bcUNYgIHJVnLXZeyN8gyL3ktJmvadzw+3FpktEvrik1E5UKC7KLeJaWyUAAADwGIhcAOoo8WKE2vVgluPHNF+tab07UHZylpgVNfcGS82XUsRaJJuwyr+idqPzbkpR5Mww8rs9dwBLkdKCBdA0uZQi+ZquKHaf7UrwHV1md31/U71JbEpJ6cN7oWQaUWTDK1cHnWYb3yWR/Fph6MfXlnfl8mHcPO6njTmZQmbV17Tdp8GPjgaqTm1ZmT/sMFpTZgU41/Ocy3fR6hIQELmXRG0yW2X2GdlEyB9E8kdEQiLXzvw6G9WuhzmXhz+zHamNiVbo6o2JkY1DToWYzV+vcwAA+IVA5AJQ45pMKmGifDdjWiQspg47Wit3BS2QqhlKLYAay+xqqX/u+PIWlCdz7bPJ4ZWf6tQ/HkqJooY7gMYeP2WPsYrGS9qXJzl0J/iO4Cxq3Uc2o5Un9OzxYVV+4sXe+9O59viwMs3xwkmzH18473qGuTyNQXyAhxNaHzJK91uuD7Pk33AJqOGJXKbIaV9L+3h1rH28uARErqrPmReHHB+WOrPTnshlinyvjxyzz/DH0+rozkQXdN5OfRuZJ1WZ5lt12kW7GAcAAGCByAWgFRZYCxY/9Y1QDbH3KuaPAbxx+Vn94YHAs8p1wbpUBDiVs4MfzKf8IYgQOW1DJ0x4S/4vYtL+dCb4ITp/r8Sh/3jEo/J4n40AAACAyAXgAXr2ruEjqc6CHTvL9D+BG6XL5q58l1Xj+LG/DOXP65z0YFBnBZcuEAAAAIAGIheAVu6kDuuPJrQS389MlshX6i9xTbyzTsHXID684ioyo+1Bz04ftnOKo9Hb/uobAACAXgORC8BDCrqkO1qv5jSR81TXO0ov8If8Pq50El/c5Uydy7ve7umETVgAAAACQOQCAAAAAIDeAZELAAAAAAB6B0QuAAAAAADoHRC5AAAAAACgd0DkAgAAAACA3gGRCwAAAAAAegdELgAAAAAA6B0QuQAAAAAAoHdA5AIAAAAAgN4BkQsAAAAAAHoHRC4AAAAAAOgdELkAAAAAAKB3QOQCAAAAAICe8Yf+H1F+/xqDcsHPAAAAAElFTkSuQmCC)"
      ],
      "metadata": {
        "id": "87OmGVB8TKWv"
      }
    },
    {
      "cell_type": "markdown",
      "source": [
        "\n",
        "\n",
        "---\n",
        "\n"
      ],
      "metadata": {
        "id": "iNwNW9syWQoN"
      }
    },
    {
      "cell_type": "markdown",
      "source": [
        "#### **finally now we can create the 3rd column \"vector\"**"
      ],
      "metadata": {
        "id": "xo87X8YNWuKO"
      }
    },
    {
      "cell_type": "code",
      "source": [
        "#this query takes few minutes to complete :)\n",
        "\n",
        "df['vector'] = df['Text'].apply(lambda text: preprocess_and_vectorize(text))"
      ],
      "metadata": {
        "id": "vxhiwKLiGhl5"
      },
      "execution_count": 44,
      "outputs": []
    },
    {
      "cell_type": "code",
      "source": [
        "df.head()"
      ],
      "metadata": {
        "colab": {
          "base_uri": "https://localhost:8080/",
          "height": 206
        },
        "id": "k5RCuy5xGhix",
        "outputId": "d27ff680-8ea0-4031-9d54-4b2e4d574b1e"
      },
      "execution_count": 62,
      "outputs": [
        {
          "output_type": "execute_result",
          "data": {
            "text/plain": [
              "                                                Text label  label_num  \\\n",
              "0   Top Trump Surrogate BRUTALLY Stabs Him In The...  Fake          0   \n",
              "1  U.S. conservative leader optimistic of common ...  Real          1   \n",
              "2  Trump proposes U.S. tax overhaul, stirs concer...  Real          1   \n",
              "3   Court Forces Ohio To Allow Millions Of Illega...  Fake          0   \n",
              "4  Democrats say Trump agrees to work on immigrat...  Real          1   \n",
              "\n",
              "                                              vector  \n",
              "0  [0.008657642, 0.019024342, -0.011917442, 0.032...  \n",
              "1  [0.010864096, 0.007960429, 0.0011915653, 0.014...  \n",
              "2  [0.018134918, 0.0062743523, -0.005872244, 0.03...  \n",
              "3  [0.01255197, 0.012613623, 5.9780963e-05, 0.021...  \n",
              "4  [-0.0019059887, 0.011889367, 0.0035395357, 0.0...  "
            ],
            "text/html": [
              "\n",
              "  <div id=\"df-5b2e0ece-8c9a-4e1a-8e8f-9d8d45f3113a\" class=\"colab-df-container\">\n",
              "    <div>\n",
              "<style scoped>\n",
              "    .dataframe tbody tr th:only-of-type {\n",
              "        vertical-align: middle;\n",
              "    }\n",
              "\n",
              "    .dataframe tbody tr th {\n",
              "        vertical-align: top;\n",
              "    }\n",
              "\n",
              "    .dataframe thead th {\n",
              "        text-align: right;\n",
              "    }\n",
              "</style>\n",
              "<table border=\"1\" class=\"dataframe\">\n",
              "  <thead>\n",
              "    <tr style=\"text-align: right;\">\n",
              "      <th></th>\n",
              "      <th>Text</th>\n",
              "      <th>label</th>\n",
              "      <th>label_num</th>\n",
              "      <th>vector</th>\n",
              "    </tr>\n",
              "  </thead>\n",
              "  <tbody>\n",
              "    <tr>\n",
              "      <th>0</th>\n",
              "      <td>Top Trump Surrogate BRUTALLY Stabs Him In The...</td>\n",
              "      <td>Fake</td>\n",
              "      <td>0</td>\n",
              "      <td>[0.008657642, 0.019024342, -0.011917442, 0.032...</td>\n",
              "    </tr>\n",
              "    <tr>\n",
              "      <th>1</th>\n",
              "      <td>U.S. conservative leader optimistic of common ...</td>\n",
              "      <td>Real</td>\n",
              "      <td>1</td>\n",
              "      <td>[0.010864096, 0.007960429, 0.0011915653, 0.014...</td>\n",
              "    </tr>\n",
              "    <tr>\n",
              "      <th>2</th>\n",
              "      <td>Trump proposes U.S. tax overhaul, stirs concer...</td>\n",
              "      <td>Real</td>\n",
              "      <td>1</td>\n",
              "      <td>[0.018134918, 0.0062743523, -0.005872244, 0.03...</td>\n",
              "    </tr>\n",
              "    <tr>\n",
              "      <th>3</th>\n",
              "      <td>Court Forces Ohio To Allow Millions Of Illega...</td>\n",
              "      <td>Fake</td>\n",
              "      <td>0</td>\n",
              "      <td>[0.01255197, 0.012613623, 5.9780963e-05, 0.021...</td>\n",
              "    </tr>\n",
              "    <tr>\n",
              "      <th>4</th>\n",
              "      <td>Democrats say Trump agrees to work on immigrat...</td>\n",
              "      <td>Real</td>\n",
              "      <td>1</td>\n",
              "      <td>[-0.0019059887, 0.011889367, 0.0035395357, 0.0...</td>\n",
              "    </tr>\n",
              "  </tbody>\n",
              "</table>\n",
              "</div>\n",
              "    <div class=\"colab-df-buttons\">\n",
              "\n",
              "  <div class=\"colab-df-container\">\n",
              "    <button class=\"colab-df-convert\" onclick=\"convertToInteractive('df-5b2e0ece-8c9a-4e1a-8e8f-9d8d45f3113a')\"\n",
              "            title=\"Convert this dataframe to an interactive table.\"\n",
              "            style=\"display:none;\">\n",
              "\n",
              "  <svg xmlns=\"http://www.w3.org/2000/svg\" height=\"24px\" viewBox=\"0 -960 960 960\">\n",
              "    <path d=\"M120-120v-720h720v720H120Zm60-500h600v-160H180v160Zm220 220h160v-160H400v160Zm0 220h160v-160H400v160ZM180-400h160v-160H180v160Zm440 0h160v-160H620v160ZM180-180h160v-160H180v160Zm440 0h160v-160H620v160Z\"/>\n",
              "  </svg>\n",
              "    </button>\n",
              "\n",
              "  <style>\n",
              "    .colab-df-container {\n",
              "      display:flex;\n",
              "      gap: 12px;\n",
              "    }\n",
              "\n",
              "    .colab-df-convert {\n",
              "      background-color: #E8F0FE;\n",
              "      border: none;\n",
              "      border-radius: 50%;\n",
              "      cursor: pointer;\n",
              "      display: none;\n",
              "      fill: #1967D2;\n",
              "      height: 32px;\n",
              "      padding: 0 0 0 0;\n",
              "      width: 32px;\n",
              "    }\n",
              "\n",
              "    .colab-df-convert:hover {\n",
              "      background-color: #E2EBFA;\n",
              "      box-shadow: 0px 1px 2px rgba(60, 64, 67, 0.3), 0px 1px 3px 1px rgba(60, 64, 67, 0.15);\n",
              "      fill: #174EA6;\n",
              "    }\n",
              "\n",
              "    .colab-df-buttons div {\n",
              "      margin-bottom: 4px;\n",
              "    }\n",
              "\n",
              "    [theme=dark] .colab-df-convert {\n",
              "      background-color: #3B4455;\n",
              "      fill: #D2E3FC;\n",
              "    }\n",
              "\n",
              "    [theme=dark] .colab-df-convert:hover {\n",
              "      background-color: #434B5C;\n",
              "      box-shadow: 0px 1px 3px 1px rgba(0, 0, 0, 0.15);\n",
              "      filter: drop-shadow(0px 1px 2px rgba(0, 0, 0, 0.3));\n",
              "      fill: #FFFFFF;\n",
              "    }\n",
              "  </style>\n",
              "\n",
              "    <script>\n",
              "      const buttonEl =\n",
              "        document.querySelector('#df-5b2e0ece-8c9a-4e1a-8e8f-9d8d45f3113a button.colab-df-convert');\n",
              "      buttonEl.style.display =\n",
              "        google.colab.kernel.accessAllowed ? 'block' : 'none';\n",
              "\n",
              "      async function convertToInteractive(key) {\n",
              "        const element = document.querySelector('#df-5b2e0ece-8c9a-4e1a-8e8f-9d8d45f3113a');\n",
              "        const dataTable =\n",
              "          await google.colab.kernel.invokeFunction('convertToInteractive',\n",
              "                                                    [key], {});\n",
              "        if (!dataTable) return;\n",
              "\n",
              "        const docLinkHtml = 'Like what you see? Visit the ' +\n",
              "          '<a target=\"_blank\" href=https://colab.research.google.com/notebooks/data_table.ipynb>data table notebook</a>'\n",
              "          + ' to learn more about interactive tables.';\n",
              "        element.innerHTML = '';\n",
              "        dataTable['output_type'] = 'display_data';\n",
              "        await google.colab.output.renderOutput(dataTable, element);\n",
              "        const docLink = document.createElement('div');\n",
              "        docLink.innerHTML = docLinkHtml;\n",
              "        element.appendChild(docLink);\n",
              "      }\n",
              "    </script>\n",
              "  </div>\n",
              "\n",
              "\n",
              "<div id=\"df-da9550cb-a55d-4bb7-a472-4b1128b3983b\">\n",
              "  <button class=\"colab-df-quickchart\" onclick=\"quickchart('df-da9550cb-a55d-4bb7-a472-4b1128b3983b')\"\n",
              "            title=\"Suggest charts\"\n",
              "            style=\"display:none;\">\n",
              "\n",
              "<svg xmlns=\"http://www.w3.org/2000/svg\" height=\"24px\"viewBox=\"0 0 24 24\"\n",
              "     width=\"24px\">\n",
              "    <g>\n",
              "        <path d=\"M19 3H5c-1.1 0-2 .9-2 2v14c0 1.1.9 2 2 2h14c1.1 0 2-.9 2-2V5c0-1.1-.9-2-2-2zM9 17H7v-7h2v7zm4 0h-2V7h2v10zm4 0h-2v-4h2v4z\"/>\n",
              "    </g>\n",
              "</svg>\n",
              "  </button>\n",
              "\n",
              "<style>\n",
              "  .colab-df-quickchart {\n",
              "      --bg-color: #E8F0FE;\n",
              "      --fill-color: #1967D2;\n",
              "      --hover-bg-color: #E2EBFA;\n",
              "      --hover-fill-color: #174EA6;\n",
              "      --disabled-fill-color: #AAA;\n",
              "      --disabled-bg-color: #DDD;\n",
              "  }\n",
              "\n",
              "  [theme=dark] .colab-df-quickchart {\n",
              "      --bg-color: #3B4455;\n",
              "      --fill-color: #D2E3FC;\n",
              "      --hover-bg-color: #434B5C;\n",
              "      --hover-fill-color: #FFFFFF;\n",
              "      --disabled-bg-color: #3B4455;\n",
              "      --disabled-fill-color: #666;\n",
              "  }\n",
              "\n",
              "  .colab-df-quickchart {\n",
              "    background-color: var(--bg-color);\n",
              "    border: none;\n",
              "    border-radius: 50%;\n",
              "    cursor: pointer;\n",
              "    display: none;\n",
              "    fill: var(--fill-color);\n",
              "    height: 32px;\n",
              "    padding: 0;\n",
              "    width: 32px;\n",
              "  }\n",
              "\n",
              "  .colab-df-quickchart:hover {\n",
              "    background-color: var(--hover-bg-color);\n",
              "    box-shadow: 0 1px 2px rgba(60, 64, 67, 0.3), 0 1px 3px 1px rgba(60, 64, 67, 0.15);\n",
              "    fill: var(--button-hover-fill-color);\n",
              "  }\n",
              "\n",
              "  .colab-df-quickchart-complete:disabled,\n",
              "  .colab-df-quickchart-complete:disabled:hover {\n",
              "    background-color: var(--disabled-bg-color);\n",
              "    fill: var(--disabled-fill-color);\n",
              "    box-shadow: none;\n",
              "  }\n",
              "\n",
              "  .colab-df-spinner {\n",
              "    border: 2px solid var(--fill-color);\n",
              "    border-color: transparent;\n",
              "    border-bottom-color: var(--fill-color);\n",
              "    animation:\n",
              "      spin 1s steps(1) infinite;\n",
              "  }\n",
              "\n",
              "  @keyframes spin {\n",
              "    0% {\n",
              "      border-color: transparent;\n",
              "      border-bottom-color: var(--fill-color);\n",
              "      border-left-color: var(--fill-color);\n",
              "    }\n",
              "    20% {\n",
              "      border-color: transparent;\n",
              "      border-left-color: var(--fill-color);\n",
              "      border-top-color: var(--fill-color);\n",
              "    }\n",
              "    30% {\n",
              "      border-color: transparent;\n",
              "      border-left-color: var(--fill-color);\n",
              "      border-top-color: var(--fill-color);\n",
              "      border-right-color: var(--fill-color);\n",
              "    }\n",
              "    40% {\n",
              "      border-color: transparent;\n",
              "      border-right-color: var(--fill-color);\n",
              "      border-top-color: var(--fill-color);\n",
              "    }\n",
              "    60% {\n",
              "      border-color: transparent;\n",
              "      border-right-color: var(--fill-color);\n",
              "    }\n",
              "    80% {\n",
              "      border-color: transparent;\n",
              "      border-right-color: var(--fill-color);\n",
              "      border-bottom-color: var(--fill-color);\n",
              "    }\n",
              "    90% {\n",
              "      border-color: transparent;\n",
              "      border-bottom-color: var(--fill-color);\n",
              "    }\n",
              "  }\n",
              "</style>\n",
              "\n",
              "  <script>\n",
              "    async function quickchart(key) {\n",
              "      const quickchartButtonEl =\n",
              "        document.querySelector('#' + key + ' button');\n",
              "      quickchartButtonEl.disabled = true;  // To prevent multiple clicks.\n",
              "      quickchartButtonEl.classList.add('colab-df-spinner');\n",
              "      try {\n",
              "        const charts = await google.colab.kernel.invokeFunction(\n",
              "            'suggestCharts', [key], {});\n",
              "      } catch (error) {\n",
              "        console.error('Error during call to suggestCharts:', error);\n",
              "      }\n",
              "      quickchartButtonEl.classList.remove('colab-df-spinner');\n",
              "      quickchartButtonEl.classList.add('colab-df-quickchart-complete');\n",
              "    }\n",
              "    (() => {\n",
              "      let quickchartButtonEl =\n",
              "        document.querySelector('#df-da9550cb-a55d-4bb7-a472-4b1128b3983b button');\n",
              "      quickchartButtonEl.style.display =\n",
              "        google.colab.kernel.accessAllowed ? 'block' : 'none';\n",
              "    })();\n",
              "  </script>\n",
              "</div>\n",
              "\n",
              "    </div>\n",
              "  </div>\n"
            ],
            "application/vnd.google.colaboratory.intrinsic+json": {
              "type": "dataframe",
              "variable_name": "df",
              "summary": "{\n  \"name\": \"df\",\n  \"rows\": 9900,\n  \"fields\": [\n    {\n      \"column\": \"Text\",\n      \"properties\": {\n        \"dtype\": \"string\",\n        \"num_unique_values\": 9865,\n        \"samples\": [\n          \" ICYMI: SNL Skewers \\u201cMorning Joe\\u201d And It Is Hilarious This week s cold open for Saturday Night Live featured a parody of the morning show, Morning Joe. The sketch featured Alex Moffat as host Joe Scarborough and Kate McKinnon as Mika Mika Brzezinski. The sketch also has Alec Baldwin as President Donald Trump, who calls into the show as  John Miller,  a spokesperson for the White House. Back in the day, Trump was known for calling reporters all over the New York area pretending to be his own publicist. He would call, not to tout his business successes but to brag about his sex life.The sketch also made fun of the relationship between the hosts. The pair got engaged recently when they were celebrating Mika s 50th birthday. The sketch shows the response from the other panelists on the show, Mark Halperin, Willie Geist and Mike Barnacle, who all have no idea how to respond to Joe and Mika s behavior on the set.Featured image via Frederick M. Brown/Getty Images.\",\n          \" BOMBSHELL: Information Suggests Trump Associates DID Collude With Russia, According To Officials Wednesday was not a good day to be Donald Trump. In the aftermath of the disastrous Comey hearing where it was confirmed that The Donald s team was indeed being investigated   and of Rep. Nunes  decision to skip informing his fellow congressional Russia investigators of perfectly legal  incidental collection  of information about Trump associates and possibly the President* himself and run to The Donald with it instead   Trump has been flailing, attempting to distract from the whole Russia thing as much as possible.That s going to be very hard now, as U.S. officials have now confirmed that the facts suggest that members of his team were indeed working with the enemy. CNN reports:The FBI has information that indicates associates of President Donald Trump communicated with suspected Russian operatives to possibly coordinate the release of information damaging to Hillary Clinton s campaign, US officials told CNN.\",\n          \" Vladimir Putin Just Defended Trump In The WORST Way Possible (VIDEO) According to Russian dictator Vladimir Putin, it s silly to worry about little things like whether or not a couple of Russian ladies peed on Donald Trump s bed because it s much, much worse to publish memos that reveal these allegations.Putin says that there is a conspiracy to  delegitimize  the man and his team of hackers, fake news writers, and trolls he worked hard to install in the Oval Office by hacking Trump s political opponents and running an aggressive propaganda campaign. I don t know Mr. Trump, I have never met him, I don t know what he will do in the international arena, so I have no reason either to attack him, criticize him or defend him, Putin said at a press conference. Donald Trump has been with the most beautiful women in the world, so why would he need prostitutes in Moscow? To answer that question, we need only look to a 2001 edition of the Howard Stern Show in which Trump was reminded that he bragged that he likes to go to Russia to have sex with women because they  have no morals. Putin says that Russian security services  do not chase every US billionaire,  and that the release of the documents was worse than prostitutes. In a way, he s right, as the documents presented to both Trump and President Obama also allege that members of the President-elect s campaign staff directly worked with the Russian government during the campaign.On numerous occasions, Trump has repeated Russian propaganda while attacking U.S. intelligence agencies that have been exposing him for what he is and, of course, has directly quoted Putin (a man whom Trump says is  very smart ) while hurling barbs at Hillary Clinton.Trump and Putin have been screaming about the  fake news  release of actual documents that actual intelligence agencies are in possession of, but the BBC reported recently that the whole pissing Russian ladies thing is just the tip of the iceberg. Correspondent Paul Wood revealed last week that at least four sources have confirmed the information, with one U.S. intelligence source informing him that there is audio and video of The Donald s escapades, and an Israeli news source reports that the country s spies have been warned against sharing information with the United States for fear that Trump will relay it to Putin.Putin and Trump s bromance is disconcerting at best   especially when more than a baker s dozen intelligence agencies have confirmed that the man who stood up to join Trump in his attacks on our intelligence agencies has been confirmed to have interfered in our election.Watch it below:Featured image via Getty Images\"\n        ],\n        \"semantic_type\": \"\",\n        \"description\": \"\"\n      }\n    },\n    {\n      \"column\": \"label\",\n      \"properties\": {\n        \"dtype\": \"category\",\n        \"num_unique_values\": 2,\n        \"samples\": [\n          \"Real\",\n          \"Fake\"\n        ],\n        \"semantic_type\": \"\",\n        \"description\": \"\"\n      }\n    },\n    {\n      \"column\": \"label_num\",\n      \"properties\": {\n        \"dtype\": \"number\",\n        \"std\": 0,\n        \"min\": 0,\n        \"max\": 1,\n        \"num_unique_values\": 2,\n        \"samples\": [\n          1,\n          0\n        ],\n        \"semantic_type\": \"\",\n        \"description\": \"\"\n      }\n    },\n    {\n      \"column\": \"vector\",\n      \"properties\": {\n        \"dtype\": \"object\",\n        \"semantic_type\": \"\",\n        \"description\": \"\"\n      }\n    }\n  ]\n}"
            }
          },
          "metadata": {},
          "execution_count": 62
        }
      ]
    },
    {
      "cell_type": "markdown",
      "source": [
        "### **Train-Test splitting**"
      ],
      "metadata": {
        "id": "jp8lreJhKPw6"
      }
    },
    {
      "cell_type": "code",
      "source": [
        "from sklearn.model_selection import train_test_split\n",
        "\n",
        "\n",
        "#Do the 'train-test' splitting with test size of 20% with random state of 2022 and stratify sampling too\n",
        "X_train, X_test, y_train, y_test = train_test_split(\n",
        "    df.vector.values,\n",
        "    df.label_num,\n",
        "    test_size=0.2, # 20% samples will go to test dataset\n",
        "    random_state=2022,\n",
        "    stratify=df.label_num\n",
        ")"
      ],
      "metadata": {
        "id": "u70r3Q9KKRoj"
      },
      "execution_count": 63,
      "outputs": []
    },
    {
      "cell_type": "markdown",
      "source": [
        "### **Reshaping the X_train and X_test so as to fit for models**"
      ],
      "metadata": {
        "id": "XaHBdjqFKT_5"
      }
    },
    {
      "cell_type": "code",
      "source": [
        "print(\"Shape of X_train before reshaping: \", X_train.shape)\n",
        "print(\"Shape of X_test before reshaping: \", X_test.shape)\n",
        "\n",
        "\n",
        "X_train_2d = np.stack(X_train)\n",
        "X_test_2d =  np.stack(X_test)\n",
        "\n",
        "print(\"Shape of X_train after reshaping: \", X_train_2d.shape)\n",
        "print(\"Shape of X_test after reshaping: \", X_test_2d.shape)\n",
        "# creating 2D vector"
      ],
      "metadata": {
        "colab": {
          "base_uri": "https://localhost:8080/"
        },
        "id": "-dclARBfKXgC",
        "outputId": "648509b4-7db4-41ad-b87f-cd3b803eb7da"
      },
      "execution_count": 64,
      "outputs": [
        {
          "output_type": "stream",
          "name": "stdout",
          "text": [
            "Shape of X_train before reshaping:  (7920,)\n",
            "Shape of X_test before reshaping:  (1980,)\n",
            "Shape of X_train after reshaping:  (7920, 300)\n",
            "Shape of X_test after reshaping:  (1980, 300)\n"
          ]
        }
      ]
    },
    {
      "cell_type": "code",
      "source": [
        "X_train[:2]"
      ],
      "metadata": {
        "colab": {
          "base_uri": "https://localhost:8080/"
        },
        "id": "3qTfaQ_cXqiv",
        "outputId": "fbe08ac7-0669-45a0-de49-cc3f25e745b4"
      },
      "execution_count": 65,
      "outputs": [
        {
          "output_type": "execute_result",
          "data": {
            "text/plain": [
              "array([array([-2.58219568e-03,  6.66544260e-03,  2.52646767e-03,  3.95730063e-02,\n",
              "              -1.41182542e-02, -7.22123589e-03,  3.15938070e-02, -3.18326391e-02,\n",
              "               1.62770562e-02,  2.15391051e-02, -2.36972049e-02, -3.72144543e-02,\n",
              "              -6.70092739e-03,  1.64224133e-02, -2.48180293e-02,  4.60469536e-02,\n",
              "               6.02065027e-03,  2.53213309e-02,  4.08343738e-03, -3.32745500e-02,\n",
              "               6.01468608e-03,  1.92604307e-02,  4.28487025e-02, -2.15403945e-03,\n",
              "               2.04510838e-02,  3.04712215e-03, -2.73784697e-02, -1.53319014e-03,\n",
              "               6.67838380e-03, -3.27401888e-03, -1.53824072e-02,  9.19036320e-05,\n",
              "              -2.74383668e-02, -3.54807038e-04, -1.12002371e-02, -1.66487973e-02,\n",
              "               1.40579836e-02,  2.69189221e-03, -4.44610231e-03,  3.41382883e-02,\n",
              "               5.02199680e-03, -1.35964267e-02,  4.29993980e-02,  1.10096289e-02,\n",
              "              -5.67582203e-03, -1.63680799e-02, -2.08231565e-02,  8.67405720e-03,\n",
              "              -1.27506657e-02,  3.22506502e-02, -1.29026920e-02,  2.64204424e-02,\n",
              "              -4.90747951e-03, -4.95679071e-03,  3.24445846e-03,  5.05160249e-04,\n",
              "              -1.06441928e-02, -2.69884747e-02, -9.40681156e-03, -3.02510597e-02,\n",
              "               6.06752140e-03,  2.97850110e-02, -2.75506414e-02, -1.17566157e-03,\n",
              "               1.70167554e-02, -1.53231900e-02, -2.12831516e-02, -6.69188192e-03,\n",
              "              -3.28447693e-03,  2.26514768e-02,  1.15149254e-02,  1.44865084e-03,\n",
              "               2.79989429e-02,  2.49321526e-03, -2.24706046e-02, -2.50821244e-02,\n",
              "               9.00601223e-03,  1.73658188e-02,  2.09767334e-02,  3.03668417e-02,\n",
              "              -1.38382493e-02, -2.01829318e-02,  1.25048012e-02, -5.96598722e-03,\n",
              "              -9.37698036e-03, -2.76826620e-02, -3.20913680e-02,  5.39542213e-02,\n",
              "               1.66598021e-03,  4.34976909e-03,  5.92936715e-03, -1.17840115e-02,\n",
              "              -4.50106449e-02, -2.10491549e-02, -7.83731975e-03, -3.38384211e-02,\n",
              "               1.77004468e-02,  1.65641699e-02,  1.81579106e-02, -1.59047600e-02,\n",
              "              -1.97536778e-02, -1.95956491e-02,  3.34207085e-03,  5.66034287e-04,\n",
              "              -1.82805564e-02, -5.11482451e-03,  1.91473309e-03, -2.90830061e-02,\n",
              "              -4.02855873e-03, -1.70079172e-02, -2.80600488e-02, -2.30379254e-02,\n",
              "               3.85570107e-03, -4.13628295e-03,  3.18104029e-02, -7.97387213e-03,\n",
              "               2.08447948e-02, -2.53612529e-02,  2.59634871e-02,  9.27834585e-03,\n",
              "              -2.49574985e-02, -1.68696162e-03, -1.31695597e-02,  3.27412300e-02,\n",
              "              -9.09329578e-03, -9.97136813e-03, -1.87872127e-02, -1.40376640e-02,\n",
              "               2.25356244e-03,  1.18356198e-02, -1.46980733e-02, -1.03703476e-02,\n",
              "              -9.65756085e-03,  2.03495752e-03, -1.37474597e-03,  6.44901593e-04,\n",
              "               8.42744485e-04,  9.56854783e-03,  1.62692107e-02,  2.09762473e-02,\n",
              "               1.75422449e-02, -3.16296630e-02,  5.90677382e-06, -2.29953676e-02,\n",
              "               6.40219403e-03,  1.87074654e-02, -9.91857960e-04, -1.86910927e-02,\n",
              "              -2.17829552e-02, -9.49366670e-03,  2.86281612e-02,  3.71174840e-03,\n",
              "              -1.77340824e-02,  9.86514892e-03, -9.20616928e-03, -1.98866650e-02,\n",
              "              -1.91071425e-02, -2.04391424e-02, -3.09219416e-02, -1.72982889e-03,\n",
              "              -1.07584614e-02,  1.39104780e-02,  2.45051328e-02,  3.70833022e-03,\n",
              "               2.79449136e-03, -3.55861522e-02,  3.36412825e-02, -2.76993625e-02,\n",
              "               1.65360924e-02,  1.39565663e-02, -4.55296002e-02, -1.55951101e-02,\n",
              "               3.87999811e-03, -3.82097885e-02, -2.24316940e-02,  1.71218568e-03,\n",
              "               4.88877147e-02, -1.15567949e-02, -1.87324528e-02,  1.31809525e-03,\n",
              "              -3.80796418e-02, -3.36076878e-02,  2.78875028e-04,  1.28483062e-03,\n",
              "               7.60526350e-03, -2.05869917e-02,  1.58092240e-03,  7.51892757e-03,\n",
              "               7.68930838e-03,  1.25378063e-02,  1.36432834e-02,  1.14829717e-02,\n",
              "               1.41548784e-02, -4.13198257e-03, -1.49158137e-02,  2.08327454e-02,\n",
              "              -2.84223375e-03, -1.58541873e-02, -1.04070315e-02, -3.68304327e-02,\n",
              "              -4.91411285e-03,  1.87549163e-02, -3.40520777e-02, -1.62067097e-02,\n",
              "               5.68619184e-03, -8.47611111e-03, -1.11561473e-02,  3.54032358e-03,\n",
              "              -1.16867870e-02, -1.37257082e-02, -1.94537435e-02,  2.42985766e-02,\n",
              "              -1.35805095e-02,  1.61051843e-02, -2.10284349e-02,  1.16373412e-02,\n",
              "               1.96997579e-02,  9.77004319e-03, -1.66528262e-02, -7.03769503e-03,\n",
              "              -1.81460963e-03,  7.39465700e-03, -7.26237474e-03, -1.74880668e-03,\n",
              "               1.77141968e-02, -1.75314303e-02,  2.42351256e-02,  1.62910130e-02,\n",
              "               1.78544186e-02, -1.56693615e-03,  3.79178370e-03, -2.79820003e-02,\n",
              "              -2.02034432e-02,  8.82263109e-03,  3.21880840e-02, -9.67869069e-03,\n",
              "               4.31459816e-03, -1.42114758e-02,  2.08534133e-02, -4.28876933e-03,\n",
              "               2.28563286e-02, -1.60417296e-02, -5.78556443e-03, -2.37584747e-02,\n",
              "               8.75278004e-03,  1.60861202e-02, -8.45332761e-05,  2.10649539e-02,\n",
              "              -1.66019727e-05, -1.88836530e-02, -7.06376787e-03,  5.08249458e-03,\n",
              "               2.84847282e-02,  1.59216225e-02,  1.74269099e-02, -2.39274707e-02,\n",
              "              -5.86959031e-05, -5.77230332e-03, -2.36098450e-02, -2.45136973e-02,\n",
              "              -1.02915857e-02,  8.43222812e-03, -3.07602398e-02,  1.54398857e-02,\n",
              "               1.55886393e-02,  2.81415936e-02, -2.85637062e-02,  1.80450315e-03,\n",
              "              -3.09008081e-02, -1.18106315e-02,  3.28004290e-03,  4.91940342e-02,\n",
              "               3.65938395e-02, -6.09787356e-04,  2.48469375e-02, -1.50327878e-02,\n",
              "              -7.36492546e-03, -3.35881002e-02, -2.00746804e-02, -4.90521546e-03,\n",
              "               6.53967867e-03, -6.76556863e-03,  6.88001327e-03,  2.16812659e-02,\n",
              "              -7.28771463e-03, -1.14062512e-02, -4.03991155e-02,  1.94410849e-02,\n",
              "              -1.40634703e-03,  1.64838545e-02, -1.48565881e-02,  2.08342960e-03,\n",
              "              -3.16918269e-02,  5.97297307e-03, -3.67120816e-03, -3.15995738e-02,\n",
              "              -7.82863528e-04, -1.25296628e-02,  6.69139950e-03, -7.04595260e-03],\n",
              "             dtype=float32)                                                       ,\n",
              "       array([ 7.61839328e-03,  2.48901360e-03, -1.75990649e-02,  2.47240961e-02,\n",
              "              -2.41719354e-02, -1.11895250e-02,  1.31364698e-02, -1.97860003e-02,\n",
              "               3.31146531e-02,  2.78986362e-03, -1.67687330e-02, -2.31624320e-02,\n",
              "              -6.92144409e-03,  1.74218323e-02, -4.65728678e-02,  2.70272344e-02,\n",
              "               2.60086581e-02,  3.41436937e-02, -4.35897475e-03, -3.42064388e-02,\n",
              "              -1.01944339e-03,  3.56212035e-02,  2.29995959e-02, -1.13711110e-03,\n",
              "               5.53720258e-03, -2.41591968e-03, -1.80803798e-02,  4.61178087e-03,\n",
              "               7.85050821e-03, -2.73307879e-03, -8.38370621e-03,  1.65733155e-02,\n",
              "              -3.41971666e-02, -8.46128166e-03,  1.51049681e-02, -9.43373982e-03,\n",
              "               2.91350503e-02,  1.13155255e-02,  1.23835551e-02,  2.07179282e-02,\n",
              "               2.03372147e-02, -1.28414240e-02,  3.21734063e-02,  9.44645703e-03,\n",
              "              -2.84845568e-02, -1.42605202e-02, -1.27588259e-02, -5.38629433e-03,\n",
              "               3.49768292e-04,  3.31922434e-02, -6.77333865e-03,  2.29963865e-02,\n",
              "              -9.46350116e-03, -4.35577153e-04,  2.39531491e-02,  9.68174264e-03,\n",
              "              -1.65491328e-02, -2.45410148e-02, -5.44043025e-03, -4.56561670e-02,\n",
              "               1.36039341e-02,  1.41238077e-02, -3.47780585e-02, -1.52507974e-02,\n",
              "               1.87275244e-03, -1.29849464e-02, -2.87824105e-02,  2.79011931e-02,\n",
              "              -8.60539824e-03,  2.01764740e-02,  1.41488910e-02, -2.42584874e-03,\n",
              "               3.22721153e-02, -2.27102404e-03, -3.65049392e-02, -1.01456633e-02,\n",
              "               2.68128999e-02,  1.60697922e-02,  2.16152817e-02,  3.34012322e-02,\n",
              "              -9.00445506e-03, -1.84810385e-02,  1.28829265e-02, -1.88954792e-03,\n",
              "              -2.13786308e-03, -1.92300044e-02, -4.03218083e-02,  4.60176691e-02,\n",
              "               2.44368985e-03, -5.67324506e-03,  3.64971370e-03, -1.82167371e-03,\n",
              "              -3.13196592e-02, -3.08300517e-02, -4.12316993e-03, -2.67038438e-02,\n",
              "               2.38231458e-02,  2.81435754e-02,  8.47664010e-03, -2.02848352e-02,\n",
              "              -2.76100170e-02, -8.65201000e-03, -1.51599722e-03,  1.08909691e-02,\n",
              "              -2.87382770e-03, -1.04992148e-02,  9.98641457e-03, -3.13883424e-02,\n",
              "              -1.14303455e-03, -2.12973803e-02, -2.63449568e-02, -8.84092227e-03,\n",
              "               1.24737126e-04, -5.88685134e-03,  3.17105837e-02, -1.20779558e-03,\n",
              "               1.74003243e-02, -1.75342187e-02,  3.21287364e-02,  3.95246828e-03,\n",
              "              -1.49770537e-02, -2.32566404e-03, -2.39785090e-02,  2.34642122e-02,\n",
              "               4.26932471e-03, -1.68141350e-02, -2.60243788e-02, -1.53796263e-02,\n",
              "               5.49782114e-03, -3.99563694e-03, -8.93418957e-03, -4.90568206e-02,\n",
              "               4.12235595e-03,  1.61021948e-03, -6.87933387e-03, -1.69086233e-02,\n",
              "               6.38794911e-04,  1.96823031e-02,  2.52989819e-03,  1.70600191e-02,\n",
              "               2.85134520e-02, -2.08935644e-02, -4.63349745e-03, -5.34560950e-03,\n",
              "               7.34509481e-03,  1.16142714e-02,  4.63041198e-03, -2.49365922e-02,\n",
              "              -1.45528931e-02, -7.45379645e-03,  3.37615609e-02,  8.61671939e-03,\n",
              "               3.23594012e-03,  4.74232808e-03, -1.20612187e-02, -2.76914029e-03,\n",
              "              -1.25498101e-02, -1.32020917e-02, -2.25676745e-02, -1.69887729e-02,\n",
              "              -1.93500391e-03,  1.91561058e-02,  2.15707738e-02,  2.69462448e-02,\n",
              "               8.55851080e-03, -5.04989289e-02,  2.12491546e-02, -2.83882972e-02,\n",
              "               1.86042115e-02,  1.04778046e-02, -2.51076743e-02, -8.03315360e-03,\n",
              "               1.07341511e-02, -3.97358537e-02, -1.01266550e-02, -1.09029131e-03,\n",
              "               4.07587066e-02, -2.88273450e-02, -2.01926399e-02,  3.68208671e-03,\n",
              "              -3.20190266e-02, -1.62980258e-02,  1.38105303e-02,  6.92324014e-03,\n",
              "              -7.06163421e-03, -1.32437767e-02, -1.06240567e-02, -2.04231730e-03,\n",
              "               2.42656171e-02,  1.98493041e-02,  1.32926935e-02,  1.60794575e-02,\n",
              "               2.76196375e-02,  8.33252538e-03, -9.20007657e-03,  2.04604985e-05,\n",
              "               5.31374011e-03, -2.51546735e-03, -1.00021437e-02, -2.39096303e-02,\n",
              "               1.34380460e-02,  1.09240226e-02, -1.57587677e-02, -5.89396339e-03,\n",
              "               1.52660841e-02, -9.39623918e-03, -2.77841091e-03,  1.44762993e-02,\n",
              "              -3.77341988e-03,  4.03093128e-03, -4.37797885e-03,  2.57939100e-02,\n",
              "              -1.85448327e-03,  9.47148167e-03, -2.45696083e-02,  1.59193436e-03,\n",
              "               1.76750664e-02,  1.61942746e-03, -2.42997389e-02, -2.31370237e-02,\n",
              "              -1.79241505e-02,  9.53366514e-03, -5.86229889e-03, -2.00316729e-03,\n",
              "               2.80104969e-02,  1.02044083e-03,  1.78160369e-02,  1.12123517e-02,\n",
              "               9.40180942e-03,  2.19245767e-03, -6.96356059e-04, -8.70561413e-03,\n",
              "              -1.97520629e-02,  2.97583081e-03,  4.07212116e-02, -1.49234349e-03,\n",
              "               1.35377198e-02, -3.22625339e-02,  3.32045071e-02,  6.73261192e-03,\n",
              "               6.78172475e-03, -1.64962467e-02,  1.21568458e-03, -3.58572751e-02,\n",
              "               6.08490664e-04,  1.56283695e-02,  2.92140944e-03,  4.50175405e-02,\n",
              "               1.16154607e-02, -1.95105039e-02,  5.86558785e-03,  2.57815290e-02,\n",
              "               1.39427967e-02,  2.11952962e-02,  2.15386115e-02, -8.69167596e-03,\n",
              "               1.58564150e-02,  1.30048348e-02, -1.29147787e-02, -3.06457188e-02,\n",
              "              -5.97112579e-03,  5.48157375e-03, -8.04628339e-03,  7.44501548e-03,\n",
              "               8.63005407e-03,  4.03764136e-02, -1.93056595e-02,  7.44999386e-04,\n",
              "              -2.02009361e-02, -8.74405634e-03,  9.62434337e-03,  2.80249547e-02,\n",
              "               4.36448194e-02,  1.67162102e-02,  2.40177084e-02, -1.14410110e-02,\n",
              "              -1.55535368e-02, -3.61048467e-02, -1.94389913e-02, -6.92108693e-03,\n",
              "              -1.87933410e-03,  5.07606892e-03,  1.36998678e-02,  2.12604720e-02,\n",
              "              -5.47241047e-03, -4.19171248e-03, -1.87924989e-02,  1.90158060e-03,\n",
              "               2.01105159e-02,  1.59618165e-02, -5.76482154e-03,  1.30583234e-02,\n",
              "              -3.04674953e-02, -1.14500914e-02, -1.27121946e-03, -1.80392712e-02,\n",
              "               1.41185289e-02, -3.34623046e-02,  1.28318779e-02,  1.60798361e-03],\n",
              "             dtype=float32)                                                       ],\n",
              "      dtype=object)"
            ]
          },
          "metadata": {},
          "execution_count": 65
        }
      ]
    },
    {
      "cell_type": "code",
      "source": [
        "X_train_2d[:2]"
      ],
      "metadata": {
        "colab": {
          "base_uri": "https://localhost:8080/"
        },
        "id": "OsayeV5HXx7X",
        "outputId": "0ee08f92-eee9-4a43-ceeb-7e1f0179c201"
      },
      "execution_count": 66,
      "outputs": [
        {
          "output_type": "execute_result",
          "data": {
            "text/plain": [
              "array([[-2.58219568e-03,  6.66544260e-03,  2.52646767e-03,\n",
              "         3.95730063e-02, -1.41182542e-02, -7.22123589e-03,\n",
              "         3.15938070e-02, -3.18326391e-02,  1.62770562e-02,\n",
              "         2.15391051e-02, -2.36972049e-02, -3.72144543e-02,\n",
              "        -6.70092739e-03,  1.64224133e-02, -2.48180293e-02,\n",
              "         4.60469536e-02,  6.02065027e-03,  2.53213309e-02,\n",
              "         4.08343738e-03, -3.32745500e-02,  6.01468608e-03,\n",
              "         1.92604307e-02,  4.28487025e-02, -2.15403945e-03,\n",
              "         2.04510838e-02,  3.04712215e-03, -2.73784697e-02,\n",
              "        -1.53319014e-03,  6.67838380e-03, -3.27401888e-03,\n",
              "        -1.53824072e-02,  9.19036320e-05, -2.74383668e-02,\n",
              "        -3.54807038e-04, -1.12002371e-02, -1.66487973e-02,\n",
              "         1.40579836e-02,  2.69189221e-03, -4.44610231e-03,\n",
              "         3.41382883e-02,  5.02199680e-03, -1.35964267e-02,\n",
              "         4.29993980e-02,  1.10096289e-02, -5.67582203e-03,\n",
              "        -1.63680799e-02, -2.08231565e-02,  8.67405720e-03,\n",
              "        -1.27506657e-02,  3.22506502e-02, -1.29026920e-02,\n",
              "         2.64204424e-02, -4.90747951e-03, -4.95679071e-03,\n",
              "         3.24445846e-03,  5.05160249e-04, -1.06441928e-02,\n",
              "        -2.69884747e-02, -9.40681156e-03, -3.02510597e-02,\n",
              "         6.06752140e-03,  2.97850110e-02, -2.75506414e-02,\n",
              "        -1.17566157e-03,  1.70167554e-02, -1.53231900e-02,\n",
              "        -2.12831516e-02, -6.69188192e-03, -3.28447693e-03,\n",
              "         2.26514768e-02,  1.15149254e-02,  1.44865084e-03,\n",
              "         2.79989429e-02,  2.49321526e-03, -2.24706046e-02,\n",
              "        -2.50821244e-02,  9.00601223e-03,  1.73658188e-02,\n",
              "         2.09767334e-02,  3.03668417e-02, -1.38382493e-02,\n",
              "        -2.01829318e-02,  1.25048012e-02, -5.96598722e-03,\n",
              "        -9.37698036e-03, -2.76826620e-02, -3.20913680e-02,\n",
              "         5.39542213e-02,  1.66598021e-03,  4.34976909e-03,\n",
              "         5.92936715e-03, -1.17840115e-02, -4.50106449e-02,\n",
              "        -2.10491549e-02, -7.83731975e-03, -3.38384211e-02,\n",
              "         1.77004468e-02,  1.65641699e-02,  1.81579106e-02,\n",
              "        -1.59047600e-02, -1.97536778e-02, -1.95956491e-02,\n",
              "         3.34207085e-03,  5.66034287e-04, -1.82805564e-02,\n",
              "        -5.11482451e-03,  1.91473309e-03, -2.90830061e-02,\n",
              "        -4.02855873e-03, -1.70079172e-02, -2.80600488e-02,\n",
              "        -2.30379254e-02,  3.85570107e-03, -4.13628295e-03,\n",
              "         3.18104029e-02, -7.97387213e-03,  2.08447948e-02,\n",
              "        -2.53612529e-02,  2.59634871e-02,  9.27834585e-03,\n",
              "        -2.49574985e-02, -1.68696162e-03, -1.31695597e-02,\n",
              "         3.27412300e-02, -9.09329578e-03, -9.97136813e-03,\n",
              "        -1.87872127e-02, -1.40376640e-02,  2.25356244e-03,\n",
              "         1.18356198e-02, -1.46980733e-02, -1.03703476e-02,\n",
              "        -9.65756085e-03,  2.03495752e-03, -1.37474597e-03,\n",
              "         6.44901593e-04,  8.42744485e-04,  9.56854783e-03,\n",
              "         1.62692107e-02,  2.09762473e-02,  1.75422449e-02,\n",
              "        -3.16296630e-02,  5.90677382e-06, -2.29953676e-02,\n",
              "         6.40219403e-03,  1.87074654e-02, -9.91857960e-04,\n",
              "        -1.86910927e-02, -2.17829552e-02, -9.49366670e-03,\n",
              "         2.86281612e-02,  3.71174840e-03, -1.77340824e-02,\n",
              "         9.86514892e-03, -9.20616928e-03, -1.98866650e-02,\n",
              "        -1.91071425e-02, -2.04391424e-02, -3.09219416e-02,\n",
              "        -1.72982889e-03, -1.07584614e-02,  1.39104780e-02,\n",
              "         2.45051328e-02,  3.70833022e-03,  2.79449136e-03,\n",
              "        -3.55861522e-02,  3.36412825e-02, -2.76993625e-02,\n",
              "         1.65360924e-02,  1.39565663e-02, -4.55296002e-02,\n",
              "        -1.55951101e-02,  3.87999811e-03, -3.82097885e-02,\n",
              "        -2.24316940e-02,  1.71218568e-03,  4.88877147e-02,\n",
              "        -1.15567949e-02, -1.87324528e-02,  1.31809525e-03,\n",
              "        -3.80796418e-02, -3.36076878e-02,  2.78875028e-04,\n",
              "         1.28483062e-03,  7.60526350e-03, -2.05869917e-02,\n",
              "         1.58092240e-03,  7.51892757e-03,  7.68930838e-03,\n",
              "         1.25378063e-02,  1.36432834e-02,  1.14829717e-02,\n",
              "         1.41548784e-02, -4.13198257e-03, -1.49158137e-02,\n",
              "         2.08327454e-02, -2.84223375e-03, -1.58541873e-02,\n",
              "        -1.04070315e-02, -3.68304327e-02, -4.91411285e-03,\n",
              "         1.87549163e-02, -3.40520777e-02, -1.62067097e-02,\n",
              "         5.68619184e-03, -8.47611111e-03, -1.11561473e-02,\n",
              "         3.54032358e-03, -1.16867870e-02, -1.37257082e-02,\n",
              "        -1.94537435e-02,  2.42985766e-02, -1.35805095e-02,\n",
              "         1.61051843e-02, -2.10284349e-02,  1.16373412e-02,\n",
              "         1.96997579e-02,  9.77004319e-03, -1.66528262e-02,\n",
              "        -7.03769503e-03, -1.81460963e-03,  7.39465700e-03,\n",
              "        -7.26237474e-03, -1.74880668e-03,  1.77141968e-02,\n",
              "        -1.75314303e-02,  2.42351256e-02,  1.62910130e-02,\n",
              "         1.78544186e-02, -1.56693615e-03,  3.79178370e-03,\n",
              "        -2.79820003e-02, -2.02034432e-02,  8.82263109e-03,\n",
              "         3.21880840e-02, -9.67869069e-03,  4.31459816e-03,\n",
              "        -1.42114758e-02,  2.08534133e-02, -4.28876933e-03,\n",
              "         2.28563286e-02, -1.60417296e-02, -5.78556443e-03,\n",
              "        -2.37584747e-02,  8.75278004e-03,  1.60861202e-02,\n",
              "        -8.45332761e-05,  2.10649539e-02, -1.66019727e-05,\n",
              "        -1.88836530e-02, -7.06376787e-03,  5.08249458e-03,\n",
              "         2.84847282e-02,  1.59216225e-02,  1.74269099e-02,\n",
              "        -2.39274707e-02, -5.86959031e-05, -5.77230332e-03,\n",
              "        -2.36098450e-02, -2.45136973e-02, -1.02915857e-02,\n",
              "         8.43222812e-03, -3.07602398e-02,  1.54398857e-02,\n",
              "         1.55886393e-02,  2.81415936e-02, -2.85637062e-02,\n",
              "         1.80450315e-03, -3.09008081e-02, -1.18106315e-02,\n",
              "         3.28004290e-03,  4.91940342e-02,  3.65938395e-02,\n",
              "        -6.09787356e-04,  2.48469375e-02, -1.50327878e-02,\n",
              "        -7.36492546e-03, -3.35881002e-02, -2.00746804e-02,\n",
              "        -4.90521546e-03,  6.53967867e-03, -6.76556863e-03,\n",
              "         6.88001327e-03,  2.16812659e-02, -7.28771463e-03,\n",
              "        -1.14062512e-02, -4.03991155e-02,  1.94410849e-02,\n",
              "        -1.40634703e-03,  1.64838545e-02, -1.48565881e-02,\n",
              "         2.08342960e-03, -3.16918269e-02,  5.97297307e-03,\n",
              "        -3.67120816e-03, -3.15995738e-02, -7.82863528e-04,\n",
              "        -1.25296628e-02,  6.69139950e-03, -7.04595260e-03],\n",
              "       [ 7.61839328e-03,  2.48901360e-03, -1.75990649e-02,\n",
              "         2.47240961e-02, -2.41719354e-02, -1.11895250e-02,\n",
              "         1.31364698e-02, -1.97860003e-02,  3.31146531e-02,\n",
              "         2.78986362e-03, -1.67687330e-02, -2.31624320e-02,\n",
              "        -6.92144409e-03,  1.74218323e-02, -4.65728678e-02,\n",
              "         2.70272344e-02,  2.60086581e-02,  3.41436937e-02,\n",
              "        -4.35897475e-03, -3.42064388e-02, -1.01944339e-03,\n",
              "         3.56212035e-02,  2.29995959e-02, -1.13711110e-03,\n",
              "         5.53720258e-03, -2.41591968e-03, -1.80803798e-02,\n",
              "         4.61178087e-03,  7.85050821e-03, -2.73307879e-03,\n",
              "        -8.38370621e-03,  1.65733155e-02, -3.41971666e-02,\n",
              "        -8.46128166e-03,  1.51049681e-02, -9.43373982e-03,\n",
              "         2.91350503e-02,  1.13155255e-02,  1.23835551e-02,\n",
              "         2.07179282e-02,  2.03372147e-02, -1.28414240e-02,\n",
              "         3.21734063e-02,  9.44645703e-03, -2.84845568e-02,\n",
              "        -1.42605202e-02, -1.27588259e-02, -5.38629433e-03,\n",
              "         3.49768292e-04,  3.31922434e-02, -6.77333865e-03,\n",
              "         2.29963865e-02, -9.46350116e-03, -4.35577153e-04,\n",
              "         2.39531491e-02,  9.68174264e-03, -1.65491328e-02,\n",
              "        -2.45410148e-02, -5.44043025e-03, -4.56561670e-02,\n",
              "         1.36039341e-02,  1.41238077e-02, -3.47780585e-02,\n",
              "        -1.52507974e-02,  1.87275244e-03, -1.29849464e-02,\n",
              "        -2.87824105e-02,  2.79011931e-02, -8.60539824e-03,\n",
              "         2.01764740e-02,  1.41488910e-02, -2.42584874e-03,\n",
              "         3.22721153e-02, -2.27102404e-03, -3.65049392e-02,\n",
              "        -1.01456633e-02,  2.68128999e-02,  1.60697922e-02,\n",
              "         2.16152817e-02,  3.34012322e-02, -9.00445506e-03,\n",
              "        -1.84810385e-02,  1.28829265e-02, -1.88954792e-03,\n",
              "        -2.13786308e-03, -1.92300044e-02, -4.03218083e-02,\n",
              "         4.60176691e-02,  2.44368985e-03, -5.67324506e-03,\n",
              "         3.64971370e-03, -1.82167371e-03, -3.13196592e-02,\n",
              "        -3.08300517e-02, -4.12316993e-03, -2.67038438e-02,\n",
              "         2.38231458e-02,  2.81435754e-02,  8.47664010e-03,\n",
              "        -2.02848352e-02, -2.76100170e-02, -8.65201000e-03,\n",
              "        -1.51599722e-03,  1.08909691e-02, -2.87382770e-03,\n",
              "        -1.04992148e-02,  9.98641457e-03, -3.13883424e-02,\n",
              "        -1.14303455e-03, -2.12973803e-02, -2.63449568e-02,\n",
              "        -8.84092227e-03,  1.24737126e-04, -5.88685134e-03,\n",
              "         3.17105837e-02, -1.20779558e-03,  1.74003243e-02,\n",
              "        -1.75342187e-02,  3.21287364e-02,  3.95246828e-03,\n",
              "        -1.49770537e-02, -2.32566404e-03, -2.39785090e-02,\n",
              "         2.34642122e-02,  4.26932471e-03, -1.68141350e-02,\n",
              "        -2.60243788e-02, -1.53796263e-02,  5.49782114e-03,\n",
              "        -3.99563694e-03, -8.93418957e-03, -4.90568206e-02,\n",
              "         4.12235595e-03,  1.61021948e-03, -6.87933387e-03,\n",
              "        -1.69086233e-02,  6.38794911e-04,  1.96823031e-02,\n",
              "         2.52989819e-03,  1.70600191e-02,  2.85134520e-02,\n",
              "        -2.08935644e-02, -4.63349745e-03, -5.34560950e-03,\n",
              "         7.34509481e-03,  1.16142714e-02,  4.63041198e-03,\n",
              "        -2.49365922e-02, -1.45528931e-02, -7.45379645e-03,\n",
              "         3.37615609e-02,  8.61671939e-03,  3.23594012e-03,\n",
              "         4.74232808e-03, -1.20612187e-02, -2.76914029e-03,\n",
              "        -1.25498101e-02, -1.32020917e-02, -2.25676745e-02,\n",
              "        -1.69887729e-02, -1.93500391e-03,  1.91561058e-02,\n",
              "         2.15707738e-02,  2.69462448e-02,  8.55851080e-03,\n",
              "        -5.04989289e-02,  2.12491546e-02, -2.83882972e-02,\n",
              "         1.86042115e-02,  1.04778046e-02, -2.51076743e-02,\n",
              "        -8.03315360e-03,  1.07341511e-02, -3.97358537e-02,\n",
              "        -1.01266550e-02, -1.09029131e-03,  4.07587066e-02,\n",
              "        -2.88273450e-02, -2.01926399e-02,  3.68208671e-03,\n",
              "        -3.20190266e-02, -1.62980258e-02,  1.38105303e-02,\n",
              "         6.92324014e-03, -7.06163421e-03, -1.32437767e-02,\n",
              "        -1.06240567e-02, -2.04231730e-03,  2.42656171e-02,\n",
              "         1.98493041e-02,  1.32926935e-02,  1.60794575e-02,\n",
              "         2.76196375e-02,  8.33252538e-03, -9.20007657e-03,\n",
              "         2.04604985e-05,  5.31374011e-03, -2.51546735e-03,\n",
              "        -1.00021437e-02, -2.39096303e-02,  1.34380460e-02,\n",
              "         1.09240226e-02, -1.57587677e-02, -5.89396339e-03,\n",
              "         1.52660841e-02, -9.39623918e-03, -2.77841091e-03,\n",
              "         1.44762993e-02, -3.77341988e-03,  4.03093128e-03,\n",
              "        -4.37797885e-03,  2.57939100e-02, -1.85448327e-03,\n",
              "         9.47148167e-03, -2.45696083e-02,  1.59193436e-03,\n",
              "         1.76750664e-02,  1.61942746e-03, -2.42997389e-02,\n",
              "        -2.31370237e-02, -1.79241505e-02,  9.53366514e-03,\n",
              "        -5.86229889e-03, -2.00316729e-03,  2.80104969e-02,\n",
              "         1.02044083e-03,  1.78160369e-02,  1.12123517e-02,\n",
              "         9.40180942e-03,  2.19245767e-03, -6.96356059e-04,\n",
              "        -8.70561413e-03, -1.97520629e-02,  2.97583081e-03,\n",
              "         4.07212116e-02, -1.49234349e-03,  1.35377198e-02,\n",
              "        -3.22625339e-02,  3.32045071e-02,  6.73261192e-03,\n",
              "         6.78172475e-03, -1.64962467e-02,  1.21568458e-03,\n",
              "        -3.58572751e-02,  6.08490664e-04,  1.56283695e-02,\n",
              "         2.92140944e-03,  4.50175405e-02,  1.16154607e-02,\n",
              "        -1.95105039e-02,  5.86558785e-03,  2.57815290e-02,\n",
              "         1.39427967e-02,  2.11952962e-02,  2.15386115e-02,\n",
              "        -8.69167596e-03,  1.58564150e-02,  1.30048348e-02,\n",
              "        -1.29147787e-02, -3.06457188e-02, -5.97112579e-03,\n",
              "         5.48157375e-03, -8.04628339e-03,  7.44501548e-03,\n",
              "         8.63005407e-03,  4.03764136e-02, -1.93056595e-02,\n",
              "         7.44999386e-04, -2.02009361e-02, -8.74405634e-03,\n",
              "         9.62434337e-03,  2.80249547e-02,  4.36448194e-02,\n",
              "         1.67162102e-02,  2.40177084e-02, -1.14410110e-02,\n",
              "        -1.55535368e-02, -3.61048467e-02, -1.94389913e-02,\n",
              "        -6.92108693e-03, -1.87933410e-03,  5.07606892e-03,\n",
              "         1.36998678e-02,  2.12604720e-02, -5.47241047e-03,\n",
              "        -4.19171248e-03, -1.87924989e-02,  1.90158060e-03,\n",
              "         2.01105159e-02,  1.59618165e-02, -5.76482154e-03,\n",
              "         1.30583234e-02, -3.04674953e-02, -1.14500914e-02,\n",
              "        -1.27121946e-03, -1.80392712e-02,  1.41185289e-02,\n",
              "        -3.34623046e-02,  1.28318779e-02,  1.60798361e-03]], dtype=float32)"
            ]
          },
          "metadata": {},
          "execution_count": 66
        }
      ]
    },
    {
      "cell_type": "markdown",
      "source": [
        "### **Train Machine Learning Model**\n",
        "\n",
        "try Random forest, decision tree, naive bayes etc classifiers as well but **gradient boosting classifier** gave the best performance of all."
      ],
      "metadata": {
        "id": "tIyi-hn0ODbb"
      }
    },
    {
      "cell_type": "code",
      "source": [
        "from sklearn.ensemble import GradientBoostingClassifier\n",
        "from sklearn.metrics import classification_report\n",
        "\n",
        "#1. creating a GradientBoosting model object\n",
        "clf = GradientBoostingClassifier()\n",
        "\n",
        "#2. fit with all_train_embeddings and y_train\n",
        "clf.fit(X_train_2d, y_train)\n",
        "\n",
        "\n",
        "#3. get the predictions for all_test_embeddings and store it in y_pred\n",
        "y_pred = clf.predict(X_test_2d)\n",
        "\n",
        "\n",
        "#4. print the classfication report\n",
        "print(classification_report(y_test, y_pred))"
      ],
      "metadata": {
        "colab": {
          "base_uri": "https://localhost:8080/"
        },
        "id": "XiUECk4OLThq",
        "outputId": "e8401b78-9aa5-4418-9437-153ba5b418aa"
      },
      "execution_count": 67,
      "outputs": [
        {
          "output_type": "stream",
          "name": "stdout",
          "text": [
            "              precision    recall  f1-score   support\n",
            "\n",
            "           0       0.99      0.97      0.98      1000\n",
            "           1       0.97      0.99      0.98       980\n",
            "\n",
            "    accuracy                           0.98      1980\n",
            "   macro avg       0.98      0.98      0.98      1980\n",
            "weighted avg       0.98      0.98      0.98      1980\n",
            "\n"
          ]
        }
      ]
    },
    {
      "cell_type": "markdown",
      "source": [
        "### **Make some predictions**"
      ],
      "metadata": {
        "id": "KGzvmZZrONWc"
      }
    },
    {
      "cell_type": "code",
      "source": [
        "test_news = [\n",
        "    \"Michigan governor denies misleading U.S. House on Flint water (Reuters) - Michigan Governor Rick Snyder denied Thursday that he had misled a U.S. House of Representatives committee last year over testimony on Flintâ€™s water crisis after lawmakers asked if his testimony had been contradicted by a witness in a court hearing. The House Oversight and Government Reform Committee wrote Snyder earlier Thursday asking him about published reports that one of his aides, Harvey Hollins, testified in a court hearing last week in Michigan that he had notified Snyder of an outbreak of Legionnairesâ€™ disease linked to the Flint water crisis in December 2015, rather than 2016 as Snyder had testified. â€œMy testimony was truthful and I stand by it,â€ Snyder told the committee in a letter, adding that his office has provided tens of thousands of pages of records to the committee and would continue to cooperate fully.  Last week, prosecutors in Michigan said Dr. Eden Wells, the stateâ€™s chief medical executive who already faced lesser charges, would become the sixth current or former official to face involuntary manslaughter charges in connection with the crisis. The charges stem from more than 80 cases of Legionnairesâ€™ disease and at least 12 deaths that were believed to be linked to the water in Flint after the city switched its source from Lake Huron to the Flint River in April 2014. Wells was among six current and former Michigan and Flint officials charged in June. The other five, including Michigan Health and Human Services Director Nick Lyon, were charged at the time with involuntary manslaughter\",\n",
        "    \" WATCH: Fox News Host Loses Her Sh*t, Says Investigating Russia For Hacking Our Election Is Unpatriotic This woman is insane.In an incredibly disrespectful rant against President Obama and anyone else who supports investigating Russian interference in our election, Fox News host Jeanine Pirro said that anybody who is against Donald Trump is anti-American. Look, it s time to take sides,  she began.\",\n",
        "    \" Sarah Palin Celebrates After White Man Who Pulled Gun On Black Protesters Goes Unpunished (VIDEO) Sarah Palin, one of the nigh-innumerable  deplorables  in Donald Trump s  basket,  almost outdid herself in terms of horribleness on Friday.\"\n",
        "]\n",
        "\n",
        "test_news_vectors = [preprocess_and_vectorize(n) for n in test_news]\n",
        "clf.predict(test_news_vectors)\n",
        "# actual values = real,fake,fake"
      ],
      "metadata": {
        "colab": {
          "base_uri": "https://localhost:8080/"
        },
        "id": "BVpl88DaOK7b",
        "outputId": "73f457ff-8b60-4ddb-d28d-82ef9158d440"
      },
      "execution_count": 69,
      "outputs": [
        {
          "output_type": "execute_result",
          "data": {
            "text/plain": [
              "array([1, 0, 0])"
            ]
          },
          "metadata": {},
          "execution_count": 69
        }
      ]
    },
    {
      "cell_type": "markdown",
      "source": [
        "### **Confusion Matrix for Best Model**"
      ],
      "metadata": {
        "id": "-MyMMv8_OTy0"
      }
    },
    {
      "cell_type": "code",
      "source": [
        "#finally print the confusion matrix for the best model (GradientBoostingClassifier)\n",
        "\n",
        "from sklearn.metrics import confusion_matrix\n",
        "cm = confusion_matrix(y_test, y_pred)\n",
        "cm\n",
        "\n",
        "\n",
        "from matplotlib import pyplot as plt\n",
        "import seaborn as sn\n",
        "plt.figure(figsize = (10,7))\n",
        "sn.heatmap(cm, annot=True, fmt='d')\n",
        "plt.xlabel('Prediction')\n",
        "plt.ylabel('Truth')"
      ],
      "metadata": {
        "colab": {
          "base_uri": "https://localhost:8080/",
          "height": 636
        },
        "id": "Y-Nzk5o0ORss",
        "outputId": "44ad445c-52c2-46ff-fca1-c812d3e427d2"
      },
      "execution_count": 70,
      "outputs": [
        {
          "output_type": "execute_result",
          "data": {
            "text/plain": [
              "Text(95.72222222222221, 0.5, 'Truth')"
            ]
          },
          "metadata": {},
          "execution_count": 70
        },
        {
          "output_type": "display_data",
          "data": {
            "text/plain": [
              "<Figure size 1000x700 with 2 Axes>"
            ],
            "image/png": "[encoded data removed]"
          },
          "metadata": {}
        }
      ]
    }
  ]
}