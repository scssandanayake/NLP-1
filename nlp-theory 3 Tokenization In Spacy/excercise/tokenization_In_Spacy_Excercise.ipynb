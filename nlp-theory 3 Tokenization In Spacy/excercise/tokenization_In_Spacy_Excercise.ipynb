{
  "nbformat": 4,
  "nbformat_minor": 0,
  "metadata": {
    "colab": {
      "provenance": []
    },
    "kernelspec": {
      "name": "python3",
      "display_name": "Python 3"
    },
    "language_info": {
      "name": "python"
    }
  },
  "cells": [
    {
      "cell_type": "markdown",
      "source": [
        "# **Spacy Tokenizer Exercise**"
      ],
      "metadata": {
        "id": "IoblD7g4V5z6"
      }
    },
    {
      "cell_type": "markdown",
      "source": [
        "### Collecting Data Websites From Think Stats Book Paragraph"
      ],
      "metadata": {
        "id": "gyk-QUeoV_uL"
      }
    },
    {
      "cell_type": "markdown",
      "source": [
        "(1) Think stats is a free book to study statistics (https://greenteapress.com/thinkstats2/thinkstats2.pdf)"
      ],
      "metadata": {
        "id": "NmDPgJz7WiCa"
      }
    },
    {
      "cell_type": "markdown",
      "source": [
        "This book has references to many websites from where you can download free datasets. You are an NLP engineer working for some company and you want to collect all dataset websites from this book. To keep exercise simple you are given a paragraph from this book and you want to grab all urls from this paragraph using spacy"
      ],
      "metadata": {
        "id": "_99383McWbq6"
      }
    },
    {
      "cell_type": "code",
      "execution_count": 4,
      "metadata": {
        "id": "MxKjigurU0ew"
      },
      "outputs": [],
      "source": [
        "text='''\n",
        "Look for data to help you address the question. Governments are good\n",
        "sources because data from public research is often freely available. Good\n",
        "places to start include http://www.data.gov/, and http://www.science.\n",
        "gov/, and in the United Kingdom, http://data.gov.uk/.\n",
        "Two of my favorite data sets are the General Social Survey at http://www3.norc.org/gss+website/,\n",
        "and the European Social Survey at http://www.europeansocialsurvey.org/.\n",
        "'''\n",
        "\n",
        "# TODO: Write code here\n",
        "# Hint: token has an attribute that can be used to detect a url"
      ]
    },
    {
      "cell_type": "code",
      "source": [
        "import spacy"
      ],
      "metadata": {
        "id": "UU7bvEB3Xapi"
      },
      "execution_count": 7,
      "outputs": []
    },
    {
      "cell_type": "code",
      "source": [
        "nlp = spacy.blank(\"en\")\n",
        "\n",
        "doc = nlp(text)\n",
        "data_websites = [token.text for token in doc if token.like_url ]\n",
        "data_websites"
      ],
      "metadata": {
        "colab": {
          "base_uri": "https://localhost:8080/"
        },
        "id": "Z3PUZlx1WIYy",
        "outputId": "c09cf06a-9e4e-4b59-da68-8a736cfe70fe"
      },
      "execution_count": 9,
      "outputs": [
        {
          "output_type": "execute_result",
          "data": {
            "text/plain": [
              "['http://www.data.gov/',\n",
              " 'http://www.science',\n",
              " 'http://data.gov.uk/.',\n",
              " 'http://www3.norc.org/gss+website/',\n",
              " 'http://www.europeansocialsurvey.org/.']"
            ]
          },
          "metadata": {},
          "execution_count": 9
        }
      ]
    },
    {
      "cell_type": "markdown",
      "source": [
        "### Figure out all transactions from this text with amount and currency"
      ],
      "metadata": {
        "id": "vUEkr0CkWKaq"
      }
    },
    {
      "cell_type": "markdown",
      "source": [
        "(2) Extract all money transaction from below sentence along with currency. Output should be,\n",
        "\n",
        "two $\n",
        "\n",
        "500 €"
      ],
      "metadata": {
        "id": "fFnh_v-KWolK"
      }
    },
    {
      "cell_type": "code",
      "source": [
        "transactions = \"Tony gave two $ to Peter, Bruce gave 500 € to Steve\"\n",
        "\n",
        "# TODO: Write code here\n",
        "# Hint: Use token.i for the index of a token and token.is_currency for currency symbol detection"
      ],
      "metadata": {
        "id": "58Iwek4FWIQi"
      },
      "execution_count": null,
      "outputs": []
    },
    {
      "cell_type": "code",
      "source": [
        "transactions = \"Tony gave two $ to Peter, Bruce gave 500 € to Steve\"\n",
        "doc = nlp(transactions)\n",
        "for token in doc:\n",
        "    if token.like_num and doc[token.i+1].is_currency:\n",
        "        print(token.text, doc[token.i+1].text)"
      ],
      "metadata": {
        "colab": {
          "base_uri": "https://localhost:8080/"
        },
        "id": "mdlNzfbLXPEZ",
        "outputId": "870d156f-caea-4e5a-f588-d7520a3df3cc"
      },
      "execution_count": 10,
      "outputs": [
        {
          "output_type": "stream",
          "name": "stdout",
          "text": [
            "two $\n",
            "500 €\n"
          ]
        }
      ]
    },
    {
      "cell_type": "markdown",
      "source": [
        "### Further Reading"
      ],
      "metadata": {
        "id": "KnX9VLRoWNjZ"
      }
    },
    {
      "cell_type": "markdown",
      "source": [
        "https://spacy.io/usage/linguistic-features#tokenization"
      ],
      "metadata": {
        "id": "k0AtHwn6XAB6"
      }
    }
  ]
}