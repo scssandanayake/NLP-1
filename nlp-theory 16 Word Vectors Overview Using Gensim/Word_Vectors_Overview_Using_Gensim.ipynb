{
  "nbformat": 4,
  "nbformat_minor": 0,
  "metadata": {
    "colab": {
      "provenance": []
    },
    "kernelspec": {
      "name": "python3",
      "display_name": "Python 3"
    },
    "language_info": {
      "name": "python"
    }
  },
  "cells": [
    {
      "cell_type": "markdown",
      "source": [
        "### **NLP Tutorial: Word Vectors Overview Using Gensim Library**"
      ],
      "metadata": {
        "id": "jw1bgAb3f3A6"
      }
    },
    {
      "cell_type": "markdown",
      "source": [
        "#### Gensim is an open-source library for unsupervised topic modeling, document indexing, retrieval by similarity, and other natural language processing functionalities, using modern statistical machine learning.\n",
        "\n",
        "Gensim overview: https://radimrehurek.com/gensim/intro.html#what-is-gensim\n",
        "\n",
        "documentataion: https://radimrehurek.com/gensim/auto_examples/index.html\n",
        "\n",
        "All gensim models are listed on this page: https://github.com/RaRe-Technologies/gensim-data"
      ],
      "metadata": {
        "id": "fu9-b_FEgH2z"
      }
    },
    {
      "cell_type": "markdown",
      "source": [
        "## **word2vec-google-news-300 Model**\n",
        "\n",
        "based and trained on Google News data."
      ],
      "metadata": {
        "id": "rlWue5Nu79Yf"
      }
    },
    {
      "cell_type": "code",
      "execution_count": 1,
      "metadata": {
        "colab": {
          "base_uri": "https://localhost:8080/"
        },
        "id": "RsNaYi02bpSd",
        "outputId": "c073c440-88cf-4fc1-b2a6-7c4fe110431e"
      },
      "outputs": [
        {
          "output_type": "stream",
          "name": "stdout",
          "text": [
            "[==================================================] 100.0% 1662.8/1662.8MB downloaded\n"
          ]
        }
      ],
      "source": [
        "import gensim.downloader as api\n",
        "# This is a huge model (~1.6 gb) and it will take some time to load\n",
        "\n",
        "wv = api.load('word2vec-google-news-300')\n",
        "# in here we can sepcify which dataset or what kind of word embedding we need to download.\n",
        "#"
      ]
    },
    {
      "cell_type": "markdown",
      "source": [
        "these simillarites are based on the context thay appear. not because of synonims or antonyms."
      ],
      "metadata": {
        "id": "cuap1M-o6ZlG"
      }
    },
    {
      "cell_type": "code",
      "source": [
        "wv.similarity(w1=\"great\", w2=\"great\")"
      ],
      "metadata": {
        "colab": {
          "base_uri": "https://localhost:8080/"
        },
        "id": "kJ-OCNgp6UkX",
        "outputId": "5cfb309f-4e08-44e4-8be2-0089c09f43f7"
      },
      "execution_count": 3,
      "outputs": [
        {
          "output_type": "execute_result",
          "data": {
            "text/plain": [
              "1.0"
            ]
          },
          "metadata": {},
          "execution_count": 3
        }
      ]
    },
    {
      "cell_type": "code",
      "source": [
        "wv.similarity(w1=\"great\", w2=\"good\")"
      ],
      "metadata": {
        "id": "XigCY9iKgzJy",
        "colab": {
          "base_uri": "https://localhost:8080/"
        },
        "outputId": "c5a1e8ff-f6ff-4466-ff06-470cf93d7af8"
      },
      "execution_count": 2,
      "outputs": [
        {
          "output_type": "execute_result",
          "data": {
            "text/plain": [
              "0.729151"
            ]
          },
          "metadata": {},
          "execution_count": 2
        }
      ]
    },
    {
      "cell_type": "code",
      "source": [
        "wv.similarity(w1=\"great\", w2=\"well\")"
      ],
      "metadata": {
        "colab": {
          "base_uri": "https://localhost:8080/"
        },
        "id": "FDScQjR46_u3",
        "outputId": "604cf824-30a0-4f67-e1f8-c9db7c550c9a"
      },
      "execution_count": 7,
      "outputs": [
        {
          "output_type": "execute_result",
          "data": {
            "text/plain": [
              "0.4098271"
            ]
          },
          "metadata": {},
          "execution_count": 7
        }
      ]
    },
    {
      "cell_type": "code",
      "source": [
        "wv.similarity(w1=\"profit\", w2=\"gain\")"
      ],
      "metadata": {
        "id": "ugDT9pGFgzG5",
        "colab": {
          "base_uri": "https://localhost:8080/"
        },
        "outputId": "1b1c42ea-cf43-4c99-9f82-da4aab717dfc"
      },
      "execution_count": 4,
      "outputs": [
        {
          "output_type": "execute_result",
          "data": {
            "text/plain": [
              "0.28772825"
            ]
          },
          "metadata": {},
          "execution_count": 4
        }
      ]
    },
    {
      "cell_type": "code",
      "source": [
        "wv.most_similar(\"good\")"
      ],
      "metadata": {
        "colab": {
          "base_uri": "https://localhost:8080/"
        },
        "id": "50Vec5LN61S_",
        "outputId": "a8fff156-a581-4824-df7f-396571c16aeb"
      },
      "execution_count": 6,
      "outputs": [
        {
          "output_type": "execute_result",
          "data": {
            "text/plain": [
              "[('great', 0.7291510105133057),\n",
              " ('bad', 0.7190051078796387),\n",
              " ('terrific', 0.6889115571975708),\n",
              " ('decent', 0.6837348341941833),\n",
              " ('nice', 0.6836092472076416),\n",
              " ('excellent', 0.644292950630188),\n",
              " ('fantastic', 0.6407778263092041),\n",
              " ('better', 0.6120728850364685),\n",
              " ('solid', 0.5806034803390503),\n",
              " ('lousy', 0.576420247554779)]"
            ]
          },
          "metadata": {},
          "execution_count": 6
        }
      ]
    },
    {
      "cell_type": "markdown",
      "source": [
        "why bad appers as a most simillar word list for good. beacuse of the context,\n",
        "\n",
        "**EX :- i was feeling good as it was a holiday...i was feeling bad as it was a monday**\n",
        "\n",
        "* like that context the sorrounding is affects here. where it apperas matter.\n",
        "\n",
        "* the TF-IDF & bag of words modles can't understand the semantic similarity between words like this better."
      ],
      "metadata": {
        "id": "kPGE82ei7FBn"
      }
    },
    {
      "cell_type": "code",
      "source": [
        "wv.most_similar(\"profit\")"
      ],
      "metadata": {
        "colab": {
          "base_uri": "https://localhost:8080/"
        },
        "id": "IbYXbha_wcst",
        "outputId": "8e4f3c81-6400-4e3c-a4cd-399e35b2536d"
      },
      "execution_count": 5,
      "outputs": [
        {
          "output_type": "execute_result",
          "data": {
            "text/plain": [
              "[('profits', 0.802002489566803),\n",
              " ('proft', 0.7426661252975464),\n",
              " ('pretax_profit', 0.6691470742225647),\n",
              " ('pretax_profits', 0.643925130367279),\n",
              " ('Profit', 0.6339423060417175),\n",
              " ('earnings', 0.6314975023269653),\n",
              " ('Profits', 0.5853961706161499),\n",
              " ('revenue', 0.5829346179962158),\n",
              " ('pretax', 0.5686764717102051),\n",
              " ('quarterly', 0.5639331936836243)]"
            ]
          },
          "metadata": {},
          "execution_count": 5
        }
      ]
    },
    {
      "cell_type": "code",
      "source": [
        "wv.most_similar(\"dog\")"
      ],
      "metadata": {
        "colab": {
          "base_uri": "https://localhost:8080/"
        },
        "id": "ibWM8ITFwcqN",
        "outputId": "e52b2f55-41ec-42ac-e002-4ced002dcdf7"
      },
      "execution_count": 8,
      "outputs": [
        {
          "output_type": "execute_result",
          "data": {
            "text/plain": [
              "[('dogs', 0.8680489659309387),\n",
              " ('puppy', 0.8106428384780884),\n",
              " ('pit_bull', 0.780396044254303),\n",
              " ('pooch', 0.7627376914024353),\n",
              " ('cat', 0.7609457969665527),\n",
              " ('golden_retriever', 0.7500901818275452),\n",
              " ('German_shepherd', 0.7465174198150635),\n",
              " ('Rottweiler', 0.7437615394592285),\n",
              " ('beagle', 0.7418621778488159),\n",
              " ('pup', 0.740691065788269)]"
            ]
          },
          "metadata": {},
          "execution_count": 8
        }
      ]
    },
    {
      "cell_type": "markdown",
      "source": [
        "#### **Doing arithmatic in Word2Vec**\n",
        "\n",
        "* King - woman + man = Queen\n",
        "\n",
        "* France - Paris + Berlin = Germany"
      ],
      "metadata": {
        "id": "9s0XpHas8lf3"
      }
    },
    {
      "cell_type": "code",
      "source": [
        "wv.most_similar(positive=['king', 'woman'], negative=['man'], topn=5)"
      ],
      "metadata": {
        "colab": {
          "base_uri": "https://localhost:8080/"
        },
        "id": "qCopda6VwcnW",
        "outputId": "c42a143f-fa48-4070-8402-760ea71730e0"
      },
      "execution_count": 9,
      "outputs": [
        {
          "output_type": "execute_result",
          "data": {
            "text/plain": [
              "[('queen', 0.7118193507194519),\n",
              " ('monarch', 0.6189674139022827),\n",
              " ('princess', 0.5902431011199951),\n",
              " ('crown_prince', 0.5499460697174072),\n",
              " ('prince', 0.5377321839332581)]"
            ]
          },
          "metadata": {},
          "execution_count": 9
        }
      ]
    },
    {
      "cell_type": "code",
      "source": [
        "wv.most_similar(positive=['france', 'berlin'], negative=['paris'], topn=5)"
      ],
      "metadata": {
        "colab": {
          "base_uri": "https://localhost:8080/"
        },
        "id": "YAZG5VKgwckN",
        "outputId": "5ad4fcec-bd1f-4682-d91c-2a4a5445acbc"
      },
      "execution_count": 10,
      "outputs": [
        {
          "output_type": "execute_result",
          "data": {
            "text/plain": [
              "[('germany', 0.5094343423843384),\n",
              " ('european', 0.48650455474853516),\n",
              " ('german', 0.4714890420436859),\n",
              " ('austria', 0.46964022517204285),\n",
              " ('swedish', 0.4645182490348816)]"
            ]
          },
          "metadata": {},
          "execution_count": 10
        }
      ]
    },
    {
      "cell_type": "code",
      "source": [
        "wv.doesnt_match([\"facebook\", \"cat\", \"google\", \"microsoft\"])"
      ],
      "metadata": {
        "colab": {
          "base_uri": "https://localhost:8080/",
          "height": 35
        },
        "id": "8N2LW2NewchV",
        "outputId": "daef64d4-0046-4540-e9a8-c675b19eea97"
      },
      "execution_count": 11,
      "outputs": [
        {
          "output_type": "execute_result",
          "data": {
            "text/plain": [
              "'cat'"
            ],
            "application/vnd.google.colaboratory.intrinsic+json": {
              "type": "string"
            }
          },
          "metadata": {},
          "execution_count": 11
        }
      ]
    },
    {
      "cell_type": "code",
      "source": [
        "wv.doesnt_match([\"dog\", \"cat\", \"google\", \"mouse\"])"
      ],
      "metadata": {
        "colab": {
          "base_uri": "https://localhost:8080/",
          "height": 35
        },
        "id": "TQzvCBqawcdk",
        "outputId": "5d3d5302-6dd4-4c43-e857-7aee3a7c250b"
      },
      "execution_count": 12,
      "outputs": [
        {
          "output_type": "execute_result",
          "data": {
            "text/plain": [
              "'google'"
            ],
            "application/vnd.google.colaboratory.intrinsic+json": {
              "type": "string"
            }
          },
          "metadata": {},
          "execution_count": 12
        }
      ]
    },
    {
      "cell_type": "code",
      "source": [
        "wv.doesnt_match([\"supra\", \"godzilla\", \"raptor\", \"ninja\"])"
      ],
      "metadata": {
        "colab": {
          "base_uri": "https://localhost:8080/",
          "height": 35
        },
        "id": "T-kQk7EM9ptH",
        "outputId": "69ba8320-fb64-4fb5-f6fc-68ec9a1476a9"
      },
      "execution_count": 14,
      "outputs": [
        {
          "output_type": "execute_result",
          "data": {
            "text/plain": [
              "'supra'"
            ],
            "application/vnd.google.colaboratory.intrinsic+json": {
              "type": "string"
            }
          },
          "metadata": {},
          "execution_count": 14
        }
      ]
    },
    {
      "cell_type": "markdown",
      "source": [
        "## **Gensim: Glove**\n",
        "\n",
        "based and trained on twitter data.\n",
        "\n",
        "Stanford's page on GloVe: https://nlp.stanford.edu/projects/glove/"
      ],
      "metadata": {
        "id": "YnlmVbxO9WZf"
      }
    },
    {
      "cell_type": "code",
      "source": [
        "glv = api.load(\"glove-twitter-25\")"
      ],
      "metadata": {
        "colab": {
          "base_uri": "https://localhost:8080/"
        },
        "id": "P-V9jIEP9Yz2",
        "outputId": "55a7f9f7-a98b-4a57-b86d-96c5e3e520cd"
      },
      "execution_count": 15,
      "outputs": [
        {
          "output_type": "stream",
          "name": "stdout",
          "text": [
            "[==================================================] 100.0% 104.8/104.8MB downloaded\n"
          ]
        }
      ]
    },
    {
      "cell_type": "code",
      "source": [
        "glv.most_similar(\"good\")"
      ],
      "metadata": {
        "colab": {
          "base_uri": "https://localhost:8080/"
        },
        "id": "8brGqVaT-U9w",
        "outputId": "e137a809-da5d-4c8b-ac31-e5bdfcbee1d3"
      },
      "execution_count": 16,
      "outputs": [
        {
          "output_type": "execute_result",
          "data": {
            "text/plain": [
              "[('too', 0.9648017287254333),\n",
              " ('day', 0.9533665180206299),\n",
              " ('well', 0.9503170847892761),\n",
              " ('nice', 0.9438973665237427),\n",
              " ('better', 0.9425962567329407),\n",
              " ('fun', 0.9418926239013672),\n",
              " ('much', 0.9413353800773621),\n",
              " ('this', 0.9387555122375488),\n",
              " ('hope', 0.9383506774902344),\n",
              " ('great', 0.9378516674041748)]"
            ]
          },
          "metadata": {},
          "execution_count": 16
        }
      ]
    },
    {
      "cell_type": "code",
      "source": [
        "glv.most_similar(\"supra\")"
      ],
      "metadata": {
        "colab": {
          "base_uri": "https://localhost:8080/"
        },
        "id": "1Tx_ISiQ-6go",
        "outputId": "b2371c36-42e1-4796-9314-997e69eca0e9"
      },
      "execution_count": 20,
      "outputs": [
        {
          "output_type": "execute_result",
          "data": {
            "text/plain": [
              "[('levis', 0.8847155570983887),\n",
              " ('lacoste', 0.8738651871681213),\n",
              " ('adidas', 0.865478515625),\n",
              " ('bandana', 0.8547465205192566),\n",
              " ('jetta', 0.8535594940185547),\n",
              " ('addidas', 0.8516178727149963),\n",
              " ('puma', 0.8471601605415344),\n",
              " ('velour', 0.8468731045722961),\n",
              " ('rocawear', 0.8397806286811829),\n",
              " ('corolla', 0.8393339514732361)]"
            ]
          },
          "metadata": {},
          "execution_count": 20
        }
      ]
    },
    {
      "cell_type": "code",
      "source": [
        "glv.most_similar(\"godzilla\")"
      ],
      "metadata": {
        "colab": {
          "base_uri": "https://localhost:8080/"
        },
        "id": "dd7OlPDb_Bj4",
        "outputId": "ac079d0b-aa0e-432f-aa2e-824657e9b823"
      },
      "execution_count": 21,
      "outputs": [
        {
          "output_type": "execute_result",
          "data": {
            "text/plain": [
              "[('transformers', 0.9223390221595764),\n",
              " ('jurassic', 0.9144212603569031),\n",
              " ('wolverine', 0.8941063284873962),\n",
              " ('robocop', 0.8928256034851074),\n",
              " ('battleship', 0.8891947269439697),\n",
              " ('kombat', 0.887356698513031),\n",
              " ('spider-man', 0.885324239730835),\n",
              " ('deadpool', 0.8845342397689819),\n",
              " ('zeppelin', 0.8717267513275146),\n",
              " ('unchained', 0.8660892844200134)]"
            ]
          },
          "metadata": {},
          "execution_count": 21
        }
      ]
    },
    {
      "cell_type": "code",
      "source": [
        "glv.doesnt_match(\"breakfast cereal dinner lunch\".split())"
      ],
      "metadata": {
        "colab": {
          "base_uri": "https://localhost:8080/",
          "height": 35
        },
        "id": "ts2RhMRV-ZBn",
        "outputId": "c3213e46-f2de-4899-b04b-e8ee56dd4c69"
      },
      "execution_count": 17,
      "outputs": [
        {
          "output_type": "execute_result",
          "data": {
            "text/plain": [
              "'cereal'"
            ],
            "application/vnd.google.colaboratory.intrinsic+json": {
              "type": "string"
            }
          },
          "metadata": {},
          "execution_count": 17
        }
      ]
    },
    {
      "cell_type": "code",
      "source": [
        "glv.doesnt_match(\"facebook cat google microsoft\".split())"
      ],
      "metadata": {
        "colab": {
          "base_uri": "https://localhost:8080/",
          "height": 35
        },
        "id": "bajtQuAU-ZSQ",
        "outputId": "3fa39cc6-e337-4cde-cd73-61e60e44c691"
      },
      "execution_count": 18,
      "outputs": [
        {
          "output_type": "execute_result",
          "data": {
            "text/plain": [
              "'cat'"
            ],
            "application/vnd.google.colaboratory.intrinsic+json": {
              "type": "string"
            }
          },
          "metadata": {},
          "execution_count": 18
        }
      ]
    },
    {
      "cell_type": "code",
      "source": [
        "glv.doesnt_match(\"banana grapes orange human\".split())"
      ],
      "metadata": {
        "colab": {
          "base_uri": "https://localhost:8080/",
          "height": 35
        },
        "id": "Rp_h9dLz-ui4",
        "outputId": "774c1a3f-ae1e-4c33-868f-c3208b02d966"
      },
      "execution_count": 19,
      "outputs": [
        {
          "output_type": "execute_result",
          "data": {
            "text/plain": [
              "'human'"
            ],
            "application/vnd.google.colaboratory.intrinsic+json": {
              "type": "string"
            }
          },
          "metadata": {},
          "execution_count": 19
        }
      ]
    }
  ]
}